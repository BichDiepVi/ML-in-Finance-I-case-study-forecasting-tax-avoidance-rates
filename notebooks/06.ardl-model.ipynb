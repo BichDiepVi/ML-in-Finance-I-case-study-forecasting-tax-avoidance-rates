{
 "cells": [
  {
   "cell_type": "markdown",
   "metadata": {},
   "source": [
    "# Quasi ARDL model"
   ]
  },
  {
   "cell_type": "markdown",
   "metadata": {},
   "source": [
    "Now we will extend our OLS model with additional variables which allow us add time dimension!"
   ]
  },
  {
   "cell_type": "markdown",
   "metadata": {},
   "source": [
    "### Dependencies loading"
   ]
  },
  {
   "cell_type": "code",
   "execution_count": 1,
   "metadata": {},
   "outputs": [],
   "source": [
    "import pandas as pd\n",
    "import numpy as np\n",
    "import matplotlib.pyplot as plt\n",
    "import seaborn as sns\n",
    "from sklearn.feature_selection import RFECV\n",
    "from sklearn.linear_model import LinearRegression\n",
    "from sklearn.inspection import permutation_importance\n",
    "from sklearn.model_selection import KFold\n",
    "from sklearn.metrics import mean_squared_error\n",
    "from mlxtend.feature_selection import SequentialFeatureSelector as SFS\n",
    "import pickle\n",
    "\n",
    "pd.set_option(\"display.max_columns\", 500)\n",
    "pd.set_option(\"display.max_rows\", 150)\n",
    "\n",
    "# np.random.seed(1916) #uncomment if you want your code to be reproducible; for the purposes of our activity, let's add some randomness to the results"
   ]
  },
  {
   "cell_type": "markdown",
   "metadata": {},
   "source": [
    "### Data loading"
   ]
  },
  {
   "cell_type": "code",
   "execution_count": 2,
   "metadata": {},
   "outputs": [],
   "source": [
    "preprocessed_output_data_path = \"../data/output\"\n",
    "\n",
    "df = pd.read_csv(f\"{preprocessed_output_data_path}/train_fe.csv\", index_col=0)\n",
    "\n",
    "fr = pd.read_excel(f\"{preprocessed_output_data_path}/feature_ranking.xlsx\", index_col=0)"
   ]
  },
  {
   "cell_type": "markdown",
   "metadata": {},
   "source": [
    "### Feature engineering for ARDL model"
   ]
  },
  {
   "cell_type": "markdown",
   "metadata": {},
   "source": [
    "We can omit this step, because all crucial transformations like: mathematical transformations, feature creation, dummification have been already applied."
   ]
  },
  {
   "cell_type": "markdown",
   "metadata": {},
   "source": [
    "### Final feature selection for ARDL model"
   ]
  },
  {
   "cell_type": "markdown",
   "metadata": {},
   "source": [
    "#### Feature ranking"
   ]
  },
  {
   "cell_type": "markdown",
   "metadata": {},
   "source": [
    "We will start with prepared in previous notebook \"feature ranking\"."
   ]
  },
  {
   "cell_type": "code",
   "execution_count": 3,
   "metadata": {},
   "outputs": [],
   "source": [
    "fr.sort_values(\"mi_score\", ascending=False, inplace=True)"
   ]
  },
  {
   "cell_type": "code",
   "execution_count": 4,
   "metadata": {},
   "outputs": [
    {
     "data": {
      "text/html": [
       "<div>\n",
       "<style scoped>\n",
       "    .dataframe tbody tr th:only-of-type {\n",
       "        vertical-align: middle;\n",
       "    }\n",
       "\n",
       "    .dataframe tbody tr th {\n",
       "        vertical-align: top;\n",
       "    }\n",
       "\n",
       "    .dataframe thead th {\n",
       "        text-align: right;\n",
       "    }\n",
       "</style>\n",
       "<table border=\"1\" class=\"dataframe\">\n",
       "  <thead>\n",
       "    <tr style=\"text-align: right;\">\n",
       "      <th></th>\n",
       "      <th>mi_score</th>\n",
       "      <th>sign_fscore</th>\n",
       "      <th>sign_fscore_0_1</th>\n",
       "      <th>corr</th>\n",
       "      <th>EN_coef</th>\n",
       "      <th>boruta_rank</th>\n",
       "    </tr>\n",
       "  </thead>\n",
       "  <tbody>\n",
       "    <tr>\n",
       "      <th>etr_y_past</th>\n",
       "      <td>1.009402</td>\n",
       "      <td>1.304040e-84</td>\n",
       "      <td>1</td>\n",
       "      <td>0.520405</td>\n",
       "      <td>NaN</td>\n",
       "      <td>1</td>\n",
       "    </tr>\n",
       "    <tr>\n",
       "      <th>etr_y_ma</th>\n",
       "      <td>0.825650</td>\n",
       "      <td>2.473770e-125</td>\n",
       "      <td>1</td>\n",
       "      <td>0.526871</td>\n",
       "      <td>NaN</td>\n",
       "      <td>1</td>\n",
       "    </tr>\n",
       "    <tr>\n",
       "      <th>txt</th>\n",
       "      <td>0.633067</td>\n",
       "      <td>5.246456e-13</td>\n",
       "      <td>1</td>\n",
       "      <td>0.368732</td>\n",
       "      <td>1.466269e-05</td>\n",
       "      <td>1</td>\n",
       "    </tr>\n",
       "    <tr>\n",
       "      <th>diff</th>\n",
       "      <td>0.632640</td>\n",
       "      <td>2.257712e-02</td>\n",
       "      <td>1</td>\n",
       "      <td>-0.291716</td>\n",
       "      <td>NaN</td>\n",
       "      <td>1</td>\n",
       "    </tr>\n",
       "    <tr>\n",
       "      <th>ni</th>\n",
       "      <td>0.613297</td>\n",
       "      <td>1.747230e-09</td>\n",
       "      <td>1</td>\n",
       "      <td>0.263458</td>\n",
       "      <td>-3.442000e-07</td>\n",
       "      <td>7</td>\n",
       "    </tr>\n",
       "  </tbody>\n",
       "</table>\n",
       "</div>"
      ],
      "text/plain": [
       "            mi_score    sign_fscore  sign_fscore_0_1      corr       EN_coef  \\\n",
       "etr_y_past  1.009402   1.304040e-84                1  0.520405           NaN   \n",
       "etr_y_ma    0.825650  2.473770e-125                1  0.526871           NaN   \n",
       "txt         0.633067   5.246456e-13                1  0.368732  1.466269e-05   \n",
       "diff        0.632640   2.257712e-02                1 -0.291716           NaN   \n",
       "ni          0.613297   1.747230e-09                1  0.263458 -3.442000e-07   \n",
       "\n",
       "            boruta_rank  \n",
       "etr_y_past            1  \n",
       "etr_y_ma              1  \n",
       "txt                   1  \n",
       "diff                  1  \n",
       "ni                    7  "
      ]
     },
     "execution_count": 4,
     "metadata": {},
     "output_type": "execute_result"
    }
   ],
   "source": [
    "fr.head()"
   ]
  },
  {
   "cell_type": "markdown",
   "metadata": {},
   "source": [
    "Let's create two baseline models for ARDL based on feature ranking table!"
   ]
  },
  {
   "cell_type": "code",
   "execution_count": 5,
   "metadata": {},
   "outputs": [],
   "source": [
    "br_features = fr[fr.boruta_rank.isin([1, 2, 3])].index.tolist()"
   ]
  },
  {
   "cell_type": "code",
   "execution_count": 6,
   "metadata": {},
   "outputs": [
    {
     "name": "stdout",
     "output_type": "stream",
     "text": [
      "['etr_y_past', 'etr_y_ma', 'txt', 'diff', 'pi', 'diff_ma', 'WB_GDPpc', 'txt_cat_(-63.011, -34.811]', 'dlc_cat_(176.129, 200.9]']\n"
     ]
    }
   ],
   "source": [
    "print(br_features)"
   ]
  },
  {
   "cell_type": "code",
   "execution_count": 7,
   "metadata": {},
   "outputs": [],
   "source": [
    "mi_features = fr.iloc[0:20].index.tolist()"
   ]
  },
  {
   "cell_type": "code",
   "execution_count": 8,
   "metadata": {},
   "outputs": [
    {
     "name": "stdout",
     "output_type": "stream",
     "text": [
      "['etr_y_past', 'etr_y_ma', 'txt', 'diff', 'ni', 'pi', 'intant', 'intant_sqrt', 'ta', 'revenue', 'roa', 'roa_clip', 'diff_ma', 'capex', 'dlc', 'ta_log', 'cce', 'intan_past', 'dltt', 'sale']\n"
     ]
    }
   ],
   "source": [
    "print(mi_features)"
   ]
  },
  {
   "cell_type": "code",
   "execution_count": 9,
   "metadata": {},
   "outputs": [],
   "source": [
    "fr[\"corr_abs\"] = np.abs(fr[\"corr\"])"
   ]
  },
  {
   "cell_type": "code",
   "execution_count": 10,
   "metadata": {},
   "outputs": [],
   "source": [
    "fr.sort_values(\"corr_abs\", ascending=False, inplace=True)"
   ]
  },
  {
   "cell_type": "code",
   "execution_count": 11,
   "metadata": {},
   "outputs": [],
   "source": [
    "corr_features = fr.iloc[0:20].index.tolist()"
   ]
  },
  {
   "cell_type": "markdown",
   "metadata": {},
   "source": [
    "#### Recursive Feature Elimination "
   ]
  },
  {
   "cell_type": "code",
   "execution_count": 12,
   "metadata": {},
   "outputs": [],
   "source": [
    "rfe_candidates = [\n",
    "    \"rok\",\n",
    "    \"ta\",\n",
    "    \"txt\",\n",
    "    \"pi\",\n",
    "    \"str\",\n",
    "    \"xrd\",\n",
    "    \"ni\",\n",
    "    \"ppent\",\n",
    "    \"intant\",\n",
    "    \"dlc\",\n",
    "    \"dltt\",\n",
    "    \"capex\",\n",
    "    \"revenue\",\n",
    "    \"cce\",\n",
    "    \"adv\",\n",
    "    \"diff\",\n",
    "    \"roa\",\n",
    "    \"lev\",\n",
    "    \"intan\",\n",
    "    \"rd\",\n",
    "    \"ppe\",\n",
    "    \"sale\",\n",
    "    \"cash_holdings\",\n",
    "    \"adv_expenditure\",\n",
    "    \"capex2\",\n",
    "    \"cfc\",\n",
    "    \"dta\",\n",
    "    \"capex2_scaled\",\n",
    "    \"y_v2x_polyarchy\",\n",
    "    \"y_e_p_polity\",\n",
    "    \"y_BR_Democracy\",\n",
    "    \"WB_GDPgrowth\",\n",
    "    \"WB_GDPpc\",\n",
    "    \"WB_Inflation\",\n",
    "    \"rr_per_country\",\n",
    "    \"rr_per_sector\",\n",
    "    \"sektor_consumer discretionary\",\n",
    "    \"sektor_consumer staples\",\n",
    "    \"sektor_energy\",\n",
    "    \"sektor_health care\",\n",
    "    \"sektor_industrials\",\n",
    "    \"sektor_materials\",\n",
    "    \"sektor_real estate\",\n",
    "    \"sektor_technology\",\n",
    "    \"sektor_utilities\",\n",
    "    \"gielda_2\",\n",
    "    \"gielda_3\",\n",
    "    \"gielda_4\",\n",
    "    \"gielda_5\",\n",
    "    \"ta_log\",\n",
    "    \"txt_cat_(-63.011, -34.811]\",\n",
    "    \"txt_cat_(-34.811, 0.488]\",\n",
    "    \"txt_cat_(0.488, 24.415]\",\n",
    "    \"txt_cat_(24.415, 25.05]\",\n",
    "    \"txt_cat_(25.05, 308.55]\",\n",
    "    \"txt_cat_(308.55, 327.531]\",\n",
    "    \"txt_cat_(327.531, inf]\",\n",
    "    \"pi_cat_(-8975.0, -1.523]\",\n",
    "    \"pi_cat_(-1.523, 157.119]\",\n",
    "    \"pi_cat_(157.119, 465.9]\",\n",
    "    \"pi_cat_(465.9, 7875.5]\",\n",
    "    \"pi_cat_(7875.5, 8108.5]\",\n",
    "    \"pi_cat_(8108.5, inf]\",\n",
    "    \"str_cat_(0.0875, 0.192]\",\n",
    "    \"str_cat_(0.192, 0.28]\",\n",
    "    \"str_cat_(0.28, inf]\",\n",
    "    \"xrd_exists\",\n",
    "    \"ni_profit\",\n",
    "    \"ni_profit_20000\",\n",
    "    \"ppent_sqrt\",\n",
    "    \"intant_sqrt\",\n",
    "    \"dlc_cat_(42.262, 176.129]\",\n",
    "    \"dlc_cat_(176.129, 200.9]\",\n",
    "    \"dlc_cat_(200.9, inf]\",\n",
    "    \"dltt_cat_(39.38, 327.85]\",\n",
    "    \"dltt_cat_(327.85, 876.617]\",\n",
    "    \"dltt_cat_(876.617, inf]\",\n",
    "    \"capex_cat_(7.447, 79.55]\",\n",
    "    \"capex_cat_(79.55, 5451.0]\",\n",
    "    \"capex_cat_(5451.0, inf]\",\n",
    "    \"revenue_cat_(0.174, 1248.817]\",\n",
    "    \"revenue_cat_(1248.817, 4233.587]\",\n",
    "    \"revenue_cat_(4233.587, inf]\",\n",
    "    \"cce_cat_(5.619, 63.321]\",\n",
    "    \"cce_cat_(63.321, inf]\",\n",
    "    \"adv_cat_(0.3, 874.5]\",\n",
    "    \"adv_cat_(874.5, inf]\",\n",
    "    \"diff_positive\",\n",
    "    \"roa_clip\",\n",
    "    \"lev_sqrt\",\n",
    "    \"intan_pow2\",\n",
    "    \"rd_sqrt\",\n",
    "    \"ppe_clip\",\n",
    "    \"cash_holdings_sqrt\",\n",
    "    \"adv_expenditure_positive\",\n",
    "    \"diff_dta\",\n",
    "    \"cfc_dta\",\n",
    "    \"etr_y_past\",\n",
    "    \"etr_y_ma\",\n",
    "    \"diff_ma\",\n",
    "    \"roa_ma\",\n",
    "    \"lev_ma\",\n",
    "    \"intan_ma\",\n",
    "    \"ppe_ma\",\n",
    "    \"sale_ma\",\n",
    "    \"cash_holdings_ma\",\n",
    "    \"roa_past\",\n",
    "    \"lev_past\",\n",
    "    \"intan_past\",\n",
    "    \"ppe_past\",\n",
    "    \"sale_past\",\n",
    "    \"cash_holdings_past\",\n",
    "]\n",
    "rfe_candidates.remove(\"ta_log\")\n",
    "rfe_candidates.remove(\"ppent_sqrt\")\n",
    "rfe_candidates.remove(\"intant_sqrt\")\n",
    "rfe_candidates.remove(\"roa\")\n",
    "rfe_candidates.remove(\"lev\")\n",
    "rfe_candidates.remove(\"intan\")\n",
    "rfe_candidates.remove(\"rd_sqrt\")\n",
    "rfe_candidates.remove(\"ppe\")\n",
    "rfe_candidates.remove(\"cash_holdings_sqrt\")"
   ]
  },
  {
   "cell_type": "code",
   "execution_count": 13,
   "metadata": {},
   "outputs": [],
   "source": [
    "rfe_candidates_without_disc = [i for i in rfe_candidates if \"]\" not in i]"
   ]
  },
  {
   "cell_type": "code",
   "execution_count": 14,
   "metadata": {},
   "outputs": [],
   "source": [
    "estimator = LinearRegression()\n",
    "selector = RFECV(estimator, step=1, cv=5, min_features_to_select=7)\n",
    "selector = selector.fit(\n",
    "    df.loc[:, rfe_candidates_without_disc].values, df.loc[:, \"etr\"].values.ravel()\n",
    ")"
   ]
  },
  {
   "cell_type": "code",
   "execution_count": 15,
   "metadata": {},
   "outputs": [
    {
     "data": {
      "text/plain": [
       "['str',\n",
       " 'adv_expenditure',\n",
       " 'dta',\n",
       " 'y_e_p_polity',\n",
       " 'gielda_3',\n",
       " 'gielda_4',\n",
       " 'etr_y_ma']"
      ]
     },
     "execution_count": 15,
     "metadata": {},
     "output_type": "execute_result"
    }
   ],
   "source": [
    "df.loc[:, rfe_candidates_without_disc].iloc[:, selector.support_].columns.tolist()"
   ]
  },
  {
   "cell_type": "code",
   "execution_count": 16,
   "metadata": {},
   "outputs": [],
   "source": [
    "rfe_candidates_without_disc = (\n",
    "    df.loc[:, rfe_candidates_without_disc].iloc[:, selector.support_].columns.tolist()\n",
    ")"
   ]
  },
  {
   "cell_type": "code",
   "execution_count": 17,
   "metadata": {},
   "outputs": [],
   "source": [
    "estimator = LinearRegression()\n",
    "selector = RFECV(\n",
    "    estimator,\n",
    "    step=1,\n",
    "    cv=5,\n",
    "    min_features_to_select=7,\n",
    ")\n",
    "selector = selector.fit(\n",
    "    df.loc[:, rfe_candidates].values, df.loc[:, \"etr\"].values.ravel()\n",
    ")"
   ]
  },
  {
   "cell_type": "code",
   "execution_count": 18,
   "metadata": {},
   "outputs": [
    {
     "data": {
      "text/plain": [
       "['dta',\n",
       " 'y_e_p_polity',\n",
       " 'gielda_3',\n",
       " 'gielda_4',\n",
       " 'pi_cat_(-8975.0, -1.523]',\n",
       " 'pi_cat_(-1.523, 157.119]',\n",
       " 'pi_cat_(157.119, 465.9]',\n",
       " 'pi_cat_(465.9, 7875.5]',\n",
       " 'cfc_dta']"
      ]
     },
     "execution_count": 18,
     "metadata": {},
     "output_type": "execute_result"
    }
   ],
   "source": [
    "df.loc[:, rfe_candidates].iloc[:, selector.support_].columns.tolist()"
   ]
  },
  {
   "cell_type": "code",
   "execution_count": 19,
   "metadata": {},
   "outputs": [],
   "source": [
    "rfe_candidates = df.loc[:, rfe_candidates].iloc[:, selector.support_].columns.tolist()"
   ]
  },
  {
   "cell_type": "code",
   "execution_count": 20,
   "metadata": {},
   "outputs": [
    {
     "data": {
      "text/plain": [
       "['dta',\n",
       " 'y_e_p_polity',\n",
       " 'gielda_3',\n",
       " 'gielda_4',\n",
       " 'pi_cat_(-8975.0, -1.523]',\n",
       " 'pi_cat_(-1.523, 157.119]',\n",
       " 'pi_cat_(157.119, 465.9]',\n",
       " 'pi_cat_(465.9, 7875.5]',\n",
       " 'cfc_dta']"
      ]
     },
     "execution_count": 20,
     "metadata": {},
     "output_type": "execute_result"
    }
   ],
   "source": [
    "rfe_candidates"
   ]
  },
  {
   "cell_type": "markdown",
   "metadata": {},
   "source": [
    "Let's investigate permutation importance of such candidates!"
   ]
  },
  {
   "cell_type": "code",
   "execution_count": 21,
   "metadata": {},
   "outputs": [
    {
     "data": {
      "image/png": "[encoded data removed]",
      "text/plain": [
       "<Figure size 1000x500 with 1 Axes>"
      ]
     },
     "metadata": {},
     "output_type": "display_data"
    }
   ],
   "source": [
    "inputX = mi_features\n",
    "estimator = LinearRegression()\n",
    "estimator.fit(df.loc[:, inputX].values, df.loc[:, \"etr\"].values.ravel())\n",
    "result = permutation_importance(\n",
    "    estimator,\n",
    "    df.loc[:, inputX].values,\n",
    "    df.loc[:, \"etr\"].values.ravel(),\n",
    "    n_repeats=10,\n",
    "    scoring=\"neg_mean_squared_error\",\n",
    "    random_state=42,\n",
    "    n_jobs=2,\n",
    ")\n",
    "sorted_idx = result.importances_mean.argsort()\n",
    "fig, ax = plt.subplots(figsize=(10, 5))\n",
    "\n",
    "ax.boxplot(\n",
    "    result.importances[sorted_idx].T,\n",
    "    vert=False,\n",
    "    labels=df.loc[:, inputX].columns[sorted_idx],\n",
    ")\n",
    "ax.set_title(\"Permutation Importances (train set)\")\n",
    "fig.tight_layout()\n",
    "plt.show()"
   ]
  },
  {
   "cell_type": "code",
   "execution_count": 22,
   "metadata": {},
   "outputs": [
    {
     "data": {
      "image/png": "[encoded data removed]",
      "text/plain": [
       "<Figure size 1000x500 with 1 Axes>"
      ]
     },
     "metadata": {},
     "output_type": "display_data"
    }
   ],
   "source": [
    "inputX = br_features\n",
    "estimator = LinearRegression()\n",
    "estimator.fit(df.loc[:, inputX].values, df.loc[:, \"etr\"].values.ravel())\n",
    "result = permutation_importance(\n",
    "    estimator,\n",
    "    df.loc[:, inputX].values,\n",
    "    df.loc[:, \"etr\"].values.ravel(),\n",
    "    n_repeats=10,\n",
    "    scoring=\"neg_mean_squared_error\",\n",
    "    random_state=42,\n",
    "    n_jobs=2,\n",
    ")\n",
    "sorted_idx = result.importances_mean.argsort()\n",
    "fig, ax = plt.subplots(figsize=(10, 5))\n",
    "\n",
    "ax.boxplot(\n",
    "    result.importances[sorted_idx].T,\n",
    "    vert=False,\n",
    "    labels=df.loc[:, inputX].columns[sorted_idx],\n",
    ")\n",
    "ax.set_title(\"Permutation Importances (train set)\")\n",
    "fig.tight_layout()\n",
    "plt.show()"
   ]
  },
  {
   "cell_type": "code",
   "execution_count": 23,
   "metadata": {},
   "outputs": [
    {
     "data": {
      "image/png": "[encoded data removed]",
      "text/plain": [
       "<Figure size 1000x500 with 1 Axes>"
      ]
     },
     "metadata": {},
     "output_type": "display_data"
    }
   ],
   "source": [
    "inputX = corr_features\n",
    "estimator = LinearRegression()\n",
    "estimator.fit(df.loc[:, inputX].values, df.loc[:, \"etr\"].values.ravel())\n",
    "result = permutation_importance(\n",
    "    estimator,\n",
    "    df.loc[:, inputX].values,\n",
    "    df.loc[:, \"etr\"].values.ravel(),\n",
    "    n_repeats=10,\n",
    "    scoring=\"neg_mean_squared_error\",\n",
    "    random_state=42,\n",
    "    n_jobs=2,\n",
    ")\n",
    "sorted_idx = result.importances_mean.argsort()\n",
    "fig, ax = plt.subplots(figsize=(10, 5))\n",
    "\n",
    "ax.boxplot(\n",
    "    result.importances[sorted_idx].T,\n",
    "    vert=False,\n",
    "    labels=df.loc[:, inputX].columns[sorted_idx],\n",
    ")\n",
    "ax.set_title(\"Permutation Importances (train set)\")\n",
    "fig.tight_layout()\n",
    "plt.show()"
   ]
  },
  {
   "cell_type": "code",
   "execution_count": 24,
   "metadata": {},
   "outputs": [
    {
     "data": {
      "image/png": "[encoded data removed]",
      "text/plain": [
       "<Figure size 1000x500 with 1 Axes>"
      ]
     },
     "metadata": {},
     "output_type": "display_data"
    }
   ],
   "source": [
    "inputX = rfe_candidates\n",
    "estimator = LinearRegression()\n",
    "estimator.fit(df.loc[:, inputX].values, df.loc[:, \"etr\"].values.ravel())\n",
    "result = permutation_importance(\n",
    "    estimator,\n",
    "    df.loc[:, inputX].values,\n",
    "    df.loc[:, \"etr\"].values.ravel(),\n",
    "    n_repeats=10,\n",
    "    scoring=\"neg_mean_squared_error\",\n",
    "    random_state=42,\n",
    "    n_jobs=2,\n",
    ")\n",
    "sorted_idx = result.importances_mean.argsort()\n",
    "fig, ax = plt.subplots(figsize=(10, 5))\n",
    "\n",
    "ax.boxplot(\n",
    "    result.importances[sorted_idx].T,\n",
    "    vert=False,\n",
    "    labels=df.loc[:, inputX].columns[sorted_idx],\n",
    ")\n",
    "ax.set_title(\"Permutation Importances (train set)\")\n",
    "fig.tight_layout()\n",
    "plt.show()"
   ]
  },
  {
   "cell_type": "code",
   "execution_count": 25,
   "metadata": {},
   "outputs": [
    {
     "data": {
      "image/png": "[encoded data removed]",
      "text/plain": [
       "<Figure size 1000x500 with 1 Axes>"
      ]
     },
     "metadata": {},
     "output_type": "display_data"
    }
   ],
   "source": [
    "inputX = rfe_candidates_without_disc\n",
    "estimator = LinearRegression()\n",
    "estimator.fit(df.loc[:, inputX].values, df.loc[:, \"etr\"].values.ravel())\n",
    "result = permutation_importance(\n",
    "    estimator,\n",
    "    df.loc[:, inputX].values,\n",
    "    df.loc[:, \"etr\"].values.ravel(),\n",
    "    n_repeats=10,\n",
    "    scoring=\"neg_mean_squared_error\",\n",
    "    random_state=42,\n",
    "    n_jobs=2,\n",
    ")\n",
    "sorted_idx = result.importances_mean.argsort()\n",
    "fig, ax = plt.subplots(figsize=(10, 5))\n",
    "\n",
    "ax.boxplot(\n",
    "    result.importances[sorted_idx].T,\n",
    "    vert=False,\n",
    "    labels=df.loc[:, inputX].columns[sorted_idx],\n",
    ")\n",
    "ax.set_title(\"Permutation Importances (train set)\")\n",
    "fig.tight_layout()\n",
    "plt.show()"
   ]
  },
  {
   "cell_type": "markdown",
   "metadata": {},
   "source": [
    "#### Permutation importance"
   ]
  },
  {
   "cell_type": "markdown",
   "metadata": {},
   "source": [
    "Let's try something new for us - permutation importance for feature selection."
   ]
  },
  {
   "cell_type": "code",
   "execution_count": 26,
   "metadata": {},
   "outputs": [],
   "source": [
    "rfe_candidates = [\n",
    "    \"rok\",\n",
    "    \"ta\",\n",
    "    \"txt\",\n",
    "    \"pi\",\n",
    "    \"str\",\n",
    "    \"xrd\",\n",
    "    \"ni\",\n",
    "    \"ppent\",\n",
    "    \"intant\",\n",
    "    \"dlc\",\n",
    "    \"dltt\",\n",
    "    \"capex\",\n",
    "    \"revenue\",\n",
    "    \"cce\",\n",
    "    \"adv\",\n",
    "    \"diff\",\n",
    "    \"rd\",\n",
    "    \"sale\",\n",
    "    \"cash_holdings\",\n",
    "    \"adv_expenditure\",\n",
    "    \"capex2\",\n",
    "    \"cfc\",\n",
    "    \"dta\",\n",
    "    \"capex2_scaled\",\n",
    "    \"y_v2x_polyarchy\",\n",
    "    \"y_e_p_polity\",\n",
    "    \"y_BR_Democracy\",\n",
    "    \"WB_GDPgrowth\",\n",
    "    \"WB_GDPpc\",\n",
    "    \"WB_Inflation\",\n",
    "    \"rr_per_country\",\n",
    "    \"rr_per_sector\",\n",
    "    \"sektor_consumer discretionary\",\n",
    "    \"sektor_consumer staples\",\n",
    "    \"sektor_energy\",\n",
    "    \"sektor_health care\",\n",
    "    \"sektor_industrials\",\n",
    "    \"sektor_materials\",\n",
    "    \"sektor_real estate\",\n",
    "    \"sektor_technology\",\n",
    "    \"sektor_utilities\",\n",
    "    \"gielda_2\",\n",
    "    \"gielda_3\",\n",
    "    \"gielda_4\",\n",
    "    \"gielda_5\",\n",
    "    \"txt_cat_(-63.011, -34.811]\",\n",
    "    \"txt_cat_(-34.811, 0.488]\",\n",
    "    \"txt_cat_(0.488, 24.415]\",\n",
    "    \"txt_cat_(24.415, 25.05]\",\n",
    "    \"txt_cat_(25.05, 308.55]\",\n",
    "    \"txt_cat_(308.55, 327.531]\",\n",
    "    \"txt_cat_(327.531, inf]\",\n",
    "    \"pi_cat_(-8975.0, -1.523]\",\n",
    "    \"pi_cat_(-1.523, 157.119]\",\n",
    "    \"pi_cat_(157.119, 465.9]\",\n",
    "    \"pi_cat_(465.9, 7875.5]\",\n",
    "    \"pi_cat_(7875.5, 8108.5]\",\n",
    "    \"pi_cat_(8108.5, inf]\",\n",
    "    \"str_cat_(0.0875, 0.192]\",\n",
    "    \"str_cat_(0.192, 0.28]\",\n",
    "    \"str_cat_(0.28, inf]\",\n",
    "    \"xrd_exists\",\n",
    "    \"ni_profit\",\n",
    "    \"ni_profit_20000\",\n",
    "    \"dlc_cat_(42.262, 176.129]\",\n",
    "    \"dlc_cat_(176.129, 200.9]\",\n",
    "    \"dlc_cat_(200.9, inf]\",\n",
    "    \"dltt_cat_(39.38, 327.85]\",\n",
    "    \"dltt_cat_(327.85, 876.617]\",\n",
    "    \"dltt_cat_(876.617, inf]\",\n",
    "    \"capex_cat_(7.447, 79.55]\",\n",
    "    \"capex_cat_(79.55, 5451.0]\",\n",
    "    \"capex_cat_(5451.0, inf]\",\n",
    "    \"revenue_cat_(0.174, 1248.817]\",\n",
    "    \"revenue_cat_(1248.817, 4233.587]\",\n",
    "    \"revenue_cat_(4233.587, inf]\",\n",
    "    \"cce_cat_(5.619, 63.321]\",\n",
    "    \"cce_cat_(63.321, inf]\",\n",
    "    \"adv_cat_(0.3, 874.5]\",\n",
    "    \"adv_cat_(874.5, inf]\",\n",
    "    \"diff_positive\",\n",
    "    \"roa_clip\",\n",
    "    \"lev_sqrt\",\n",
    "    \"intan_pow2\",\n",
    "    \"ppe_clip\",\n",
    "    \"adv_expenditure_positive\",\n",
    "    \"diff_dta\",\n",
    "    \"cfc_dta\",\n",
    "    \"etr_y_past\",\n",
    "    \"etr_y_ma\",\n",
    "    \"diff_ma\",\n",
    "    \"roa_ma\",\n",
    "    \"lev_ma\",\n",
    "    \"intan_ma\",\n",
    "    \"ppe_ma\",\n",
    "    \"sale_ma\",\n",
    "    \"cash_holdings_ma\",\n",
    "    \"roa_past\",\n",
    "    \"lev_past\",\n",
    "    \"intan_past\",\n",
    "    \"ppe_past\",\n",
    "    \"sale_past\",\n",
    "    \"cash_holdings_past\",\n",
    "]"
   ]
  },
  {
   "cell_type": "code",
   "execution_count": 27,
   "metadata": {},
   "outputs": [],
   "source": [
    "estimator = LinearRegression()\n",
    "estimator.fit(df.loc[:, rfe_candidates].values, df.loc[:, \"etr\"].values.ravel())\n",
    "result = permutation_importance(\n",
    "    estimator,\n",
    "    df.loc[:, rfe_candidates].values,\n",
    "    df.loc[:, \"etr\"].values.ravel(),\n",
    "    n_repeats=10,\n",
    "    scoring=\"neg_mean_squared_error\",\n",
    "    random_state=42,\n",
    "    n_jobs=2,\n",
    ")\n",
    "sorted_idx = result.importances_mean.argsort()"
   ]
  },
  {
   "cell_type": "code",
   "execution_count": 28,
   "metadata": {},
   "outputs": [],
   "source": [
    "sorted_idx = sorted_idx[-20:]"
   ]
  },
  {
   "cell_type": "code",
   "execution_count": 29,
   "metadata": {},
   "outputs": [
    {
     "data": {
      "image/png": "[encoded data removed]",
      "text/plain": [
       "<Figure size 1000x500 with 1 Axes>"
      ]
     },
     "metadata": {},
     "output_type": "display_data"
    }
   ],
   "source": [
    "fig, ax = plt.subplots(figsize=(10, 5))\n",
    "\n",
    "ax.boxplot(\n",
    "    result.importances[sorted_idx].T,\n",
    "    vert=False,\n",
    "    labels=df.loc[:, rfe_candidates].columns[sorted_idx],\n",
    ")\n",
    "ax.set_title(\"Permutation Importances\")\n",
    "fig.tight_layout()\n",
    "plt.show()"
   ]
  },
  {
   "cell_type": "code",
   "execution_count": 30,
   "metadata": {},
   "outputs": [],
   "source": [
    "pi_var = df.loc[:, rfe_candidates].columns[sorted_idx].tolist()\n",
    "pi_var.remove(\"capex2\")"
   ]
  },
  {
   "cell_type": "code",
   "execution_count": 31,
   "metadata": {},
   "outputs": [],
   "source": [
    "estimator = LinearRegression()\n",
    "estimator.fit(df.loc[:, pi_var].values, df.loc[:, \"etr\"].values.ravel())\n",
    "result = permutation_importance(\n",
    "    estimator,\n",
    "    df.loc[:, pi_var].values,\n",
    "    df.loc[:, \"etr\"].values.ravel(),\n",
    "    n_repeats=10,\n",
    "    scoring=\"neg_mean_squared_error\",\n",
    "    random_state=42,\n",
    "    n_jobs=2,\n",
    ")\n",
    "sorted_idx = result.importances_mean.argsort()"
   ]
  },
  {
   "cell_type": "code",
   "execution_count": 32,
   "metadata": {},
   "outputs": [
    {
     "data": {
      "image/png": "[encoded data removed]",
      "text/plain": [
       "<Figure size 1000x500 with 1 Axes>"
      ]
     },
     "metadata": {},
     "output_type": "display_data"
    }
   ],
   "source": [
    "fig, ax = plt.subplots(figsize=(10, 5))\n",
    "\n",
    "ax.boxplot(\n",
    "    result.importances[sorted_idx].T,\n",
    "    vert=False,\n",
    "    labels=df.loc[:, pi_var].columns[sorted_idx],\n",
    ")\n",
    "ax.set_title(\"Permutation Importances\")\n",
    "fig.tight_layout()\n",
    "plt.show()"
   ]
  },
  {
   "cell_type": "code",
   "execution_count": 33,
   "metadata": {},
   "outputs": [],
   "source": [
    "pi_var_prim = pi_var[-11:]"
   ]
  },
  {
   "cell_type": "markdown",
   "metadata": {},
   "source": [
    "#### Forward elimination"
   ]
  },
  {
   "cell_type": "markdown",
   "metadata": {},
   "source": [
    "Finally let's try backward feature selection!"
   ]
  },
  {
   "cell_type": "code",
   "execution_count": 34,
   "metadata": {},
   "outputs": [],
   "source": [
    "candidates = [\n",
    "    \"rok\",\n",
    "    \"ta\",\n",
    "    \"txt\",\n",
    "    \"pi\",\n",
    "    \"str\",\n",
    "    \"xrd\",\n",
    "    \"ni\",\n",
    "    \"ppent\",\n",
    "    \"intant\",\n",
    "    \"dlc\",\n",
    "    \"dltt\",\n",
    "    \"capex\",\n",
    "    \"revenue\",\n",
    "    \"cce\",\n",
    "    \"adv\",\n",
    "    \"diff\",\n",
    "    \"rd\",\n",
    "    \"sale\",\n",
    "    \"cash_holdings\",\n",
    "    \"adv_expenditure\",\n",
    "    \"capex2\",\n",
    "    \"cfc\",\n",
    "    \"dta\",\n",
    "    \"capex2_scaled\",\n",
    "    \"y_v2x_polyarchy\",\n",
    "    \"y_e_p_polity\",\n",
    "    \"y_BR_Democracy\",\n",
    "    \"WB_GDPgrowth\",\n",
    "    \"WB_GDPpc\",\n",
    "    \"WB_Inflation\",\n",
    "    \"rr_per_country\",\n",
    "    \"rr_per_sector\",\n",
    "    \"sektor_consumer discretionary\",\n",
    "    \"sektor_consumer staples\",\n",
    "    \"sektor_energy\",\n",
    "    \"sektor_health care\",\n",
    "    \"sektor_industrials\",\n",
    "    \"sektor_materials\",\n",
    "    \"sektor_real estate\",\n",
    "    \"sektor_technology\",\n",
    "    \"sektor_utilities\",\n",
    "    \"gielda_2\",\n",
    "    \"gielda_3\",\n",
    "    \"gielda_4\",\n",
    "    \"gielda_5\",\n",
    "    \"txt_cat_(-63.011, -34.811]\",\n",
    "    \"txt_cat_(-34.811, 0.488]\",\n",
    "    \"txt_cat_(0.488, 24.415]\",\n",
    "    \"txt_cat_(24.415, 25.05]\",\n",
    "    \"txt_cat_(25.05, 308.55]\",\n",
    "    \"txt_cat_(308.55, 327.531]\",\n",
    "    \"txt_cat_(327.531, inf]\",\n",
    "    \"pi_cat_(-8975.0, -1.523]\",\n",
    "    \"pi_cat_(-1.523, 157.119]\",\n",
    "    \"pi_cat_(157.119, 465.9]\",\n",
    "    \"pi_cat_(465.9, 7875.5]\",\n",
    "    \"pi_cat_(7875.5, 8108.5]\",\n",
    "    \"pi_cat_(8108.5, inf]\",\n",
    "    \"str_cat_(0.0875, 0.192]\",\n",
    "    \"str_cat_(0.192, 0.28]\",\n",
    "    \"str_cat_(0.28, inf]\",\n",
    "    \"xrd_exists\",\n",
    "    \"ni_profit\",\n",
    "    \"ni_profit_20000\",\n",
    "    \"dlc_cat_(42.262, 176.129]\",\n",
    "    \"dlc_cat_(176.129, 200.9]\",\n",
    "    \"dlc_cat_(200.9, inf]\",\n",
    "    \"dltt_cat_(39.38, 327.85]\",\n",
    "    \"dltt_cat_(327.85, 876.617]\",\n",
    "    \"dltt_cat_(876.617, inf]\",\n",
    "    \"capex_cat_(7.447, 79.55]\",\n",
    "    \"capex_cat_(79.55, 5451.0]\",\n",
    "    \"capex_cat_(5451.0, inf]\",\n",
    "    \"revenue_cat_(0.174, 1248.817]\",\n",
    "    \"revenue_cat_(1248.817, 4233.587]\",\n",
    "    \"revenue_cat_(4233.587, inf]\",\n",
    "    \"cce_cat_(5.619, 63.321]\",\n",
    "    \"cce_cat_(63.321, inf]\",\n",
    "    \"adv_cat_(0.3, 874.5]\",\n",
    "    \"adv_cat_(874.5, inf]\",\n",
    "    \"diff_positive\",\n",
    "    \"roa_clip\",\n",
    "    \"lev_sqrt\",\n",
    "    \"intan_pow2\",\n",
    "    \"ppe_clip\",\n",
    "    \"adv_expenditure_positive\",\n",
    "    \"diff_dta\",\n",
    "    \"cfc_dta\",\n",
    "    \"etr_y_past\",\n",
    "    \"etr_y_ma\",\n",
    "    \"diff_ma\",\n",
    "    \"roa_ma\",\n",
    "    \"lev_ma\",\n",
    "    \"intan_ma\",\n",
    "    \"ppe_ma\",\n",
    "    \"sale_ma\",\n",
    "    \"cash_holdings_ma\",\n",
    "    \"roa_past\",\n",
    "    \"lev_past\",\n",
    "    \"intan_past\",\n",
    "    \"ppe_past\",\n",
    "    \"sale_past\",\n",
    "    \"cash_holdings_past\",\n",
    "]"
   ]
  },
  {
   "cell_type": "code",
   "execution_count": 35,
   "metadata": {},
   "outputs": [],
   "source": [
    "model = LinearRegression()"
   ]
  },
  {
   "cell_type": "code",
   "execution_count": 36,
   "metadata": {},
   "outputs": [],
   "source": [
    "sf = SFS(\n",
    "    model,\n",
    "    k_features=(1, 10),\n",
    "    forward=True,\n",
    "    floating=False,\n",
    "    verbose=0,\n",
    "    scoring=\"neg_mean_squared_error\",\n",
    "    cv=5,\n",
    ")\n",
    "\n",
    "sffit = sf.fit(df.loc[:, candidates].values, df.loc[:, \"etr\"].values.ravel())\n",
    "\n",
    "sf_features = df.loc[:, candidates].columns[list(sffit.k_feature_idx_)]"
   ]
  },
  {
   "cell_type": "code",
   "execution_count": 37,
   "metadata": {},
   "outputs": [
    {
     "data": {
      "text/plain": [
       "Index(['sale', 'cfc', 'txt_cat_(-34.811, 0.488]', 'txt_cat_(0.488, 24.415]',\n",
       "       'txt_cat_(308.55, 327.531]', 'pi_cat_(7875.5, 8108.5]',\n",
       "       'str_cat_(0.28, inf]', 'dlc_cat_(176.129, 200.9]', 'diff_positive',\n",
       "       'etr_y_ma'],\n",
       "      dtype='object')"
      ]
     },
     "execution_count": 37,
     "metadata": {},
     "output_type": "execute_result"
    }
   ],
   "source": [
    "sf_features"
   ]
  },
  {
   "cell_type": "markdown",
   "metadata": {},
   "source": [
    "### Models performance in a proper CV"
   ]
  },
  {
   "cell_type": "markdown",
   "metadata": {},
   "source": [
    "We would like to fight against data leakage in our CV, so we will treat it like a panel problem with a rolling window. We now based on our experience that this kind of approach is crucial to fight against overfitting.\n",
    "\n",
    "Sliding window:\n",
    " * T: 2005 - 2008; V: 2009\n",
    " * T: 2005 - 2009; V: 2010\n",
    " * T: 2005 - 2010; V: 2011\n",
    " * ..."
   ]
  },
  {
   "cell_type": "code",
   "execution_count": 38,
   "metadata": {},
   "outputs": [],
   "source": [
    "df = df.sort_values(by=\"rok\").reset_index(drop=True)"
   ]
  },
  {
   "cell_type": "code",
   "execution_count": 39,
   "metadata": {},
   "outputs": [],
   "source": [
    "def proper_CV(x, y, model, display_res=False):\n",
    "    train_score = list()\n",
    "    valid_score = list()\n",
    "    train_indexes = [0, 1452]\n",
    "    valid_indexes = [1452, 1815]\n",
    "    for i in range(0, 6):\n",
    "        train_x = x[x.index.isin(range(train_indexes[0], train_indexes[1]))]\n",
    "        train_y = y[y.index.isin(range(train_indexes[0], train_indexes[1]))]\n",
    "        valid_x = x[x.index.isin(range(valid_indexes[0], valid_indexes[1]))]\n",
    "        valid_y = y[y.index.isin(range(valid_indexes[0], valid_indexes[1]))]\n",
    "\n",
    "        model.fit(train_x.values, train_y.values.ravel())\n",
    "\n",
    "        pred_y_train = model.predict(train_x.values)\n",
    "        rmse = np.sqrt(mean_squared_error(train_y, pred_y_train))\n",
    "        train_score.append(rmse)\n",
    "\n",
    "        pred_y_val = model.predict(valid_x.values)\n",
    "        rmse = np.sqrt(mean_squared_error(valid_y, pred_y_val))\n",
    "        valid_score.append(rmse)\n",
    "\n",
    "        train_indexes = [0, valid_indexes[1]]\n",
    "        valid_indexes = [train_indexes[1], valid_indexes[1] + 363]\n",
    "\n",
    "    if display_res == True:\n",
    "        view = pd.DataFrame([train_score, valid_score]).T.rename(\n",
    "            columns={0: \"cv_train\", 1: \"cv_val\"}\n",
    "        )\n",
    "        display(view)\n",
    "        return train_score, valid_score, view\n",
    "    else:\n",
    "        return train_score, valid_score"
   ]
  },
  {
   "cell_type": "code",
   "execution_count": 40,
   "metadata": {},
   "outputs": [
    {
     "data": {
      "text/html": [
       "<div>\n",
       "<style scoped>\n",
       "    .dataframe tbody tr th:only-of-type {\n",
       "        vertical-align: middle;\n",
       "    }\n",
       "\n",
       "    .dataframe tbody tr th {\n",
       "        vertical-align: top;\n",
       "    }\n",
       "\n",
       "    .dataframe thead th {\n",
       "        text-align: right;\n",
       "    }\n",
       "</style>\n",
       "<table border=\"1\" class=\"dataframe\">\n",
       "  <thead>\n",
       "    <tr style=\"text-align: right;\">\n",
       "      <th></th>\n",
       "      <th>cv_train</th>\n",
       "      <th>cv_val</th>\n",
       "    </tr>\n",
       "  </thead>\n",
       "  <tbody>\n",
       "    <tr>\n",
       "      <th>0</th>\n",
       "      <td>0.132887</td>\n",
       "      <td>0.180727</td>\n",
       "    </tr>\n",
       "    <tr>\n",
       "      <th>1</th>\n",
       "      <td>0.137568</td>\n",
       "      <td>0.144853</td>\n",
       "    </tr>\n",
       "    <tr>\n",
       "      <th>2</th>\n",
       "      <td>0.138002</td>\n",
       "      <td>0.147607</td>\n",
       "    </tr>\n",
       "    <tr>\n",
       "      <th>3</th>\n",
       "      <td>0.139136</td>\n",
       "      <td>0.145071</td>\n",
       "    </tr>\n",
       "    <tr>\n",
       "      <th>4</th>\n",
       "      <td>0.139685</td>\n",
       "      <td>0.207354</td>\n",
       "    </tr>\n",
       "    <tr>\n",
       "      <th>5</th>\n",
       "      <td>0.139576</td>\n",
       "      <td>0.132555</td>\n",
       "    </tr>\n",
       "  </tbody>\n",
       "</table>\n",
       "</div>"
      ],
      "text/plain": [
       "   cv_train    cv_val\n",
       "0  0.132887  0.180727\n",
       "1  0.137568  0.144853\n",
       "2  0.138002  0.147607\n",
       "3  0.139136  0.145071\n",
       "4  0.139685  0.207354\n",
       "5  0.139576  0.132555"
      ]
     },
     "metadata": {},
     "output_type": "display_data"
    }
   ],
   "source": [
    "model = LinearRegression()\n",
    "cv_output1 = proper_CV(\n",
    "    df.loc[:, mi_features], df.loc[:, \"etr\"], model, display_res=True\n",
    ")"
   ]
  },
  {
   "cell_type": "code",
   "execution_count": 41,
   "metadata": {},
   "outputs": [
    {
     "data": {
      "text/html": [
       "<div>\n",
       "<style scoped>\n",
       "    .dataframe tbody tr th:only-of-type {\n",
       "        vertical-align: middle;\n",
       "    }\n",
       "\n",
       "    .dataframe tbody tr th {\n",
       "        vertical-align: top;\n",
       "    }\n",
       "\n",
       "    .dataframe thead th {\n",
       "        text-align: right;\n",
       "    }\n",
       "</style>\n",
       "<table border=\"1\" class=\"dataframe\">\n",
       "  <thead>\n",
       "    <tr style=\"text-align: right;\">\n",
       "      <th></th>\n",
       "      <th>cv_train</th>\n",
       "      <th>cv_val</th>\n",
       "    </tr>\n",
       "  </thead>\n",
       "  <tbody>\n",
       "    <tr>\n",
       "      <th>0</th>\n",
       "      <td>0.132525</td>\n",
       "      <td>0.176208</td>\n",
       "    </tr>\n",
       "    <tr>\n",
       "      <th>1</th>\n",
       "      <td>0.136937</td>\n",
       "      <td>0.142398</td>\n",
       "    </tr>\n",
       "    <tr>\n",
       "      <th>2</th>\n",
       "      <td>0.137332</td>\n",
       "      <td>0.144886</td>\n",
       "    </tr>\n",
       "    <tr>\n",
       "      <th>3</th>\n",
       "      <td>0.138266</td>\n",
       "      <td>0.145311</td>\n",
       "    </tr>\n",
       "    <tr>\n",
       "      <th>4</th>\n",
       "      <td>0.139004</td>\n",
       "      <td>0.208335</td>\n",
       "    </tr>\n",
       "    <tr>\n",
       "      <th>5</th>\n",
       "      <td>0.138860</td>\n",
       "      <td>0.135515</td>\n",
       "    </tr>\n",
       "  </tbody>\n",
       "</table>\n",
       "</div>"
      ],
      "text/plain": [
       "   cv_train    cv_val\n",
       "0  0.132525  0.176208\n",
       "1  0.136937  0.142398\n",
       "2  0.137332  0.144886\n",
       "3  0.138266  0.145311\n",
       "4  0.139004  0.208335\n",
       "5  0.138860  0.135515"
      ]
     },
     "metadata": {},
     "output_type": "display_data"
    }
   ],
   "source": [
    "model = LinearRegression()\n",
    "cv_output2 = proper_CV(\n",
    "    df.loc[:, corr_features], df.loc[:, \"etr\"], model, display_res=True\n",
    ")"
   ]
  },
  {
   "cell_type": "code",
   "execution_count": 42,
   "metadata": {},
   "outputs": [
    {
     "data": {
      "text/html": [
       "<div>\n",
       "<style scoped>\n",
       "    .dataframe tbody tr th:only-of-type {\n",
       "        vertical-align: middle;\n",
       "    }\n",
       "\n",
       "    .dataframe tbody tr th {\n",
       "        vertical-align: top;\n",
       "    }\n",
       "\n",
       "    .dataframe thead th {\n",
       "        text-align: right;\n",
       "    }\n",
       "</style>\n",
       "<table border=\"1\" class=\"dataframe\">\n",
       "  <thead>\n",
       "    <tr style=\"text-align: right;\">\n",
       "      <th></th>\n",
       "      <th>cv_train</th>\n",
       "      <th>cv_val</th>\n",
       "    </tr>\n",
       "  </thead>\n",
       "  <tbody>\n",
       "    <tr>\n",
       "      <th>0</th>\n",
       "      <td>0.133058</td>\n",
       "      <td>0.178367</td>\n",
       "    </tr>\n",
       "    <tr>\n",
       "      <th>1</th>\n",
       "      <td>0.137306</td>\n",
       "      <td>0.139817</td>\n",
       "    </tr>\n",
       "    <tr>\n",
       "      <th>2</th>\n",
       "      <td>0.137286</td>\n",
       "      <td>0.147315</td>\n",
       "    </tr>\n",
       "    <tr>\n",
       "      <th>3</th>\n",
       "      <td>0.138559</td>\n",
       "      <td>0.143718</td>\n",
       "    </tr>\n",
       "    <tr>\n",
       "      <th>4</th>\n",
       "      <td>0.139112</td>\n",
       "      <td>0.210931</td>\n",
       "    </tr>\n",
       "    <tr>\n",
       "      <th>5</th>\n",
       "      <td>0.139099</td>\n",
       "      <td>0.127751</td>\n",
       "    </tr>\n",
       "  </tbody>\n",
       "</table>\n",
       "</div>"
      ],
      "text/plain": [
       "   cv_train    cv_val\n",
       "0  0.133058  0.178367\n",
       "1  0.137306  0.139817\n",
       "2  0.137286  0.147315\n",
       "3  0.138559  0.143718\n",
       "4  0.139112  0.210931\n",
       "5  0.139099  0.127751"
      ]
     },
     "metadata": {},
     "output_type": "display_data"
    }
   ],
   "source": [
    "model = LinearRegression()\n",
    "cv_output3 = proper_CV(\n",
    "    df.loc[:, br_features], df.loc[:, \"etr\"], model, display_res=True\n",
    ")"
   ]
  },
  {
   "cell_type": "code",
   "execution_count": 43,
   "metadata": {},
   "outputs": [
    {
     "data": {
      "text/html": [
       "<div>\n",
       "<style scoped>\n",
       "    .dataframe tbody tr th:only-of-type {\n",
       "        vertical-align: middle;\n",
       "    }\n",
       "\n",
       "    .dataframe tbody tr th {\n",
       "        vertical-align: top;\n",
       "    }\n",
       "\n",
       "    .dataframe thead th {\n",
       "        text-align: right;\n",
       "    }\n",
       "</style>\n",
       "<table border=\"1\" class=\"dataframe\">\n",
       "  <thead>\n",
       "    <tr style=\"text-align: right;\">\n",
       "      <th></th>\n",
       "      <th>cv_train</th>\n",
       "      <th>cv_val</th>\n",
       "    </tr>\n",
       "  </thead>\n",
       "  <tbody>\n",
       "    <tr>\n",
       "      <th>0</th>\n",
       "      <td>0.126980</td>\n",
       "      <td>0.186750</td>\n",
       "    </tr>\n",
       "    <tr>\n",
       "      <th>1</th>\n",
       "      <td>0.131531</td>\n",
       "      <td>0.141275</td>\n",
       "    </tr>\n",
       "    <tr>\n",
       "      <th>2</th>\n",
       "      <td>0.131602</td>\n",
       "      <td>0.149313</td>\n",
       "    </tr>\n",
       "    <tr>\n",
       "      <th>3</th>\n",
       "      <td>0.133517</td>\n",
       "      <td>0.145249</td>\n",
       "    </tr>\n",
       "    <tr>\n",
       "      <th>4</th>\n",
       "      <td>0.134083</td>\n",
       "      <td>0.198899</td>\n",
       "    </tr>\n",
       "    <tr>\n",
       "      <th>5</th>\n",
       "      <td>0.133837</td>\n",
       "      <td>0.130041</td>\n",
       "    </tr>\n",
       "  </tbody>\n",
       "</table>\n",
       "</div>"
      ],
      "text/plain": [
       "   cv_train    cv_val\n",
       "0  0.126980  0.186750\n",
       "1  0.131531  0.141275\n",
       "2  0.131602  0.149313\n",
       "3  0.133517  0.145249\n",
       "4  0.134083  0.198899\n",
       "5  0.133837  0.130041"
      ]
     },
     "metadata": {},
     "output_type": "display_data"
    }
   ],
   "source": [
    "model = LinearRegression()\n",
    "cv_output4 = proper_CV(\n",
    "    df.loc[:, rfe_candidates], df.loc[:, \"etr\"], model, display_res=True\n",
    ")"
   ]
  },
  {
   "cell_type": "code",
   "execution_count": 44,
   "metadata": {},
   "outputs": [
    {
     "data": {
      "text/html": [
       "<div>\n",
       "<style scoped>\n",
       "    .dataframe tbody tr th:only-of-type {\n",
       "        vertical-align: middle;\n",
       "    }\n",
       "\n",
       "    .dataframe tbody tr th {\n",
       "        vertical-align: top;\n",
       "    }\n",
       "\n",
       "    .dataframe thead th {\n",
       "        text-align: right;\n",
       "    }\n",
       "</style>\n",
       "<table border=\"1\" class=\"dataframe\">\n",
       "  <thead>\n",
       "    <tr style=\"text-align: right;\">\n",
       "      <th></th>\n",
       "      <th>cv_train</th>\n",
       "      <th>cv_val</th>\n",
       "    </tr>\n",
       "  </thead>\n",
       "  <tbody>\n",
       "    <tr>\n",
       "      <th>0</th>\n",
       "      <td>0.136745</td>\n",
       "      <td>0.153326</td>\n",
       "    </tr>\n",
       "    <tr>\n",
       "      <th>1</th>\n",
       "      <td>0.138991</td>\n",
       "      <td>0.141380</td>\n",
       "    </tr>\n",
       "    <tr>\n",
       "      <th>2</th>\n",
       "      <td>0.139194</td>\n",
       "      <td>0.151756</td>\n",
       "    </tr>\n",
       "    <tr>\n",
       "      <th>3</th>\n",
       "      <td>0.141014</td>\n",
       "      <td>0.145053</td>\n",
       "    </tr>\n",
       "    <tr>\n",
       "      <th>4</th>\n",
       "      <td>0.141513</td>\n",
       "      <td>0.131512</td>\n",
       "    </tr>\n",
       "    <tr>\n",
       "      <th>5</th>\n",
       "      <td>0.140410</td>\n",
       "      <td>0.134634</td>\n",
       "    </tr>\n",
       "  </tbody>\n",
       "</table>\n",
       "</div>"
      ],
      "text/plain": [
       "   cv_train    cv_val\n",
       "0  0.136745  0.153326\n",
       "1  0.138991  0.141380\n",
       "2  0.139194  0.151756\n",
       "3  0.141014  0.145053\n",
       "4  0.141513  0.131512\n",
       "5  0.140410  0.134634"
      ]
     },
     "metadata": {},
     "output_type": "display_data"
    }
   ],
   "source": [
    "model = LinearRegression()\n",
    "cv_output5 = proper_CV(\n",
    "    df.loc[:, rfe_candidates_without_disc], df.loc[:, \"etr\"], model, display_res=True\n",
    ")"
   ]
  },
  {
   "cell_type": "code",
   "execution_count": 45,
   "metadata": {},
   "outputs": [
    {
     "data": {
      "text/html": [
       "<div>\n",
       "<style scoped>\n",
       "    .dataframe tbody tr th:only-of-type {\n",
       "        vertical-align: middle;\n",
       "    }\n",
       "\n",
       "    .dataframe tbody tr th {\n",
       "        vertical-align: top;\n",
       "    }\n",
       "\n",
       "    .dataframe thead th {\n",
       "        text-align: right;\n",
       "    }\n",
       "</style>\n",
       "<table border=\"1\" class=\"dataframe\">\n",
       "  <thead>\n",
       "    <tr style=\"text-align: right;\">\n",
       "      <th></th>\n",
       "      <th>cv_train</th>\n",
       "      <th>cv_val</th>\n",
       "    </tr>\n",
       "  </thead>\n",
       "  <tbody>\n",
       "    <tr>\n",
       "      <th>0</th>\n",
       "      <td>0.135036</td>\n",
       "      <td>0.151068</td>\n",
       "    </tr>\n",
       "    <tr>\n",
       "      <th>1</th>\n",
       "      <td>0.136988</td>\n",
       "      <td>0.137766</td>\n",
       "    </tr>\n",
       "    <tr>\n",
       "      <th>2</th>\n",
       "      <td>0.136798</td>\n",
       "      <td>0.151330</td>\n",
       "    </tr>\n",
       "    <tr>\n",
       "      <th>3</th>\n",
       "      <td>0.138805</td>\n",
       "      <td>0.142335</td>\n",
       "    </tr>\n",
       "    <tr>\n",
       "      <th>4</th>\n",
       "      <td>0.139133</td>\n",
       "      <td>0.129867</td>\n",
       "    </tr>\n",
       "    <tr>\n",
       "      <th>5</th>\n",
       "      <td>0.138028</td>\n",
       "      <td>0.134557</td>\n",
       "    </tr>\n",
       "  </tbody>\n",
       "</table>\n",
       "</div>"
      ],
      "text/plain": [
       "   cv_train    cv_val\n",
       "0  0.135036  0.151068\n",
       "1  0.136988  0.137766\n",
       "2  0.136798  0.151330\n",
       "3  0.138805  0.142335\n",
       "4  0.139133  0.129867\n",
       "5  0.138028  0.134557"
      ]
     },
     "metadata": {},
     "output_type": "display_data"
    }
   ],
   "source": [
    "model = LinearRegression()\n",
    "cv_output6 = proper_CV(df.loc[:, pi_var], df.loc[:, \"etr\"], model, display_res=True)"
   ]
  },
  {
   "cell_type": "code",
   "execution_count": 46,
   "metadata": {},
   "outputs": [
    {
     "data": {
      "text/html": [
       "<div>\n",
       "<style scoped>\n",
       "    .dataframe tbody tr th:only-of-type {\n",
       "        vertical-align: middle;\n",
       "    }\n",
       "\n",
       "    .dataframe tbody tr th {\n",
       "        vertical-align: top;\n",
       "    }\n",
       "\n",
       "    .dataframe thead th {\n",
       "        text-align: right;\n",
       "    }\n",
       "</style>\n",
       "<table border=\"1\" class=\"dataframe\">\n",
       "  <thead>\n",
       "    <tr style=\"text-align: right;\">\n",
       "      <th></th>\n",
       "      <th>cv_train</th>\n",
       "      <th>cv_val</th>\n",
       "    </tr>\n",
       "  </thead>\n",
       "  <tbody>\n",
       "    <tr>\n",
       "      <th>0</th>\n",
       "      <td>0.135669</td>\n",
       "      <td>0.153404</td>\n",
       "    </tr>\n",
       "    <tr>\n",
       "      <th>1</th>\n",
       "      <td>0.138062</td>\n",
       "      <td>0.138732</td>\n",
       "    </tr>\n",
       "    <tr>\n",
       "      <th>2</th>\n",
       "      <td>0.137954</td>\n",
       "      <td>0.151930</td>\n",
       "    </tr>\n",
       "    <tr>\n",
       "      <th>3</th>\n",
       "      <td>0.139915</td>\n",
       "      <td>0.145173</td>\n",
       "    </tr>\n",
       "    <tr>\n",
       "      <th>4</th>\n",
       "      <td>0.140526</td>\n",
       "      <td>0.129656</td>\n",
       "    </tr>\n",
       "    <tr>\n",
       "      <th>5</th>\n",
       "      <td>0.139281</td>\n",
       "      <td>0.134648</td>\n",
       "    </tr>\n",
       "  </tbody>\n",
       "</table>\n",
       "</div>"
      ],
      "text/plain": [
       "   cv_train    cv_val\n",
       "0  0.135669  0.153404\n",
       "1  0.138062  0.138732\n",
       "2  0.137954  0.151930\n",
       "3  0.139915  0.145173\n",
       "4  0.140526  0.129656\n",
       "5  0.139281  0.134648"
      ]
     },
     "metadata": {},
     "output_type": "display_data"
    }
   ],
   "source": [
    "model = LinearRegression()\n",
    "cv_output7 = proper_CV(\n",
    "    df.loc[:, pi_var_prim], df.loc[:, \"etr\"], model, display_res=True\n",
    ")"
   ]
  },
  {
   "cell_type": "code",
   "execution_count": 47,
   "metadata": {},
   "outputs": [
    {
     "data": {
      "text/html": [
       "<div>\n",
       "<style scoped>\n",
       "    .dataframe tbody tr th:only-of-type {\n",
       "        vertical-align: middle;\n",
       "    }\n",
       "\n",
       "    .dataframe tbody tr th {\n",
       "        vertical-align: top;\n",
       "    }\n",
       "\n",
       "    .dataframe thead th {\n",
       "        text-align: right;\n",
       "    }\n",
       "</style>\n",
       "<table border=\"1\" class=\"dataframe\">\n",
       "  <thead>\n",
       "    <tr style=\"text-align: right;\">\n",
       "      <th></th>\n",
       "      <th>cv_train</th>\n",
       "      <th>cv_val</th>\n",
       "    </tr>\n",
       "  </thead>\n",
       "  <tbody>\n",
       "    <tr>\n",
       "      <th>0</th>\n",
       "      <td>0.135084</td>\n",
       "      <td>0.149512</td>\n",
       "    </tr>\n",
       "    <tr>\n",
       "      <th>1</th>\n",
       "      <td>0.136924</td>\n",
       "      <td>0.133315</td>\n",
       "    </tr>\n",
       "    <tr>\n",
       "      <th>2</th>\n",
       "      <td>0.135998</td>\n",
       "      <td>0.150370</td>\n",
       "    </tr>\n",
       "    <tr>\n",
       "      <th>3</th>\n",
       "      <td>0.138056</td>\n",
       "      <td>0.140874</td>\n",
       "    </tr>\n",
       "    <tr>\n",
       "      <th>4</th>\n",
       "      <td>0.138355</td>\n",
       "      <td>0.128921</td>\n",
       "    </tr>\n",
       "    <tr>\n",
       "      <th>5</th>\n",
       "      <td>0.137231</td>\n",
       "      <td>0.133595</td>\n",
       "    </tr>\n",
       "  </tbody>\n",
       "</table>\n",
       "</div>"
      ],
      "text/plain": [
       "   cv_train    cv_val\n",
       "0  0.135084  0.149512\n",
       "1  0.136924  0.133315\n",
       "2  0.135998  0.150370\n",
       "3  0.138056  0.140874\n",
       "4  0.138355  0.128921\n",
       "5  0.137231  0.133595"
      ]
     },
     "metadata": {},
     "output_type": "display_data"
    }
   ],
   "source": [
    "model = LinearRegression()\n",
    "cv_output8 = proper_CV(\n",
    "    df.loc[:, sf_features], df.loc[:, \"etr\"], model, display_res=True\n",
    ")"
   ]
  },
  {
   "cell_type": "code",
   "execution_count": 48,
   "metadata": {},
   "outputs": [
    {
     "data": {
      "text/html": [
       "<div>\n",
       "<style scoped>\n",
       "    .dataframe tbody tr th:only-of-type {\n",
       "        vertical-align: middle;\n",
       "    }\n",
       "\n",
       "    .dataframe tbody tr th {\n",
       "        vertical-align: top;\n",
       "    }\n",
       "\n",
       "    .dataframe thead th {\n",
       "        text-align: right;\n",
       "    }\n",
       "</style>\n",
       "<table border=\"1\" class=\"dataframe\">\n",
       "  <thead>\n",
       "    <tr style=\"text-align: right;\">\n",
       "      <th></th>\n",
       "      <th>train_mean</th>\n",
       "      <th>test_mean</th>\n",
       "    </tr>\n",
       "  </thead>\n",
       "  <tbody>\n",
       "    <tr>\n",
       "      <th>0</th>\n",
       "      <td>0.137809</td>\n",
       "      <td>0.159694</td>\n",
       "    </tr>\n",
       "    <tr>\n",
       "      <th>1</th>\n",
       "      <td>0.137154</td>\n",
       "      <td>0.158776</td>\n",
       "    </tr>\n",
       "    <tr>\n",
       "      <th>2</th>\n",
       "      <td>0.137403</td>\n",
       "      <td>0.157983</td>\n",
       "    </tr>\n",
       "    <tr>\n",
       "      <th>3</th>\n",
       "      <td>0.131925</td>\n",
       "      <td>0.158588</td>\n",
       "    </tr>\n",
       "    <tr>\n",
       "      <th>4</th>\n",
       "      <td>0.139645</td>\n",
       "      <td>0.142943</td>\n",
       "    </tr>\n",
       "    <tr>\n",
       "      <th>5</th>\n",
       "      <td>0.137465</td>\n",
       "      <td>0.141154</td>\n",
       "    </tr>\n",
       "    <tr>\n",
       "      <th>6</th>\n",
       "      <td>0.138568</td>\n",
       "      <td>0.142257</td>\n",
       "    </tr>\n",
       "    <tr>\n",
       "      <th>7</th>\n",
       "      <td>0.136941</td>\n",
       "      <td>0.139431</td>\n",
       "    </tr>\n",
       "  </tbody>\n",
       "</table>\n",
       "</div>"
      ],
      "text/plain": [
       "   train_mean  test_mean\n",
       "0    0.137809   0.159694\n",
       "1    0.137154   0.158776\n",
       "2    0.137403   0.157983\n",
       "3    0.131925   0.158588\n",
       "4    0.139645   0.142943\n",
       "5    0.137465   0.141154\n",
       "6    0.138568   0.142257\n",
       "7    0.136941   0.139431"
      ]
     },
     "execution_count": 48,
     "metadata": {},
     "output_type": "execute_result"
    }
   ],
   "source": [
    "pd.DataFrame(\n",
    "    [\n",
    "        cv_output1[2].mean().tolist(),\n",
    "        cv_output2[2].mean().tolist(),\n",
    "        cv_output3[2].mean().tolist(),\n",
    "        cv_output4[2].mean().tolist(),\n",
    "        cv_output5[2].mean().tolist(),\n",
    "        cv_output6[2].mean().tolist(),\n",
    "        cv_output7[2].mean().tolist(),\n",
    "        cv_output8[2].mean().tolist(),\n",
    "    ],\n",
    "    columns=[\"train_mean\", \"test_mean\"],\n",
    ")"
   ]
  },
  {
   "cell_type": "code",
   "execution_count": 49,
   "metadata": {},
   "outputs": [
    {
     "data": {
      "text/html": [
       "<div>\n",
       "<style scoped>\n",
       "    .dataframe tbody tr th:only-of-type {\n",
       "        vertical-align: middle;\n",
       "    }\n",
       "\n",
       "    .dataframe tbody tr th {\n",
       "        vertical-align: top;\n",
       "    }\n",
       "\n",
       "    .dataframe thead th {\n",
       "        text-align: right;\n",
       "    }\n",
       "</style>\n",
       "<table border=\"1\" class=\"dataframe\">\n",
       "  <thead>\n",
       "    <tr style=\"text-align: right;\">\n",
       "      <th></th>\n",
       "      <th>train_std</th>\n",
       "      <th>test_std</th>\n",
       "    </tr>\n",
       "  </thead>\n",
       "  <tbody>\n",
       "    <tr>\n",
       "      <th>0</th>\n",
       "      <td>0.002558</td>\n",
       "      <td>0.028392</td>\n",
       "    </tr>\n",
       "    <tr>\n",
       "      <th>1</th>\n",
       "      <td>0.002411</td>\n",
       "      <td>0.028084</td>\n",
       "    </tr>\n",
       "    <tr>\n",
       "      <th>2</th>\n",
       "      <td>0.002282</td>\n",
       "      <td>0.030920</td>\n",
       "    </tr>\n",
       "    <tr>\n",
       "      <th>3</th>\n",
       "      <td>0.002667</td>\n",
       "      <td>0.027556</td>\n",
       "    </tr>\n",
       "    <tr>\n",
       "      <th>4</th>\n",
       "      <td>0.001732</td>\n",
       "      <td>0.008855</td>\n",
       "    </tr>\n",
       "    <tr>\n",
       "      <th>5</th>\n",
       "      <td>0.001514</td>\n",
       "      <td>0.008782</td>\n",
       "    </tr>\n",
       "    <tr>\n",
       "      <th>6</th>\n",
       "      <td>0.001743</td>\n",
       "      <td>0.009544</td>\n",
       "    </tr>\n",
       "    <tr>\n",
       "      <th>7</th>\n",
       "      <td>0.001238</td>\n",
       "      <td>0.009003</td>\n",
       "    </tr>\n",
       "  </tbody>\n",
       "</table>\n",
       "</div>"
      ],
      "text/plain": [
       "   train_std  test_std\n",
       "0   0.002558  0.028392\n",
       "1   0.002411  0.028084\n",
       "2   0.002282  0.030920\n",
       "3   0.002667  0.027556\n",
       "4   0.001732  0.008855\n",
       "5   0.001514  0.008782\n",
       "6   0.001743  0.009544\n",
       "7   0.001238  0.009003"
      ]
     },
     "execution_count": 49,
     "metadata": {},
     "output_type": "execute_result"
    }
   ],
   "source": [
    "pd.DataFrame(\n",
    "    [\n",
    "        cv_output1[2].std().tolist(),\n",
    "        cv_output2[2].std().tolist(),\n",
    "        cv_output3[2].std().tolist(),\n",
    "        cv_output4[2].std().tolist(),\n",
    "        cv_output5[2].std().tolist(),\n",
    "        cv_output6[2].std().tolist(),\n",
    "        cv_output7[2].std().tolist(),\n",
    "        cv_output8[2].std().tolist(),\n",
    "    ],\n",
    "    columns=[\"train_std\", \"test_std\"],\n",
    ")"
   ]
  },
  {
   "cell_type": "markdown",
   "metadata": {},
   "source": [
    "8th models seems to be the best one!"
   ]
  },
  {
   "cell_type": "code",
   "execution_count": 50,
   "metadata": {},
   "outputs": [
    {
     "name": "stdout",
     "output_type": "stream",
     "text": [
      "Index(['sale', 'cfc', 'txt_cat_(-34.811, 0.488]', 'txt_cat_(0.488, 24.415]',\n",
      "       'txt_cat_(308.55, 327.531]', 'pi_cat_(7875.5, 8108.5]',\n",
      "       'str_cat_(0.28, inf]', 'dlc_cat_(176.129, 200.9]', 'diff_positive',\n",
      "       'etr_y_ma'],\n",
      "      dtype='object')\n"
     ]
    }
   ],
   "source": [
    "print(sf_features)"
   ]
  },
  {
   "cell_type": "markdown",
   "metadata": {},
   "source": [
    "### Fit final model and save it"
   ]
  },
  {
   "cell_type": "code",
   "execution_count": 51,
   "metadata": {},
   "outputs": [
    {
     "data": {
      "text/html": [
       "<style>#sk-container-id-1 {color: black;background-color: white;}#sk-container-id-1 pre{padding: 0;}#sk-container-id-1 div.sk-toggleable {background-color: white;}#sk-container-id-1 label.sk-toggleable__label {cursor: pointer;display: block;width: 100%;margin-bottom: 0;padding: 0.3em;box-sizing: border-box;text-align: center;}#sk-container-id-1 label.sk-toggleable__label-arrow:before {content: \"▸\";float: left;margin-right: 0.25em;color: #696969;}#sk-container-id-1 label.sk-toggleable__label-arrow:hover:before {color: black;}#sk-container-id-1 div.sk-estimator:hover label.sk-toggleable__label-arrow:before {color: black;}#sk-container-id-1 div.sk-toggleable__content {max-height: 0;max-width: 0;overflow: hidden;text-align: left;background-color: #f0f8ff;}#sk-container-id-1 div.sk-toggleable__content pre {margin: 0.2em;color: black;border-radius: 0.25em;background-color: #f0f8ff;}#sk-container-id-1 input.sk-toggleable__control:checked~div.sk-toggleable__content {max-height: 200px;max-width: 100%;overflow: auto;}#sk-container-id-1 input.sk-toggleable__control:checked~label.sk-toggleable__label-arrow:before {content: \"▾\";}#sk-container-id-1 div.sk-estimator input.sk-toggleable__control:checked~label.sk-toggleable__label {background-color: #d4ebff;}#sk-container-id-1 div.sk-label input.sk-toggleable__control:checked~label.sk-toggleable__label {background-color: #d4ebff;}#sk-container-id-1 input.sk-hidden--visually {border: 0;clip: rect(1px 1px 1px 1px);clip: rect(1px, 1px, 1px, 1px);height: 1px;margin: -1px;overflow: hidden;padding: 0;position: absolute;width: 1px;}#sk-container-id-1 div.sk-estimator {font-family: monospace;background-color: #f0f8ff;border: 1px dotted black;border-radius: 0.25em;box-sizing: border-box;margin-bottom: 0.5em;}#sk-container-id-1 div.sk-estimator:hover {background-color: #d4ebff;}#sk-container-id-1 div.sk-parallel-item::after {content: \"\";width: 100%;border-bottom: 1px solid gray;flex-grow: 1;}#sk-container-id-1 div.sk-label:hover label.sk-toggleable__label {background-color: #d4ebff;}#sk-container-id-1 div.sk-serial::before {content: \"\";position: absolute;border-left: 1px solid gray;box-sizing: border-box;top: 0;bottom: 0;left: 50%;z-index: 0;}#sk-container-id-1 div.sk-serial {display: flex;flex-direction: column;align-items: center;background-color: white;padding-right: 0.2em;padding-left: 0.2em;position: relative;}#sk-container-id-1 div.sk-item {position: relative;z-index: 1;}#sk-container-id-1 div.sk-parallel {display: flex;align-items: stretch;justify-content: center;background-color: white;position: relative;}#sk-container-id-1 div.sk-item::before, #sk-container-id-1 div.sk-parallel-item::before {content: \"\";position: absolute;border-left: 1px solid gray;box-sizing: border-box;top: 0;bottom: 0;left: 50%;z-index: -1;}#sk-container-id-1 div.sk-parallel-item {display: flex;flex-direction: column;z-index: 1;position: relative;background-color: white;}#sk-container-id-1 div.sk-parallel-item:first-child::after {align-self: flex-end;width: 50%;}#sk-container-id-1 div.sk-parallel-item:last-child::after {align-self: flex-start;width: 50%;}#sk-container-id-1 div.sk-parallel-item:only-child::after {width: 0;}#sk-container-id-1 div.sk-dashed-wrapped {border: 1px dashed gray;margin: 0 0.4em 0.5em 0.4em;box-sizing: border-box;padding-bottom: 0.4em;background-color: white;}#sk-container-id-1 div.sk-label label {font-family: monospace;font-weight: bold;display: inline-block;line-height: 1.2em;}#sk-container-id-1 div.sk-label-container {text-align: center;}#sk-container-id-1 div.sk-container {/* jupyter's `normalize.less` sets `[hidden] { display: none; }` but bootstrap.min.css set `[hidden] { display: none !important; }` so we also need the `!important` here to be able to override the default hidden behavior on the sphinx rendered scikit-learn.org. See: https://github.com/scikit-learn/scikit-learn/issues/21755 */display: inline-block !important;position: relative;}#sk-container-id-1 div.sk-text-repr-fallback {display: none;}</style><div id=\"sk-container-id-1\" class=\"sk-top-container\"><div class=\"sk-text-repr-fallback\"><pre>LinearRegression()</pre><b>In a Jupyter environment, please rerun this cell to show the HTML representation or trust the notebook. <br />On GitHub, the HTML representation is unable to render, please try loading this page with nbviewer.org.</b></div><div class=\"sk-container\" hidden><div class=\"sk-item\"><div class=\"sk-estimator sk-toggleable\"><input class=\"sk-toggleable__control sk-hidden--visually\" id=\"sk-estimator-id-1\" type=\"checkbox\" checked><label for=\"sk-estimator-id-1\" class=\"sk-toggleable__label sk-toggleable__label-arrow\">LinearRegression</label><div class=\"sk-toggleable__content\"><pre>LinearRegression()</pre></div></div></div></div></div>"
      ],
      "text/plain": [
       "LinearRegression()"
      ]
     },
     "execution_count": 51,
     "metadata": {},
     "output_type": "execute_result"
    }
   ],
   "source": [
    "model = LinearRegression()\n",
    "model.fit(df.loc[:, sf_features].values, df.loc[:, \"etr\"].values.ravel())"
   ]
  },
  {
   "cell_type": "code",
   "execution_count": 52,
   "metadata": {},
   "outputs": [],
   "source": [
    "filename = \"../models/ardl.sav\""
   ]
  },
  {
   "cell_type": "code",
   "execution_count": 53,
   "metadata": {},
   "outputs": [],
   "source": [
    "pickle.dump(model, open(filename, \"wb\"))"
   ]
  },
  {
   "cell_type": "code",
   "execution_count": null,
   "metadata": {},
   "outputs": [],
   "source": []
  },
  {
   "cell_type": "markdown",
   "metadata": {},
   "source": []
  }
 ],
 "metadata": {
  "kernelspec": {
   "display_name": "base",
   "language": "python",
   "name": "python3"
  },
  "language_info": {
   "codemirror_mode": {
    "name": "ipython",
    "version": 3
   },
   "file_extension": ".py",
   "mimetype": "text/x-python",
   "name": "python",
   "nbconvert_exporter": "python",
   "pygments_lexer": "ipython3",
   "version": "3.9.13 (main, Aug 25 2022, 18:24:45) \n[Clang 12.0.0 ]"
  },
  "vscode": {
   "interpreter": {
    "hash": "bff0f7c864331389fa2ce0c5d534e26d0bfdbc8f9c927a5938dc8a191fde6d96"
   }
  }
 },
 "nbformat": 4,
 "nbformat_minor": 4
}
