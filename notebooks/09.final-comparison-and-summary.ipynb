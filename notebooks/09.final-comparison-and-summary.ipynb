{
 "cells": [
  {
   "cell_type": "markdown",
   "metadata": {},
   "source": [
    "# Final models comparison and summary"
   ]
  },
  {
   "cell_type": "markdown",
   "metadata": {},
   "source": [
    "### Dependencies loading"
   ]
  },
  {
   "cell_type": "code",
   "execution_count": 1,
   "metadata": {
    "ExecuteTime": {
     "end_time": "2020-06-03T01:07:52.460902Z",
     "start_time": "2020-06-03T01:07:51.342841Z"
    }
   },
   "outputs": [],
   "source": [
    "import pandas as pd\n",
    "import numpy as np\n",
    "from sklearn.metrics import mean_squared_error\n",
    "from sklearn.metrics import mean_absolute_error\n",
    "import pickle\n",
    "import warnings\n",
    "import matplotlib.pyplot as plt\n",
    "import seaborn as sns\n",
    "warnings.filterwarnings('ignore')\n",
    "pd.set_option('display.max_columns', 500)\n",
    "pd.set_option('display.max_rows', 150)\n",
    "\n",
    "# np.random.seed(1916) #uncomment if you want your code to be reproducible; for the purposes of our activity, let's add some randomness to the results"
   ]
  },
  {
   "cell_type": "markdown",
   "metadata": {},
   "source": [
    "### Final models comparison"
   ]
  },
  {
   "cell_type": "markdown",
   "metadata": {},
   "source": [
    "Now we have to use our 6 models to score our test set!"
   ]
  },
  {
   "cell_type": "markdown",
   "metadata": {},
   "source": [
    "#### Naive Model"
   ]
  },
  {
   "cell_type": "markdown",
   "metadata": {},
   "source": [
    "In case of Naive Model we have already scored our test set!"
   ]
  },
  {
   "cell_type": "code",
   "execution_count": 2,
   "metadata": {
    "ExecuteTime": {
     "end_time": "2020-06-03T01:07:52.474852Z",
     "start_time": "2020-06-03T01:07:52.462860Z"
    }
   },
   "outputs": [],
   "source": [
    "naive_model_score = pd.read_csv(\"final_models/naive.csv\", index_col = 0)"
   ]
  },
  {
   "cell_type": "code",
   "execution_count": 3,
   "metadata": {
    "ExecuteTime": {
     "end_time": "2020-06-03T01:07:52.482849Z",
     "start_time": "2020-06-03T01:07:52.476853Z"
    }
   },
   "outputs": [],
   "source": [
    "naive_model_score.rename(index={0: 'naive_model'},inplace=True)"
   ]
  },
  {
   "cell_type": "code",
   "execution_count": 4,
   "metadata": {
    "ExecuteTime": {
     "end_time": "2020-06-03T01:07:52.496840Z",
     "start_time": "2020-06-03T01:07:52.484849Z"
    }
   },
   "outputs": [
    {
     "data": {
      "text/html": [
       "<div>\n",
       "<style scoped>\n",
       "    .dataframe tbody tr th:only-of-type {\n",
       "        vertical-align: middle;\n",
       "    }\n",
       "\n",
       "    .dataframe tbody tr th {\n",
       "        vertical-align: top;\n",
       "    }\n",
       "\n",
       "    .dataframe thead th {\n",
       "        text-align: right;\n",
       "    }\n",
       "</style>\n",
       "<table border=\"1\" class=\"dataframe\">\n",
       "  <thead>\n",
       "    <tr style=\"text-align: right;\">\n",
       "      <th></th>\n",
       "      <th>RMSE</th>\n",
       "      <th>MAE</th>\n",
       "    </tr>\n",
       "  </thead>\n",
       "  <tbody>\n",
       "    <tr>\n",
       "      <th>naive_model</th>\n",
       "      <td>0.16786</td>\n",
       "      <td>0.091059</td>\n",
       "    </tr>\n",
       "  </tbody>\n",
       "</table>\n",
       "</div>"
      ],
      "text/plain": [
       "                RMSE       MAE\n",
       "naive_model  0.16786  0.091059"
      ]
     },
     "execution_count": 4,
     "metadata": {},
     "output_type": "execute_result"
    }
   ],
   "source": [
    "naive_model_score"
   ]
  },
  {
   "cell_type": "markdown",
   "metadata": {},
   "source": [
    "#### OLS"
   ]
  },
  {
   "cell_type": "code",
   "execution_count": 5,
   "metadata": {
    "ExecuteTime": {
     "end_time": "2020-06-03T01:07:52.597800Z",
     "start_time": "2020-06-03T01:07:52.498839Z"
    }
   },
   "outputs": [],
   "source": [
    "df_train = pd.read_csv(\"../data/train_fe.csv\", index_col=0)\n",
    "df_test = pd.read_csv(\"../data/test_fe.csv\", index_col=0)"
   ]
  },
  {
   "cell_type": "code",
   "execution_count": 6,
   "metadata": {
    "ExecuteTime": {
     "end_time": "2020-06-03T01:07:52.603485Z",
     "start_time": "2020-06-03T01:07:52.598484Z"
    }
   },
   "outputs": [],
   "source": [
    "X = ['adv_cat_(874.5, inf]', 'diff_positive', 'str_cat_(0.0875, 0.192]', 'ta_log', 'WB_GDPpc', 'txt_cat_(0.488, 24.415]', 'txt_cat_(-34.811, 0.488]', 'gielda_2', 'ppe_clip', 'revenue_cat_(1248.817, 4233.587]', 'revenue_cat_(4233.587, inf]', 'pi_cat_(8108.5, inf]', 'revenue_cat_(0.174, 1248.817]', 'roa_clip', 'pi_cat_(-8975.0, -1.523]', 'pi_cat_(157.119, 465.9]', 'pi_cat_(465.9, 7875.5]', 'pi_cat_(-1.523, 157.119]']"
   ]
  },
  {
   "cell_type": "code",
   "execution_count": 7,
   "metadata": {
    "ExecuteTime": {
     "end_time": "2020-06-03T01:07:52.645862Z",
     "start_time": "2020-06-03T01:07:52.605485Z"
    }
   },
   "outputs": [],
   "source": [
    "model = pickle.load(open(\"final_models/ols.sav\", 'rb'))"
   ]
  },
  {
   "cell_type": "code",
   "execution_count": 8,
   "metadata": {
    "ExecuteTime": {
     "end_time": "2020-06-03T01:07:52.653860Z",
     "start_time": "2020-06-03T01:07:52.647863Z"
    }
   },
   "outputs": [],
   "source": [
    "y_pred = model.predict(df_test.loc[:,X].values)"
   ]
  },
  {
   "cell_type": "code",
   "execution_count": 9,
   "metadata": {
    "ExecuteTime": {
     "end_time": "2020-06-03T01:07:52.662407Z",
     "start_time": "2020-06-03T01:07:52.656409Z"
    }
   },
   "outputs": [],
   "source": [
    "y_true = df_test.etr.tolist()\n",
    "rmse = np.sqrt(mean_squared_error(y_true, y_pred))\n",
    "mae = mean_absolute_error(y_true, y_pred)\n",
    "ols_model_score = pd.DataFrame([rmse, mae]).T.rename(columns ={0:\"RMSE\", 1:\"MAE\"})"
   ]
  },
  {
   "cell_type": "code",
   "execution_count": 10,
   "metadata": {
    "ExecuteTime": {
     "end_time": "2020-06-03T01:07:53.434740Z",
     "start_time": "2020-06-03T01:07:52.663405Z"
    }
   },
   "outputs": [
    {
     "data": {
      "text/plain": [
       "<seaborn.axisgrid.JointGrid at 0x24648487860>"
      ]
     },
     "execution_count": 10,
     "metadata": {},
     "output_type": "execute_result"
    },
    {
     "data": {
      "text/plain": [
       "<Figure size 720x360 with 0 Axes>"
      ]
     },
     "metadata": {},
     "output_type": "display_data"
    },
    {
     "data": {
      "image/png": "[encoded data removed]",
      "text/plain": [
       "<Figure size 432x432 with 3 Axes>"
      ]
     },
     "metadata": {
      "needs_background": "light"
     },
     "output_type": "display_data"
    }
   ],
   "source": [
    "comp = pd.DataFrame([y_pred, y_true]).rename({0:\"y_pred\", 1:\"y_true\"}).T\n",
    "plt.figure(figsize=(10, 5))\n",
    "sns.jointplot(comp.y_pred, comp.y_true, kind=\"reg\", truncate=False,)"
   ]
  },
  {
   "cell_type": "code",
   "execution_count": 11,
   "metadata": {
    "ExecuteTime": {
     "end_time": "2020-06-03T01:07:53.440735Z",
     "start_time": "2020-06-03T01:07:53.435738Z"
    }
   },
   "outputs": [],
   "source": [
    "ols_model_score.rename(index={0: 'ols_model'},inplace=True)"
   ]
  },
  {
   "cell_type": "code",
   "execution_count": 12,
   "metadata": {
    "ExecuteTime": {
     "end_time": "2020-06-03T01:07:53.449743Z",
     "start_time": "2020-06-03T01:07:53.442734Z"
    }
   },
   "outputs": [
    {
     "data": {
      "text/html": [
       "<div>\n",
       "<style scoped>\n",
       "    .dataframe tbody tr th:only-of-type {\n",
       "        vertical-align: middle;\n",
       "    }\n",
       "\n",
       "    .dataframe tbody tr th {\n",
       "        vertical-align: top;\n",
       "    }\n",
       "\n",
       "    .dataframe thead th {\n",
       "        text-align: right;\n",
       "    }\n",
       "</style>\n",
       "<table border=\"1\" class=\"dataframe\">\n",
       "  <thead>\n",
       "    <tr style=\"text-align: right;\">\n",
       "      <th></th>\n",
       "      <th>RMSE</th>\n",
       "      <th>MAE</th>\n",
       "    </tr>\n",
       "  </thead>\n",
       "  <tbody>\n",
       "    <tr>\n",
       "      <th>ols_model</th>\n",
       "      <td>0.113211</td>\n",
       "      <td>0.08711</td>\n",
       "    </tr>\n",
       "  </tbody>\n",
       "</table>\n",
       "</div>"
      ],
      "text/plain": [
       "               RMSE      MAE\n",
       "ols_model  0.113211  0.08711"
      ]
     },
     "execution_count": 12,
     "metadata": {},
     "output_type": "execute_result"
    }
   ],
   "source": [
    "ols_model_score"
   ]
  },
  {
   "cell_type": "markdown",
   "metadata": {},
   "source": [
    "#### ARMA"
   ]
  },
  {
   "cell_type": "markdown",
   "metadata": {},
   "source": [
    "In case of ARMA we have already scored our test set!"
   ]
  },
  {
   "cell_type": "code",
   "execution_count": 13,
   "metadata": {
    "ExecuteTime": {
     "end_time": "2020-06-03T01:07:53.458727Z",
     "start_time": "2020-06-03T01:07:53.450729Z"
    }
   },
   "outputs": [],
   "source": [
    "arma_model_score = pd.read_csv(\"final_models/arma.csv\", index_col = 0)"
   ]
  },
  {
   "cell_type": "code",
   "execution_count": 14,
   "metadata": {
    "ExecuteTime": {
     "end_time": "2020-06-03T01:07:53.465732Z",
     "start_time": "2020-06-03T01:07:53.460723Z"
    }
   },
   "outputs": [],
   "source": [
    "arma_model_score.rename(index={0: 'arma_model'},inplace=True)"
   ]
  },
  {
   "cell_type": "code",
   "execution_count": 15,
   "metadata": {
    "ExecuteTime": {
     "end_time": "2020-06-03T01:07:53.476716Z",
     "start_time": "2020-06-03T01:07:53.467722Z"
    }
   },
   "outputs": [
    {
     "data": {
      "text/html": [
       "<div>\n",
       "<style scoped>\n",
       "    .dataframe tbody tr th:only-of-type {\n",
       "        vertical-align: middle;\n",
       "    }\n",
       "\n",
       "    .dataframe tbody tr th {\n",
       "        vertical-align: top;\n",
       "    }\n",
       "\n",
       "    .dataframe thead th {\n",
       "        text-align: right;\n",
       "    }\n",
       "</style>\n",
       "<table border=\"1\" class=\"dataframe\">\n",
       "  <thead>\n",
       "    <tr style=\"text-align: right;\">\n",
       "      <th></th>\n",
       "      <th>RMSE</th>\n",
       "      <th>MAE</th>\n",
       "    </tr>\n",
       "  </thead>\n",
       "  <tbody>\n",
       "    <tr>\n",
       "      <th>arma_model</th>\n",
       "      <td>0.124843</td>\n",
       "      <td>0.080011</td>\n",
       "    </tr>\n",
       "  </tbody>\n",
       "</table>\n",
       "</div>"
      ],
      "text/plain": [
       "                RMSE       MAE\n",
       "arma_model  0.124843  0.080011"
      ]
     },
     "execution_count": 15,
     "metadata": {},
     "output_type": "execute_result"
    }
   ],
   "source": [
    "arma_model_score"
   ]
  },
  {
   "cell_type": "markdown",
   "metadata": {},
   "source": [
    "#### ARDL"
   ]
  },
  {
   "cell_type": "code",
   "execution_count": 16,
   "metadata": {
    "ExecuteTime": {
     "end_time": "2020-06-03T01:07:53.566680Z",
     "start_time": "2020-06-03T01:07:53.478715Z"
    }
   },
   "outputs": [],
   "source": [
    "df_train = pd.read_csv(\"../data/train_fe.csv\", index_col=0)\n",
    "df_test = pd.read_csv(\"../data/test_fe.csv\", index_col=0)"
   ]
  },
  {
   "cell_type": "code",
   "execution_count": 17,
   "metadata": {
    "ExecuteTime": {
     "end_time": "2020-06-03T01:07:53.570662Z",
     "start_time": "2020-06-03T01:07:53.567662Z"
    }
   },
   "outputs": [],
   "source": [
    "X = ['sale', 'cfc', 'txt_cat_(-34.811, 0.488]', 'txt_cat_(0.488, 24.415]',\n",
    "       'txt_cat_(308.55, 327.531]', 'pi_cat_(7875.5, 8108.5]',\n",
    "       'str_cat_(0.28, inf]', 'dlc_cat_(176.129, 200.9]', 'diff_positive',\n",
    "       'etr_y_ma']"
   ]
  },
  {
   "cell_type": "code",
   "execution_count": 18,
   "metadata": {
    "ExecuteTime": {
     "end_time": "2020-06-03T01:07:53.581655Z",
     "start_time": "2020-06-03T01:07:53.571661Z"
    }
   },
   "outputs": [],
   "source": [
    "model = pickle.load(open(\"final_models/ardl.sav\", 'rb'))"
   ]
  },
  {
   "cell_type": "code",
   "execution_count": 19,
   "metadata": {
    "ExecuteTime": {
     "end_time": "2020-06-03T01:07:53.589654Z",
     "start_time": "2020-06-03T01:07:53.583660Z"
    }
   },
   "outputs": [],
   "source": [
    "y_pred = model.predict(df_test.loc[:,X].values)"
   ]
  },
  {
   "cell_type": "code",
   "execution_count": 20,
   "metadata": {
    "ExecuteTime": {
     "end_time": "2020-06-03T01:07:53.598646Z",
     "start_time": "2020-06-03T01:07:53.590651Z"
    }
   },
   "outputs": [],
   "source": [
    "y_true = df_test.etr.tolist()\n",
    "rmse = np.sqrt(mean_squared_error(y_true, y_pred))\n",
    "mae = mean_absolute_error(y_true, y_pred)\n",
    "ardl_model_score = pd.DataFrame([rmse, mae]).T.rename(columns ={0:\"RMSE\", 1:\"MAE\"})"
   ]
  },
  {
   "cell_type": "code",
   "execution_count": 21,
   "metadata": {
    "ExecuteTime": {
     "end_time": "2020-06-03T01:07:54.446161Z",
     "start_time": "2020-06-03T01:07:53.600644Z"
    }
   },
   "outputs": [
    {
     "data": {
      "text/plain": [
       "<seaborn.axisgrid.JointGrid at 0x246488eff60>"
      ]
     },
     "execution_count": 21,
     "metadata": {},
     "output_type": "execute_result"
    },
    {
     "data": {
      "text/plain": [
       "<Figure size 720x360 with 0 Axes>"
      ]
     },
     "metadata": {},
     "output_type": "display_data"
    },
    {
     "data": {
      "image/png": "[encoded data removed]",
      "text/plain": [
       "<Figure size 432x432 with 3 Axes>"
      ]
     },
     "metadata": {
      "needs_background": "light"
     },
     "output_type": "display_data"
    }
   ],
   "source": [
    "comp = pd.DataFrame([y_pred, y_true]).rename({0:\"y_pred\", 1:\"y_true\"}).T\n",
    "plt.figure(figsize=(10, 5))\n",
    "sns.jointplot(comp.y_pred, comp.y_true, kind=\"reg\", truncate=False,)"
   ]
  },
  {
   "cell_type": "code",
   "execution_count": 22,
   "metadata": {
    "ExecuteTime": {
     "end_time": "2020-06-03T01:07:54.453156Z",
     "start_time": "2020-06-03T01:07:54.447160Z"
    }
   },
   "outputs": [],
   "source": [
    "ardl_model_score.rename(index={0: 'ardl_model'},inplace=True)"
   ]
  },
  {
   "cell_type": "code",
   "execution_count": 23,
   "metadata": {
    "ExecuteTime": {
     "end_time": "2020-06-03T01:07:54.464150Z",
     "start_time": "2020-06-03T01:07:54.456155Z"
    }
   },
   "outputs": [
    {
     "data": {
      "text/html": [
       "<div>\n",
       "<style scoped>\n",
       "    .dataframe tbody tr th:only-of-type {\n",
       "        vertical-align: middle;\n",
       "    }\n",
       "\n",
       "    .dataframe tbody tr th {\n",
       "        vertical-align: top;\n",
       "    }\n",
       "\n",
       "    .dataframe thead th {\n",
       "        text-align: right;\n",
       "    }\n",
       "</style>\n",
       "<table border=\"1\" class=\"dataframe\">\n",
       "  <thead>\n",
       "    <tr style=\"text-align: right;\">\n",
       "      <th></th>\n",
       "      <th>RMSE</th>\n",
       "      <th>MAE</th>\n",
       "    </tr>\n",
       "  </thead>\n",
       "  <tbody>\n",
       "    <tr>\n",
       "      <th>ardl_model</th>\n",
       "      <td>0.082121</td>\n",
       "      <td>0.05862</td>\n",
       "    </tr>\n",
       "  </tbody>\n",
       "</table>\n",
       "</div>"
      ],
      "text/plain": [
       "                RMSE      MAE\n",
       "ardl_model  0.082121  0.05862"
      ]
     },
     "execution_count": 23,
     "metadata": {},
     "output_type": "execute_result"
    }
   ],
   "source": [
    "ardl_model_score"
   ]
  },
  {
   "cell_type": "markdown",
   "metadata": {},
   "source": [
    "#### KNN"
   ]
  },
  {
   "cell_type": "code",
   "execution_count": 24,
   "metadata": {
    "ExecuteTime": {
     "end_time": "2020-06-03T01:07:54.561138Z",
     "start_time": "2020-06-03T01:07:54.467149Z"
    }
   },
   "outputs": [],
   "source": [
    "df_train = pd.read_csv(\"../data/train_fe.csv\", index_col=0)\n",
    "df_test = pd.read_csv(\"../data/test_fe.csv\", index_col=0)"
   ]
  },
  {
   "cell_type": "code",
   "execution_count": 25,
   "metadata": {
    "ExecuteTime": {
     "end_time": "2020-06-03T01:07:54.569090Z",
     "start_time": "2020-06-03T01:07:54.562094Z"
    }
   },
   "outputs": [],
   "source": [
    "X = ['etr_y_past', 'etr_y_ma', 'txt', 'diff', 'ni', 'pi', 'intant', 'intant_sqrt', 'ta', 'dlc', 'revenue', 'roa_clip', 'roa', 'capex', 'diff_ma', 'ta_log', 'cce', 'dltt', 'intan_past', 'sale', 'intan_ma', 'intan', 'ppent', 'roa_past', 'intan_pow2', 'cash_holdings_sqrt', 'cash_holdings', 'sale_past', 'ppent_sqrt', 'ppe_clip', 'ppe_past', 'roa_ma', 'ppe', 'lev_ma', 'sale_ma', 'capex2', 'cash_holdings_ma', 'capex2_scaled', 'lev_past', 'lev', 'ppe_ma', 'lev_sqrt', 'cash_holdings_past', 'str', 'str_cat_(0.0875, 0.192]', 'WB_GDPpc', 'rr_per_country', 'WB_GDPgrowth', 'WB_Inflation', 'str_cat_(0.28, inf]']\n",
    "standardization = ['rok', 'ta', 'txt', 'pi', 'str', 'xrd', 'ni', 'ppent', 'intant', 'dlc', 'dltt', 'capex', 'revenue', 'cce', 'adv', 'diff', 'roa', 'lev', 'intan', 'rd', 'ppe', 'sale', 'cash_holdings', 'adv_expenditure', 'capex2', 'capex2_scaled', 'y_v2x_polyarchy', 'WB_GDPgrowth', 'WB_GDPpc', 'WB_Inflation', 'rr_per_country', 'rr_per_sector', 'ta_log', 'ppent_sqrt', 'intant_sqrt', 'roa_clip', 'lev_sqrt', 'intan_pow2', 'rd_sqrt', 'ppe_clip', 'cash_holdings_sqrt', 'diff_dta', 'etr_y_past', 'etr_y_ma', 'diff_ma', 'roa_ma', 'lev_ma', 'intan_ma', 'ppe_ma', 'sale_ma', 'cash_holdings_ma', 'roa_past', 'lev_past', 'intan_past', 'ppe_past', 'sale_past', 'cash_holdings_past', 'y_e_p_polity']"
   ]
  },
  {
   "cell_type": "code",
   "execution_count": 26,
   "metadata": {
    "ExecuteTime": {
     "end_time": "2020-06-03T01:07:54.594077Z",
     "start_time": "2020-06-03T01:07:54.571089Z"
    }
   },
   "outputs": [],
   "source": [
    "scaler = pickle.load(open(\"final_models/minmaxscaler.sav\", 'rb'))\n",
    "df_test[standardization] = scaler.transform(df_test[standardization])"
   ]
  },
  {
   "cell_type": "code",
   "execution_count": 27,
   "metadata": {
    "ExecuteTime": {
     "end_time": "2020-06-03T01:07:54.630116Z",
     "start_time": "2020-06-03T01:07:54.595076Z"
    }
   },
   "outputs": [],
   "source": [
    "model = pickle.load(open(\"final_models/knn.sav\", 'rb'))"
   ]
  },
  {
   "cell_type": "code",
   "execution_count": 28,
   "metadata": {
    "ExecuteTime": {
     "end_time": "2020-06-03T01:07:54.745057Z",
     "start_time": "2020-06-03T01:07:54.631134Z"
    }
   },
   "outputs": [],
   "source": [
    "y_pred = model.predict(df_test.loc[:,X].values)"
   ]
  },
  {
   "cell_type": "code",
   "execution_count": 29,
   "metadata": {
    "ExecuteTime": {
     "end_time": "2020-06-03T01:07:54.755049Z",
     "start_time": "2020-06-03T01:07:54.747054Z"
    }
   },
   "outputs": [],
   "source": [
    "y_true = df_test.etr.tolist()\n",
    "rmse = np.sqrt(mean_squared_error(y_true, y_pred))\n",
    "mae = mean_absolute_error(y_true, y_pred)\n",
    "knn_model_score = pd.DataFrame([rmse, mae]).T.rename(columns ={0:\"RMSE\", 1:\"MAE\"})"
   ]
  },
  {
   "cell_type": "code",
   "execution_count": 30,
   "metadata": {
    "ExecuteTime": {
     "end_time": "2020-06-03T01:07:55.588934Z",
     "start_time": "2020-06-03T01:07:54.756049Z"
    }
   },
   "outputs": [
    {
     "data": {
      "text/plain": [
       "<seaborn.axisgrid.JointGrid at 0x246480a2f28>"
      ]
     },
     "execution_count": 30,
     "metadata": {},
     "output_type": "execute_result"
    },
    {
     "data": {
      "text/plain": [
       "<Figure size 720x360 with 0 Axes>"
      ]
     },
     "metadata": {},
     "output_type": "display_data"
    },
    {
     "data": {
      "image/png": "[encoded data removed]",
      "text/plain": [
       "<Figure size 432x432 with 3 Axes>"
      ]
     },
     "metadata": {
      "needs_background": "light"
     },
     "output_type": "display_data"
    }
   ],
   "source": [
    "comp = pd.DataFrame([y_pred, y_true]).rename({0:\"y_pred\", 1:\"y_true\"}).T\n",
    "plt.figure(figsize=(10, 5))\n",
    "sns.jointplot(comp.y_pred, comp.y_true, kind=\"reg\", truncate=False,)"
   ]
  },
  {
   "cell_type": "code",
   "execution_count": 31,
   "metadata": {
    "ExecuteTime": {
     "end_time": "2020-06-03T01:07:55.594930Z",
     "start_time": "2020-06-03T01:07:55.589934Z"
    }
   },
   "outputs": [],
   "source": [
    "knn_model_score.rename(index={0: 'knn_model'},inplace=True)"
   ]
  },
  {
   "cell_type": "code",
   "execution_count": 32,
   "metadata": {
    "ExecuteTime": {
     "end_time": "2020-06-03T01:07:55.603926Z",
     "start_time": "2020-06-03T01:07:55.595930Z"
    }
   },
   "outputs": [
    {
     "data": {
      "text/html": [
       "<div>\n",
       "<style scoped>\n",
       "    .dataframe tbody tr th:only-of-type {\n",
       "        vertical-align: middle;\n",
       "    }\n",
       "\n",
       "    .dataframe tbody tr th {\n",
       "        vertical-align: top;\n",
       "    }\n",
       "\n",
       "    .dataframe thead th {\n",
       "        text-align: right;\n",
       "    }\n",
       "</style>\n",
       "<table border=\"1\" class=\"dataframe\">\n",
       "  <thead>\n",
       "    <tr style=\"text-align: right;\">\n",
       "      <th></th>\n",
       "      <th>RMSE</th>\n",
       "      <th>MAE</th>\n",
       "    </tr>\n",
       "  </thead>\n",
       "  <tbody>\n",
       "    <tr>\n",
       "      <th>knn_model</th>\n",
       "      <td>0.079783</td>\n",
       "      <td>0.056937</td>\n",
       "    </tr>\n",
       "  </tbody>\n",
       "</table>\n",
       "</div>"
      ],
      "text/plain": [
       "               RMSE       MAE\n",
       "knn_model  0.079783  0.056937"
      ]
     },
     "execution_count": 32,
     "metadata": {},
     "output_type": "execute_result"
    }
   ],
   "source": [
    "knn_model_score"
   ]
  },
  {
   "cell_type": "markdown",
   "metadata": {},
   "source": [
    "#### SVR"
   ]
  },
  {
   "cell_type": "code",
   "execution_count": 33,
   "metadata": {
    "ExecuteTime": {
     "end_time": "2020-06-03T01:07:55.696911Z",
     "start_time": "2020-06-03T01:07:55.605928Z"
    }
   },
   "outputs": [],
   "source": [
    "df_train = pd.read_csv(\"../data/train_fe.csv\", index_col=0)\n",
    "df_test = pd.read_csv(\"../data/test_fe.csv\", index_col=0)"
   ]
  },
  {
   "cell_type": "code",
   "execution_count": 34,
   "metadata": {
    "ExecuteTime": {
     "end_time": "2020-06-03T01:07:55.704910Z",
     "start_time": "2020-06-03T01:07:55.697913Z"
    }
   },
   "outputs": [],
   "source": [
    "X = ['diff', 'cfc', 'WB_GDPgrowth', 'WB_Inflation', 'sektor_industrials',\n",
    "       'sektor_materials', 'sektor_utilities', 'txt_cat_(-63.011, -34.811]',\n",
    "       'pi_cat_(-8975.0, -1.523]', 'pi_cat_(8108.5, inf]',\n",
    "       'str_cat_(0.28, inf]', 'dlc_cat_(42.262, 176.129]',\n",
    "       'dlc_cat_(176.129, 200.9]', 'capex_cat_(5451.0, inf]',\n",
    "       'revenue_cat_(0.174, 1248.817]', 'adv_cat_(0.3, 874.5]',\n",
    "       'diff_positive', 'etr_y_past', 'etr_y_ma', 'diff_ma']\n",
    "standardization = ['rok', 'ta', 'txt', 'pi', 'str', 'xrd', 'ni', 'ppent', 'intant', 'dlc', 'dltt', 'capex', 'revenue', 'cce', 'adv', 'diff', 'roa', 'lev', 'intan', 'rd', 'ppe', 'sale', 'cash_holdings', 'adv_expenditure', 'capex2', 'capex2_scaled', 'y_v2x_polyarchy', 'WB_GDPgrowth', 'WB_GDPpc', 'WB_Inflation', 'rr_per_country', 'rr_per_sector', 'ta_log', 'ppent_sqrt', 'intant_sqrt', 'roa_clip', 'lev_sqrt', 'intan_pow2', 'rd_sqrt', 'ppe_clip', 'cash_holdings_sqrt', 'diff_dta', 'etr_y_past', 'etr_y_ma', 'diff_ma', 'roa_ma', 'lev_ma', 'intan_ma', 'ppe_ma', 'sale_ma', 'cash_holdings_ma', 'roa_past', 'lev_past', 'intan_past', 'ppe_past', 'sale_past', 'cash_holdings_past', 'y_e_p_polity']"
   ]
  },
  {
   "cell_type": "code",
   "execution_count": 35,
   "metadata": {
    "ExecuteTime": {
     "end_time": "2020-06-03T01:07:55.730910Z",
     "start_time": "2020-06-03T01:07:55.706909Z"
    }
   },
   "outputs": [],
   "source": [
    "scaler = pickle.load(open(\"final_models/standardscaler.sav\", 'rb'))\n",
    "df_test[standardization] = scaler.transform(df_test[standardization])"
   ]
  },
  {
   "cell_type": "code",
   "execution_count": 36,
   "metadata": {
    "ExecuteTime": {
     "end_time": "2020-06-03T01:07:55.744888Z",
     "start_time": "2020-06-03T01:07:55.732894Z"
    }
   },
   "outputs": [],
   "source": [
    "model = pickle.load(open(\"final_models/svr.sav\", 'rb'))"
   ]
  },
  {
   "cell_type": "code",
   "execution_count": 37,
   "metadata": {
    "ExecuteTime": {
     "end_time": "2020-06-03T01:07:55.763879Z",
     "start_time": "2020-06-03T01:07:55.746886Z"
    }
   },
   "outputs": [],
   "source": [
    "y_pred = model.predict(df_test.loc[:,X].values)"
   ]
  },
  {
   "cell_type": "code",
   "execution_count": 38,
   "metadata": {
    "ExecuteTime": {
     "end_time": "2020-06-03T01:07:55.771872Z",
     "start_time": "2020-06-03T01:07:55.764876Z"
    }
   },
   "outputs": [],
   "source": [
    "y_true = df_test.etr.tolist()\n",
    "rmse = np.sqrt(mean_squared_error(y_true, y_pred))\n",
    "mae = mean_absolute_error(y_true, y_pred)\n",
    "svr_model_score = pd.DataFrame([rmse, mae]).T.rename(columns ={0:\"RMSE\", 1:\"MAE\"})"
   ]
  },
  {
   "cell_type": "code",
   "execution_count": 39,
   "metadata": {
    "ExecuteTime": {
     "end_time": "2020-06-03T01:07:56.548128Z",
     "start_time": "2020-06-03T01:07:55.772872Z"
    }
   },
   "outputs": [
    {
     "data": {
      "text/plain": [
       "<seaborn.axisgrid.JointGrid at 0x24648aef208>"
      ]
     },
     "execution_count": 39,
     "metadata": {},
     "output_type": "execute_result"
    },
    {
     "data": {
      "text/plain": [
       "<Figure size 720x360 with 0 Axes>"
      ]
     },
     "metadata": {},
     "output_type": "display_data"
    },
    {
     "data": {
      "image/png": "[encoded data removed]",
      "text/plain": [
       "<Figure size 432x432 with 3 Axes>"
      ]
     },
     "metadata": {
      "needs_background": "light"
     },
     "output_type": "display_data"
    }
   ],
   "source": [
    "comp = pd.DataFrame([y_pred, y_true]).rename({0:\"y_pred\", 1:\"y_true\"}).T\n",
    "plt.figure(figsize=(10, 5))\n",
    "sns.jointplot(comp.y_pred, comp.y_true, kind=\"reg\", truncate=False,)"
   ]
  },
  {
   "cell_type": "code",
   "execution_count": 40,
   "metadata": {
    "ExecuteTime": {
     "end_time": "2020-06-03T01:07:56.553118Z",
     "start_time": "2020-06-03T01:07:56.549113Z"
    }
   },
   "outputs": [],
   "source": [
    "svr_model_score.rename(index={0: 'svr_model'},inplace=True)"
   ]
  },
  {
   "cell_type": "code",
   "execution_count": 41,
   "metadata": {
    "ExecuteTime": {
     "end_time": "2020-06-03T01:07:56.562108Z",
     "start_time": "2020-06-03T01:07:56.554110Z"
    }
   },
   "outputs": [
    {
     "data": {
      "text/html": [
       "<div>\n",
       "<style scoped>\n",
       "    .dataframe tbody tr th:only-of-type {\n",
       "        vertical-align: middle;\n",
       "    }\n",
       "\n",
       "    .dataframe tbody tr th {\n",
       "        vertical-align: top;\n",
       "    }\n",
       "\n",
       "    .dataframe thead th {\n",
       "        text-align: right;\n",
       "    }\n",
       "</style>\n",
       "<table border=\"1\" class=\"dataframe\">\n",
       "  <thead>\n",
       "    <tr style=\"text-align: right;\">\n",
       "      <th></th>\n",
       "      <th>RMSE</th>\n",
       "      <th>MAE</th>\n",
       "    </tr>\n",
       "  </thead>\n",
       "  <tbody>\n",
       "    <tr>\n",
       "      <th>svr_model</th>\n",
       "      <td>0.081393</td>\n",
       "      <td>0.059047</td>\n",
       "    </tr>\n",
       "  </tbody>\n",
       "</table>\n",
       "</div>"
      ],
      "text/plain": [
       "               RMSE       MAE\n",
       "svr_model  0.081393  0.059047"
      ]
     },
     "execution_count": 41,
     "metadata": {},
     "output_type": "execute_result"
    }
   ],
   "source": [
    "svr_model_score"
   ]
  },
  {
   "cell_type": "markdown",
   "metadata": {},
   "source": [
    "### Final comparison and summary"
   ]
  },
  {
   "cell_type": "code",
   "execution_count": 42,
   "metadata": {
    "ExecuteTime": {
     "end_time": "2020-06-03T01:07:56.569109Z",
     "start_time": "2020-06-03T01:07:56.563107Z"
    }
   },
   "outputs": [],
   "source": [
    "final_comparison = pd.concat([naive_model_score, ols_model_score, arma_model_score, ardl_model_score, knn_model_score, svr_model_score])"
   ]
  },
  {
   "cell_type": "code",
   "execution_count": 43,
   "metadata": {
    "ExecuteTime": {
     "end_time": "2020-06-03T01:07:56.581108Z",
     "start_time": "2020-06-03T01:07:56.571113Z"
    }
   },
   "outputs": [
    {
     "data": {
      "text/html": [
       "<div>\n",
       "<style scoped>\n",
       "    .dataframe tbody tr th:only-of-type {\n",
       "        vertical-align: middle;\n",
       "    }\n",
       "\n",
       "    .dataframe tbody tr th {\n",
       "        vertical-align: top;\n",
       "    }\n",
       "\n",
       "    .dataframe thead th {\n",
       "        text-align: right;\n",
       "    }\n",
       "</style>\n",
       "<table border=\"1\" class=\"dataframe\">\n",
       "  <thead>\n",
       "    <tr style=\"text-align: right;\">\n",
       "      <th></th>\n",
       "      <th>RMSE</th>\n",
       "      <th>MAE</th>\n",
       "    </tr>\n",
       "  </thead>\n",
       "  <tbody>\n",
       "    <tr>\n",
       "      <th>knn_model</th>\n",
       "      <td>0.079783</td>\n",
       "      <td>0.056937</td>\n",
       "    </tr>\n",
       "    <tr>\n",
       "      <th>svr_model</th>\n",
       "      <td>0.081393</td>\n",
       "      <td>0.059047</td>\n",
       "    </tr>\n",
       "    <tr>\n",
       "      <th>ardl_model</th>\n",
       "      <td>0.082121</td>\n",
       "      <td>0.058620</td>\n",
       "    </tr>\n",
       "    <tr>\n",
       "      <th>ols_model</th>\n",
       "      <td>0.113211</td>\n",
       "      <td>0.087110</td>\n",
       "    </tr>\n",
       "    <tr>\n",
       "      <th>arma_model</th>\n",
       "      <td>0.124843</td>\n",
       "      <td>0.080011</td>\n",
       "    </tr>\n",
       "    <tr>\n",
       "      <th>naive_model</th>\n",
       "      <td>0.167860</td>\n",
       "      <td>0.091059</td>\n",
       "    </tr>\n",
       "  </tbody>\n",
       "</table>\n",
       "</div>"
      ],
      "text/plain": [
       "                 RMSE       MAE\n",
       "knn_model    0.079783  0.056937\n",
       "svr_model    0.081393  0.059047\n",
       "ardl_model   0.082121  0.058620\n",
       "ols_model    0.113211  0.087110\n",
       "arma_model   0.124843  0.080011\n",
       "naive_model  0.167860  0.091059"
      ]
     },
     "execution_count": 43,
     "metadata": {},
     "output_type": "execute_result"
    }
   ],
   "source": [
    "final_comparison.sort_values(\"RMSE\")"
   ]
  },
  {
   "cell_type": "code",
   "execution_count": 44,
   "metadata": {
    "ExecuteTime": {
     "end_time": "2020-06-03T01:07:56.589104Z",
     "start_time": "2020-06-03T01:07:56.583100Z"
    }
   },
   "outputs": [],
   "source": [
    "final_comparison.rename({\"knn_model\":\"KNN\", \"svr_model\":\"SVR\", \"ardl_model\":\"ARDL\", \"ols_model\":\"OLS\", \"arma_model\":\"ARMA\", \"naive_model\":\"NAIVE MODEL\"},inplace=True)"
   ]
  },
  {
   "cell_type": "code",
   "execution_count": 45,
   "metadata": {
    "ExecuteTime": {
     "end_time": "2020-06-03T01:07:56.596087Z",
     "start_time": "2020-06-03T01:07:56.590089Z"
    }
   },
   "outputs": [],
   "source": [
    "final_comparison = final_comparison.round(6)"
   ]
  },
  {
   "cell_type": "code",
   "execution_count": 46,
   "metadata": {
    "ExecuteTime": {
     "end_time": "2020-06-03T01:07:56.607080Z",
     "start_time": "2020-06-03T01:07:56.598086Z"
    }
   },
   "outputs": [
    {
     "data": {
      "text/html": [
       "<div>\n",
       "<style scoped>\n",
       "    .dataframe tbody tr th:only-of-type {\n",
       "        vertical-align: middle;\n",
       "    }\n",
       "\n",
       "    .dataframe tbody tr th {\n",
       "        vertical-align: top;\n",
       "    }\n",
       "\n",
       "    .dataframe thead th {\n",
       "        text-align: right;\n",
       "    }\n",
       "</style>\n",
       "<table border=\"1\" class=\"dataframe\">\n",
       "  <thead>\n",
       "    <tr style=\"text-align: right;\">\n",
       "      <th></th>\n",
       "      <th>RMSE</th>\n",
       "      <th>MAE</th>\n",
       "    </tr>\n",
       "  </thead>\n",
       "  <tbody>\n",
       "    <tr>\n",
       "      <th>NAIVE MODEL</th>\n",
       "      <td>0.167860</td>\n",
       "      <td>0.091059</td>\n",
       "    </tr>\n",
       "    <tr>\n",
       "      <th>OLS</th>\n",
       "      <td>0.113211</td>\n",
       "      <td>0.087110</td>\n",
       "    </tr>\n",
       "    <tr>\n",
       "      <th>ARMA</th>\n",
       "      <td>0.124843</td>\n",
       "      <td>0.080011</td>\n",
       "    </tr>\n",
       "    <tr>\n",
       "      <th>ARDL</th>\n",
       "      <td>0.082121</td>\n",
       "      <td>0.058620</td>\n",
       "    </tr>\n",
       "    <tr>\n",
       "      <th>KNN</th>\n",
       "      <td>0.079783</td>\n",
       "      <td>0.056937</td>\n",
       "    </tr>\n",
       "    <tr>\n",
       "      <th>SVR</th>\n",
       "      <td>0.081393</td>\n",
       "      <td>0.059047</td>\n",
       "    </tr>\n",
       "  </tbody>\n",
       "</table>\n",
       "</div>"
      ],
      "text/plain": [
       "                 RMSE       MAE\n",
       "NAIVE MODEL  0.167860  0.091059\n",
       "OLS          0.113211  0.087110\n",
       "ARMA         0.124843  0.080011\n",
       "ARDL         0.082121  0.058620\n",
       "KNN          0.079783  0.056937\n",
       "SVR          0.081393  0.059047"
      ]
     },
     "execution_count": 46,
     "metadata": {},
     "output_type": "execute_result"
    }
   ],
   "source": [
    "final_comparison"
   ]
  },
  {
   "cell_type": "code",
   "execution_count": 47,
   "metadata": {
    "ExecuteTime": {
     "end_time": "2020-06-03T01:07:56.838534Z",
     "start_time": "2020-06-03T01:07:56.608078Z"
    }
   },
   "outputs": [
    {
     "data": {
      "text/plain": [
       "[]"
      ]
     },
     "execution_count": 47,
     "metadata": {},
     "output_type": "execute_result"
    },
    {
     "data": {
      "image/png": "[encoded data removed]",
      "text/plain": [
       "<Figure size 1080x504 with 1 Axes>"
      ]
     },
     "metadata": {},
     "output_type": "display_data"
    }
   ],
   "source": [
    "plt.style.use('ggplot')\n",
    "ax = final_comparison.plot(kind='bar', figsize=(15, 7), title=\"Final comparison of the models on TEST set\")\n",
    "ax.legend(fontsize=13)\n",
    "plt.tick_params(\n",
    "    axis='x',          # changes apply to the x-axis\n",
    "    which='both',      # both major and minor ticks are affected\n",
    "    bottom=True,      # ticks along the bottom edge are off\n",
    "    top=False,         # ticks along the top edge are off\n",
    "    labelbottom=True, ) # labels along the bottom edge are off\n",
    "ax.set_xticklabels(final_comparison.index, rotation=0, fontsize=12)\n",
    "ax.set_xlabel(\"MODELS\", fontsize=13)\n",
    "ax.plot()"
   ]
  },
  {
   "cell_type": "markdown",
   "metadata": {},
   "source": [
    "And the winner is: **KNN**, but we see that ARDL and SVR were very close."
   ]
  },
  {
   "cell_type": "markdown",
   "metadata": {},
   "source": [
    "#### Final summary"
   ]
  },
  {
   "cell_type": "markdown",
   "metadata": {},
   "source": [
    "Based on final scores we see that: \n",
    " * naive model ($y_t = y_{t-1}$) have been beaten by all models\n",
    " * ARMA approach without additional exogenous variables was better than naive model\n",
    " * OLS approach without additional time-related exogenous variables was better than naive model\n",
    " * when we combined both approaches: static exogenous variables + time-related exogenous variables in ARDL model we obtained better model!\n",
    " * our best SVR (rbf) was better than ARDL but only a little bit (insignificantly)\n",
    " * our KNN outperformed all models!"
   ]
  },
  {
   "cell_type": "markdown",
   "metadata": {},
   "source": [
    "**To be honest in the business environment for sure we will chose ARDL: cheaper - computational time; fully explainable and has less variables!**"
   ]
  }
 ],
 "metadata": {
  "kernelspec": {
   "display_name": "base",
   "language": "python",
   "name": "python3"
  },
  "language_info": {
   "codemirror_mode": {
    "name": "ipython",
    "version": 3
   },
   "file_extension": ".py",
   "mimetype": "text/x-python",
   "name": "python",
   "nbconvert_exporter": "python",
   "pygments_lexer": "ipython3",
   "version": "3.9.13 (main, Aug 25 2022, 18:24:45) \n[Clang 12.0.0 ]"
  },
  "vscode": {
   "interpreter": {
    "hash": "bff0f7c864331389fa2ce0c5d534e26d0bfdbc8f9c927a5938dc8a191fde6d96"
   }
  }
 },
 "nbformat": 4,
 "nbformat_minor": 4
}
