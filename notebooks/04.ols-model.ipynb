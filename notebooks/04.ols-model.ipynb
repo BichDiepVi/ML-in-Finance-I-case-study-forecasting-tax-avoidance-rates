{
 "cells": [
  {
   "cell_type": "markdown",
   "metadata": {},
   "source": [
    "# OLS - regression"
   ]
  },
  {
   "cell_type": "markdown",
   "metadata": {},
   "source": [
    "Here we will create our baseline linear model. It will not contain time-dependent exogenous variables. What is more we will not focus on econometrics - BLUE assumptions!"
   ]
  },
  {
   "cell_type": "markdown",
   "metadata": {},
   "source": [
    "### Dependencies loading"
   ]
  },
  {
   "cell_type": "code",
   "execution_count": 2,
   "metadata": {},
   "outputs": [],
   "source": [
    "import pandas as pd\n",
    "import numpy as np\n",
    "import matplotlib.pyplot as plt\n",
    "import seaborn as sns\n",
    "from sklearn.feature_selection import RFECV\n",
    "from sklearn.linear_model import LinearRegression\n",
    "from sklearn.inspection import permutation_importance\n",
    "from sklearn.model_selection import KFold\n",
    "from sklearn.metrics import mean_squared_error\n",
    "from mlxtend.feature_selection import SequentialFeatureSelector as SFS\n",
    "import pickle\n",
    "\n",
    "pd.set_option(\"display.max_columns\", 500)\n",
    "pd.set_option(\"display.max_rows\", 150)\n",
    "\n",
    "# np.random.seed(1916) #uncomment if you want your code to be reproducible; for the purposes of our activity, let's add some randomness to the results"
   ]
  },
  {
   "cell_type": "markdown",
   "metadata": {},
   "source": [
    "### Data loading"
   ]
  },
  {
   "cell_type": "code",
   "execution_count": 3,
   "metadata": {},
   "outputs": [],
   "source": [
    "preprocessed_output_data_path = \"../data/output\"\n",
    "\n",
    "df = pd.read_csv(f\"{preprocessed_output_data_path}/train_fe.csv\", index_col=0)\n",
    "\n",
    "fr = pd.read_excel(f\"{preprocessed_output_data_path}/feature_ranking.xlsx\", index_col=0)"
   ]
  },
  {
   "cell_type": "markdown",
   "metadata": {},
   "source": [
    "### Feature engineering for OLS regression model"
   ]
  },
  {
   "cell_type": "markdown",
   "metadata": {},
   "source": [
    "We can omit this step, because all crucial transformations like: mathematical transformations, feature creation, dummification have been already applied."
   ]
  },
  {
   "cell_type": "markdown",
   "metadata": {},
   "source": [
    "### Final feature selection for OLS regression model"
   ]
  },
  {
   "cell_type": "markdown",
   "metadata": {},
   "source": [
    "#### Feature ranking"
   ]
  },
  {
   "cell_type": "markdown",
   "metadata": {},
   "source": [
    "We will start with prepared in previous notebook \"feature ranking\". Taking into account OLS estimator properties the most important for us is output from Elastic Net (EN_coef). Let's treat this variables as our benchmark input into OLS regression model.  "
   ]
  },
  {
   "cell_type": "code",
   "execution_count": 62,
   "metadata": {},
   "outputs": [
    {
     "data": {
      "text/html": [
       "<div>\n",
       "<style scoped>\n",
       "    .dataframe tbody tr th:only-of-type {\n",
       "        vertical-align: middle;\n",
       "    }\n",
       "\n",
       "    .dataframe tbody tr th {\n",
       "        vertical-align: top;\n",
       "    }\n",
       "\n",
       "    .dataframe thead th {\n",
       "        text-align: right;\n",
       "    }\n",
       "</style>\n",
       "<table border=\"1\" class=\"dataframe\">\n",
       "  <thead>\n",
       "    <tr style=\"text-align: right;\">\n",
       "      <th></th>\n",
       "      <th>mi_score</th>\n",
       "      <th>sign_fscore</th>\n",
       "      <th>sign_fscore_0_1</th>\n",
       "      <th>corr</th>\n",
       "      <th>EN_coef</th>\n",
       "      <th>boruta_rank</th>\n",
       "    </tr>\n",
       "  </thead>\n",
       "  <tbody>\n",
       "    <tr>\n",
       "      <th>etr_y_past</th>\n",
       "      <td>1.009402</td>\n",
       "      <td>1.304040e-84</td>\n",
       "      <td>1</td>\n",
       "      <td>0.520405</td>\n",
       "      <td>NaN</td>\n",
       "      <td>1</td>\n",
       "    </tr>\n",
       "    <tr>\n",
       "      <th>etr_y_ma</th>\n",
       "      <td>0.825650</td>\n",
       "      <td>2.473770e-125</td>\n",
       "      <td>1</td>\n",
       "      <td>0.526871</td>\n",
       "      <td>NaN</td>\n",
       "      <td>1</td>\n",
       "    </tr>\n",
       "    <tr>\n",
       "      <th>txt</th>\n",
       "      <td>0.633067</td>\n",
       "      <td>5.246456e-13</td>\n",
       "      <td>1</td>\n",
       "      <td>0.368732</td>\n",
       "      <td>1.466269e-05</td>\n",
       "      <td>1</td>\n",
       "    </tr>\n",
       "    <tr>\n",
       "      <th>diff</th>\n",
       "      <td>0.632640</td>\n",
       "      <td>2.257712e-02</td>\n",
       "      <td>1</td>\n",
       "      <td>-0.291716</td>\n",
       "      <td>NaN</td>\n",
       "      <td>1</td>\n",
       "    </tr>\n",
       "    <tr>\n",
       "      <th>ni</th>\n",
       "      <td>0.613297</td>\n",
       "      <td>1.747230e-09</td>\n",
       "      <td>1</td>\n",
       "      <td>0.263458</td>\n",
       "      <td>-3.442000e-07</td>\n",
       "      <td>7</td>\n",
       "    </tr>\n",
       "  </tbody>\n",
       "</table>\n",
       "</div>"
      ],
      "text/plain": [
       "            mi_score    sign_fscore  sign_fscore_0_1      corr       EN_coef  \\\n",
       "etr_y_past  1.009402   1.304040e-84                1  0.520405           NaN   \n",
       "etr_y_ma    0.825650  2.473770e-125                1  0.526871           NaN   \n",
       "txt         0.633067   5.246456e-13                1  0.368732  1.466269e-05   \n",
       "diff        0.632640   2.257712e-02                1 -0.291716           NaN   \n",
       "ni          0.613297   1.747230e-09                1  0.263458 -3.442000e-07   \n",
       "\n",
       "            boruta_rank  \n",
       "etr_y_past            1  \n",
       "etr_y_ma              1  \n",
       "txt                   1  \n",
       "diff                  1  \n",
       "ni                    7  "
      ]
     },
     "execution_count": 62,
     "metadata": {},
     "output_type": "execute_result"
    }
   ],
   "source": [
    "fr.sort_values(\"mi_score\", ascending=False).head()"
   ]
  },
  {
   "cell_type": "code",
   "execution_count": 63,
   "metadata": {},
   "outputs": [],
   "source": [
    "benchmark_input = fr[\"EN_coef\"].dropna().index.tolist()"
   ]
  },
  {
   "cell_type": "markdown",
   "metadata": {},
   "source": [
    "We treat year as a cont. variable!"
   ]
  },
  {
   "cell_type": "code",
   "execution_count": 64,
   "metadata": {},
   "outputs": [
    {
     "data": {
      "text/plain": [
       "['rok',\n",
       " 'ta',\n",
       " 'txt',\n",
       " 'pi',\n",
       " 'xrd',\n",
       " 'ni',\n",
       " 'ppent',\n",
       " 'intant',\n",
       " 'dlc',\n",
       " 'dltt',\n",
       " 'capex',\n",
       " 'revenue',\n",
       " 'cce',\n",
       " 'adv',\n",
       " 'WB_GDPpc',\n",
       " 'sektor_materials',\n",
       " 'sektor_utilities',\n",
       " 'dltt_cat_(39.38, 327.85]',\n",
       " 'dltt_cat_(327.85, 876.617]',\n",
       " 'dltt_cat_(876.617, inf]']"
      ]
     },
     "execution_count": 64,
     "metadata": {},
     "output_type": "execute_result"
    }
   ],
   "source": [
    "benchmark_input"
   ]
  },
  {
   "cell_type": "code",
   "execution_count": 65,
   "metadata": {},
   "outputs": [],
   "source": [
    "benchmark_input.remove(\"dltt\")"
   ]
  },
  {
   "cell_type": "markdown",
   "metadata": {},
   "source": [
    "Let's check these variables in case of high collinearity! We see that we don't deal with this problem."
   ]
  },
  {
   "cell_type": "code",
   "execution_count": 66,
   "metadata": {},
   "outputs": [
    {
     "data": {
      "text/html": [
       "<div>\n",
       "<style scoped>\n",
       "    .dataframe tbody tr th:only-of-type {\n",
       "        vertical-align: middle;\n",
       "    }\n",
       "\n",
       "    .dataframe tbody tr th {\n",
       "        vertical-align: top;\n",
       "    }\n",
       "\n",
       "    .dataframe thead th {\n",
       "        text-align: right;\n",
       "    }\n",
       "</style>\n",
       "<table border=\"1\" class=\"dataframe\">\n",
       "  <thead>\n",
       "    <tr style=\"text-align: right;\">\n",
       "      <th></th>\n",
       "      <th></th>\n",
       "      <th>0</th>\n",
       "    </tr>\n",
       "  </thead>\n",
       "  <tbody>\n",
       "    <tr>\n",
       "      <th>ni</th>\n",
       "      <th>pi</th>\n",
       "      <td>0.833199</td>\n",
       "    </tr>\n",
       "    <tr>\n",
       "      <th>revenue</th>\n",
       "      <th>ta</th>\n",
       "      <td>0.782031</td>\n",
       "    </tr>\n",
       "    <tr>\n",
       "      <th>pi</th>\n",
       "      <th>txt</th>\n",
       "      <td>0.761797</td>\n",
       "    </tr>\n",
       "    <tr>\n",
       "      <th>ta</th>\n",
       "      <th>cce</th>\n",
       "      <td>0.746758</td>\n",
       "    </tr>\n",
       "    <tr>\n",
       "      <th>dlc</th>\n",
       "      <th>ta</th>\n",
       "      <td>0.721881</td>\n",
       "    </tr>\n",
       "    <tr>\n",
       "      <th>cce</th>\n",
       "      <th>revenue</th>\n",
       "      <td>0.680492</td>\n",
       "    </tr>\n",
       "    <tr>\n",
       "      <th>ta</th>\n",
       "      <th>capex</th>\n",
       "      <td>0.664255</td>\n",
       "    </tr>\n",
       "    <tr>\n",
       "      <th>ni</th>\n",
       "      <th>txt</th>\n",
       "      <td>0.662137</td>\n",
       "    </tr>\n",
       "    <tr>\n",
       "      <th>revenue</th>\n",
       "      <th>intant</th>\n",
       "      <td>0.634050</td>\n",
       "    </tr>\n",
       "    <tr>\n",
       "      <th>ta</th>\n",
       "      <th>pi</th>\n",
       "      <td>0.633319</td>\n",
       "    </tr>\n",
       "  </tbody>\n",
       "</table>\n",
       "</div>"
      ],
      "text/plain": [
       "                        0\n",
       "ni      pi       0.833199\n",
       "revenue ta       0.782031\n",
       "pi      txt      0.761797\n",
       "ta      cce      0.746758\n",
       "dlc     ta       0.721881\n",
       "cce     revenue  0.680492\n",
       "ta      capex    0.664255\n",
       "ni      txt      0.662137\n",
       "revenue intant   0.634050\n",
       "ta      pi       0.633319"
      ]
     },
     "execution_count": 66,
     "metadata": {},
     "output_type": "execute_result"
    }
   ],
   "source": [
    "corr = df[benchmark_input].corr(\"kendall\")\n",
    "foo = pd.DataFrame(corr.abs().unstack().sort_values(ascending=False))\n",
    "foo = foo[foo[0] != 1]\n",
    "foo = foo[foo.duplicated() == False]\n",
    "foo.head(10)"
   ]
  },
  {
   "cell_type": "markdown",
   "metadata": {},
   "source": [
    "#### Recursive Feature Elimination "
   ]
  },
  {
   "cell_type": "markdown",
   "metadata": {},
   "source": [
    "As an econometrician I know that the best procedure in case of feature selection for OLS is general to specific approach, where we use Wald Test. But right now let's do ML - so RFE procedure seems to be good enough to create \"robust\" estimator. We will use RFE with CV. This CV is not the best one cause we will apply our own CV in the next chapter, but right now let's use CV implemented in scikit-learn."
   ]
  },
  {
   "cell_type": "code",
   "execution_count": 67,
   "metadata": {},
   "outputs": [
    {
     "name": "stdout",
     "output_type": "stream",
     "text": [
      "['Ticker', 'Nazwa2', 'rok', 'ta', 'txt', 'pi', 'str', 'xrd', 'ni', 'ppent', 'intant', 'dlc', 'dltt', 'capex', 'revenue', 'cce', 'adv', 'etr', 'diff', 'roa', 'lev', 'intan', 'rd', 'ppe', 'sale', 'cash_holdings', 'adv_expenditure', 'capex2', 'cfc', 'dta', 'capex2_scaled', 'y_v2x_polyarchy', 'y_e_p_polity', 'y_BR_Democracy', 'WB_GDPgrowth', 'WB_GDPpc', 'WB_Inflation', 'rr_per_country', 'rr_per_sector', 'sektor_consumer discretionary', 'sektor_consumer staples', 'sektor_energy', 'sektor_health care', 'sektor_industrials', 'sektor_materials', 'sektor_real estate', 'sektor_technology', 'sektor_utilities', 'gielda_2', 'gielda_3', 'gielda_4', 'gielda_5', 'ta_log', 'txt_cat_(-63.011, -34.811]', 'txt_cat_(-34.811, 0.488]', 'txt_cat_(0.488, 24.415]', 'txt_cat_(24.415, 25.05]', 'txt_cat_(25.05, 308.55]', 'txt_cat_(308.55, 327.531]', 'txt_cat_(327.531, inf]', 'pi_cat_(-8975.0, -1.523]', 'pi_cat_(-1.523, 157.119]', 'pi_cat_(157.119, 465.9]', 'pi_cat_(465.9, 7875.5]', 'pi_cat_(7875.5, 8108.5]', 'pi_cat_(8108.5, inf]', 'str_cat_(0.0875, 0.192]', 'str_cat_(0.192, 0.28]', 'str_cat_(0.28, inf]', 'xrd_exists', 'ni_profit', 'ni_profit_20000', 'ppent_sqrt', 'intant_sqrt', 'dlc_cat_(42.262, 176.129]', 'dlc_cat_(176.129, 200.9]', 'dlc_cat_(200.9, inf]', 'dltt_cat_(39.38, 327.85]', 'dltt_cat_(327.85, 876.617]', 'dltt_cat_(876.617, inf]', 'capex_cat_(7.447, 79.55]', 'capex_cat_(79.55, 5451.0]', 'capex_cat_(5451.0, inf]', 'revenue_cat_(0.174, 1248.817]', 'revenue_cat_(1248.817, 4233.587]', 'revenue_cat_(4233.587, inf]', 'cce_cat_(5.619, 63.321]', 'cce_cat_(63.321, inf]', 'adv_cat_(0.3, 874.5]', 'adv_cat_(874.5, inf]', 'diff_positive', 'roa_clip', 'lev_sqrt', 'intan_pow2', 'rd_sqrt', 'ppe_clip', 'cash_holdings_sqrt', 'adv_expenditure_positive', 'diff_dta', 'cfc_dta', 'etr_y_past', 'etr_y_ma', 'diff_ma', 'roa_ma', 'lev_ma', 'intan_ma', 'ppe_ma', 'sale_ma', 'cash_holdings_ma', 'roa_past', 'lev_past', 'intan_past', 'ppe_past', 'sale_past', 'cash_holdings_past']\n"
     ]
    }
   ],
   "source": [
    "print(df.columns.tolist())"
   ]
  },
  {
   "cell_type": "markdown",
   "metadata": {},
   "source": [
    "We will provide all possible variables and then (after RFE) we will investigate possible collinearity!!!"
   ]
  },
  {
   "cell_type": "markdown",
   "metadata": {},
   "source": [
    "In the first attempt let's create set of variables without discretization."
   ]
  },
  {
   "cell_type": "code",
   "execution_count": 68,
   "metadata": {},
   "outputs": [],
   "source": [
    "rfe_candidates = [\n",
    "    \"rok\",\n",
    "    \"ta\",\n",
    "    \"txt\",\n",
    "    \"pi\",\n",
    "    \"str\",\n",
    "    \"xrd\",\n",
    "    \"ni\",\n",
    "    \"ppent\",\n",
    "    \"intant\",\n",
    "    \"dlc\",\n",
    "    \"dltt\",\n",
    "    \"capex\",\n",
    "    \"revenue\",\n",
    "    \"cce\",\n",
    "    \"adv\",\n",
    "    \"diff\",\n",
    "    \"roa\",\n",
    "    \"lev\",\n",
    "    \"intan\",\n",
    "    \"rd\",\n",
    "    \"ppe\",\n",
    "    \"sale\",\n",
    "    \"cash_holdings\",\n",
    "    \"adv_expenditure\",\n",
    "    \"capex2\",\n",
    "    \"cfc\",\n",
    "    \"dta\",\n",
    "    \"capex2_scaled\",\n",
    "    \"y_v2x_polyarchy\",\n",
    "    \"y_e_p_polity\",\n",
    "    \"y_BR_Democracy\",\n",
    "    \"WB_GDPgrowth\",\n",
    "    \"WB_GDPpc\",\n",
    "    \"WB_Inflation\",\n",
    "    \"rr_per_country\",\n",
    "    \"rr_per_sector\",\n",
    "    \"sektor_consumer discretionary\",\n",
    "    \"sektor_consumer staples\",\n",
    "    \"sektor_energy\",\n",
    "    \"sektor_health care\",\n",
    "    \"sektor_industrials\",\n",
    "    \"sektor_materials\",\n",
    "    \"sektor_real estate\",\n",
    "    \"sektor_technology\",\n",
    "    \"sektor_utilities\",\n",
    "    \"gielda_2\",\n",
    "    \"gielda_3\",\n",
    "    \"gielda_4\",\n",
    "    \"gielda_5\",\n",
    "    \"ta_log\",\n",
    "    \"txt_cat_(-63.011, -34.811]\",\n",
    "    \"txt_cat_(-34.811, 0.488]\",\n",
    "    \"txt_cat_(0.488, 24.415]\",\n",
    "    \"txt_cat_(24.415, 25.05]\",\n",
    "    \"txt_cat_(25.05, 308.55]\",\n",
    "    \"txt_cat_(308.55, 327.531]\",\n",
    "    \"txt_cat_(327.531, inf]\",\n",
    "    \"pi_cat_(-8975.0, -1.523]\",\n",
    "    \"pi_cat_(-1.523, 157.119]\",\n",
    "    \"pi_cat_(157.119, 465.9]\",\n",
    "    \"pi_cat_(465.9, 7875.5]\",\n",
    "    \"pi_cat_(7875.5, 8108.5]\",\n",
    "    \"pi_cat_(8108.5, inf]\",\n",
    "    \"str_cat_(0.0875, 0.192]\",\n",
    "    \"str_cat_(0.192, 0.28]\",\n",
    "    \"str_cat_(0.28, inf]\",\n",
    "    \"xrd_exists\",\n",
    "    \"ni_profit\",\n",
    "    \"ni_profit_20000\",\n",
    "    \"ppent_sqrt\",\n",
    "    \"intant_sqrt\",\n",
    "    \"dlc_cat_(42.262, 176.129]\",\n",
    "    \"dlc_cat_(176.129, 200.9]\",\n",
    "    \"dlc_cat_(200.9, inf]\",\n",
    "    \"dltt_cat_(39.38, 327.85]\",\n",
    "    \"dltt_cat_(327.85, 876.617]\",\n",
    "    \"dltt_cat_(876.617, inf]\",\n",
    "    \"capex_cat_(7.447, 79.55]\",\n",
    "    \"capex_cat_(79.55, 5451.0]\",\n",
    "    \"capex_cat_(5451.0, inf]\",\n",
    "    \"revenue_cat_(0.174, 1248.817]\",\n",
    "    \"revenue_cat_(1248.817, 4233.587]\",\n",
    "    \"revenue_cat_(4233.587, inf]\",\n",
    "    \"cce_cat_(5.619, 63.321]\",\n",
    "    \"cce_cat_(63.321, inf]\",\n",
    "    \"adv_cat_(0.3, 874.5]\",\n",
    "    \"adv_cat_(874.5, inf]\",\n",
    "    \"diff_positive\",\n",
    "    \"roa_clip\",\n",
    "    \"lev_sqrt\",\n",
    "    \"intan_pow2\",\n",
    "    \"rd_sqrt\",\n",
    "    \"ppe_clip\",\n",
    "    \"cash_holdings_sqrt\",\n",
    "    \"adv_expenditure_positive\",\n",
    "    \"diff_dta\",\n",
    "    \"cfc_dta\",\n",
    "]"
   ]
  },
  {
   "cell_type": "code",
   "execution_count": 69,
   "metadata": {},
   "outputs": [],
   "source": [
    "rfe_candidates_without_disc = [i for i in rfe_candidates if \"]\" not in i]"
   ]
  },
  {
   "cell_type": "code",
   "execution_count": 70,
   "metadata": {},
   "outputs": [
    {
     "name": "stdout",
     "output_type": "stream",
     "text": [
      "['rok', 'ta', 'txt', 'pi', 'str', 'xrd', 'ni', 'ppent', 'intant', 'dlc', 'dltt', 'capex', 'revenue', 'cce', 'adv', 'diff', 'roa', 'lev', 'intan', 'rd', 'ppe', 'sale', 'cash_holdings', 'adv_expenditure', 'capex2', 'cfc', 'dta', 'capex2_scaled', 'y_v2x_polyarchy', 'y_e_p_polity', 'y_BR_Democracy', 'WB_GDPgrowth', 'WB_GDPpc', 'WB_Inflation', 'rr_per_country', 'rr_per_sector', 'sektor_consumer discretionary', 'sektor_consumer staples', 'sektor_energy', 'sektor_health care', 'sektor_industrials', 'sektor_materials', 'sektor_real estate', 'sektor_technology', 'sektor_utilities', 'gielda_2', 'gielda_3', 'gielda_4', 'gielda_5', 'ta_log', 'xrd_exists', 'ni_profit', 'ni_profit_20000', 'ppent_sqrt', 'intant_sqrt', 'diff_positive', 'roa_clip', 'lev_sqrt', 'intan_pow2', 'rd_sqrt', 'ppe_clip', 'cash_holdings_sqrt', 'adv_expenditure_positive', 'diff_dta', 'cfc_dta']\n"
     ]
    }
   ],
   "source": [
    "print(rfe_candidates_without_disc)"
   ]
  },
  {
   "cell_type": "code",
   "execution_count": 71,
   "metadata": {},
   "outputs": [
    {
     "data": {
      "text/html": [
       "<div>\n",
       "<style scoped>\n",
       "    .dataframe tbody tr th:only-of-type {\n",
       "        vertical-align: middle;\n",
       "    }\n",
       "\n",
       "    .dataframe tbody tr th {\n",
       "        vertical-align: top;\n",
       "    }\n",
       "\n",
       "    .dataframe thead th {\n",
       "        text-align: right;\n",
       "    }\n",
       "</style>\n",
       "<table border=\"1\" class=\"dataframe\">\n",
       "  <thead>\n",
       "    <tr style=\"text-align: right;\">\n",
       "      <th></th>\n",
       "      <th>mi_score</th>\n",
       "      <th>sign_fscore</th>\n",
       "      <th>sign_fscore_0_1</th>\n",
       "      <th>corr</th>\n",
       "      <th>EN_coef</th>\n",
       "      <th>boruta_rank</th>\n",
       "    </tr>\n",
       "  </thead>\n",
       "  <tbody>\n",
       "    <tr>\n",
       "      <th>ta</th>\n",
       "      <td>0.582922</td>\n",
       "      <td>1.464884e-03</td>\n",
       "      <td>1</td>\n",
       "      <td>0.26734</td>\n",
       "      <td>-1.404307e-07</td>\n",
       "      <td>49</td>\n",
       "    </tr>\n",
       "    <tr>\n",
       "      <th>ta_log</th>\n",
       "      <td>0.564081</td>\n",
       "      <td>1.007512e-29</td>\n",
       "      <td>1</td>\n",
       "      <td>0.26734</td>\n",
       "      <td>NaN</td>\n",
       "      <td>46</td>\n",
       "    </tr>\n",
       "  </tbody>\n",
       "</table>\n",
       "</div>"
      ],
      "text/plain": [
       "        mi_score   sign_fscore  sign_fscore_0_1     corr       EN_coef  \\\n",
       "ta      0.582922  1.464884e-03                1  0.26734 -1.404307e-07   \n",
       "ta_log  0.564081  1.007512e-29                1  0.26734           NaN   \n",
       "\n",
       "        boruta_rank  \n",
       "ta               49  \n",
       "ta_log           46  "
      ]
     },
     "execution_count": 71,
     "metadata": {},
     "output_type": "execute_result"
    }
   ],
   "source": [
    "fr.loc[[\"ta\", \"ta_log\"]]"
   ]
  },
  {
   "cell_type": "code",
   "execution_count": 72,
   "metadata": {},
   "outputs": [],
   "source": [
    "rfe_candidates_without_disc.remove(\"ta_log\")"
   ]
  },
  {
   "cell_type": "code",
   "execution_count": 73,
   "metadata": {},
   "outputs": [
    {
     "data": {
      "text/html": [
       "<div>\n",
       "<style scoped>\n",
       "    .dataframe tbody tr th:only-of-type {\n",
       "        vertical-align: middle;\n",
       "    }\n",
       "\n",
       "    .dataframe tbody tr th {\n",
       "        vertical-align: top;\n",
       "    }\n",
       "\n",
       "    .dataframe thead th {\n",
       "        text-align: right;\n",
       "    }\n",
       "</style>\n",
       "<table border=\"1\" class=\"dataframe\">\n",
       "  <thead>\n",
       "    <tr style=\"text-align: right;\">\n",
       "      <th></th>\n",
       "      <th>mi_score</th>\n",
       "      <th>sign_fscore</th>\n",
       "      <th>sign_fscore_0_1</th>\n",
       "      <th>corr</th>\n",
       "      <th>EN_coef</th>\n",
       "      <th>boruta_rank</th>\n",
       "    </tr>\n",
       "  </thead>\n",
       "  <tbody>\n",
       "    <tr>\n",
       "      <th>ppent</th>\n",
       "      <td>0.534561</td>\n",
       "      <td>2.882495e-05</td>\n",
       "      <td>1</td>\n",
       "      <td>0.122606</td>\n",
       "      <td>-0.000001</td>\n",
       "      <td>25</td>\n",
       "    </tr>\n",
       "    <tr>\n",
       "      <th>ppent_sqrt</th>\n",
       "      <td>0.524281</td>\n",
       "      <td>2.322729e-09</td>\n",
       "      <td>1</td>\n",
       "      <td>0.122606</td>\n",
       "      <td>NaN</td>\n",
       "      <td>26</td>\n",
       "    </tr>\n",
       "  </tbody>\n",
       "</table>\n",
       "</div>"
      ],
      "text/plain": [
       "            mi_score   sign_fscore  sign_fscore_0_1      corr   EN_coef  \\\n",
       "ppent       0.534561  2.882495e-05                1  0.122606 -0.000001   \n",
       "ppent_sqrt  0.524281  2.322729e-09                1  0.122606       NaN   \n",
       "\n",
       "            boruta_rank  \n",
       "ppent                25  \n",
       "ppent_sqrt           26  "
      ]
     },
     "execution_count": 73,
     "metadata": {},
     "output_type": "execute_result"
    }
   ],
   "source": [
    "fr.loc[[\"ppent\", \"ppent_sqrt\"]]"
   ]
  },
  {
   "cell_type": "code",
   "execution_count": 74,
   "metadata": {},
   "outputs": [],
   "source": [
    "rfe_candidates_without_disc.remove(\"ppent_sqrt\")"
   ]
  },
  {
   "cell_type": "code",
   "execution_count": 75,
   "metadata": {},
   "outputs": [
    {
     "data": {
      "text/html": [
       "<div>\n",
       "<style scoped>\n",
       "    .dataframe tbody tr th:only-of-type {\n",
       "        vertical-align: middle;\n",
       "    }\n",
       "\n",
       "    .dataframe tbody tr th {\n",
       "        vertical-align: top;\n",
       "    }\n",
       "\n",
       "    .dataframe thead th {\n",
       "        text-align: right;\n",
       "    }\n",
       "</style>\n",
       "<table border=\"1\" class=\"dataframe\">\n",
       "  <thead>\n",
       "    <tr style=\"text-align: right;\">\n",
       "      <th></th>\n",
       "      <th>mi_score</th>\n",
       "      <th>sign_fscore</th>\n",
       "      <th>sign_fscore_0_1</th>\n",
       "      <th>corr</th>\n",
       "      <th>EN_coef</th>\n",
       "      <th>boruta_rank</th>\n",
       "    </tr>\n",
       "  </thead>\n",
       "  <tbody>\n",
       "    <tr>\n",
       "      <th>intant</th>\n",
       "      <td>0.600611</td>\n",
       "      <td>3.058156e-13</td>\n",
       "      <td>1</td>\n",
       "      <td>0.296425</td>\n",
       "      <td>3.013313e-07</td>\n",
       "      <td>41</td>\n",
       "    </tr>\n",
       "    <tr>\n",
       "      <th>intant_sqrt</th>\n",
       "      <td>0.589341</td>\n",
       "      <td>8.457669e-25</td>\n",
       "      <td>1</td>\n",
       "      <td>0.296425</td>\n",
       "      <td>NaN</td>\n",
       "      <td>37</td>\n",
       "    </tr>\n",
       "  </tbody>\n",
       "</table>\n",
       "</div>"
      ],
      "text/plain": [
       "             mi_score   sign_fscore  sign_fscore_0_1      corr       EN_coef  \\\n",
       "intant       0.600611  3.058156e-13                1  0.296425  3.013313e-07   \n",
       "intant_sqrt  0.589341  8.457669e-25                1  0.296425           NaN   \n",
       "\n",
       "             boruta_rank  \n",
       "intant                41  \n",
       "intant_sqrt           37  "
      ]
     },
     "execution_count": 75,
     "metadata": {},
     "output_type": "execute_result"
    }
   ],
   "source": [
    "fr.loc[[\"intant\", \"intant_sqrt\"]]"
   ]
  },
  {
   "cell_type": "code",
   "execution_count": 76,
   "metadata": {},
   "outputs": [],
   "source": [
    "rfe_candidates_without_disc.remove(\"intant_sqrt\")"
   ]
  },
  {
   "cell_type": "code",
   "execution_count": 77,
   "metadata": {},
   "outputs": [
    {
     "data": {
      "text/html": [
       "<div>\n",
       "<style scoped>\n",
       "    .dataframe tbody tr th:only-of-type {\n",
       "        vertical-align: middle;\n",
       "    }\n",
       "\n",
       "    .dataframe tbody tr th {\n",
       "        vertical-align: top;\n",
       "    }\n",
       "\n",
       "    .dataframe thead th {\n",
       "        text-align: right;\n",
       "    }\n",
       "</style>\n",
       "<table border=\"1\" class=\"dataframe\">\n",
       "  <thead>\n",
       "    <tr style=\"text-align: right;\">\n",
       "      <th></th>\n",
       "      <th>mi_score</th>\n",
       "      <th>sign_fscore</th>\n",
       "      <th>sign_fscore_0_1</th>\n",
       "      <th>corr</th>\n",
       "      <th>EN_coef</th>\n",
       "      <th>boruta_rank</th>\n",
       "    </tr>\n",
       "  </thead>\n",
       "  <tbody>\n",
       "    <tr>\n",
       "      <th>roa</th>\n",
       "      <td>0.574141</td>\n",
       "      <td>0.000029</td>\n",
       "      <td>1</td>\n",
       "      <td>0.051264</td>\n",
       "      <td>NaN</td>\n",
       "      <td>22</td>\n",
       "    </tr>\n",
       "    <tr>\n",
       "      <th>roa_clip</th>\n",
       "      <td>0.572877</td>\n",
       "      <td>0.000032</td>\n",
       "      <td>1</td>\n",
       "      <td>0.051264</td>\n",
       "      <td>NaN</td>\n",
       "      <td>18</td>\n",
       "    </tr>\n",
       "  </tbody>\n",
       "</table>\n",
       "</div>"
      ],
      "text/plain": [
       "          mi_score  sign_fscore  sign_fscore_0_1      corr  EN_coef  \\\n",
       "roa       0.574141     0.000029                1  0.051264      NaN   \n",
       "roa_clip  0.572877     0.000032                1  0.051264      NaN   \n",
       "\n",
       "          boruta_rank  \n",
       "roa                22  \n",
       "roa_clip           18  "
      ]
     },
     "execution_count": 77,
     "metadata": {},
     "output_type": "execute_result"
    }
   ],
   "source": [
    "fr.loc[[\"roa\", \"roa_clip\"]]"
   ]
  },
  {
   "cell_type": "code",
   "execution_count": 78,
   "metadata": {},
   "outputs": [],
   "source": [
    "rfe_candidates_without_disc.remove(\"roa\")"
   ]
  },
  {
   "cell_type": "code",
   "execution_count": 79,
   "metadata": {},
   "outputs": [
    {
     "data": {
      "text/html": [
       "<div>\n",
       "<style scoped>\n",
       "    .dataframe tbody tr th:only-of-type {\n",
       "        vertical-align: middle;\n",
       "    }\n",
       "\n",
       "    .dataframe tbody tr th {\n",
       "        vertical-align: top;\n",
       "    }\n",
       "\n",
       "    .dataframe thead th {\n",
       "        text-align: right;\n",
       "    }\n",
       "</style>\n",
       "<table border=\"1\" class=\"dataframe\">\n",
       "  <thead>\n",
       "    <tr style=\"text-align: right;\">\n",
       "      <th></th>\n",
       "      <th>mi_score</th>\n",
       "      <th>sign_fscore</th>\n",
       "      <th>sign_fscore_0_1</th>\n",
       "      <th>corr</th>\n",
       "      <th>EN_coef</th>\n",
       "      <th>boruta_rank</th>\n",
       "    </tr>\n",
       "  </thead>\n",
       "  <tbody>\n",
       "    <tr>\n",
       "      <th>lev</th>\n",
       "      <td>0.510500</td>\n",
       "      <td>0.074493</td>\n",
       "      <td>1</td>\n",
       "      <td>-0.037398</td>\n",
       "      <td>NaN</td>\n",
       "      <td>36</td>\n",
       "    </tr>\n",
       "    <tr>\n",
       "      <th>lev_sqrt</th>\n",
       "      <td>0.497954</td>\n",
       "      <td>0.264156</td>\n",
       "      <td>0</td>\n",
       "      <td>-0.037398</td>\n",
       "      <td>NaN</td>\n",
       "      <td>39</td>\n",
       "    </tr>\n",
       "  </tbody>\n",
       "</table>\n",
       "</div>"
      ],
      "text/plain": [
       "          mi_score  sign_fscore  sign_fscore_0_1      corr  EN_coef  \\\n",
       "lev       0.510500     0.074493                1 -0.037398      NaN   \n",
       "lev_sqrt  0.497954     0.264156                0 -0.037398      NaN   \n",
       "\n",
       "          boruta_rank  \n",
       "lev                36  \n",
       "lev_sqrt           39  "
      ]
     },
     "execution_count": 79,
     "metadata": {},
     "output_type": "execute_result"
    }
   ],
   "source": [
    "fr.loc[[\"lev\", \"lev_sqrt\"]]"
   ]
  },
  {
   "cell_type": "code",
   "execution_count": 80,
   "metadata": {},
   "outputs": [],
   "source": [
    "rfe_candidates_without_disc.remove(\"lev\")"
   ]
  },
  {
   "cell_type": "code",
   "execution_count": 81,
   "metadata": {},
   "outputs": [
    {
     "data": {
      "text/html": [
       "<div>\n",
       "<style scoped>\n",
       "    .dataframe tbody tr th:only-of-type {\n",
       "        vertical-align: middle;\n",
       "    }\n",
       "\n",
       "    .dataframe tbody tr th {\n",
       "        vertical-align: top;\n",
       "    }\n",
       "\n",
       "    .dataframe thead th {\n",
       "        text-align: right;\n",
       "    }\n",
       "</style>\n",
       "<table border=\"1\" class=\"dataframe\">\n",
       "  <thead>\n",
       "    <tr style=\"text-align: right;\">\n",
       "      <th></th>\n",
       "      <th>mi_score</th>\n",
       "      <th>sign_fscore</th>\n",
       "      <th>sign_fscore_0_1</th>\n",
       "      <th>corr</th>\n",
       "      <th>EN_coef</th>\n",
       "      <th>boruta_rank</th>\n",
       "    </tr>\n",
       "  </thead>\n",
       "  <tbody>\n",
       "    <tr>\n",
       "      <th>intan</th>\n",
       "      <td>0.545275</td>\n",
       "      <td>2.274383e-07</td>\n",
       "      <td>1</td>\n",
       "      <td>0.191233</td>\n",
       "      <td>NaN</td>\n",
       "      <td>59</td>\n",
       "    </tr>\n",
       "    <tr>\n",
       "      <th>intan_pow2</th>\n",
       "      <td>0.530954</td>\n",
       "      <td>4.133756e-03</td>\n",
       "      <td>1</td>\n",
       "      <td>0.191233</td>\n",
       "      <td>NaN</td>\n",
       "      <td>57</td>\n",
       "    </tr>\n",
       "  </tbody>\n",
       "</table>\n",
       "</div>"
      ],
      "text/plain": [
       "            mi_score   sign_fscore  sign_fscore_0_1      corr  EN_coef  \\\n",
       "intan       0.545275  2.274383e-07                1  0.191233      NaN   \n",
       "intan_pow2  0.530954  4.133756e-03                1  0.191233      NaN   \n",
       "\n",
       "            boruta_rank  \n",
       "intan                59  \n",
       "intan_pow2           57  "
      ]
     },
     "execution_count": 81,
     "metadata": {},
     "output_type": "execute_result"
    }
   ],
   "source": [
    "fr.loc[[\"intan\", \"intan_pow2\"]]"
   ]
  },
  {
   "cell_type": "code",
   "execution_count": 82,
   "metadata": {},
   "outputs": [],
   "source": [
    "rfe_candidates_without_disc.remove(\"intan\")"
   ]
  },
  {
   "cell_type": "code",
   "execution_count": 83,
   "metadata": {},
   "outputs": [
    {
     "data": {
      "text/html": [
       "<div>\n",
       "<style scoped>\n",
       "    .dataframe tbody tr th:only-of-type {\n",
       "        vertical-align: middle;\n",
       "    }\n",
       "\n",
       "    .dataframe tbody tr th {\n",
       "        vertical-align: top;\n",
       "    }\n",
       "\n",
       "    .dataframe thead th {\n",
       "        text-align: right;\n",
       "    }\n",
       "</style>\n",
       "<table border=\"1\" class=\"dataframe\">\n",
       "  <thead>\n",
       "    <tr style=\"text-align: right;\">\n",
       "      <th></th>\n",
       "      <th>mi_score</th>\n",
       "      <th>sign_fscore</th>\n",
       "      <th>sign_fscore_0_1</th>\n",
       "      <th>corr</th>\n",
       "      <th>EN_coef</th>\n",
       "      <th>boruta_rank</th>\n",
       "    </tr>\n",
       "  </thead>\n",
       "  <tbody>\n",
       "    <tr>\n",
       "      <th>rd</th>\n",
       "      <td>0.086967</td>\n",
       "      <td>3.804198e-08</td>\n",
       "      <td>1</td>\n",
       "      <td>0.263277</td>\n",
       "      <td>NaN</td>\n",
       "      <td>44</td>\n",
       "    </tr>\n",
       "    <tr>\n",
       "      <th>rd_sqrt</th>\n",
       "      <td>0.090791</td>\n",
       "      <td>7.632780e-18</td>\n",
       "      <td>1</td>\n",
       "      <td>0.263277</td>\n",
       "      <td>NaN</td>\n",
       "      <td>51</td>\n",
       "    </tr>\n",
       "  </tbody>\n",
       "</table>\n",
       "</div>"
      ],
      "text/plain": [
       "         mi_score   sign_fscore  sign_fscore_0_1      corr  EN_coef  \\\n",
       "rd       0.086967  3.804198e-08                1  0.263277      NaN   \n",
       "rd_sqrt  0.090791  7.632780e-18                1  0.263277      NaN   \n",
       "\n",
       "         boruta_rank  \n",
       "rd                44  \n",
       "rd_sqrt           51  "
      ]
     },
     "execution_count": 83,
     "metadata": {},
     "output_type": "execute_result"
    }
   ],
   "source": [
    "fr.loc[[\"rd\", \"rd_sqrt\"]]"
   ]
  },
  {
   "cell_type": "code",
   "execution_count": 84,
   "metadata": {},
   "outputs": [],
   "source": [
    "rfe_candidates_without_disc.remove(\"rd_sqrt\")"
   ]
  },
  {
   "cell_type": "code",
   "execution_count": 85,
   "metadata": {},
   "outputs": [
    {
     "data": {
      "text/html": [
       "<div>\n",
       "<style scoped>\n",
       "    .dataframe tbody tr th:only-of-type {\n",
       "        vertical-align: middle;\n",
       "    }\n",
       "\n",
       "    .dataframe tbody tr th {\n",
       "        vertical-align: top;\n",
       "    }\n",
       "\n",
       "    .dataframe thead th {\n",
       "        text-align: right;\n",
       "    }\n",
       "</style>\n",
       "<table border=\"1\" class=\"dataframe\">\n",
       "  <thead>\n",
       "    <tr style=\"text-align: right;\">\n",
       "      <th></th>\n",
       "      <th>mi_score</th>\n",
       "      <th>sign_fscore</th>\n",
       "      <th>sign_fscore_0_1</th>\n",
       "      <th>corr</th>\n",
       "      <th>EN_coef</th>\n",
       "      <th>boruta_rank</th>\n",
       "    </tr>\n",
       "  </thead>\n",
       "  <tbody>\n",
       "    <tr>\n",
       "      <th>ppe</th>\n",
       "      <td>0.523138</td>\n",
       "      <td>9.410492e-13</td>\n",
       "      <td>1</td>\n",
       "      <td>-0.162275</td>\n",
       "      <td>NaN</td>\n",
       "      <td>34</td>\n",
       "    </tr>\n",
       "    <tr>\n",
       "      <th>ppe_clip</th>\n",
       "      <td>0.522721</td>\n",
       "      <td>1.210225e-12</td>\n",
       "      <td>1</td>\n",
       "      <td>-0.162275</td>\n",
       "      <td>NaN</td>\n",
       "      <td>31</td>\n",
       "    </tr>\n",
       "  </tbody>\n",
       "</table>\n",
       "</div>"
      ],
      "text/plain": [
       "          mi_score   sign_fscore  sign_fscore_0_1      corr  EN_coef  \\\n",
       "ppe       0.523138  9.410492e-13                1 -0.162275      NaN   \n",
       "ppe_clip  0.522721  1.210225e-12                1 -0.162275      NaN   \n",
       "\n",
       "          boruta_rank  \n",
       "ppe                34  \n",
       "ppe_clip           31  "
      ]
     },
     "execution_count": 85,
     "metadata": {},
     "output_type": "execute_result"
    }
   ],
   "source": [
    "fr.loc[[\"ppe\", \"ppe_clip\"]]"
   ]
  },
  {
   "cell_type": "code",
   "execution_count": 86,
   "metadata": {},
   "outputs": [],
   "source": [
    "rfe_candidates_without_disc.remove(\"ppe\")"
   ]
  },
  {
   "cell_type": "code",
   "execution_count": 87,
   "metadata": {},
   "outputs": [
    {
     "data": {
      "text/html": [
       "<div>\n",
       "<style scoped>\n",
       "    .dataframe tbody tr th:only-of-type {\n",
       "        vertical-align: middle;\n",
       "    }\n",
       "\n",
       "    .dataframe tbody tr th {\n",
       "        vertical-align: top;\n",
       "    }\n",
       "\n",
       "    .dataframe thead th {\n",
       "        text-align: right;\n",
       "    }\n",
       "</style>\n",
       "<table border=\"1\" class=\"dataframe\">\n",
       "  <thead>\n",
       "    <tr style=\"text-align: right;\">\n",
       "      <th></th>\n",
       "      <th>mi_score</th>\n",
       "      <th>sign_fscore</th>\n",
       "      <th>sign_fscore_0_1</th>\n",
       "      <th>corr</th>\n",
       "      <th>EN_coef</th>\n",
       "      <th>boruta_rank</th>\n",
       "    </tr>\n",
       "  </thead>\n",
       "  <tbody>\n",
       "    <tr>\n",
       "      <th>cash_holdings</th>\n",
       "      <td>0.524409</td>\n",
       "      <td>0.200452</td>\n",
       "      <td>0</td>\n",
       "      <td>0.015852</td>\n",
       "      <td>NaN</td>\n",
       "      <td>48</td>\n",
       "    </tr>\n",
       "    <tr>\n",
       "      <th>cash_holdings_sqrt</th>\n",
       "      <td>0.528038</td>\n",
       "      <td>0.638415</td>\n",
       "      <td>0</td>\n",
       "      <td>0.015852</td>\n",
       "      <td>NaN</td>\n",
       "      <td>49</td>\n",
       "    </tr>\n",
       "  </tbody>\n",
       "</table>\n",
       "</div>"
      ],
      "text/plain": [
       "                    mi_score  sign_fscore  sign_fscore_0_1      corr  EN_coef  \\\n",
       "cash_holdings       0.524409     0.200452                0  0.015852      NaN   \n",
       "cash_holdings_sqrt  0.528038     0.638415                0  0.015852      NaN   \n",
       "\n",
       "                    boruta_rank  \n",
       "cash_holdings                48  \n",
       "cash_holdings_sqrt           49  "
      ]
     },
     "execution_count": 87,
     "metadata": {},
     "output_type": "execute_result"
    }
   ],
   "source": [
    "fr.loc[[\"cash_holdings\", \"cash_holdings_sqrt\"]]"
   ]
  },
  {
   "cell_type": "code",
   "execution_count": 88,
   "metadata": {},
   "outputs": [],
   "source": [
    "rfe_candidates_without_disc.remove(\"cash_holdings_sqrt\")"
   ]
  },
  {
   "cell_type": "code",
   "execution_count": 89,
   "metadata": {},
   "outputs": [
    {
     "data": {
      "text/html": [
       "<div>\n",
       "<style scoped>\n",
       "    .dataframe tbody tr th:only-of-type {\n",
       "        vertical-align: middle;\n",
       "    }\n",
       "\n",
       "    .dataframe tbody tr th {\n",
       "        vertical-align: top;\n",
       "    }\n",
       "\n",
       "    .dataframe thead th {\n",
       "        text-align: right;\n",
       "    }\n",
       "</style>\n",
       "<table border=\"1\" class=\"dataframe\">\n",
       "  <thead>\n",
       "    <tr style=\"text-align: right;\">\n",
       "      <th></th>\n",
       "      <th>mi_score</th>\n",
       "      <th>sign_fscore</th>\n",
       "      <th>sign_fscore_0_1</th>\n",
       "      <th>corr</th>\n",
       "      <th>EN_coef</th>\n",
       "      <th>boruta_rank</th>\n",
       "    </tr>\n",
       "  </thead>\n",
       "  <tbody>\n",
       "    <tr>\n",
       "      <th>diff</th>\n",
       "      <td>0.632640</td>\n",
       "      <td>2.257712e-02</td>\n",
       "      <td>1</td>\n",
       "      <td>-0.291716</td>\n",
       "      <td>NaN</td>\n",
       "      <td>1</td>\n",
       "    </tr>\n",
       "    <tr>\n",
       "      <th>diff_dta</th>\n",
       "      <td>0.064445</td>\n",
       "      <td>8.259023e-03</td>\n",
       "      <td>1</td>\n",
       "      <td>-0.049721</td>\n",
       "      <td>NaN</td>\n",
       "      <td>14</td>\n",
       "    </tr>\n",
       "    <tr>\n",
       "      <th>cfc</th>\n",
       "      <td>0.120362</td>\n",
       "      <td>9.686699e-47</td>\n",
       "      <td>1</td>\n",
       "      <td>0.313568</td>\n",
       "      <td>NaN</td>\n",
       "      <td>17</td>\n",
       "    </tr>\n",
       "    <tr>\n",
       "      <th>cfc_dta</th>\n",
       "      <td>0.045624</td>\n",
       "      <td>4.748841e-20</td>\n",
       "      <td>1</td>\n",
       "      <td>0.206484</td>\n",
       "      <td>NaN</td>\n",
       "      <td>75</td>\n",
       "    </tr>\n",
       "  </tbody>\n",
       "</table>\n",
       "</div>"
      ],
      "text/plain": [
       "          mi_score   sign_fscore  sign_fscore_0_1      corr  EN_coef  \\\n",
       "diff      0.632640  2.257712e-02                1 -0.291716      NaN   \n",
       "diff_dta  0.064445  8.259023e-03                1 -0.049721      NaN   \n",
       "cfc       0.120362  9.686699e-47                1  0.313568      NaN   \n",
       "cfc_dta   0.045624  4.748841e-20                1  0.206484      NaN   \n",
       "\n",
       "          boruta_rank  \n",
       "diff                1  \n",
       "diff_dta           14  \n",
       "cfc                17  \n",
       "cfc_dta            75  "
      ]
     },
     "execution_count": 89,
     "metadata": {},
     "output_type": "execute_result"
    }
   ],
   "source": [
    "fr.loc[[\"diff\", \"diff_dta\", \"cfc\", \"cfc_dta\"]]"
   ]
  },
  {
   "cell_type": "code",
   "execution_count": 90,
   "metadata": {},
   "outputs": [
    {
     "name": "stdout",
     "output_type": "stream",
     "text": [
      "['rok', 'ta', 'txt', 'pi', 'str', 'xrd', 'ni', 'ppent', 'intant', 'dlc', 'dltt', 'capex', 'revenue', 'cce', 'adv', 'diff', 'rd', 'sale', 'cash_holdings', 'adv_expenditure', 'capex2', 'cfc', 'dta', 'capex2_scaled', 'y_v2x_polyarchy', 'y_e_p_polity', 'y_BR_Democracy', 'WB_GDPgrowth', 'WB_GDPpc', 'WB_Inflation', 'rr_per_country', 'rr_per_sector', 'sektor_consumer discretionary', 'sektor_consumer staples', 'sektor_energy', 'sektor_health care', 'sektor_industrials', 'sektor_materials', 'sektor_real estate', 'sektor_technology', 'sektor_utilities', 'gielda_2', 'gielda_3', 'gielda_4', 'gielda_5', 'xrd_exists', 'ni_profit', 'ni_profit_20000', 'diff_positive', 'roa_clip', 'lev_sqrt', 'intan_pow2', 'ppe_clip', 'adv_expenditure_positive', 'diff_dta', 'cfc_dta']\n"
     ]
    }
   ],
   "source": [
    "print(rfe_candidates_without_disc)"
   ]
  },
  {
   "cell_type": "code",
   "execution_count": 91,
   "metadata": {},
   "outputs": [
    {
     "data": {
      "text/plain": [
       "['str',\n",
       " 'sale',\n",
       " 'cash_holdings',\n",
       " 'adv_expenditure',\n",
       " 'cfc',\n",
       " 'y_v2x_polyarchy',\n",
       " 'y_e_p_polity',\n",
       " 'rr_per_country',\n",
       " 'rr_per_sector',\n",
       " 'gielda_2',\n",
       " 'gielda_4',\n",
       " 'gielda_5',\n",
       " 'ni_profit_20000',\n",
       " 'diff_positive',\n",
       " 'lev_sqrt',\n",
       " 'diff_dta']"
      ]
     },
     "execution_count": 91,
     "metadata": {},
     "output_type": "execute_result"
    }
   ],
   "source": [
    "estimator = LinearRegression()\n",
    "selector = RFECV(estimator, step=1, cv=5, min_features_to_select=10)\n",
    "selector = selector.fit(\n",
    "    df.loc[:, rfe_candidates_without_disc].values, df.loc[:, \"etr\"].values.ravel()\n",
    ")\n",
    "df.loc[:, rfe_candidates_without_disc].iloc[:, selector.support_].columns.tolist()"
   ]
  },
  {
   "cell_type": "code",
   "execution_count": 92,
   "metadata": {},
   "outputs": [],
   "source": [
    "rfe_candidates_without_disc = (\n",
    "    df.loc[:, rfe_candidates_without_disc].iloc[:, selector.support_].columns.tolist()\n",
    ")"
   ]
  },
  {
   "cell_type": "code",
   "execution_count": 93,
   "metadata": {},
   "outputs": [],
   "source": [
    "rfe_candidates = [\n",
    "    \"rok\",\n",
    "    \"ta\",\n",
    "    \"txt\",\n",
    "    \"pi\",\n",
    "    \"str\",\n",
    "    \"xrd\",\n",
    "    \"ni\",\n",
    "    \"ppent\",\n",
    "    \"intant\",\n",
    "    \"dlc\",\n",
    "    \"dltt\",\n",
    "    \"capex\",\n",
    "    \"revenue\",\n",
    "    \"cce\",\n",
    "    \"adv\",\n",
    "    \"diff\",\n",
    "    \"roa\",\n",
    "    \"lev\",\n",
    "    \"intan\",\n",
    "    \"rd\",\n",
    "    \"ppe\",\n",
    "    \"sale\",\n",
    "    \"cash_holdings\",\n",
    "    \"adv_expenditure\",\n",
    "    \"capex2\",\n",
    "    \"cfc\",\n",
    "    \"dta\",\n",
    "    \"capex2_scaled\",\n",
    "    \"y_v2x_polyarchy\",\n",
    "    \"y_e_p_polity\",\n",
    "    \"y_BR_Democracy\",\n",
    "    \"WB_GDPgrowth\",\n",
    "    \"WB_GDPpc\",\n",
    "    \"WB_Inflation\",\n",
    "    \"rr_per_country\",\n",
    "    \"rr_per_sector\",\n",
    "    \"sektor_consumer discretionary\",\n",
    "    \"sektor_consumer staples\",\n",
    "    \"sektor_energy\",\n",
    "    \"sektor_health care\",\n",
    "    \"sektor_industrials\",\n",
    "    \"sektor_materials\",\n",
    "    \"sektor_real estate\",\n",
    "    \"sektor_technology\",\n",
    "    \"sektor_utilities\",\n",
    "    \"gielda_2\",\n",
    "    \"gielda_3\",\n",
    "    \"gielda_4\",\n",
    "    \"gielda_5\",\n",
    "    \"ta_log\",\n",
    "    \"txt_cat_(-63.011, -34.811]\",\n",
    "    \"txt_cat_(-34.811, 0.488]\",\n",
    "    \"txt_cat_(0.488, 24.415]\",\n",
    "    \"txt_cat_(24.415, 25.05]\",\n",
    "    \"txt_cat_(25.05, 308.55]\",\n",
    "    \"txt_cat_(308.55, 327.531]\",\n",
    "    \"txt_cat_(327.531, inf]\",\n",
    "    \"pi_cat_(-8975.0, -1.523]\",\n",
    "    \"pi_cat_(-1.523, 157.119]\",\n",
    "    \"pi_cat_(157.119, 465.9]\",\n",
    "    \"pi_cat_(465.9, 7875.5]\",\n",
    "    \"pi_cat_(7875.5, 8108.5]\",\n",
    "    \"pi_cat_(8108.5, inf]\",\n",
    "    \"str_cat_(0.0875, 0.192]\",\n",
    "    \"str_cat_(0.192, 0.28]\",\n",
    "    \"str_cat_(0.28, inf]\",\n",
    "    \"xrd_exists\",\n",
    "    \"ni_profit\",\n",
    "    \"ni_profit_20000\",\n",
    "    \"ppent_sqrt\",\n",
    "    \"intant_sqrt\",\n",
    "    \"dlc_cat_(42.262, 176.129]\",\n",
    "    \"dlc_cat_(176.129, 200.9]\",\n",
    "    \"dlc_cat_(200.9, inf]\",\n",
    "    \"dltt_cat_(39.38, 327.85]\",\n",
    "    \"dltt_cat_(327.85, 876.617]\",\n",
    "    \"dltt_cat_(876.617, inf]\",\n",
    "    \"capex_cat_(7.447, 79.55]\",\n",
    "    \"capex_cat_(79.55, 5451.0]\",\n",
    "    \"capex_cat_(5451.0, inf]\",\n",
    "    \"revenue_cat_(0.174, 1248.817]\",\n",
    "    \"revenue_cat_(1248.817, 4233.587]\",\n",
    "    \"revenue_cat_(4233.587, inf]\",\n",
    "    \"cce_cat_(5.619, 63.321]\",\n",
    "    \"cce_cat_(63.321, inf]\",\n",
    "    \"adv_cat_(0.3, 874.5]\",\n",
    "    \"adv_cat_(874.5, inf]\",\n",
    "    \"diff_positive\",\n",
    "    \"roa_clip\",\n",
    "    \"lev_sqrt\",\n",
    "    \"intan_pow2\",\n",
    "    \"rd_sqrt\",\n",
    "    \"ppe_clip\",\n",
    "    \"cash_holdings_sqrt\",\n",
    "    \"adv_expenditure_positive\",\n",
    "    \"diff_dta\",\n",
    "    \"cfc_dta\",\n",
    "]"
   ]
  },
  {
   "cell_type": "code",
   "execution_count": 94,
   "metadata": {},
   "outputs": [],
   "source": [
    "rfe_candidates.remove(\"ta_log\")\n",
    "rfe_candidates.remove(\"ppent_sqrt\")\n",
    "rfe_candidates.remove(\"intant_sqrt\")\n",
    "rfe_candidates.remove(\"roa\")\n",
    "rfe_candidates.remove(\"lev\")\n",
    "rfe_candidates.remove(\"intan\")\n",
    "rfe_candidates.remove(\"rd_sqrt\")\n",
    "rfe_candidates.remove(\"ppe\")\n",
    "rfe_candidates.remove(\"cash_holdings_sqrt\")"
   ]
  },
  {
   "cell_type": "code",
   "execution_count": 95,
   "metadata": {},
   "outputs": [
    {
     "name": "stdout",
     "output_type": "stream",
     "text": [
      "['rok', 'ta', 'txt', 'pi', 'str', 'xrd', 'ni', 'ppent', 'intant', 'dlc', 'dltt', 'capex', 'revenue', 'cce', 'adv', 'diff', 'rd', 'sale', 'cash_holdings', 'adv_expenditure', 'capex2', 'cfc', 'dta', 'capex2_scaled', 'y_v2x_polyarchy', 'y_e_p_polity', 'y_BR_Democracy', 'WB_GDPgrowth', 'WB_GDPpc', 'WB_Inflation', 'rr_per_country', 'rr_per_sector', 'sektor_consumer discretionary', 'sektor_consumer staples', 'sektor_energy', 'sektor_health care', 'sektor_industrials', 'sektor_materials', 'sektor_real estate', 'sektor_technology', 'sektor_utilities', 'gielda_2', 'gielda_3', 'gielda_4', 'gielda_5', 'txt_cat_(-63.011, -34.811]', 'txt_cat_(-34.811, 0.488]', 'txt_cat_(0.488, 24.415]', 'txt_cat_(24.415, 25.05]', 'txt_cat_(25.05, 308.55]', 'txt_cat_(308.55, 327.531]', 'txt_cat_(327.531, inf]', 'pi_cat_(-8975.0, -1.523]', 'pi_cat_(-1.523, 157.119]', 'pi_cat_(157.119, 465.9]', 'pi_cat_(465.9, 7875.5]', 'pi_cat_(7875.5, 8108.5]', 'pi_cat_(8108.5, inf]', 'str_cat_(0.0875, 0.192]', 'str_cat_(0.192, 0.28]', 'str_cat_(0.28, inf]', 'xrd_exists', 'ni_profit', 'ni_profit_20000', 'dlc_cat_(42.262, 176.129]', 'dlc_cat_(176.129, 200.9]', 'dlc_cat_(200.9, inf]', 'dltt_cat_(39.38, 327.85]', 'dltt_cat_(327.85, 876.617]', 'dltt_cat_(876.617, inf]', 'capex_cat_(7.447, 79.55]', 'capex_cat_(79.55, 5451.0]', 'capex_cat_(5451.0, inf]', 'revenue_cat_(0.174, 1248.817]', 'revenue_cat_(1248.817, 4233.587]', 'revenue_cat_(4233.587, inf]', 'cce_cat_(5.619, 63.321]', 'cce_cat_(63.321, inf]', 'adv_cat_(0.3, 874.5]', 'adv_cat_(874.5, inf]', 'diff_positive', 'roa_clip', 'lev_sqrt', 'intan_pow2', 'ppe_clip', 'adv_expenditure_positive', 'diff_dta', 'cfc_dta']\n"
     ]
    }
   ],
   "source": [
    "print(rfe_candidates)"
   ]
  },
  {
   "cell_type": "code",
   "execution_count": 96,
   "metadata": {},
   "outputs": [
    {
     "name": "stdout",
     "output_type": "stream",
     "text": [
      "['str', 'dta', 'y_e_p_polity', 'gielda_3', 'gielda_4', 'pi_cat_(-8975.0, -1.523]', 'pi_cat_(-1.523, 157.119]', 'pi_cat_(157.119, 465.9]', 'cfc_dta']\n"
     ]
    }
   ],
   "source": [
    "estimator = LinearRegression()\n",
    "selector = RFECV(\n",
    "    estimator,\n",
    "    step=1,\n",
    "    cv=5,\n",
    "    min_features_to_select=9,\n",
    ")\n",
    "selector = selector.fit(\n",
    "    df.loc[:, rfe_candidates].values, df.loc[:, \"etr\"].values.ravel()\n",
    ")\n",
    "print(df.loc[:, rfe_candidates].iloc[:, selector.support_].columns.tolist())\n",
    "rfe_candidates = df.loc[:, rfe_candidates].iloc[:, selector.support_].columns.tolist()"
   ]
  },
  {
   "cell_type": "markdown",
   "metadata": {},
   "source": [
    "Now we have 3 sets of candidates!"
   ]
  },
  {
   "cell_type": "markdown",
   "metadata": {},
   "source": [
    "Let's investigate permutation importance of such candidates!"
   ]
  },
  {
   "cell_type": "code",
   "execution_count": 97,
   "metadata": {},
   "outputs": [
    {
     "data": {
      "image/png": "[encoded data removed]",
      "text/plain": [
       "<Figure size 1000x500 with 1 Axes>"
      ]
     },
     "metadata": {},
     "output_type": "display_data"
    }
   ],
   "source": [
    "estimator = LinearRegression()\n",
    "estimator.fit(df.loc[:, benchmark_input].values, df.loc[:, \"etr\"].values.ravel())\n",
    "result = permutation_importance(\n",
    "    estimator,\n",
    "    df.loc[:, benchmark_input].values,\n",
    "    df.loc[:, \"etr\"].values.ravel(),\n",
    "    n_repeats=10,\n",
    "    scoring=\"neg_mean_squared_error\",\n",
    "    random_state=42,\n",
    "    n_jobs=2,\n",
    ")\n",
    "sorted_idx = result.importances_mean.argsort()\n",
    "fig, ax = plt.subplots(figsize=(10, 5))\n",
    "\n",
    "ax.boxplot(\n",
    "    result.importances[sorted_idx].T,\n",
    "    vert=False,\n",
    "    labels=df.loc[:, benchmark_input].columns[sorted_idx],\n",
    ")\n",
    "ax.set_title(\"Permutation Importances (train set)\")\n",
    "fig.tight_layout()\n",
    "plt.show()"
   ]
  },
  {
   "cell_type": "code",
   "execution_count": 98,
   "metadata": {},
   "outputs": [
    {
     "data": {
      "image/png": "[encoded data removed]",
      "text/plain": [
       "<Figure size 1000x500 with 1 Axes>"
      ]
     },
     "metadata": {},
     "output_type": "display_data"
    }
   ],
   "source": [
    "estimator = LinearRegression()\n",
    "estimator.fit(\n",
    "    df.loc[:, rfe_candidates_without_disc].values, df.loc[:, \"etr\"].values.ravel()\n",
    ")\n",
    "result = permutation_importance(\n",
    "    estimator,\n",
    "    df.loc[:, rfe_candidates_without_disc].values,\n",
    "    df.loc[:, \"etr\"].values.ravel(),\n",
    "    n_repeats=10,\n",
    "    scoring=\"neg_mean_squared_error\",\n",
    "    random_state=42,\n",
    "    n_jobs=2,\n",
    ")\n",
    "sorted_idx = result.importances_mean.argsort()\n",
    "fig, ax = plt.subplots(figsize=(10, 5))\n",
    "\n",
    "ax.boxplot(\n",
    "    result.importances[sorted_idx].T,\n",
    "    vert=False,\n",
    "    labels=df.loc[:, rfe_candidates_without_disc].columns[sorted_idx],\n",
    ")\n",
    "ax.set_title(\"Permutation Importances (train set)\")\n",
    "fig.tight_layout()\n",
    "plt.show()"
   ]
  },
  {
   "cell_type": "code",
   "execution_count": 99,
   "metadata": {},
   "outputs": [
    {
     "data": {
      "image/png": "[encoded data removed]",
      "text/plain": [
       "<Figure size 1000x500 with 1 Axes>"
      ]
     },
     "metadata": {},
     "output_type": "display_data"
    }
   ],
   "source": [
    "estimator = LinearRegression()\n",
    "estimator.fit(df.loc[:, rfe_candidates].values, df.loc[:, \"etr\"].values.ravel())\n",
    "result = permutation_importance(\n",
    "    estimator,\n",
    "    df.loc[:, rfe_candidates].values,\n",
    "    df.loc[:, \"etr\"].values.ravel(),\n",
    "    n_repeats=10,\n",
    "    scoring=\"neg_mean_squared_error\",\n",
    "    random_state=42,\n",
    "    n_jobs=2,\n",
    ")\n",
    "sorted_idx = result.importances_mean.argsort()\n",
    "fig, ax = plt.subplots(figsize=(10, 5))\n",
    "\n",
    "ax.boxplot(\n",
    "    result.importances[sorted_idx].T,\n",
    "    vert=False,\n",
    "    labels=df.loc[:, rfe_candidates].columns[sorted_idx],\n",
    ")\n",
    "ax.set_title(\"Permutation Importances\")\n",
    "fig.tight_layout()\n",
    "plt.show()"
   ]
  },
  {
   "cell_type": "markdown",
   "metadata": {},
   "source": [
    "As we expect the most reasonable is set of variables from ElasticNet!"
   ]
  },
  {
   "cell_type": "markdown",
   "metadata": {},
   "source": [
    "#### Permutation importance"
   ]
  },
  {
   "attachments": {},
   "cell_type": "markdown",
   "metadata": {},
   "source": [
    "Let's try something additional - permutation importance for feature selection."
   ]
  },
  {
   "cell_type": "code",
   "execution_count": 100,
   "metadata": {},
   "outputs": [],
   "source": [
    "rfe_candidates = [\n",
    "    \"rok\",\n",
    "    \"ta\",\n",
    "    \"txt\",\n",
    "    \"pi\",\n",
    "    \"str\",\n",
    "    \"xrd\",\n",
    "    \"ni\",\n",
    "    \"ppent\",\n",
    "    \"intant\",\n",
    "    \"dlc\",\n",
    "    \"dltt\",\n",
    "    \"capex\",\n",
    "    \"revenue\",\n",
    "    \"cce\",\n",
    "    \"adv\",\n",
    "    \"diff\",\n",
    "    \"roa\",\n",
    "    \"lev\",\n",
    "    \"intan\",\n",
    "    \"rd\",\n",
    "    \"ppe\",\n",
    "    \"sale\",\n",
    "    \"cash_holdings\",\n",
    "    \"adv_expenditure\",\n",
    "    \"capex2\",\n",
    "    \"cfc\",\n",
    "    \"dta\",\n",
    "    \"capex2_scaled\",\n",
    "    \"y_v2x_polyarchy\",\n",
    "    \"y_e_p_polity\",\n",
    "    \"y_BR_Democracy\",\n",
    "    \"WB_GDPgrowth\",\n",
    "    \"WB_GDPpc\",\n",
    "    \"WB_Inflation\",\n",
    "    \"rr_per_country\",\n",
    "    \"rr_per_sector\",\n",
    "    \"sektor_consumer discretionary\",\n",
    "    \"sektor_consumer staples\",\n",
    "    \"sektor_energy\",\n",
    "    \"sektor_health care\",\n",
    "    \"sektor_industrials\",\n",
    "    \"sektor_materials\",\n",
    "    \"sektor_real estate\",\n",
    "    \"sektor_technology\",\n",
    "    \"sektor_utilities\",\n",
    "    \"gielda_2\",\n",
    "    \"gielda_3\",\n",
    "    \"gielda_4\",\n",
    "    \"gielda_5\",\n",
    "    \"ta_log\",\n",
    "    \"txt_cat_(-63.011, -34.811]\",\n",
    "    \"txt_cat_(-34.811, 0.488]\",\n",
    "    \"txt_cat_(0.488, 24.415]\",\n",
    "    \"txt_cat_(24.415, 25.05]\",\n",
    "    \"txt_cat_(25.05, 308.55]\",\n",
    "    \"txt_cat_(308.55, 327.531]\",\n",
    "    \"txt_cat_(327.531, inf]\",\n",
    "    \"pi_cat_(-8975.0, -1.523]\",\n",
    "    \"pi_cat_(-1.523, 157.119]\",\n",
    "    \"pi_cat_(157.119, 465.9]\",\n",
    "    \"pi_cat_(465.9, 7875.5]\",\n",
    "    \"pi_cat_(7875.5, 8108.5]\",\n",
    "    \"pi_cat_(8108.5, inf]\",\n",
    "    \"str_cat_(0.0875, 0.192]\",\n",
    "    \"str_cat_(0.192, 0.28]\",\n",
    "    \"str_cat_(0.28, inf]\",\n",
    "    \"xrd_exists\",\n",
    "    \"ni_profit\",\n",
    "    \"ni_profit_20000\",\n",
    "    \"ppent_sqrt\",\n",
    "    \"intant_sqrt\",\n",
    "    \"dlc_cat_(42.262, 176.129]\",\n",
    "    \"dlc_cat_(176.129, 200.9]\",\n",
    "    \"dlc_cat_(200.9, inf]\",\n",
    "    \"dltt_cat_(39.38, 327.85]\",\n",
    "    \"dltt_cat_(327.85, 876.617]\",\n",
    "    \"dltt_cat_(876.617, inf]\",\n",
    "    \"capex_cat_(7.447, 79.55]\",\n",
    "    \"capex_cat_(79.55, 5451.0]\",\n",
    "    \"capex_cat_(5451.0, inf]\",\n",
    "    \"revenue_cat_(0.174, 1248.817]\",\n",
    "    \"revenue_cat_(1248.817, 4233.587]\",\n",
    "    \"revenue_cat_(4233.587, inf]\",\n",
    "    \"cce_cat_(5.619, 63.321]\",\n",
    "    \"cce_cat_(63.321, inf]\",\n",
    "    \"adv_cat_(0.3, 874.5]\",\n",
    "    \"adv_cat_(874.5, inf]\",\n",
    "    \"diff_positive\",\n",
    "    \"roa_clip\",\n",
    "    \"lev_sqrt\",\n",
    "    \"intan_pow2\",\n",
    "    \"rd_sqrt\",\n",
    "    \"ppe_clip\",\n",
    "    \"cash_holdings_sqrt\",\n",
    "    \"adv_expenditure_positive\",\n",
    "    \"diff_dta\",\n",
    "    \"cfc_dta\",\n",
    "]"
   ]
  },
  {
   "cell_type": "code",
   "execution_count": 101,
   "metadata": {},
   "outputs": [],
   "source": [
    "estimator = LinearRegression()\n",
    "estimator.fit(df.loc[:, rfe_candidates].values, df.loc[:, \"etr\"].values.ravel())\n",
    "result = permutation_importance(\n",
    "    estimator,\n",
    "    df.loc[:, rfe_candidates].values,\n",
    "    df.loc[:, \"etr\"].values.ravel(),\n",
    "    n_repeats=10,\n",
    "    scoring=\"neg_mean_squared_error\",\n",
    "    random_state=42,\n",
    "    n_jobs=2,\n",
    ")\n",
    "sorted_idx = result.importances_mean.argsort()"
   ]
  },
  {
   "cell_type": "code",
   "execution_count": 102,
   "metadata": {},
   "outputs": [],
   "source": [
    "sorted_idx = sorted_idx[-20:]"
   ]
  },
  {
   "cell_type": "code",
   "execution_count": 103,
   "metadata": {},
   "outputs": [
    {
     "data": {
      "image/png": "[encoded data removed]",
      "text/plain": [
       "<Figure size 1000x500 with 1 Axes>"
      ]
     },
     "metadata": {},
     "output_type": "display_data"
    }
   ],
   "source": [
    "fig, ax = plt.subplots(figsize=(10, 5))\n",
    "\n",
    "ax.boxplot(\n",
    "    result.importances[sorted_idx].T,\n",
    "    vert=False,\n",
    "    labels=df.loc[:, rfe_candidates].columns[sorted_idx],\n",
    ")\n",
    "ax.set_title(\"Permutation Importances\")\n",
    "fig.tight_layout()\n",
    "plt.show()"
   ]
  },
  {
   "cell_type": "code",
   "execution_count": 104,
   "metadata": {},
   "outputs": [],
   "source": [
    "pi_var = df.loc[:, rfe_candidates].columns[sorted_idx].tolist()\n",
    "pi_var.remove(\"roa\")\n",
    "pi_var.remove(\"ppe\")"
   ]
  },
  {
   "cell_type": "code",
   "execution_count": 105,
   "metadata": {},
   "outputs": [],
   "source": [
    "estimator = LinearRegression()\n",
    "estimator.fit(df.loc[:, pi_var].values, df.loc[:, \"etr\"].values.ravel())\n",
    "result = permutation_importance(\n",
    "    estimator,\n",
    "    df.loc[:, pi_var].values,\n",
    "    df.loc[:, \"etr\"].values.ravel(),\n",
    "    n_repeats=10,\n",
    "    scoring=\"neg_mean_squared_error\",\n",
    "    random_state=42,\n",
    "    n_jobs=2,\n",
    ")\n",
    "sorted_idx = result.importances_mean.argsort()"
   ]
  },
  {
   "cell_type": "code",
   "execution_count": 106,
   "metadata": {},
   "outputs": [
    {
     "data": {
      "image/png": "[encoded data removed]",
      "text/plain": [
       "<Figure size 1000x500 with 1 Axes>"
      ]
     },
     "metadata": {},
     "output_type": "display_data"
    }
   ],
   "source": [
    "fig, ax = plt.subplots(figsize=(10, 5))\n",
    "\n",
    "ax.boxplot(\n",
    "    result.importances[sorted_idx].T,\n",
    "    vert=False,\n",
    "    labels=df.loc[:, pi_var].columns[sorted_idx],\n",
    ")\n",
    "ax.set_title(\"Permutation Importances\")\n",
    "fig.tight_layout()\n",
    "plt.show()"
   ]
  },
  {
   "cell_type": "code",
   "execution_count": 107,
   "metadata": {},
   "outputs": [],
   "source": [
    "pi_var_prim = pi_var[-9:]"
   ]
  },
  {
   "cell_type": "markdown",
   "metadata": {},
   "source": [
    "#### Forward elimination"
   ]
  },
  {
   "cell_type": "markdown",
   "metadata": {},
   "source": [
    "Finally let's try backward feature selection!"
   ]
  },
  {
   "cell_type": "code",
   "execution_count": 108,
   "metadata": {},
   "outputs": [],
   "source": [
    "candidates = [\n",
    "    \"rok\",\n",
    "    \"ta\",\n",
    "    \"txt\",\n",
    "    \"pi\",\n",
    "    \"str\",\n",
    "    \"xrd\",\n",
    "    \"ni\",\n",
    "    \"ppent\",\n",
    "    \"intant\",\n",
    "    \"dlc\",\n",
    "    \"dltt\",\n",
    "    \"capex\",\n",
    "    \"revenue\",\n",
    "    \"cce\",\n",
    "    \"adv\",\n",
    "    \"diff\",\n",
    "    \"roa\",\n",
    "    \"lev\",\n",
    "    \"intan\",\n",
    "    \"rd\",\n",
    "    \"ppe\",\n",
    "    \"sale\",\n",
    "    \"cash_holdings\",\n",
    "    \"adv_expenditure\",\n",
    "    \"capex2\",\n",
    "    \"cfc\",\n",
    "    \"dta\",\n",
    "    \"capex2_scaled\",\n",
    "    \"y_v2x_polyarchy\",\n",
    "    \"y_e_p_polity\",\n",
    "    \"y_BR_Democracy\",\n",
    "    \"WB_GDPgrowth\",\n",
    "    \"WB_GDPpc\",\n",
    "    \"WB_Inflation\",\n",
    "    \"rr_per_country\",\n",
    "    \"rr_per_sector\",\n",
    "    \"sektor_consumer discretionary\",\n",
    "    \"sektor_consumer staples\",\n",
    "    \"sektor_energy\",\n",
    "    \"sektor_health care\",\n",
    "    \"sektor_industrials\",\n",
    "    \"sektor_materials\",\n",
    "    \"sektor_real estate\",\n",
    "    \"sektor_technology\",\n",
    "    \"sektor_utilities\",\n",
    "    \"gielda_2\",\n",
    "    \"gielda_3\",\n",
    "    \"gielda_4\",\n",
    "    \"gielda_5\",\n",
    "    \"ta_log\",\n",
    "    \"txt_cat_(-63.011, -34.811]\",\n",
    "    \"txt_cat_(-34.811, 0.488]\",\n",
    "    \"txt_cat_(0.488, 24.415]\",\n",
    "    \"txt_cat_(24.415, 25.05]\",\n",
    "    \"txt_cat_(25.05, 308.55]\",\n",
    "    \"txt_cat_(308.55, 327.531]\",\n",
    "    \"txt_cat_(327.531, inf]\",\n",
    "    \"pi_cat_(-8975.0, -1.523]\",\n",
    "    \"pi_cat_(-1.523, 157.119]\",\n",
    "    \"pi_cat_(157.119, 465.9]\",\n",
    "    \"pi_cat_(465.9, 7875.5]\",\n",
    "    \"pi_cat_(7875.5, 8108.5]\",\n",
    "    \"pi_cat_(8108.5, inf]\",\n",
    "    \"str_cat_(0.0875, 0.192]\",\n",
    "    \"str_cat_(0.192, 0.28]\",\n",
    "    \"str_cat_(0.28, inf]\",\n",
    "    \"xrd_exists\",\n",
    "    \"ni_profit\",\n",
    "    \"ni_profit_20000\",\n",
    "    \"ppent_sqrt\",\n",
    "    \"intant_sqrt\",\n",
    "    \"dlc_cat_(42.262, 176.129]\",\n",
    "    \"dlc_cat_(176.129, 200.9]\",\n",
    "    \"dlc_cat_(200.9, inf]\",\n",
    "    \"dltt_cat_(39.38, 327.85]\",\n",
    "    \"dltt_cat_(327.85, 876.617]\",\n",
    "    \"dltt_cat_(876.617, inf]\",\n",
    "    \"capex_cat_(7.447, 79.55]\",\n",
    "    \"capex_cat_(79.55, 5451.0]\",\n",
    "    \"capex_cat_(5451.0, inf]\",\n",
    "    \"revenue_cat_(0.174, 1248.817]\",\n",
    "    \"revenue_cat_(1248.817, 4233.587]\",\n",
    "    \"revenue_cat_(4233.587, inf]\",\n",
    "    \"cce_cat_(5.619, 63.321]\",\n",
    "    \"cce_cat_(63.321, inf]\",\n",
    "    \"adv_cat_(0.3, 874.5]\",\n",
    "    \"adv_cat_(874.5, inf]\",\n",
    "    \"diff_positive\",\n",
    "    \"roa_clip\",\n",
    "    \"lev_sqrt\",\n",
    "    \"intan_pow2\",\n",
    "    \"rd_sqrt\",\n",
    "    \"ppe_clip\",\n",
    "    \"cash_holdings_sqrt\",\n",
    "    \"adv_expenditure_positive\",\n",
    "    \"diff_dta\",\n",
    "    \"cfc_dta\",\n",
    "]"
   ]
  },
  {
   "cell_type": "code",
   "execution_count": 109,
   "metadata": {},
   "outputs": [],
   "source": [
    "model = LinearRegression()"
   ]
  },
  {
   "cell_type": "code",
   "execution_count": 110,
   "metadata": {},
   "outputs": [],
   "source": [
    "sf = SFS(\n",
    "    model,\n",
    "    k_features=(1, 10),\n",
    "    forward=True,\n",
    "    floating=False,\n",
    "    verbose=0,\n",
    "    scoring=\"neg_mean_squared_error\",\n",
    "    cv=5,\n",
    ")\n",
    "\n",
    "sffit = sf.fit(df.loc[:, candidates].values, df.loc[:, \"etr\"].values.ravel())\n",
    "\n",
    "sf_features = df.loc[:, candidates].columns[list(sffit.k_feature_idx_)]"
   ]
  },
  {
   "cell_type": "code",
   "execution_count": 111,
   "metadata": {},
   "outputs": [
    {
     "data": {
      "text/plain": [
       "Index(['sale', 'txt_cat_(-34.811, 0.488]', 'txt_cat_(0.488, 24.415]',\n",
       "       'txt_cat_(308.55, 327.531]', 'pi_cat_(7875.5, 8108.5]',\n",
       "       'str_cat_(0.0875, 0.192]', 'str_cat_(0.28, inf]',\n",
       "       'dlc_cat_(176.129, 200.9]', 'capex_cat_(5451.0, inf]', 'diff_positive'],\n",
       "      dtype='object')"
      ]
     },
     "execution_count": 111,
     "metadata": {},
     "output_type": "execute_result"
    }
   ],
   "source": [
    "sf_features"
   ]
  },
  {
   "cell_type": "markdown",
   "metadata": {},
   "source": [
    "### Models performance in a proper CV"
   ]
  },
  {
   "cell_type": "markdown",
   "metadata": {},
   "source": [
    "We would like to fight against data leakage in our CV, so we will treat it like a panel problem with a rolling window. We now based on our experience that this kind of approach is crucial to fight against overfitting.\n",
    "\n",
    "Sliding window:\n",
    " * T: 2005 - 2008; V: 2009\n",
    " * T: 2005 - 2009; V: 2010\n",
    " * T: 2005 - 2010; V: 2011\n",
    " * ..."
   ]
  },
  {
   "cell_type": "code",
   "execution_count": 112,
   "metadata": {},
   "outputs": [],
   "source": [
    "df = df.sort_values(by=\"rok\").reset_index(drop=True)"
   ]
  },
  {
   "cell_type": "code",
   "execution_count": 113,
   "metadata": {},
   "outputs": [],
   "source": [
    "def proper_CV(x, y, model, display_res=False):\n",
    "    train_score = list()\n",
    "    valid_score = list()\n",
    "    train_indexes = [0, 1452]\n",
    "    valid_indexes = [1452, 1815]\n",
    "    for i in range(0, 6):\n",
    "        train_x = x[x.index.isin(range(train_indexes[0], train_indexes[1]))]\n",
    "        train_y = y[y.index.isin(range(train_indexes[0], train_indexes[1]))]\n",
    "        valid_x = x[x.index.isin(range(valid_indexes[0], valid_indexes[1]))]\n",
    "        valid_y = y[y.index.isin(range(valid_indexes[0], valid_indexes[1]))]\n",
    "\n",
    "        model.fit(train_x.values, train_y.values.ravel())\n",
    "\n",
    "        pred_y_train = model.predict(train_x.values)\n",
    "        rmse = np.sqrt(mean_squared_error(train_y, pred_y_train))\n",
    "        train_score.append(rmse)\n",
    "\n",
    "        pred_y_val = model.predict(valid_x.values)\n",
    "        rmse = np.sqrt(mean_squared_error(valid_y, pred_y_val))\n",
    "        valid_score.append(rmse)\n",
    "\n",
    "        train_indexes = [0, valid_indexes[1]]\n",
    "        valid_indexes = [train_indexes[1], valid_indexes[1] + 363]\n",
    "\n",
    "    if display_res == True:\n",
    "        view = pd.DataFrame([train_score, valid_score]).T.rename(\n",
    "            columns={0: \"cv_train\", 1: \"cv_val\"}\n",
    "        )\n",
    "        display(view)\n",
    "        return train_score, valid_score, view\n",
    "    else:\n",
    "        return train_score, valid_score"
   ]
  },
  {
   "cell_type": "code",
   "execution_count": 114,
   "metadata": {},
   "outputs": [
    {
     "data": {
      "text/html": [
       "<div>\n",
       "<style scoped>\n",
       "    .dataframe tbody tr th:only-of-type {\n",
       "        vertical-align: middle;\n",
       "    }\n",
       "\n",
       "    .dataframe tbody tr th {\n",
       "        vertical-align: top;\n",
       "    }\n",
       "\n",
       "    .dataframe thead th {\n",
       "        text-align: right;\n",
       "    }\n",
       "</style>\n",
       "<table border=\"1\" class=\"dataframe\">\n",
       "  <thead>\n",
       "    <tr style=\"text-align: right;\">\n",
       "      <th></th>\n",
       "      <th>cv_train</th>\n",
       "      <th>cv_val</th>\n",
       "    </tr>\n",
       "  </thead>\n",
       "  <tbody>\n",
       "    <tr>\n",
       "      <th>0</th>\n",
       "      <td>0.152740</td>\n",
       "      <td>0.133980</td>\n",
       "    </tr>\n",
       "    <tr>\n",
       "      <th>1</th>\n",
       "      <td>0.148943</td>\n",
       "      <td>0.140114</td>\n",
       "    </tr>\n",
       "    <tr>\n",
       "      <th>2</th>\n",
       "      <td>0.147364</td>\n",
       "      <td>0.152003</td>\n",
       "    </tr>\n",
       "    <tr>\n",
       "      <th>3</th>\n",
       "      <td>0.147964</td>\n",
       "      <td>0.151252</td>\n",
       "    </tr>\n",
       "    <tr>\n",
       "      <th>4</th>\n",
       "      <td>0.148128</td>\n",
       "      <td>0.135353</td>\n",
       "    </tr>\n",
       "    <tr>\n",
       "      <th>5</th>\n",
       "      <td>0.146686</td>\n",
       "      <td>0.142455</td>\n",
       "    </tr>\n",
       "  </tbody>\n",
       "</table>\n",
       "</div>"
      ],
      "text/plain": [
       "   cv_train    cv_val\n",
       "0  0.152740  0.133980\n",
       "1  0.148943  0.140114\n",
       "2  0.147364  0.152003\n",
       "3  0.147964  0.151252\n",
       "4  0.148128  0.135353\n",
       "5  0.146686  0.142455"
      ]
     },
     "metadata": {},
     "output_type": "display_data"
    }
   ],
   "source": [
    "model = LinearRegression()\n",
    "cv_output1 = proper_CV(\n",
    "    df.loc[:, benchmark_input], df.loc[:, \"etr\"], model, display_res=True\n",
    ")"
   ]
  },
  {
   "cell_type": "code",
   "execution_count": 115,
   "metadata": {},
   "outputs": [
    {
     "data": {
      "text/html": [
       "<div>\n",
       "<style scoped>\n",
       "    .dataframe tbody tr th:only-of-type {\n",
       "        vertical-align: middle;\n",
       "    }\n",
       "\n",
       "    .dataframe tbody tr th {\n",
       "        vertical-align: top;\n",
       "    }\n",
       "\n",
       "    .dataframe thead th {\n",
       "        text-align: right;\n",
       "    }\n",
       "</style>\n",
       "<table border=\"1\" class=\"dataframe\">\n",
       "  <thead>\n",
       "    <tr style=\"text-align: right;\">\n",
       "      <th></th>\n",
       "      <th>cv_train</th>\n",
       "      <th>cv_val</th>\n",
       "    </tr>\n",
       "  </thead>\n",
       "  <tbody>\n",
       "    <tr>\n",
       "      <th>0</th>\n",
       "      <td>0.148365</td>\n",
       "      <td>0.131119</td>\n",
       "    </tr>\n",
       "    <tr>\n",
       "      <th>1</th>\n",
       "      <td>0.144971</td>\n",
       "      <td>0.134244</td>\n",
       "    </tr>\n",
       "    <tr>\n",
       "      <th>2</th>\n",
       "      <td>0.143124</td>\n",
       "      <td>0.147842</td>\n",
       "    </tr>\n",
       "    <tr>\n",
       "      <th>3</th>\n",
       "      <td>0.143760</td>\n",
       "      <td>0.145479</td>\n",
       "    </tr>\n",
       "    <tr>\n",
       "      <th>4</th>\n",
       "      <td>0.143937</td>\n",
       "      <td>0.131912</td>\n",
       "    </tr>\n",
       "    <tr>\n",
       "      <th>5</th>\n",
       "      <td>0.142609</td>\n",
       "      <td>0.138838</td>\n",
       "    </tr>\n",
       "  </tbody>\n",
       "</table>\n",
       "</div>"
      ],
      "text/plain": [
       "   cv_train    cv_val\n",
       "0  0.148365  0.131119\n",
       "1  0.144971  0.134244\n",
       "2  0.143124  0.147842\n",
       "3  0.143760  0.145479\n",
       "4  0.143937  0.131912\n",
       "5  0.142609  0.138838"
      ]
     },
     "metadata": {},
     "output_type": "display_data"
    }
   ],
   "source": [
    "estimator = LinearRegression()\n",
    "cv_output2 = proper_CV(\n",
    "    df.loc[:, rfe_candidates_without_disc], df.loc[:, \"etr\"], model, display_res=True\n",
    ")"
   ]
  },
  {
   "cell_type": "code",
   "execution_count": 116,
   "metadata": {},
   "outputs": [
    {
     "data": {
      "text/html": [
       "<div>\n",
       "<style scoped>\n",
       "    .dataframe tbody tr th:only-of-type {\n",
       "        vertical-align: middle;\n",
       "    }\n",
       "\n",
       "    .dataframe tbody tr th {\n",
       "        vertical-align: top;\n",
       "    }\n",
       "\n",
       "    .dataframe thead th {\n",
       "        text-align: right;\n",
       "    }\n",
       "</style>\n",
       "<table border=\"1\" class=\"dataframe\">\n",
       "  <thead>\n",
       "    <tr style=\"text-align: right;\">\n",
       "      <th></th>\n",
       "      <th>cv_train</th>\n",
       "      <th>cv_val</th>\n",
       "    </tr>\n",
       "  </thead>\n",
       "  <tbody>\n",
       "    <tr>\n",
       "      <th>0</th>\n",
       "      <td>0.137473</td>\n",
       "      <td>0.156177</td>\n",
       "    </tr>\n",
       "    <tr>\n",
       "      <th>1</th>\n",
       "      <td>0.137276</td>\n",
       "      <td>0.133388</td>\n",
       "    </tr>\n",
       "    <tr>\n",
       "      <th>2</th>\n",
       "      <td>0.135747</td>\n",
       "      <td>0.146417</td>\n",
       "    </tr>\n",
       "    <tr>\n",
       "      <th>3</th>\n",
       "      <td>0.136633</td>\n",
       "      <td>0.147629</td>\n",
       "    </tr>\n",
       "    <tr>\n",
       "      <th>4</th>\n",
       "      <td>0.137060</td>\n",
       "      <td>0.174296</td>\n",
       "    </tr>\n",
       "    <tr>\n",
       "      <th>5</th>\n",
       "      <td>0.136293</td>\n",
       "      <td>0.134812</td>\n",
       "    </tr>\n",
       "  </tbody>\n",
       "</table>\n",
       "</div>"
      ],
      "text/plain": [
       "   cv_train    cv_val\n",
       "0  0.137473  0.156177\n",
       "1  0.137276  0.133388\n",
       "2  0.135747  0.146417\n",
       "3  0.136633  0.147629\n",
       "4  0.137060  0.174296\n",
       "5  0.136293  0.134812"
      ]
     },
     "metadata": {},
     "output_type": "display_data"
    }
   ],
   "source": [
    "estimator = LinearRegression()\n",
    "cv_output3 = proper_CV(\n",
    "    df.loc[:, rfe_candidates], df.loc[:, \"etr\"], model, display_res=True\n",
    ")"
   ]
  },
  {
   "cell_type": "code",
   "execution_count": 117,
   "metadata": {},
   "outputs": [
    {
     "data": {
      "text/html": [
       "<div>\n",
       "<style scoped>\n",
       "    .dataframe tbody tr th:only-of-type {\n",
       "        vertical-align: middle;\n",
       "    }\n",
       "\n",
       "    .dataframe tbody tr th {\n",
       "        vertical-align: top;\n",
       "    }\n",
       "\n",
       "    .dataframe thead th {\n",
       "        text-align: right;\n",
       "    }\n",
       "</style>\n",
       "<table border=\"1\" class=\"dataframe\">\n",
       "  <thead>\n",
       "    <tr style=\"text-align: right;\">\n",
       "      <th></th>\n",
       "      <th>cv_train</th>\n",
       "      <th>cv_val</th>\n",
       "    </tr>\n",
       "  </thead>\n",
       "  <tbody>\n",
       "    <tr>\n",
       "      <th>0</th>\n",
       "      <td>0.145918</td>\n",
       "      <td>0.135789</td>\n",
       "    </tr>\n",
       "    <tr>\n",
       "      <th>1</th>\n",
       "      <td>0.143588</td>\n",
       "      <td>0.133894</td>\n",
       "    </tr>\n",
       "    <tr>\n",
       "      <th>2</th>\n",
       "      <td>0.141838</td>\n",
       "      <td>0.148464</td>\n",
       "    </tr>\n",
       "    <tr>\n",
       "      <th>3</th>\n",
       "      <td>0.142696</td>\n",
       "      <td>0.144123</td>\n",
       "    </tr>\n",
       "    <tr>\n",
       "      <th>4</th>\n",
       "      <td>0.142785</td>\n",
       "      <td>0.131333</td>\n",
       "    </tr>\n",
       "    <tr>\n",
       "      <th>5</th>\n",
       "      <td>0.141453</td>\n",
       "      <td>0.138599</td>\n",
       "    </tr>\n",
       "  </tbody>\n",
       "</table>\n",
       "</div>"
      ],
      "text/plain": [
       "   cv_train    cv_val\n",
       "0  0.145918  0.135789\n",
       "1  0.143588  0.133894\n",
       "2  0.141838  0.148464\n",
       "3  0.142696  0.144123\n",
       "4  0.142785  0.131333\n",
       "5  0.141453  0.138599"
      ]
     },
     "metadata": {},
     "output_type": "display_data"
    }
   ],
   "source": [
    "estimator = LinearRegression()\n",
    "cv_output4 = proper_CV(df.loc[:, pi_var], df.loc[:, \"etr\"], model, display_res=True)"
   ]
  },
  {
   "cell_type": "code",
   "execution_count": 118,
   "metadata": {},
   "outputs": [
    {
     "data": {
      "text/html": [
       "<div>\n",
       "<style scoped>\n",
       "    .dataframe tbody tr th:only-of-type {\n",
       "        vertical-align: middle;\n",
       "    }\n",
       "\n",
       "    .dataframe tbody tr th {\n",
       "        vertical-align: top;\n",
       "    }\n",
       "\n",
       "    .dataframe thead th {\n",
       "        text-align: right;\n",
       "    }\n",
       "</style>\n",
       "<table border=\"1\" class=\"dataframe\">\n",
       "  <thead>\n",
       "    <tr style=\"text-align: right;\">\n",
       "      <th></th>\n",
       "      <th>cv_train</th>\n",
       "      <th>cv_val</th>\n",
       "    </tr>\n",
       "  </thead>\n",
       "  <tbody>\n",
       "    <tr>\n",
       "      <th>0</th>\n",
       "      <td>0.153126</td>\n",
       "      <td>0.136002</td>\n",
       "    </tr>\n",
       "    <tr>\n",
       "      <th>1</th>\n",
       "      <td>0.149701</td>\n",
       "      <td>0.142231</td>\n",
       "    </tr>\n",
       "    <tr>\n",
       "      <th>2</th>\n",
       "      <td>0.148336</td>\n",
       "      <td>0.154069</td>\n",
       "    </tr>\n",
       "    <tr>\n",
       "      <th>3</th>\n",
       "      <td>0.149078</td>\n",
       "      <td>0.149230</td>\n",
       "    </tr>\n",
       "    <tr>\n",
       "      <th>4</th>\n",
       "      <td>0.149064</td>\n",
       "      <td>0.137927</td>\n",
       "    </tr>\n",
       "    <tr>\n",
       "      <th>5</th>\n",
       "      <td>0.147776</td>\n",
       "      <td>0.143449</td>\n",
       "    </tr>\n",
       "  </tbody>\n",
       "</table>\n",
       "</div>"
      ],
      "text/plain": [
       "   cv_train    cv_val\n",
       "0  0.153126  0.136002\n",
       "1  0.149701  0.142231\n",
       "2  0.148336  0.154069\n",
       "3  0.149078  0.149230\n",
       "4  0.149064  0.137927\n",
       "5  0.147776  0.143449"
      ]
     },
     "metadata": {},
     "output_type": "display_data"
    }
   ],
   "source": [
    "estimator = LinearRegression()\n",
    "cv_output5 = proper_CV(\n",
    "    df.loc[:, pi_var_prim], df.loc[:, \"etr\"], model, display_res=True\n",
    ")"
   ]
  },
  {
   "cell_type": "code",
   "execution_count": 119,
   "metadata": {},
   "outputs": [
    {
     "data": {
      "text/html": [
       "<div>\n",
       "<style scoped>\n",
       "    .dataframe tbody tr th:only-of-type {\n",
       "        vertical-align: middle;\n",
       "    }\n",
       "\n",
       "    .dataframe tbody tr th {\n",
       "        vertical-align: top;\n",
       "    }\n",
       "\n",
       "    .dataframe thead th {\n",
       "        text-align: right;\n",
       "    }\n",
       "</style>\n",
       "<table border=\"1\" class=\"dataframe\">\n",
       "  <thead>\n",
       "    <tr style=\"text-align: right;\">\n",
       "      <th></th>\n",
       "      <th>cv_train</th>\n",
       "      <th>cv_val</th>\n",
       "    </tr>\n",
       "  </thead>\n",
       "  <tbody>\n",
       "    <tr>\n",
       "      <th>0</th>\n",
       "      <td>0.145656</td>\n",
       "      <td>0.131990</td>\n",
       "    </tr>\n",
       "    <tr>\n",
       "      <th>1</th>\n",
       "      <td>0.142899</td>\n",
       "      <td>0.127553</td>\n",
       "    </tr>\n",
       "    <tr>\n",
       "      <th>2</th>\n",
       "      <td>0.140355</td>\n",
       "      <td>0.148713</td>\n",
       "    </tr>\n",
       "    <tr>\n",
       "      <th>3</th>\n",
       "      <td>0.141532</td>\n",
       "      <td>0.141179</td>\n",
       "    </tr>\n",
       "    <tr>\n",
       "      <th>4</th>\n",
       "      <td>0.141423</td>\n",
       "      <td>0.129587</td>\n",
       "    </tr>\n",
       "    <tr>\n",
       "      <th>5</th>\n",
       "      <td>0.140049</td>\n",
       "      <td>0.138519</td>\n",
       "    </tr>\n",
       "  </tbody>\n",
       "</table>\n",
       "</div>"
      ],
      "text/plain": [
       "   cv_train    cv_val\n",
       "0  0.145656  0.131990\n",
       "1  0.142899  0.127553\n",
       "2  0.140355  0.148713\n",
       "3  0.141532  0.141179\n",
       "4  0.141423  0.129587\n",
       "5  0.140049  0.138519"
      ]
     },
     "metadata": {},
     "output_type": "display_data"
    }
   ],
   "source": [
    "estimator = LinearRegression()\n",
    "cv_output6 = proper_CV(\n",
    "    df.loc[:, sf_features], df.loc[:, \"etr\"], model, display_res=True\n",
    ")"
   ]
  },
  {
   "cell_type": "code",
   "execution_count": 120,
   "metadata": {},
   "outputs": [
    {
     "data": {
      "text/html": [
       "<div>\n",
       "<style scoped>\n",
       "    .dataframe tbody tr th:only-of-type {\n",
       "        vertical-align: middle;\n",
       "    }\n",
       "\n",
       "    .dataframe tbody tr th {\n",
       "        vertical-align: top;\n",
       "    }\n",
       "\n",
       "    .dataframe thead th {\n",
       "        text-align: right;\n",
       "    }\n",
       "</style>\n",
       "<table border=\"1\" class=\"dataframe\">\n",
       "  <thead>\n",
       "    <tr style=\"text-align: right;\">\n",
       "      <th></th>\n",
       "      <th>train_mean</th>\n",
       "      <th>test_mean</th>\n",
       "    </tr>\n",
       "  </thead>\n",
       "  <tbody>\n",
       "    <tr>\n",
       "      <th>0</th>\n",
       "      <td>0.148638</td>\n",
       "      <td>0.142526</td>\n",
       "    </tr>\n",
       "    <tr>\n",
       "      <th>1</th>\n",
       "      <td>0.144461</td>\n",
       "      <td>0.138239</td>\n",
       "    </tr>\n",
       "    <tr>\n",
       "      <th>2</th>\n",
       "      <td>0.136747</td>\n",
       "      <td>0.148787</td>\n",
       "    </tr>\n",
       "    <tr>\n",
       "      <th>3</th>\n",
       "      <td>0.143046</td>\n",
       "      <td>0.138700</td>\n",
       "    </tr>\n",
       "    <tr>\n",
       "      <th>4</th>\n",
       "      <td>0.149514</td>\n",
       "      <td>0.143818</td>\n",
       "    </tr>\n",
       "    <tr>\n",
       "      <th>5</th>\n",
       "      <td>0.141986</td>\n",
       "      <td>0.136257</td>\n",
       "    </tr>\n",
       "  </tbody>\n",
       "</table>\n",
       "</div>"
      ],
      "text/plain": [
       "   train_mean  test_mean\n",
       "0    0.148638   0.142526\n",
       "1    0.144461   0.138239\n",
       "2    0.136747   0.148787\n",
       "3    0.143046   0.138700\n",
       "4    0.149514   0.143818\n",
       "5    0.141986   0.136257"
      ]
     },
     "execution_count": 120,
     "metadata": {},
     "output_type": "execute_result"
    }
   ],
   "source": [
    "pd.DataFrame(\n",
    "    [\n",
    "        cv_output1[2].mean().tolist(),\n",
    "        cv_output2[2].mean().tolist(),\n",
    "        cv_output3[2].mean().tolist(),\n",
    "        cv_output4[2].mean().tolist(),\n",
    "        cv_output5[2].mean().tolist(),\n",
    "        cv_output6[2].mean().tolist(),\n",
    "    ],\n",
    "    columns=[\"train_mean\", \"test_mean\"],\n",
    ")"
   ]
  },
  {
   "cell_type": "code",
   "execution_count": 121,
   "metadata": {},
   "outputs": [
    {
     "data": {
      "text/html": [
       "<div>\n",
       "<style scoped>\n",
       "    .dataframe tbody tr th:only-of-type {\n",
       "        vertical-align: middle;\n",
       "    }\n",
       "\n",
       "    .dataframe tbody tr th {\n",
       "        vertical-align: top;\n",
       "    }\n",
       "\n",
       "    .dataframe thead th {\n",
       "        text-align: right;\n",
       "    }\n",
       "</style>\n",
       "<table border=\"1\" class=\"dataframe\">\n",
       "  <thead>\n",
       "    <tr style=\"text-align: right;\">\n",
       "      <th></th>\n",
       "      <th>train_std</th>\n",
       "      <th>test_std</th>\n",
       "    </tr>\n",
       "  </thead>\n",
       "  <tbody>\n",
       "    <tr>\n",
       "      <th>0</th>\n",
       "      <td>0.002148</td>\n",
       "      <td>0.007698</td>\n",
       "    </tr>\n",
       "    <tr>\n",
       "      <th>1</th>\n",
       "      <td>0.002073</td>\n",
       "      <td>0.007095</td>\n",
       "    </tr>\n",
       "    <tr>\n",
       "      <th>2</th>\n",
       "      <td>0.000652</td>\n",
       "      <td>0.015131</td>\n",
       "    </tr>\n",
       "    <tr>\n",
       "      <th>3</th>\n",
       "      <td>0.001596</td>\n",
       "      <td>0.006490</td>\n",
       "    </tr>\n",
       "    <tr>\n",
       "      <th>4</th>\n",
       "      <td>0.001891</td>\n",
       "      <td>0.006824</td>\n",
       "    </tr>\n",
       "    <tr>\n",
       "      <th>5</th>\n",
       "      <td>0.002061</td>\n",
       "      <td>0.008037</td>\n",
       "    </tr>\n",
       "  </tbody>\n",
       "</table>\n",
       "</div>"
      ],
      "text/plain": [
       "   train_std  test_std\n",
       "0   0.002148  0.007698\n",
       "1   0.002073  0.007095\n",
       "2   0.000652  0.015131\n",
       "3   0.001596  0.006490\n",
       "4   0.001891  0.006824\n",
       "5   0.002061  0.008037"
      ]
     },
     "execution_count": 121,
     "metadata": {},
     "output_type": "execute_result"
    }
   ],
   "source": [
    "pd.DataFrame(\n",
    "    [\n",
    "        cv_output1[2].std().tolist(),\n",
    "        cv_output2[2].std().tolist(),\n",
    "        cv_output3[2].std().tolist(),\n",
    "        cv_output4[2].std().tolist(),\n",
    "        cv_output5[2].std().tolist(),\n",
    "        cv_output6[2].std().tolist(),\n",
    "    ],\n",
    "    columns=[\"train_std\", \"test_std\"],\n",
    ")"
   ]
  },
  {
   "cell_type": "markdown",
   "metadata": {},
   "source": [
    "4rd model seems to be the best based on our CV (we took int account mean and std score!!!)."
   ]
  },
  {
   "cell_type": "code",
   "execution_count": 122,
   "metadata": {},
   "outputs": [
    {
     "name": "stdout",
     "output_type": "stream",
     "text": [
      "['adv_cat_(874.5, inf]', 'diff_positive', 'str_cat_(0.0875, 0.192]', 'ta_log', 'WB_GDPpc', 'txt_cat_(0.488, 24.415]', 'txt_cat_(-34.811, 0.488]', 'gielda_2', 'ppe_clip', 'revenue_cat_(1248.817, 4233.587]', 'revenue_cat_(4233.587, inf]', 'pi_cat_(8108.5, inf]', 'revenue_cat_(0.174, 1248.817]', 'roa_clip', 'pi_cat_(-8975.0, -1.523]', 'pi_cat_(157.119, 465.9]', 'pi_cat_(465.9, 7875.5]', 'pi_cat_(-1.523, 157.119]']\n"
     ]
    }
   ],
   "source": [
    "print(pi_var)"
   ]
  },
  {
   "cell_type": "markdown",
   "metadata": {},
   "source": [
    "### Fit final model and save it"
   ]
  },
  {
   "cell_type": "code",
   "execution_count": 123,
   "metadata": {},
   "outputs": [
    {
     "data": {
      "text/html": [
       "<style>#sk-container-id-1 {color: black;background-color: white;}#sk-container-id-1 pre{padding: 0;}#sk-container-id-1 div.sk-toggleable {background-color: white;}#sk-container-id-1 label.sk-toggleable__label {cursor: pointer;display: block;width: 100%;margin-bottom: 0;padding: 0.3em;box-sizing: border-box;text-align: center;}#sk-container-id-1 label.sk-toggleable__label-arrow:before {content: \"▸\";float: left;margin-right: 0.25em;color: #696969;}#sk-container-id-1 label.sk-toggleable__label-arrow:hover:before {color: black;}#sk-container-id-1 div.sk-estimator:hover label.sk-toggleable__label-arrow:before {color: black;}#sk-container-id-1 div.sk-toggleable__content {max-height: 0;max-width: 0;overflow: hidden;text-align: left;background-color: #f0f8ff;}#sk-container-id-1 div.sk-toggleable__content pre {margin: 0.2em;color: black;border-radius: 0.25em;background-color: #f0f8ff;}#sk-container-id-1 input.sk-toggleable__control:checked~div.sk-toggleable__content {max-height: 200px;max-width: 100%;overflow: auto;}#sk-container-id-1 input.sk-toggleable__control:checked~label.sk-toggleable__label-arrow:before {content: \"▾\";}#sk-container-id-1 div.sk-estimator input.sk-toggleable__control:checked~label.sk-toggleable__label {background-color: #d4ebff;}#sk-container-id-1 div.sk-label input.sk-toggleable__control:checked~label.sk-toggleable__label {background-color: #d4ebff;}#sk-container-id-1 input.sk-hidden--visually {border: 0;clip: rect(1px 1px 1px 1px);clip: rect(1px, 1px, 1px, 1px);height: 1px;margin: -1px;overflow: hidden;padding: 0;position: absolute;width: 1px;}#sk-container-id-1 div.sk-estimator {font-family: monospace;background-color: #f0f8ff;border: 1px dotted black;border-radius: 0.25em;box-sizing: border-box;margin-bottom: 0.5em;}#sk-container-id-1 div.sk-estimator:hover {background-color: #d4ebff;}#sk-container-id-1 div.sk-parallel-item::after {content: \"\";width: 100%;border-bottom: 1px solid gray;flex-grow: 1;}#sk-container-id-1 div.sk-label:hover label.sk-toggleable__label {background-color: #d4ebff;}#sk-container-id-1 div.sk-serial::before {content: \"\";position: absolute;border-left: 1px solid gray;box-sizing: border-box;top: 0;bottom: 0;left: 50%;z-index: 0;}#sk-container-id-1 div.sk-serial {display: flex;flex-direction: column;align-items: center;background-color: white;padding-right: 0.2em;padding-left: 0.2em;position: relative;}#sk-container-id-1 div.sk-item {position: relative;z-index: 1;}#sk-container-id-1 div.sk-parallel {display: flex;align-items: stretch;justify-content: center;background-color: white;position: relative;}#sk-container-id-1 div.sk-item::before, #sk-container-id-1 div.sk-parallel-item::before {content: \"\";position: absolute;border-left: 1px solid gray;box-sizing: border-box;top: 0;bottom: 0;left: 50%;z-index: -1;}#sk-container-id-1 div.sk-parallel-item {display: flex;flex-direction: column;z-index: 1;position: relative;background-color: white;}#sk-container-id-1 div.sk-parallel-item:first-child::after {align-self: flex-end;width: 50%;}#sk-container-id-1 div.sk-parallel-item:last-child::after {align-self: flex-start;width: 50%;}#sk-container-id-1 div.sk-parallel-item:only-child::after {width: 0;}#sk-container-id-1 div.sk-dashed-wrapped {border: 1px dashed gray;margin: 0 0.4em 0.5em 0.4em;box-sizing: border-box;padding-bottom: 0.4em;background-color: white;}#sk-container-id-1 div.sk-label label {font-family: monospace;font-weight: bold;display: inline-block;line-height: 1.2em;}#sk-container-id-1 div.sk-label-container {text-align: center;}#sk-container-id-1 div.sk-container {/* jupyter's `normalize.less` sets `[hidden] { display: none; }` but bootstrap.min.css set `[hidden] { display: none !important; }` so we also need the `!important` here to be able to override the default hidden behavior on the sphinx rendered scikit-learn.org. See: https://github.com/scikit-learn/scikit-learn/issues/21755 */display: inline-block !important;position: relative;}#sk-container-id-1 div.sk-text-repr-fallback {display: none;}</style><div id=\"sk-container-id-1\" class=\"sk-top-container\"><div class=\"sk-text-repr-fallback\"><pre>LinearRegression()</pre><b>In a Jupyter environment, please rerun this cell to show the HTML representation or trust the notebook. <br />On GitHub, the HTML representation is unable to render, please try loading this page with nbviewer.org.</b></div><div class=\"sk-container\" hidden><div class=\"sk-item\"><div class=\"sk-estimator sk-toggleable\"><input class=\"sk-toggleable__control sk-hidden--visually\" id=\"sk-estimator-id-1\" type=\"checkbox\" checked><label for=\"sk-estimator-id-1\" class=\"sk-toggleable__label sk-toggleable__label-arrow\">LinearRegression</label><div class=\"sk-toggleable__content\"><pre>LinearRegression()</pre></div></div></div></div></div>"
      ],
      "text/plain": [
       "LinearRegression()"
      ]
     },
     "execution_count": 123,
     "metadata": {},
     "output_type": "execute_result"
    }
   ],
   "source": [
    "model = LinearRegression()\n",
    "model.fit(df.loc[:, pi_var].values, df.loc[:, \"etr\"].values.ravel())"
   ]
  },
  {
   "cell_type": "code",
   "execution_count": 125,
   "metadata": {},
   "outputs": [],
   "source": [
    "filename = \"../models/ols.sav\""
   ]
  },
  {
   "cell_type": "code",
   "execution_count": 126,
   "metadata": {},
   "outputs": [],
   "source": [
    "pickle.dump(model, open(filename, \"wb\"))"
   ]
  },
  {
   "cell_type": "code",
   "execution_count": null,
   "metadata": {},
   "outputs": [],
   "source": []
  }
 ],
 "metadata": {
  "kernelspec": {
   "display_name": "base",
   "language": "python",
   "name": "python3"
  },
  "language_info": {
   "codemirror_mode": {
    "name": "ipython",
    "version": 3
   },
   "file_extension": ".py",
   "mimetype": "text/x-python",
   "name": "python",
   "nbconvert_exporter": "python",
   "pygments_lexer": "ipython3",
   "version": "3.9.13"
  },
  "vscode": {
   "interpreter": {
    "hash": "bff0f7c864331389fa2ce0c5d534e26d0bfdbc8f9c927a5938dc8a191fde6d96"
   }
  }
 },
 "nbformat": 4,
 "nbformat_minor": 4
}
