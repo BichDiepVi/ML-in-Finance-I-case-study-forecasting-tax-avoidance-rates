{
 "cells": [
  {
   "cell_type": "markdown",
   "metadata": {},
   "source": [
    "# SVR"
   ]
  },
  {
   "cell_type": "markdown",
   "metadata": {},
   "source": [
    "We will apply following approach in case of SVR:\n",
    " * we will perform feature engineering - standardization\n",
    " * then we will find \"good enough\" parameters (in CV) to proceed feature selection procedure and after that we will have groups of feature candidates\n",
    " * then we will tune hyperparameters for each group of variables (in CV) - we will obtain couple of models\n",
    " * then we will compare all models based on so called \"proper CV\" and we will fit and picke the winner!"
   ]
  },
  {
   "cell_type": "markdown",
   "metadata": {},
   "source": [
    "We are aware of potential data leakage in case of usage KFold CV without time-series problem handling (in point 2 and 3). \n",
    "\n",
    "*To be honest in this problem it is not a big deal - based on our experience and we treat it like a feature!*\n",
    "\n",
    "During the last step of our procedure we will verify previous analysis based on \"proper CV\" which handle time-series properties!!! So during hyperparameters tuning we will use different CV (we fight against data leakage)."
   ]
  },
  {
   "cell_type": "markdown",
   "metadata": {},
   "source": [
    "### Dependencies loading"
   ]
  },
  {
   "cell_type": "code",
   "execution_count": 2,
   "metadata": {},
   "outputs": [],
   "source": [
    "import pandas as pd\n",
    "import numpy as np\n",
    "import matplotlib.pyplot as plt\n",
    "import seaborn as sns\n",
    "from sklearn.preprocessing import StandardScaler\n",
    "from sklearn.feature_selection import RFECV\n",
    "from sklearn.inspection import permutation_importance\n",
    "from sklearn.model_selection import KFold\n",
    "from sklearn.metrics import mean_squared_error\n",
    "from sklearn.metrics import make_scorer\n",
    "from mlxtend.feature_selection import SequentialFeatureSelector as SFS\n",
    "from sklearn.svm import SVR\n",
    "from sklearn.preprocessing import MinMaxScaler\n",
    "from sklearn.model_selection import cross_validate\n",
    "from sklearn.model_selection import GridSearchCV\n",
    "import pickle\n",
    "\n",
    "pd.set_option(\"display.max_columns\", 500)\n",
    "pd.set_option(\"display.max_rows\", 150)\n",
    "\n",
    "# np.random.seed(1916) #uncomment if you want your code to be reproducible; for the purposes of our activity, let's add some randomness to the results"
   ]
  },
  {
   "cell_type": "markdown",
   "metadata": {},
   "source": [
    "### Data loading"
   ]
  },
  {
   "cell_type": "code",
   "execution_count": 3,
   "metadata": {},
   "outputs": [],
   "source": [
    "preprocessed_output_data_path = \"../data/output\"\n",
    "\n",
    "df = pd.read_csv(f\"{preprocessed_output_data_path}/train_fe.csv\", index_col=0)\n",
    "\n",
    "fr = pd.read_excel(f\"{preprocessed_output_data_path}/feature_ranking.xlsx\", index_col=0)"
   ]
  },
  {
   "cell_type": "markdown",
   "metadata": {},
   "source": [
    "### Feature engineering for SVR model"
   ]
  },
  {
   "cell_type": "markdown",
   "metadata": {},
   "source": [
    "We have to standardize our variables. We will use z-score standardization!"
   ]
  },
  {
   "cell_type": "code",
   "execution_count": 4,
   "metadata": {},
   "outputs": [
    {
     "name": "stdout",
     "output_type": "stream",
     "text": [
      "['Ticker', 'Nazwa2', 'rok', 'ta', 'txt', 'pi', 'str', 'xrd', 'ni', 'ppent', 'intant', 'dlc', 'dltt', 'capex', 'revenue', 'cce', 'adv', 'etr', 'diff', 'roa', 'lev', 'intan', 'rd', 'ppe', 'sale', 'cash_holdings', 'adv_expenditure', 'capex2', 'cfc', 'dta', 'capex2_scaled', 'y_v2x_polyarchy', 'y_e_p_polity', 'y_BR_Democracy', 'WB_GDPgrowth', 'WB_GDPpc', 'WB_Inflation', 'rr_per_country', 'rr_per_sector', 'sektor_consumer discretionary', 'sektor_consumer staples', 'sektor_energy', 'sektor_health care', 'sektor_industrials', 'sektor_materials', 'sektor_real estate', 'sektor_technology', 'sektor_utilities', 'gielda_2', 'gielda_3', 'gielda_4', 'gielda_5', 'ta_log', 'txt_cat_(-63.011, -34.811]', 'txt_cat_(-34.811, 0.488]', 'txt_cat_(0.488, 24.415]', 'txt_cat_(24.415, 25.05]', 'txt_cat_(25.05, 308.55]', 'txt_cat_(308.55, 327.531]', 'txt_cat_(327.531, inf]', 'pi_cat_(-8975.0, -1.523]', 'pi_cat_(-1.523, 157.119]', 'pi_cat_(157.119, 465.9]', 'pi_cat_(465.9, 7875.5]', 'pi_cat_(7875.5, 8108.5]', 'pi_cat_(8108.5, inf]', 'str_cat_(0.0875, 0.192]', 'str_cat_(0.192, 0.28]', 'str_cat_(0.28, inf]', 'xrd_exists', 'ni_profit', 'ni_profit_20000', 'ppent_sqrt', 'intant_sqrt', 'dlc_cat_(42.262, 176.129]', 'dlc_cat_(176.129, 200.9]', 'dlc_cat_(200.9, inf]', 'dltt_cat_(39.38, 327.85]', 'dltt_cat_(327.85, 876.617]', 'dltt_cat_(876.617, inf]', 'capex_cat_(7.447, 79.55]', 'capex_cat_(79.55, 5451.0]', 'capex_cat_(5451.0, inf]', 'revenue_cat_(0.174, 1248.817]', 'revenue_cat_(1248.817, 4233.587]', 'revenue_cat_(4233.587, inf]', 'cce_cat_(5.619, 63.321]', 'cce_cat_(63.321, inf]', 'adv_cat_(0.3, 874.5]', 'adv_cat_(874.5, inf]', 'diff_positive', 'roa_clip', 'lev_sqrt', 'intan_pow2', 'rd_sqrt', 'ppe_clip', 'cash_holdings_sqrt', 'adv_expenditure_positive', 'diff_dta', 'cfc_dta', 'etr_y_past', 'etr_y_ma', 'diff_ma', 'roa_ma', 'lev_ma', 'intan_ma', 'ppe_ma', 'sale_ma', 'cash_holdings_ma', 'roa_past', 'lev_past', 'intan_past', 'ppe_past', 'sale_past', 'cash_holdings_past']\n"
     ]
    }
   ],
   "source": [
    "print(df.columns.tolist())"
   ]
  },
  {
   "cell_type": "code",
   "execution_count": 5,
   "metadata": {},
   "outputs": [],
   "source": [
    "columns = [\n",
    "    \"rok\",\n",
    "    \"ta\",\n",
    "    \"txt\",\n",
    "    \"pi\",\n",
    "    \"str\",\n",
    "    \"xrd\",\n",
    "    \"ni\",\n",
    "    \"ppent\",\n",
    "    \"intant\",\n",
    "    \"dlc\",\n",
    "    \"dltt\",\n",
    "    \"capex\",\n",
    "    \"revenue\",\n",
    "    \"cce\",\n",
    "    \"adv\",\n",
    "    \"etr\",\n",
    "    \"diff\",\n",
    "    \"roa\",\n",
    "    \"lev\",\n",
    "    \"intan\",\n",
    "    \"rd\",\n",
    "    \"ppe\",\n",
    "    \"sale\",\n",
    "    \"cash_holdings\",\n",
    "    \"adv_expenditure\",\n",
    "    \"capex2\",\n",
    "    \"cfc\",\n",
    "    \"dta\",\n",
    "    \"capex2_scaled\",\n",
    "    \"y_v2x_polyarchy\",\n",
    "    \"y_e_p_polity\",\n",
    "    \"y_BR_Democracy\",\n",
    "    \"WB_GDPgrowth\",\n",
    "    \"WB_GDPpc\",\n",
    "    \"WB_Inflation\",\n",
    "    \"rr_per_country\",\n",
    "    \"rr_per_sector\",\n",
    "    \"sektor_consumer discretionary\",\n",
    "    \"sektor_consumer staples\",\n",
    "    \"sektor_energy\",\n",
    "    \"sektor_health care\",\n",
    "    \"sektor_industrials\",\n",
    "    \"sektor_materials\",\n",
    "    \"sektor_real estate\",\n",
    "    \"sektor_technology\",\n",
    "    \"sektor_utilities\",\n",
    "    \"gielda_2\",\n",
    "    \"gielda_3\",\n",
    "    \"gielda_4\",\n",
    "    \"gielda_5\",\n",
    "    \"ta_log\",\n",
    "    \"txt_cat_(-63.011, -34.811]\",\n",
    "    \"txt_cat_(-34.811, 0.488]\",\n",
    "    \"txt_cat_(0.488, 24.415]\",\n",
    "    \"txt_cat_(24.415, 25.05]\",\n",
    "    \"txt_cat_(25.05, 308.55]\",\n",
    "    \"txt_cat_(308.55, 327.531]\",\n",
    "    \"txt_cat_(327.531, inf]\",\n",
    "    \"pi_cat_(-8975.0, -1.523]\",\n",
    "    \"pi_cat_(-1.523, 157.119]\",\n",
    "    \"pi_cat_(157.119, 465.9]\",\n",
    "    \"pi_cat_(465.9, 7875.5]\",\n",
    "    \"pi_cat_(7875.5, 8108.5]\",\n",
    "    \"pi_cat_(8108.5, inf]\",\n",
    "    \"str_cat_(0.0875, 0.192]\",\n",
    "    \"str_cat_(0.192, 0.28]\",\n",
    "    \"str_cat_(0.28, inf]\",\n",
    "    \"xrd_exists\",\n",
    "    \"ni_profit\",\n",
    "    \"ni_profit_20000\",\n",
    "    \"ppent_sqrt\",\n",
    "    \"intant_sqrt\",\n",
    "    \"dlc_cat_(42.262, 176.129]\",\n",
    "    \"dlc_cat_(176.129, 200.9]\",\n",
    "    \"dlc_cat_(200.9, inf]\",\n",
    "    \"dltt_cat_(39.38, 327.85]\",\n",
    "    \"dltt_cat_(327.85, 876.617]\",\n",
    "    \"dltt_cat_(876.617, inf]\",\n",
    "    \"capex_cat_(7.447, 79.55]\",\n",
    "    \"capex_cat_(79.55, 5451.0]\",\n",
    "    \"capex_cat_(5451.0, inf]\",\n",
    "    \"revenue_cat_(0.174, 1248.817]\",\n",
    "    \"revenue_cat_(1248.817, 4233.587]\",\n",
    "    \"revenue_cat_(4233.587, inf]\",\n",
    "    \"cce_cat_(5.619, 63.321]\",\n",
    "    \"cce_cat_(63.321, inf]\",\n",
    "    \"adv_cat_(0.3, 874.5]\",\n",
    "    \"adv_cat_(874.5, inf]\",\n",
    "    \"diff_positive\",\n",
    "    \"roa_clip\",\n",
    "    \"lev_sqrt\",\n",
    "    \"intan_pow2\",\n",
    "    \"rd_sqrt\",\n",
    "    \"ppe_clip\",\n",
    "    \"cash_holdings_sqrt\",\n",
    "    \"adv_expenditure_positive\",\n",
    "    \"diff_dta\",\n",
    "    \"cfc_dta\",\n",
    "    \"etr_y_past\",\n",
    "    \"etr_y_ma\",\n",
    "    \"diff_ma\",\n",
    "    \"roa_ma\",\n",
    "    \"lev_ma\",\n",
    "    \"intan_ma\",\n",
    "    \"ppe_ma\",\n",
    "    \"sale_ma\",\n",
    "    \"cash_holdings_ma\",\n",
    "    \"roa_past\",\n",
    "    \"lev_past\",\n",
    "    \"intan_past\",\n",
    "    \"ppe_past\",\n",
    "    \"sale_past\",\n",
    "    \"cash_holdings_past\",\n",
    "]"
   ]
  },
  {
   "cell_type": "code",
   "execution_count": 6,
   "metadata": {},
   "outputs": [],
   "source": [
    "standardization = list()\n",
    "not_standardization = list()\n",
    "for i in columns:\n",
    "    if df[i].nunique() > 2:\n",
    "        standardization.append(i)\n",
    "    else:\n",
    "        not_standardization.append(i)"
   ]
  },
  {
   "cell_type": "code",
   "execution_count": 7,
   "metadata": {},
   "outputs": [
    {
     "name": "stdout",
     "output_type": "stream",
     "text": [
      "['rok', 'ta', 'txt', 'pi', 'str', 'xrd', 'ni', 'ppent', 'intant', 'dlc', 'dltt', 'capex', 'revenue', 'cce', 'adv', 'etr', 'diff', 'roa', 'lev', 'intan', 'rd', 'ppe', 'sale', 'cash_holdings', 'adv_expenditure', 'capex2', 'capex2_scaled', 'y_v2x_polyarchy', 'WB_GDPgrowth', 'WB_GDPpc', 'WB_Inflation', 'rr_per_country', 'rr_per_sector', 'ta_log', 'ppent_sqrt', 'intant_sqrt', 'roa_clip', 'lev_sqrt', 'intan_pow2', 'rd_sqrt', 'ppe_clip', 'cash_holdings_sqrt', 'diff_dta', 'etr_y_past', 'etr_y_ma', 'diff_ma', 'roa_ma', 'lev_ma', 'intan_ma', 'ppe_ma', 'sale_ma', 'cash_holdings_ma', 'roa_past', 'lev_past', 'intan_past', 'ppe_past', 'sale_past', 'cash_holdings_past']\n"
     ]
    }
   ],
   "source": [
    "print(standardization)"
   ]
  },
  {
   "cell_type": "code",
   "execution_count": 8,
   "metadata": {},
   "outputs": [
    {
     "name": "stdout",
     "output_type": "stream",
     "text": [
      "['cfc', 'dta', 'y_e_p_polity', 'y_BR_Democracy', 'sektor_consumer discretionary', 'sektor_consumer staples', 'sektor_energy', 'sektor_health care', 'sektor_industrials', 'sektor_materials', 'sektor_real estate', 'sektor_technology', 'sektor_utilities', 'gielda_2', 'gielda_3', 'gielda_4', 'gielda_5', 'txt_cat_(-63.011, -34.811]', 'txt_cat_(-34.811, 0.488]', 'txt_cat_(0.488, 24.415]', 'txt_cat_(24.415, 25.05]', 'txt_cat_(25.05, 308.55]', 'txt_cat_(308.55, 327.531]', 'txt_cat_(327.531, inf]', 'pi_cat_(-8975.0, -1.523]', 'pi_cat_(-1.523, 157.119]', 'pi_cat_(157.119, 465.9]', 'pi_cat_(465.9, 7875.5]', 'pi_cat_(7875.5, 8108.5]', 'pi_cat_(8108.5, inf]', 'str_cat_(0.0875, 0.192]', 'str_cat_(0.192, 0.28]', 'str_cat_(0.28, inf]', 'xrd_exists', 'ni_profit', 'ni_profit_20000', 'dlc_cat_(42.262, 176.129]', 'dlc_cat_(176.129, 200.9]', 'dlc_cat_(200.9, inf]', 'dltt_cat_(39.38, 327.85]', 'dltt_cat_(327.85, 876.617]', 'dltt_cat_(876.617, inf]', 'capex_cat_(7.447, 79.55]', 'capex_cat_(79.55, 5451.0]', 'capex_cat_(5451.0, inf]', 'revenue_cat_(0.174, 1248.817]', 'revenue_cat_(1248.817, 4233.587]', 'revenue_cat_(4233.587, inf]', 'cce_cat_(5.619, 63.321]', 'cce_cat_(63.321, inf]', 'adv_cat_(0.3, 874.5]', 'adv_cat_(874.5, inf]', 'diff_positive', 'adv_expenditure_positive', 'cfc_dta']\n"
     ]
    }
   ],
   "source": [
    "print(not_standardization)"
   ]
  },
  {
   "cell_type": "code",
   "execution_count": 9,
   "metadata": {},
   "outputs": [],
   "source": [
    "standardization.remove(\"etr\")"
   ]
  },
  {
   "cell_type": "code",
   "execution_count": 10,
   "metadata": {},
   "outputs": [],
   "source": [
    "standardization.append(\"y_e_p_polity\")"
   ]
  },
  {
   "cell_type": "code",
   "execution_count": 11,
   "metadata": {},
   "outputs": [
    {
     "name": "stdout",
     "output_type": "stream",
     "text": [
      "['rok', 'ta', 'txt', 'pi', 'str', 'xrd', 'ni', 'ppent', 'intant', 'dlc', 'dltt', 'capex', 'revenue', 'cce', 'adv', 'diff', 'roa', 'lev', 'intan', 'rd', 'ppe', 'sale', 'cash_holdings', 'adv_expenditure', 'capex2', 'capex2_scaled', 'y_v2x_polyarchy', 'WB_GDPgrowth', 'WB_GDPpc', 'WB_Inflation', 'rr_per_country', 'rr_per_sector', 'ta_log', 'ppent_sqrt', 'intant_sqrt', 'roa_clip', 'lev_sqrt', 'intan_pow2', 'rd_sqrt', 'ppe_clip', 'cash_holdings_sqrt', 'diff_dta', 'etr_y_past', 'etr_y_ma', 'diff_ma', 'roa_ma', 'lev_ma', 'intan_ma', 'ppe_ma', 'sale_ma', 'cash_holdings_ma', 'roa_past', 'lev_past', 'intan_past', 'ppe_past', 'sale_past', 'cash_holdings_past', 'y_e_p_polity']\n"
     ]
    }
   ],
   "source": [
    "print(standardization)"
   ]
  },
  {
   "cell_type": "code",
   "execution_count": 12,
   "metadata": {},
   "outputs": [],
   "source": [
    "# df[standardization]= df[standardization].apply(lambda x: (x-x.mean())/x.std())"
   ]
  },
  {
   "cell_type": "code",
   "execution_count": 13,
   "metadata": {},
   "outputs": [],
   "source": [
    "scaler = StandardScaler()\n",
    "scaler.fit(df[standardization])\n",
    "df[standardization] = scaler.transform(df[standardization])"
   ]
  },
  {
   "cell_type": "code",
   "execution_count": 14,
   "metadata": {},
   "outputs": [],
   "source": [
    "pickle.dump(scaler, open(\"../models/standardscaler.sav\", \"wb\"))"
   ]
  },
  {
   "cell_type": "markdown",
   "metadata": {},
   "source": [
    "### Searching for \"good enough\" model to feature selection"
   ]
  },
  {
   "cell_type": "code",
   "execution_count": 15,
   "metadata": {},
   "outputs": [],
   "source": [
    "var = fr.mi_score.sort_values(ascending=False).index.tolist()[0:10]"
   ]
  },
  {
   "cell_type": "code",
   "execution_count": 16,
   "metadata": {},
   "outputs": [
    {
     "name": "stdout",
     "output_type": "stream",
     "text": [
      "['etr_y_past', 'etr_y_ma', 'txt', 'diff', 'ni', 'pi', 'intant', 'intant_sqrt', 'ta', 'revenue']\n"
     ]
    }
   ],
   "source": [
    "print(var)"
   ]
  },
  {
   "cell_type": "code",
   "execution_count": 23,
   "metadata": {},
   "outputs": [],
   "source": [
    "param = {\n",
    "    \"kernel\": [\"linear\", \"poly\", \"rbf\", \"sigmoid\"],\n",
    "    \"degree\": [1, 2, 3],\n",
    "    \"C\": [0.01, 0.1, 0.25, 0.5, 1, 2, 5, 10],\n",
    "    \"epsilon\": [0.01, 0.1, 0.25, 0.5, 1, 2, 5, 10],\n",
    "    \"cache_size\": [500],\n",
    "}"
   ]
  },
  {
   "cell_type": "code",
   "execution_count": 24,
   "metadata": {},
   "outputs": [],
   "source": [
    "mse = make_scorer(mean_squared_error, greater_is_better=False)"
   ]
  },
  {
   "cell_type": "markdown",
   "metadata": {},
   "source": [
    "Unfortunately above procedure will take too much time. We have to deal with it :("
   ]
  },
  {
   "cell_type": "code",
   "execution_count": 25,
   "metadata": {},
   "outputs": [
    {
     "data": {
      "text/html": [
       "<style>#sk-container-id-2 {color: black;background-color: white;}#sk-container-id-2 pre{padding: 0;}#sk-container-id-2 div.sk-toggleable {background-color: white;}#sk-container-id-2 label.sk-toggleable__label {cursor: pointer;display: block;width: 100%;margin-bottom: 0;padding: 0.3em;box-sizing: border-box;text-align: center;}#sk-container-id-2 label.sk-toggleable__label-arrow:before {content: \"▸\";float: left;margin-right: 0.25em;color: #696969;}#sk-container-id-2 label.sk-toggleable__label-arrow:hover:before {color: black;}#sk-container-id-2 div.sk-estimator:hover label.sk-toggleable__label-arrow:before {color: black;}#sk-container-id-2 div.sk-toggleable__content {max-height: 0;max-width: 0;overflow: hidden;text-align: left;background-color: #f0f8ff;}#sk-container-id-2 div.sk-toggleable__content pre {margin: 0.2em;color: black;border-radius: 0.25em;background-color: #f0f8ff;}#sk-container-id-2 input.sk-toggleable__control:checked~div.sk-toggleable__content {max-height: 200px;max-width: 100%;overflow: auto;}#sk-container-id-2 input.sk-toggleable__control:checked~label.sk-toggleable__label-arrow:before {content: \"▾\";}#sk-container-id-2 div.sk-estimator input.sk-toggleable__control:checked~label.sk-toggleable__label {background-color: #d4ebff;}#sk-container-id-2 div.sk-label input.sk-toggleable__control:checked~label.sk-toggleable__label {background-color: #d4ebff;}#sk-container-id-2 input.sk-hidden--visually {border: 0;clip: rect(1px 1px 1px 1px);clip: rect(1px, 1px, 1px, 1px);height: 1px;margin: -1px;overflow: hidden;padding: 0;position: absolute;width: 1px;}#sk-container-id-2 div.sk-estimator {font-family: monospace;background-color: #f0f8ff;border: 1px dotted black;border-radius: 0.25em;box-sizing: border-box;margin-bottom: 0.5em;}#sk-container-id-2 div.sk-estimator:hover {background-color: #d4ebff;}#sk-container-id-2 div.sk-parallel-item::after {content: \"\";width: 100%;border-bottom: 1px solid gray;flex-grow: 1;}#sk-container-id-2 div.sk-label:hover label.sk-toggleable__label {background-color: #d4ebff;}#sk-container-id-2 div.sk-serial::before {content: \"\";position: absolute;border-left: 1px solid gray;box-sizing: border-box;top: 0;bottom: 0;left: 50%;z-index: 0;}#sk-container-id-2 div.sk-serial {display: flex;flex-direction: column;align-items: center;background-color: white;padding-right: 0.2em;padding-left: 0.2em;position: relative;}#sk-container-id-2 div.sk-item {position: relative;z-index: 1;}#sk-container-id-2 div.sk-parallel {display: flex;align-items: stretch;justify-content: center;background-color: white;position: relative;}#sk-container-id-2 div.sk-item::before, #sk-container-id-2 div.sk-parallel-item::before {content: \"\";position: absolute;border-left: 1px solid gray;box-sizing: border-box;top: 0;bottom: 0;left: 50%;z-index: -1;}#sk-container-id-2 div.sk-parallel-item {display: flex;flex-direction: column;z-index: 1;position: relative;background-color: white;}#sk-container-id-2 div.sk-parallel-item:first-child::after {align-self: flex-end;width: 50%;}#sk-container-id-2 div.sk-parallel-item:last-child::after {align-self: flex-start;width: 50%;}#sk-container-id-2 div.sk-parallel-item:only-child::after {width: 0;}#sk-container-id-2 div.sk-dashed-wrapped {border: 1px dashed gray;margin: 0 0.4em 0.5em 0.4em;box-sizing: border-box;padding-bottom: 0.4em;background-color: white;}#sk-container-id-2 div.sk-label label {font-family: monospace;font-weight: bold;display: inline-block;line-height: 1.2em;}#sk-container-id-2 div.sk-label-container {text-align: center;}#sk-container-id-2 div.sk-container {/* jupyter's `normalize.less` sets `[hidden] { display: none; }` but bootstrap.min.css set `[hidden] { display: none !important; }` so we also need the `!important` here to be able to override the default hidden behavior on the sphinx rendered scikit-learn.org. See: https://github.com/scikit-learn/scikit-learn/issues/21755 */display: inline-block !important;position: relative;}#sk-container-id-2 div.sk-text-repr-fallback {display: none;}</style><div id=\"sk-container-id-2\" class=\"sk-top-container\"><div class=\"sk-text-repr-fallback\"><pre>GridSearchCV(cv=5, estimator=SVR(), n_jobs=-1,\n",
       "             param_grid={&#x27;degree&#x27;: [1, 2, 3],\n",
       "                         &#x27;kernel&#x27;: [&#x27;linear&#x27;, &#x27;poly&#x27;, &#x27;rbf&#x27;, &#x27;sigmoid&#x27;]},\n",
       "             return_train_score=True,\n",
       "             scoring=make_scorer(mean_squared_error, greater_is_better=False))</pre><b>In a Jupyter environment, please rerun this cell to show the HTML representation or trust the notebook. <br />On GitHub, the HTML representation is unable to render, please try loading this page with nbviewer.org.</b></div><div class=\"sk-container\" hidden><div class=\"sk-item sk-dashed-wrapped\"><div class=\"sk-label-container\"><div class=\"sk-label sk-toggleable\"><input class=\"sk-toggleable__control sk-hidden--visually\" id=\"sk-estimator-id-4\" type=\"checkbox\" ><label for=\"sk-estimator-id-4\" class=\"sk-toggleable__label sk-toggleable__label-arrow\">GridSearchCV</label><div class=\"sk-toggleable__content\"><pre>GridSearchCV(cv=5, estimator=SVR(), n_jobs=-1,\n",
       "             param_grid={&#x27;degree&#x27;: [1, 2, 3],\n",
       "                         &#x27;kernel&#x27;: [&#x27;linear&#x27;, &#x27;poly&#x27;, &#x27;rbf&#x27;, &#x27;sigmoid&#x27;]},\n",
       "             return_train_score=True,\n",
       "             scoring=make_scorer(mean_squared_error, greater_is_better=False))</pre></div></div></div><div class=\"sk-parallel\"><div class=\"sk-parallel-item\"><div class=\"sk-item\"><div class=\"sk-label-container\"><div class=\"sk-label sk-toggleable\"><input class=\"sk-toggleable__control sk-hidden--visually\" id=\"sk-estimator-id-5\" type=\"checkbox\" ><label for=\"sk-estimator-id-5\" class=\"sk-toggleable__label sk-toggleable__label-arrow\">estimator: SVR</label><div class=\"sk-toggleable__content\"><pre>SVR()</pre></div></div></div><div class=\"sk-serial\"><div class=\"sk-item\"><div class=\"sk-estimator sk-toggleable\"><input class=\"sk-toggleable__control sk-hidden--visually\" id=\"sk-estimator-id-6\" type=\"checkbox\" ><label for=\"sk-estimator-id-6\" class=\"sk-toggleable__label sk-toggleable__label-arrow\">SVR</label><div class=\"sk-toggleable__content\"><pre>SVR()</pre></div></div></div></div></div></div></div></div></div></div>"
      ],
      "text/plain": [
       "GridSearchCV(cv=5, estimator=SVR(), n_jobs=-1,\n",
       "             param_grid={'degree': [1, 2, 3],\n",
       "                         'kernel': ['linear', 'poly', 'rbf', 'sigmoid']},\n",
       "             return_train_score=True,\n",
       "             scoring=make_scorer(mean_squared_error, greater_is_better=False))"
      ]
     },
     "execution_count": 25,
     "metadata": {},
     "output_type": "execute_result"
    }
   ],
   "source": [
    "param = {\"kernel\": [\"linear\", \"poly\", \"rbf\", \"sigmoid\"], \"degree\": [1, 2, 3]}\n",
    "model = SVR()\n",
    "grid_CV = GridSearchCV(\n",
    "    model, param, cv=5, scoring=mse, return_train_score=True, n_jobs=-1\n",
    ")\n",
    "grid_CV.fit(df.loc[:, var].values, df.loc[:, \"etr\"].values.ravel())"
   ]
  },
  {
   "cell_type": "code",
   "execution_count": 26,
   "metadata": {},
   "outputs": [
    {
     "data": {
      "text/plain": [
       "{'degree': 1, 'kernel': 'rbf'}"
      ]
     },
     "execution_count": 26,
     "metadata": {},
     "output_type": "execute_result"
    }
   ],
   "source": [
    "grid_CV.best_params_"
   ]
  },
  {
   "cell_type": "code",
   "execution_count": 27,
   "metadata": {},
   "outputs": [
    {
     "name": "stdout",
     "output_type": "stream",
     "text": [
      "0.14327939515042282\n",
      "[0.1465951278474606, 0.14593945569249792, 0.1439720733606676, 0.13824579432321327, 0.1416445245282746]\n",
      "0.16254436037277387\n",
      "[0.13563839215510284, 0.13672868331284194, 0.13975607376036572, 0.24837142597129938, 0.15222722666425947]\n"
     ]
    }
   ],
   "source": [
    "kf = KFold(n_splits=5)\n",
    "rmse_l = list()\n",
    "rmse_t_l = list()\n",
    "model = SVR(\n",
    "    kernel=\"linear\",\n",
    "    tol=0.001,\n",
    "    C=1,\n",
    "    epsilon=0.1,\n",
    "    shrinking=True,\n",
    "    cache_size=500,\n",
    "    verbose=False,\n",
    "    max_iter=-1,\n",
    ")\n",
    "\n",
    "for train, test in kf.split(df.index.values):\n",
    "    X = df.iloc[train].copy()\n",
    "    model.fit(X[var].values, X[\"etr\"].values)\n",
    "    pred_y_train = model.predict(X[var].values)\n",
    "    rmse_t = np.sqrt(mean_squared_error(df.iloc[train][\"etr\"].values, pred_y_train))\n",
    "    rmse_t_l.append(rmse_t)\n",
    "\n",
    "    pred_y_test = model.predict(df.iloc[test][var].values)\n",
    "    rmse = np.sqrt(mean_squared_error(df.iloc[test][\"etr\"].values, pred_y_test))\n",
    "    rmse_l.append(rmse)\n",
    "\n",
    "#     print(rmse_t, rmse)\n",
    "\n",
    "print(np.mean(rmse_t_l))\n",
    "print(rmse_t_l)\n",
    "print(np.mean(rmse_l))\n",
    "print(rmse_l)"
   ]
  },
  {
   "cell_type": "code",
   "execution_count": 28,
   "metadata": {},
   "outputs": [
    {
     "name": "stdout",
     "output_type": "stream",
     "text": [
      "0.13450210931547166\n",
      "[0.13947007647404727, 0.13546250495394987, 0.13542510906082467, 0.12994542265852593, 0.1322074334300106]\n",
      "0.14682436927907966\n",
      "[0.13090333865620085, 0.14462122117596826, 0.14092458048748313, 0.1648006009490234, 0.15287210512672264]\n"
     ]
    }
   ],
   "source": [
    "kf = KFold(n_splits=5)\n",
    "rmse_l = list()\n",
    "rmse_t_l = list()\n",
    "model = SVR(\n",
    "    kernel=\"rbf\",\n",
    "    tol=0.001,\n",
    "    C=1,\n",
    "    epsilon=0.1,\n",
    "    shrinking=True,\n",
    "    cache_size=500,\n",
    "    verbose=False,\n",
    "    max_iter=-1,\n",
    ")\n",
    "\n",
    "for train, test in kf.split(df.index.values):\n",
    "    X = df.iloc[train].copy()\n",
    "    model.fit(X[var].values, X[\"etr\"].values)\n",
    "    pred_y_train = model.predict(X[var].values)\n",
    "    rmse_t = np.sqrt(mean_squared_error(df.iloc[train][\"etr\"].values, pred_y_train))\n",
    "    rmse_t_l.append(rmse_t)\n",
    "\n",
    "    pred_y_test = model.predict(df.iloc[test][var].values)\n",
    "    rmse = np.sqrt(mean_squared_error(df.iloc[test][\"etr\"].values, pred_y_test))\n",
    "    rmse_l.append(rmse)\n",
    "\n",
    "#     print(rmse_t, rmse)\n",
    "\n",
    "print(np.mean(rmse_t_l))\n",
    "print(rmse_t_l)\n",
    "print(np.mean(rmse_l))\n",
    "print(rmse_l)"
   ]
  },
  {
   "cell_type": "code",
   "execution_count": 29,
   "metadata": {},
   "outputs": [
    {
     "name": "stdout",
     "output_type": "stream",
     "text": [
      "0.14197135680059203\n",
      "[0.14507426507011167, 0.14325868861032176, 0.14361416456786905, 0.13771763412791443, 0.14019203162674335]\n",
      "1.8403272456124165\n",
      "[1.0174547530600375, 0.23404708266234522, 0.1493213346086361, 7.609715186182617, 0.19109787154844532]\n"
     ]
    }
   ],
   "source": [
    "kf = KFold(n_splits=5)\n",
    "rmse_l = list()\n",
    "rmse_t_l = list()\n",
    "model = SVR(\n",
    "    kernel=\"poly\",\n",
    "    tol=0.001,\n",
    "    C=1,\n",
    "    epsilon=0.1,\n",
    "    shrinking=True,\n",
    "    cache_size=500,\n",
    "    verbose=False,\n",
    "    max_iter=-1,\n",
    ")\n",
    "\n",
    "for train, test in kf.split(df.index.values):\n",
    "    X = df.iloc[train].copy()\n",
    "    model.fit(X[var].values, X[\"etr\"].values)\n",
    "    pred_y_train = model.predict(X[var].values)\n",
    "    rmse_t = np.sqrt(mean_squared_error(df.iloc[train][\"etr\"].values, pred_y_train))\n",
    "    rmse_t_l.append(rmse_t)\n",
    "\n",
    "    pred_y_test = model.predict(df.iloc[test][var].values)\n",
    "    rmse = np.sqrt(mean_squared_error(df.iloc[test][\"etr\"].values, pred_y_test))\n",
    "    rmse_l.append(rmse)\n",
    "\n",
    "#     print(rmse_t, rmse)\n",
    "\n",
    "print(np.mean(rmse_t_l))\n",
    "print(rmse_t_l)\n",
    "print(np.mean(rmse_l))\n",
    "print(rmse_l)"
   ]
  },
  {
   "cell_type": "code",
   "execution_count": 30,
   "metadata": {},
   "outputs": [
    {
     "name": "stdout",
     "output_type": "stream",
     "text": [
      "0.14197135680059203\n",
      "[0.14507426507011167, 0.14325868861032176, 0.14361416456786905, 0.13771763412791443, 0.14019203162674335]\n",
      "1.8403272456124165\n",
      "[1.0174547530600375, 0.23404708266234522, 0.1493213346086361, 7.609715186182617, 0.19109787154844532]\n"
     ]
    }
   ],
   "source": [
    "kf = KFold(n_splits=5)\n",
    "rmse_l = list()\n",
    "rmse_t_l = list()\n",
    "model = SVR(\n",
    "    kernel=\"poly\",\n",
    "    degree=3,\n",
    "    tol=0.001,\n",
    "    C=1,\n",
    "    epsilon=0.1,\n",
    "    shrinking=True,\n",
    "    cache_size=500,\n",
    "    verbose=False,\n",
    "    max_iter=-1,\n",
    ")\n",
    "\n",
    "for train, test in kf.split(df.index.values):\n",
    "    X = df.iloc[train].copy()\n",
    "    model.fit(X[var].values, X[\"etr\"].values)\n",
    "    pred_y_train = model.predict(X[var].values)\n",
    "    rmse_t = np.sqrt(mean_squared_error(df.iloc[train][\"etr\"].values, pred_y_train))\n",
    "    rmse_t_l.append(rmse_t)\n",
    "\n",
    "    pred_y_test = model.predict(df.iloc[test][var].values)\n",
    "    rmse = np.sqrt(mean_squared_error(df.iloc[test][\"etr\"].values, pred_y_test))\n",
    "    rmse_l.append(rmse)\n",
    "\n",
    "#     print(rmse_t, rmse)\n",
    "\n",
    "print(np.mean(rmse_t_l))\n",
    "print(rmse_t_l)\n",
    "print(np.mean(rmse_l))\n",
    "print(rmse_l)"
   ]
  },
  {
   "cell_type": "code",
   "execution_count": 31,
   "metadata": {},
   "outputs": [
    {
     "name": "stdout",
     "output_type": "stream",
     "text": [
      "43.84164120780724\n",
      "[47.46607898392438, 41.49796576782989, 43.720809421618526, 42.39961145666728, 44.12374040899612]\n",
      "39.680126970973056\n",
      "[58.528276865807854, 38.58374060713013, 23.144138539791403, 47.20237258003376, 30.94210626210213]\n"
     ]
    }
   ],
   "source": [
    "kf = KFold(n_splits=5)\n",
    "rmse_l = list()\n",
    "rmse_t_l = list()\n",
    "model = SVR(\n",
    "    kernel=\"sigmoid\",\n",
    "    tol=0.001,\n",
    "    C=1,\n",
    "    epsilon=0.1,\n",
    "    shrinking=True,\n",
    "    cache_size=500,\n",
    "    verbose=False,\n",
    "    max_iter=-1,\n",
    ")\n",
    "\n",
    "for train, test in kf.split(df.index.values):\n",
    "    X = df.iloc[train].copy()\n",
    "    model.fit(X[var].values, X[\"etr\"].values)\n",
    "    pred_y_train = model.predict(X[var].values)\n",
    "    rmse_t = np.sqrt(mean_squared_error(df.iloc[train][\"etr\"].values, pred_y_train))\n",
    "    rmse_t_l.append(rmse_t)\n",
    "\n",
    "    pred_y_test = model.predict(df.iloc[test][var].values)\n",
    "    rmse = np.sqrt(mean_squared_error(df.iloc[test][\"etr\"].values, pred_y_test))\n",
    "    rmse_l.append(rmse)\n",
    "\n",
    "#     print(rmse_t, rmse)\n",
    "\n",
    "print(np.mean(rmse_t_l))\n",
    "print(rmse_t_l)\n",
    "print(np.mean(rmse_l))\n",
    "print(rmse_l)"
   ]
  },
  {
   "cell_type": "markdown",
   "metadata": {},
   "source": [
    "We see that results from sklearn gridsearch and our own procedure of CV are the same!"
   ]
  },
  {
   "cell_type": "markdown",
   "metadata": {},
   "source": [
    "Let's build such a intuition in case of parameters for C and epsilon."
   ]
  },
  {
   "cell_type": "code",
   "execution_count": 36,
   "metadata": {},
   "outputs": [
    {
     "name": "stdout",
     "output_type": "stream",
     "text": [
      "0.01\n",
      "0.1420033189967873\n",
      "[0.145293778022781, 0.14383543036951082, 0.14278487770511328, 0.13852507847084267, 0.13957743041568868]\n",
      "0.1429878844431951\n",
      "[0.13168638607874633, 0.1366093517921841, 0.1373477660356689, 0.15787057604234836, 0.15142534226702792]\n",
      "\n",
      "\n",
      "0.1\n",
      "0.13998208263822012\n",
      "[0.14355307251377133, 0.14168705080583865, 0.14066767576521225, 0.13624356909194044, 0.13775904501433792]\n",
      "0.14398191086142326\n",
      "[0.13274132659425242, 0.1378239522766735, 0.13845251837606667, 0.1592603170615792, 0.15163143999854456]\n",
      "\n",
      "\n",
      "0.25\n",
      "0.13826295514957493\n",
      "[0.14224884776844818, 0.1396560826950291, 0.13896196887141965, 0.134272536981566, 0.13617533943141166]\n",
      "0.14447967468127784\n",
      "[0.13248515130688662, 0.13879892250381912, 0.13907360907962868, 0.16027515348582433, 0.15176553703023046]\n",
      "\n",
      "\n",
      "0.5\n",
      "0.1363467708369912\n",
      "[0.14089449455853187, 0.13744378291845047, 0.13722823838733494, 0.131883344298254, 0.1342839940223848]\n",
      "0.14536109473137232\n",
      "[0.1322737697792047, 0.141076553322157, 0.13967433213484215, 0.1619781899941994, 0.15180262842645845]\n",
      "\n",
      "\n",
      "1\n",
      "0.13450210931547166\n",
      "[0.13947007647404727, 0.13546250495394987, 0.13542510906082467, 0.12994542265852593, 0.1322074334300106]\n",
      "0.14682436927907966\n",
      "[0.13090333865620085, 0.14462122117596826, 0.14092458048748313, 0.1648006009490234, 0.15287210512672264]\n",
      "\n",
      "\n",
      "2\n",
      "0.13302049238648572\n",
      "[0.13774218500917376, 0.1343210111618923, 0.13371950746322392, 0.1287914917319327, 0.13052826656620603]\n",
      "0.1483286056197155\n",
      "[0.13028058921781593, 0.14731651443338434, 0.14249068004950208, 0.1675783667749141, 0.15397687762296114]\n",
      "\n",
      "\n",
      "5\n",
      "0.131169908977978\n",
      "[0.13526912027774773, 0.13281201400564518, 0.1320172071381539, 0.12695646400812294, 0.1287947394602202]\n",
      "0.14977407218149957\n",
      "[0.1294338346436112, 0.1510009893478022, 0.14370894589655683, 0.16977715114104017, 0.15494943987848744]\n",
      "\n",
      "\n",
      "10\n",
      "0.12977217638609678\n",
      "[0.13389147018482003, 0.13164435471514915, 0.1307966691114975, 0.12537287519120768, 0.12715551272780945]\n",
      "0.1510922024548647\n",
      "[0.12890924067821422, 0.15404646264412483, 0.14466349553342767, 0.17200971669500642, 0.15583209672355033]\n",
      "\n",
      "\n"
     ]
    }
   ],
   "source": [
    "for c in [0.01, 0.1, 0.25, 0.5, 1, 2, 5, 10]:\n",
    "    kf = KFold(n_splits=5)\n",
    "    rmse_l = list()\n",
    "    rmse_t_l = list()\n",
    "    model = SVR(\n",
    "        kernel=\"rbf\",\n",
    "        tol=0.001,\n",
    "        C=c,\n",
    "        epsilon=0.1,\n",
    "        shrinking=True,\n",
    "        cache_size=500,\n",
    "        verbose=False,\n",
    "        max_iter=-1,\n",
    "    )\n",
    "\n",
    "    for train, test in kf.split(df.index.values):\n",
    "        X = df.iloc[train].copy()\n",
    "        model.fit(X[var].values, X[\"etr\"].values)\n",
    "        pred_y_train = model.predict(X[var].values)\n",
    "        rmse_t = np.sqrt(mean_squared_error(df.iloc[train][\"etr\"].values, pred_y_train))\n",
    "        rmse_t_l.append(rmse_t)\n",
    "\n",
    "        pred_y_test = model.predict(df.iloc[test][var].values)\n",
    "        rmse = np.sqrt(mean_squared_error(df.iloc[test][\"etr\"].values, pred_y_test))\n",
    "        rmse_l.append(rmse)\n",
    "\n",
    "    #     print(rmse_t, rmse)\n",
    "    print(c)\n",
    "    print(np.mean(rmse_t_l))\n",
    "    print(rmse_t_l)\n",
    "    print(np.mean(rmse_l))\n",
    "    print(rmse_l)\n",
    "    print(\"\\n\")"
   ]
  },
  {
   "cell_type": "code",
   "execution_count": 37,
   "metadata": {},
   "outputs": [
    {
     "name": "stdout",
     "output_type": "stream",
     "text": [
      "0.01\n",
      "0.14138007348381199\n",
      "[0.14497663815281236, 0.14340239846947173, 0.1424327891241189, 0.13722549863156794, 0.13886304304108898]\n",
      "0.14228204383870285\n",
      "[0.1300138298751914, 0.13611868697899196, 0.13813266388380094, 0.15685583842798753, 0.15028920002754242]\n",
      "\n",
      "\n",
      "0.1\n",
      "0.1420033189967873\n",
      "[0.145293778022781, 0.14383543036951082, 0.14278487770511328, 0.13852507847084267, 0.13957743041568868]\n",
      "0.1429878844431951\n",
      "[0.13168638607874633, 0.1366093517921841, 0.1373477660356689, 0.15787057604234836, 0.15142534226702792]\n",
      "\n",
      "\n",
      "0.25\n",
      "0.15683266303507887\n",
      "[0.1589188696222363, 0.15921884243149123, 0.15776659754986283, 0.15393946598545113, 0.15431953958635286]\n",
      "0.15696371275170629\n",
      "[0.14882381782454704, 0.14767486987736939, 0.15155902691936207, 0.1678594516701592, 0.16890139746709365]\n",
      "\n",
      "\n",
      "0.5\n",
      "0.32388509719541736\n",
      "[0.32520531078076087, 0.3270158248991175, 0.321673546723654, 0.3229354409860673, 0.32259536258748694]\n",
      "0.3237976943652259\n",
      "[0.31858199098417506, 0.311085227092855, 0.33260676521270166, 0.32768804201378193, 0.32902644652261553]\n",
      "\n",
      "\n",
      "1\n",
      "0.32388509719541736\n",
      "[0.32520531078076087, 0.3270158248991175, 0.321673546723654, 0.3229354409860673, 0.32259536258748694]\n",
      "0.3237976943652259\n",
      "[0.31858199098417506, 0.311085227092855, 0.33260676521270166, 0.32768804201378193, 0.32902644652261553]\n",
      "\n",
      "\n",
      "2\n",
      "0.32388509719541736\n",
      "[0.32520531078076087, 0.3270158248991175, 0.321673546723654, 0.3229354409860673, 0.32259536258748694]\n",
      "0.3237976943652259\n",
      "[0.31858199098417506, 0.311085227092855, 0.33260676521270166, 0.32768804201378193, 0.32902644652261553]\n",
      "\n",
      "\n",
      "5\n",
      "0.32388509719541736\n",
      "[0.32520531078076087, 0.3270158248991175, 0.321673546723654, 0.3229354409860673, 0.32259536258748694]\n",
      "0.3237976943652259\n",
      "[0.31858199098417506, 0.311085227092855, 0.33260676521270166, 0.32768804201378193, 0.32902644652261553]\n",
      "\n",
      "\n",
      "10\n",
      "0.32388509719541736\n",
      "[0.32520531078076087, 0.3270158248991175, 0.321673546723654, 0.3229354409860673, 0.32259536258748694]\n",
      "0.3237976943652259\n",
      "[0.31858199098417506, 0.311085227092855, 0.33260676521270166, 0.32768804201378193, 0.32902644652261553]\n",
      "\n",
      "\n"
     ]
    }
   ],
   "source": [
    "for e in [0.01, 0.1, 0.25, 0.5, 1, 2, 5, 10]:\n",
    "    kf = KFold(n_splits=5)\n",
    "    rmse_l = list()\n",
    "    rmse_t_l = list()\n",
    "    model = SVR(\n",
    "        kernel=\"rbf\",\n",
    "        tol=0.001,\n",
    "        C=10,\n",
    "        epsilon=e,\n",
    "        shrinking=True,\n",
    "        cache_size=500,\n",
    "        verbose=False,\n",
    "        max_iter=-1,\n",
    "    )\n",
    "\n",
    "    for train, test in kf.split(df.index.values):\n",
    "        X = df.iloc[train].copy()\n",
    "        model.fit(X[var].values, X[\"etr\"].values)\n",
    "        pred_y_train = model.predict(X[var].values)\n",
    "        rmse_t = np.sqrt(mean_squared_error(df.iloc[train][\"etr\"].values, pred_y_train))\n",
    "        rmse_t_l.append(rmse_t)\n",
    "\n",
    "        pred_y_test = model.predict(df.iloc[test][var].values)\n",
    "        rmse = np.sqrt(mean_squared_error(df.iloc[test][\"etr\"].values, pred_y_test))\n",
    "        rmse_l.append(rmse)\n",
    "\n",
    "    #     print(rmse_t, rmse)\n",
    "    print(e)\n",
    "    print(np.mean(rmse_t_l))\n",
    "    print(rmse_t_l)\n",
    "    print(np.mean(rmse_l))\n",
    "    print(rmse_l)\n",
    "    print(\"\\n\")"
   ]
  },
  {
   "cell_type": "markdown",
   "metadata": {},
   "source": [
    "Our quasi final model for this procedure:"
   ]
  },
  {
   "cell_type": "code",
   "execution_count": 39,
   "metadata": {},
   "outputs": [],
   "source": [
    "model = SVR(\n",
    "    kernel=\"rbf\",\n",
    "    C=10,\n",
    "    epsilon=0.1,\n",
    "    shrinking=True,\n",
    "    cache_size=500,\n",
    "    verbose=False,\n",
    "    max_iter=-1,\n",
    ")"
   ]
  },
  {
   "cell_type": "markdown",
   "metadata": {},
   "source": [
    "### Feature selection for SVR"
   ]
  },
  {
   "cell_type": "markdown",
   "metadata": {},
   "source": [
    "We would like to base our feature selection on:\n",
    " * feature ranking\n",
    " * forward elimination\n",
    " * recursive feature elimination - using \"linear\" kernel"
   ]
  },
  {
   "cell_type": "markdown",
   "metadata": {},
   "source": [
    "#### Feature ranking"
   ]
  },
  {
   "cell_type": "code",
   "execution_count": 40,
   "metadata": {},
   "outputs": [],
   "source": [
    "fr.sort_values(\"mi_score\", ascending=False, inplace=True)"
   ]
  },
  {
   "cell_type": "code",
   "execution_count": 41,
   "metadata": {},
   "outputs": [
    {
     "data": {
      "text/html": [
       "<div>\n",
       "<style scoped>\n",
       "    .dataframe tbody tr th:only-of-type {\n",
       "        vertical-align: middle;\n",
       "    }\n",
       "\n",
       "    .dataframe tbody tr th {\n",
       "        vertical-align: top;\n",
       "    }\n",
       "\n",
       "    .dataframe thead th {\n",
       "        text-align: right;\n",
       "    }\n",
       "</style>\n",
       "<table border=\"1\" class=\"dataframe\">\n",
       "  <thead>\n",
       "    <tr style=\"text-align: right;\">\n",
       "      <th></th>\n",
       "      <th>mi_score</th>\n",
       "      <th>sign_fscore</th>\n",
       "      <th>sign_fscore_0_1</th>\n",
       "      <th>corr</th>\n",
       "      <th>EN_coef</th>\n",
       "      <th>boruta_rank</th>\n",
       "    </tr>\n",
       "  </thead>\n",
       "  <tbody>\n",
       "    <tr>\n",
       "      <th>etr_y_past</th>\n",
       "      <td>1.009402</td>\n",
       "      <td>1.304040e-84</td>\n",
       "      <td>1</td>\n",
       "      <td>0.520405</td>\n",
       "      <td>NaN</td>\n",
       "      <td>1</td>\n",
       "    </tr>\n",
       "    <tr>\n",
       "      <th>etr_y_ma</th>\n",
       "      <td>0.825650</td>\n",
       "      <td>2.473770e-125</td>\n",
       "      <td>1</td>\n",
       "      <td>0.526871</td>\n",
       "      <td>NaN</td>\n",
       "      <td>1</td>\n",
       "    </tr>\n",
       "    <tr>\n",
       "      <th>txt</th>\n",
       "      <td>0.633067</td>\n",
       "      <td>5.246456e-13</td>\n",
       "      <td>1</td>\n",
       "      <td>0.368732</td>\n",
       "      <td>1.466269e-05</td>\n",
       "      <td>1</td>\n",
       "    </tr>\n",
       "    <tr>\n",
       "      <th>diff</th>\n",
       "      <td>0.632640</td>\n",
       "      <td>2.257712e-02</td>\n",
       "      <td>1</td>\n",
       "      <td>-0.291716</td>\n",
       "      <td>NaN</td>\n",
       "      <td>1</td>\n",
       "    </tr>\n",
       "    <tr>\n",
       "      <th>ni</th>\n",
       "      <td>0.613297</td>\n",
       "      <td>1.747230e-09</td>\n",
       "      <td>1</td>\n",
       "      <td>0.263458</td>\n",
       "      <td>-3.442000e-07</td>\n",
       "      <td>7</td>\n",
       "    </tr>\n",
       "  </tbody>\n",
       "</table>\n",
       "</div>"
      ],
      "text/plain": [
       "            mi_score    sign_fscore  sign_fscore_0_1      corr       EN_coef  \\\n",
       "etr_y_past  1.009402   1.304040e-84                1  0.520405           NaN   \n",
       "etr_y_ma    0.825650  2.473770e-125                1  0.526871           NaN   \n",
       "txt         0.633067   5.246456e-13                1  0.368732  1.466269e-05   \n",
       "diff        0.632640   2.257712e-02                1 -0.291716           NaN   \n",
       "ni          0.613297   1.747230e-09                1  0.263458 -3.442000e-07   \n",
       "\n",
       "            boruta_rank  \n",
       "etr_y_past            1  \n",
       "etr_y_ma              1  \n",
       "txt                   1  \n",
       "diff                  1  \n",
       "ni                    7  "
      ]
     },
     "execution_count": 41,
     "metadata": {},
     "output_type": "execute_result"
    }
   ],
   "source": [
    "fr.head()"
   ]
  },
  {
   "cell_type": "code",
   "execution_count": 42,
   "metadata": {},
   "outputs": [],
   "source": [
    "br_features = fr[fr.boruta_rank.isin([1, 2, 3])].index.tolist()"
   ]
  },
  {
   "cell_type": "code",
   "execution_count": 43,
   "metadata": {},
   "outputs": [],
   "source": [
    "mi_features = fr.iloc[0:20].index.tolist()"
   ]
  },
  {
   "cell_type": "code",
   "execution_count": 44,
   "metadata": {},
   "outputs": [],
   "source": [
    "mi_features_25 = fr.iloc[0:25].index.tolist()"
   ]
  },
  {
   "cell_type": "code",
   "execution_count": 45,
   "metadata": {},
   "outputs": [],
   "source": [
    "mi_features_35 = fr.iloc[0:35].index.tolist()"
   ]
  },
  {
   "cell_type": "code",
   "execution_count": 46,
   "metadata": {},
   "outputs": [],
   "source": [
    "mi_features_50 = fr.iloc[0:50].index.tolist()"
   ]
  },
  {
   "cell_type": "code",
   "execution_count": 47,
   "metadata": {},
   "outputs": [],
   "source": [
    "fr[\"corr_abs\"] = np.abs(fr[\"corr\"])\n",
    "fr.sort_values(\"corr_abs\", ascending=False, inplace=True)\n",
    "corr_features = fr.iloc[0:20].index.tolist()"
   ]
  },
  {
   "cell_type": "markdown",
   "metadata": {},
   "source": [
    "We will use our intuition and create two additional benchmark sets of variables:"
   ]
  },
  {
   "cell_type": "code",
   "execution_count": 48,
   "metadata": {},
   "outputs": [],
   "source": [
    "benchmark = [\n",
    "    \"rok\",\n",
    "    \"ta\",\n",
    "    \"txt\",\n",
    "    \"pi\",\n",
    "    \"str\",\n",
    "    \"xrd\",\n",
    "    \"ni\",\n",
    "    \"ppent\",\n",
    "    \"intant\",\n",
    "    \"dlc\",\n",
    "    \"dltt\",\n",
    "    \"capex\",\n",
    "    \"revenue\",\n",
    "    \"cce\",\n",
    "    \"adv\",\n",
    "    \"diff\",\n",
    "    \"roa\",\n",
    "    \"lev\",\n",
    "    \"intan\",\n",
    "    \"rd\",\n",
    "    \"ppe\",\n",
    "    \"sale\",\n",
    "    \"cash_holdings\",\n",
    "    \"adv_expenditure\",\n",
    "    \"capex2\",\n",
    "    \"cfc\",\n",
    "    \"dta\",\n",
    "    \"capex2_scaled\",\n",
    "    \"y_v2x_polyarchy\",\n",
    "    \"y_e_p_polity\",\n",
    "    \"y_BR_Democracy\",\n",
    "    \"WB_GDPgrowth\",\n",
    "    \"WB_GDPpc\",\n",
    "    \"WB_Inflation\",\n",
    "    \"rr_per_country\",\n",
    "    \"rr_per_sector\",\n",
    "    \"sektor_consumer discretionary\",\n",
    "    \"sektor_consumer staples\",\n",
    "    \"sektor_energy\",\n",
    "    \"sektor_health care\",\n",
    "    \"sektor_industrials\",\n",
    "    \"sektor_materials\",\n",
    "    \"sektor_real estate\",\n",
    "    \"sektor_technology\",\n",
    "    \"sektor_utilities\",\n",
    "    \"gielda_2\",\n",
    "    \"gielda_3\",\n",
    "    \"gielda_4\",\n",
    "    \"gielda_5\",\n",
    "    \"etr_y_past\",\n",
    "    \"etr_y_ma\",\n",
    "    \"diff_ma\",\n",
    "    \"roa_ma\",\n",
    "    \"lev_ma\",\n",
    "    \"intan_ma\",\n",
    "    \"ppe_ma\",\n",
    "    \"sale_ma\",\n",
    "    \"cash_holdings_ma\",\n",
    "    \"roa_past\",\n",
    "    \"lev_past\",\n",
    "    \"intan_past\",\n",
    "    \"ppe_past\",\n",
    "    \"sale_past\",\n",
    "    \"cash_holdings_past\",\n",
    "]"
   ]
  },
  {
   "cell_type": "code",
   "execution_count": 49,
   "metadata": {},
   "outputs": [],
   "source": [
    "benchmark2 = [\n",
    "    \"ta\",\n",
    "    \"txt\",\n",
    "    \"pi\",\n",
    "    \"str\",\n",
    "    \"xrd\",\n",
    "    \"ni\",\n",
    "    \"ppent\",\n",
    "    \"intant\",\n",
    "    \"dlc\",\n",
    "    \"dltt\",\n",
    "    \"capex\",\n",
    "    \"revenue\",\n",
    "    \"cce\",\n",
    "    \"adv\",\n",
    "    \"diff\",\n",
    "    \"roa\",\n",
    "    \"lev\",\n",
    "    \"intan\",\n",
    "    \"rd\",\n",
    "    \"ppe\",\n",
    "    \"sale\",\n",
    "    \"cash_holdings\",\n",
    "    \"adv_expenditure\",\n",
    "    \"capex2\",\n",
    "    \"cfc\",\n",
    "    \"dta\",\n",
    "    \"y_v2x_polyarchy\",\n",
    "    \"WB_GDPgrowth\",\n",
    "    \"WB_GDPpc\",\n",
    "    \"WB_Inflation\",\n",
    "    \"rr_per_country\",\n",
    "    \"rr_per_sector\",\n",
    "    \"etr_y_past\",\n",
    "    \"etr_y_ma\",\n",
    "    \"diff_ma\",\n",
    "    \"roa_ma\",\n",
    "    \"lev_ma\",\n",
    "    \"intan_ma\",\n",
    "    \"ppe_ma\",\n",
    "    \"sale_ma\",\n",
    "    \"cash_holdings_ma\",\n",
    "    \"roa_past\",\n",
    "    \"lev_past\",\n",
    "    \"intan_past\",\n",
    "    \"ppe_past\",\n",
    "    \"sale_past\",\n",
    "    \"cash_holdings_past\",\n",
    "]"
   ]
  },
  {
   "cell_type": "markdown",
   "metadata": {},
   "source": [
    "#### Forward elimination"
   ]
  },
  {
   "cell_type": "code",
   "execution_count": 50,
   "metadata": {},
   "outputs": [],
   "source": [
    "forward_elimination = [\n",
    "    \"rok\",\n",
    "    \"ta\",\n",
    "    \"txt\",\n",
    "    \"pi\",\n",
    "    \"str\",\n",
    "    \"xrd\",\n",
    "    \"ni\",\n",
    "    \"ppent\",\n",
    "    \"intant\",\n",
    "    \"dlc\",\n",
    "    \"dltt\",\n",
    "    \"capex\",\n",
    "    \"revenue\",\n",
    "    \"cce\",\n",
    "    \"adv\",\n",
    "    \"diff\",\n",
    "    \"roa\",\n",
    "    \"lev\",\n",
    "    \"intan\",\n",
    "    \"rd\",\n",
    "    \"ppe\",\n",
    "    \"sale\",\n",
    "    \"cash_holdings\",\n",
    "    \"adv_expenditure\",\n",
    "    \"capex2\",\n",
    "    \"cfc\",\n",
    "    \"dta\",\n",
    "    \"capex2_scaled\",\n",
    "    \"y_v2x_polyarchy\",\n",
    "    \"y_e_p_polity\",\n",
    "    \"y_BR_Democracy\",\n",
    "    \"WB_GDPgrowth\",\n",
    "    \"WB_GDPpc\",\n",
    "    \"WB_Inflation\",\n",
    "    \"rr_per_country\",\n",
    "    \"rr_per_sector\",\n",
    "    \"sektor_consumer discretionary\",\n",
    "    \"sektor_consumer staples\",\n",
    "    \"sektor_energy\",\n",
    "    \"sektor_health care\",\n",
    "    \"sektor_industrials\",\n",
    "    \"sektor_materials\",\n",
    "    \"sektor_real estate\",\n",
    "    \"sektor_technology\",\n",
    "    \"sektor_utilities\",\n",
    "    \"gielda_2\",\n",
    "    \"gielda_3\",\n",
    "    \"gielda_4\",\n",
    "    \"gielda_5\",\n",
    "    \"ta_log\",\n",
    "    \"txt_cat_(-63.011, -34.811]\",\n",
    "    \"txt_cat_(-34.811, 0.488]\",\n",
    "    \"txt_cat_(0.488, 24.415]\",\n",
    "    \"txt_cat_(24.415, 25.05]\",\n",
    "    \"txt_cat_(25.05, 308.55]\",\n",
    "    \"txt_cat_(308.55, 327.531]\",\n",
    "    \"txt_cat_(327.531, inf]\",\n",
    "    \"pi_cat_(-8975.0, -1.523]\",\n",
    "    \"pi_cat_(-1.523, 157.119]\",\n",
    "    \"pi_cat_(157.119, 465.9]\",\n",
    "    \"pi_cat_(465.9, 7875.5]\",\n",
    "    \"pi_cat_(7875.5, 8108.5]\",\n",
    "    \"pi_cat_(8108.5, inf]\",\n",
    "    \"str_cat_(0.0875, 0.192]\",\n",
    "    \"str_cat_(0.192, 0.28]\",\n",
    "    \"str_cat_(0.28, inf]\",\n",
    "    \"xrd_exists\",\n",
    "    \"ni_profit\",\n",
    "    \"ni_profit_20000\",\n",
    "    \"ppent_sqrt\",\n",
    "    \"intant_sqrt\",\n",
    "    \"dlc_cat_(42.262, 176.129]\",\n",
    "    \"dlc_cat_(176.129, 200.9]\",\n",
    "    \"dlc_cat_(200.9, inf]\",\n",
    "    \"dltt_cat_(39.38, 327.85]\",\n",
    "    \"dltt_cat_(327.85, 876.617]\",\n",
    "    \"dltt_cat_(876.617, inf]\",\n",
    "    \"capex_cat_(7.447, 79.55]\",\n",
    "    \"capex_cat_(79.55, 5451.0]\",\n",
    "    \"capex_cat_(5451.0, inf]\",\n",
    "    \"revenue_cat_(0.174, 1248.817]\",\n",
    "    \"revenue_cat_(1248.817, 4233.587]\",\n",
    "    \"revenue_cat_(4233.587, inf]\",\n",
    "    \"cce_cat_(5.619, 63.321]\",\n",
    "    \"cce_cat_(63.321, inf]\",\n",
    "    \"adv_cat_(0.3, 874.5]\",\n",
    "    \"adv_cat_(874.5, inf]\",\n",
    "    \"diff_positive\",\n",
    "    \"roa_clip\",\n",
    "    \"lev_sqrt\",\n",
    "    \"intan_pow2\",\n",
    "    \"rd_sqrt\",\n",
    "    \"ppe_clip\",\n",
    "    \"cash_holdings_sqrt\",\n",
    "    \"adv_expenditure_positive\",\n",
    "    \"diff_dta\",\n",
    "    \"cfc_dta\",\n",
    "    \"etr_y_past\",\n",
    "    \"etr_y_ma\",\n",
    "    \"diff_ma\",\n",
    "    \"roa_ma\",\n",
    "    \"lev_ma\",\n",
    "    \"intan_ma\",\n",
    "    \"ppe_ma\",\n",
    "    \"sale_ma\",\n",
    "    \"cash_holdings_ma\",\n",
    "    \"roa_past\",\n",
    "    \"lev_past\",\n",
    "    \"intan_past\",\n",
    "    \"ppe_past\",\n",
    "    \"sale_past\",\n",
    "    \"cash_holdings_past\",\n",
    "]\n",
    "forward_elimination.remove(\"ta_log\")\n",
    "forward_elimination.remove(\"ppent_sqrt\")\n",
    "forward_elimination.remove(\"intant_sqrt\")\n",
    "forward_elimination.remove(\"roa\")\n",
    "forward_elimination.remove(\"lev\")\n",
    "forward_elimination.remove(\"intan\")\n",
    "forward_elimination.remove(\"rd_sqrt\")\n",
    "forward_elimination.remove(\"ppe\")\n",
    "forward_elimination.remove(\"cash_holdings_sqrt\")"
   ]
  },
  {
   "cell_type": "code",
   "execution_count": 51,
   "metadata": {},
   "outputs": [],
   "source": [
    "candidates_withoud_discr = [i for i in forward_elimination if \"]\" not in i]"
   ]
  },
  {
   "cell_type": "code",
   "execution_count": 52,
   "metadata": {},
   "outputs": [],
   "source": [
    "model = SVR(\n",
    "    kernel=\"rbf\",\n",
    "    C=10,\n",
    "    epsilon=0.1,\n",
    "    shrinking=True,\n",
    "    cache_size=500,\n",
    "    verbose=False,\n",
    "    max_iter=-1,\n",
    ")"
   ]
  },
  {
   "cell_type": "code",
   "execution_count": 53,
   "metadata": {},
   "outputs": [
    {
     "data": {
      "text/plain": [
       "Index(['rok', 'cfc', 'y_e_p_polity', 'y_BR_Democracy', 'etr_y_ma'], dtype='object')"
      ]
     },
     "execution_count": 53,
     "metadata": {},
     "output_type": "execute_result"
    }
   ],
   "source": [
    "sf = SFS(\n",
    "    model,\n",
    "    k_features=(5, 20),\n",
    "    forward=True,\n",
    "    floating=False,\n",
    "    verbose=0,\n",
    "    scoring=mse,\n",
    "    cv=5,\n",
    "    n_jobs=-1,\n",
    ")\n",
    "\n",
    "sffit = sf.fit(\n",
    "    df.loc[:, candidates_withoud_discr].values, df.loc[:, \"etr\"].values.ravel()\n",
    ")\n",
    "\n",
    "sf_features = df.loc[:, candidates_withoud_discr].columns[list(sffit.k_feature_idx_)]\n",
    "\n",
    "sf_features"
   ]
  },
  {
   "cell_type": "code",
   "execution_count": 54,
   "metadata": {},
   "outputs": [],
   "source": [
    "model = SVR(\n",
    "    kernel=\"rbf\",\n",
    "    C=10,\n",
    "    epsilon=0.1,\n",
    "    shrinking=True,\n",
    "    cache_size=500,\n",
    "    verbose=False,\n",
    "    max_iter=-1,\n",
    ")"
   ]
  },
  {
   "cell_type": "code",
   "execution_count": 55,
   "metadata": {},
   "outputs": [
    {
     "data": {
      "text/plain": [
       "Index(['rok', 'ni', 'cfc', 'y_BR_Democracy', 'txt_cat_(24.415, 25.05]',\n",
       "       'pi_cat_(7875.5, 8108.5]', 'dlc_cat_(42.262, 176.129]', 'etr_y_ma'],\n",
       "      dtype='object')"
      ]
     },
     "execution_count": 55,
     "metadata": {},
     "output_type": "execute_result"
    }
   ],
   "source": [
    "sf = SFS(\n",
    "    model,\n",
    "    k_features=(5, 20),\n",
    "    forward=True,\n",
    "    floating=False,\n",
    "    verbose=0,\n",
    "    scoring=mse,\n",
    "    cv=5,\n",
    "    n_jobs=-1,\n",
    ")\n",
    "\n",
    "sffit = sf.fit(df.loc[:, forward_elimination].values, df.loc[:, \"etr\"].values.ravel())\n",
    "\n",
    "sf_features2 = df.loc[:, forward_elimination].columns[list(sffit.k_feature_idx_)]\n",
    "\n",
    "sf_features2"
   ]
  },
  {
   "cell_type": "markdown",
   "metadata": {},
   "source": [
    "Ten hours later!"
   ]
  },
  {
   "cell_type": "markdown",
   "metadata": {},
   "source": [
    "#### Recursive Feature Elimination "
   ]
  },
  {
   "cell_type": "code",
   "execution_count": 56,
   "metadata": {},
   "outputs": [],
   "source": [
    "rfe_candidates = [\n",
    "    \"rok\",\n",
    "    \"ta\",\n",
    "    \"txt\",\n",
    "    \"pi\",\n",
    "    \"str\",\n",
    "    \"xrd\",\n",
    "    \"ni\",\n",
    "    \"ppent\",\n",
    "    \"intant\",\n",
    "    \"dlc\",\n",
    "    \"dltt\",\n",
    "    \"capex\",\n",
    "    \"revenue\",\n",
    "    \"cce\",\n",
    "    \"adv\",\n",
    "    \"diff\",\n",
    "    \"roa\",\n",
    "    \"lev\",\n",
    "    \"intan\",\n",
    "    \"rd\",\n",
    "    \"ppe\",\n",
    "    \"sale\",\n",
    "    \"cash_holdings\",\n",
    "    \"adv_expenditure\",\n",
    "    \"capex2\",\n",
    "    \"cfc\",\n",
    "    \"dta\",\n",
    "    \"capex2_scaled\",\n",
    "    \"y_v2x_polyarchy\",\n",
    "    \"y_e_p_polity\",\n",
    "    \"y_BR_Democracy\",\n",
    "    \"WB_GDPgrowth\",\n",
    "    \"WB_GDPpc\",\n",
    "    \"WB_Inflation\",\n",
    "    \"rr_per_country\",\n",
    "    \"rr_per_sector\",\n",
    "    \"sektor_consumer discretionary\",\n",
    "    \"sektor_consumer staples\",\n",
    "    \"sektor_energy\",\n",
    "    \"sektor_health care\",\n",
    "    \"sektor_industrials\",\n",
    "    \"sektor_materials\",\n",
    "    \"sektor_real estate\",\n",
    "    \"sektor_technology\",\n",
    "    \"sektor_utilities\",\n",
    "    \"gielda_2\",\n",
    "    \"gielda_3\",\n",
    "    \"gielda_4\",\n",
    "    \"gielda_5\",\n",
    "    \"ta_log\",\n",
    "    \"txt_cat_(-63.011, -34.811]\",\n",
    "    \"txt_cat_(-34.811, 0.488]\",\n",
    "    \"txt_cat_(0.488, 24.415]\",\n",
    "    \"txt_cat_(24.415, 25.05]\",\n",
    "    \"txt_cat_(25.05, 308.55]\",\n",
    "    \"txt_cat_(308.55, 327.531]\",\n",
    "    \"txt_cat_(327.531, inf]\",\n",
    "    \"pi_cat_(-8975.0, -1.523]\",\n",
    "    \"pi_cat_(-1.523, 157.119]\",\n",
    "    \"pi_cat_(157.119, 465.9]\",\n",
    "    \"pi_cat_(465.9, 7875.5]\",\n",
    "    \"pi_cat_(7875.5, 8108.5]\",\n",
    "    \"pi_cat_(8108.5, inf]\",\n",
    "    \"str_cat_(0.0875, 0.192]\",\n",
    "    \"str_cat_(0.192, 0.28]\",\n",
    "    \"str_cat_(0.28, inf]\",\n",
    "    \"xrd_exists\",\n",
    "    \"ni_profit\",\n",
    "    \"ni_profit_20000\",\n",
    "    \"ppent_sqrt\",\n",
    "    \"intant_sqrt\",\n",
    "    \"dlc_cat_(42.262, 176.129]\",\n",
    "    \"dlc_cat_(176.129, 200.9]\",\n",
    "    \"dlc_cat_(200.9, inf]\",\n",
    "    \"dltt_cat_(39.38, 327.85]\",\n",
    "    \"dltt_cat_(327.85, 876.617]\",\n",
    "    \"dltt_cat_(876.617, inf]\",\n",
    "    \"capex_cat_(7.447, 79.55]\",\n",
    "    \"capex_cat_(79.55, 5451.0]\",\n",
    "    \"capex_cat_(5451.0, inf]\",\n",
    "    \"revenue_cat_(0.174, 1248.817]\",\n",
    "    \"revenue_cat_(1248.817, 4233.587]\",\n",
    "    \"revenue_cat_(4233.587, inf]\",\n",
    "    \"cce_cat_(5.619, 63.321]\",\n",
    "    \"cce_cat_(63.321, inf]\",\n",
    "    \"adv_cat_(0.3, 874.5]\",\n",
    "    \"adv_cat_(874.5, inf]\",\n",
    "    \"diff_positive\",\n",
    "    \"roa_clip\",\n",
    "    \"lev_sqrt\",\n",
    "    \"intan_pow2\",\n",
    "    \"rd_sqrt\",\n",
    "    \"ppe_clip\",\n",
    "    \"cash_holdings_sqrt\",\n",
    "    \"adv_expenditure_positive\",\n",
    "    \"diff_dta\",\n",
    "    \"cfc_dta\",\n",
    "    \"etr_y_past\",\n",
    "    \"etr_y_ma\",\n",
    "    \"diff_ma\",\n",
    "    \"roa_ma\",\n",
    "    \"lev_ma\",\n",
    "    \"intan_ma\",\n",
    "    \"ppe_ma\",\n",
    "    \"sale_ma\",\n",
    "    \"cash_holdings_ma\",\n",
    "    \"roa_past\",\n",
    "    \"lev_past\",\n",
    "    \"intan_past\",\n",
    "    \"ppe_past\",\n",
    "    \"sale_past\",\n",
    "    \"cash_holdings_past\",\n",
    "]\n",
    "rfe_candidates.remove(\"ta_log\")\n",
    "rfe_candidates.remove(\"ppent_sqrt\")\n",
    "rfe_candidates.remove(\"intant_sqrt\")\n",
    "rfe_candidates.remove(\"roa\")\n",
    "rfe_candidates.remove(\"lev\")\n",
    "rfe_candidates.remove(\"intan\")\n",
    "rfe_candidates.remove(\"rd_sqrt\")\n",
    "rfe_candidates.remove(\"ppe\")\n",
    "rfe_candidates.remove(\"cash_holdings_sqrt\")"
   ]
  },
  {
   "cell_type": "code",
   "execution_count": 57,
   "metadata": {},
   "outputs": [],
   "source": [
    "rfe_candidates_without_disc = [i for i in rfe_candidates if \"]\" not in i]"
   ]
  },
  {
   "cell_type": "code",
   "execution_count": 58,
   "metadata": {},
   "outputs": [],
   "source": [
    "estimator = SVR(\n",
    "    kernel=\"linear\",\n",
    "    C=10,\n",
    "    epsilon=0.1,\n",
    "    shrinking=True,\n",
    "    cache_size=500,\n",
    "    verbose=False,\n",
    "    max_iter=-1,\n",
    ")\n",
    "selector = RFECV(estimator, step=1, cv=5, min_features_to_select=7, n_jobs=-1)\n",
    "selector = selector.fit(\n",
    "    df.loc[:, rfe_candidates_without_disc].values, df.loc[:, \"etr\"].values.ravel()\n",
    ")"
   ]
  },
  {
   "cell_type": "code",
   "execution_count": 59,
   "metadata": {},
   "outputs": [
    {
     "data": {
      "text/plain": [
       "['ta',\n",
       " 'pi',\n",
       " 'str',\n",
       " 'xrd',\n",
       " 'dlc',\n",
       " 'capex',\n",
       " 'revenue',\n",
       " 'cce',\n",
       " 'diff',\n",
       " 'sale',\n",
       " 'cash_holdings',\n",
       " 'capex2',\n",
       " 'cfc',\n",
       " 'capex2_scaled',\n",
       " 'WB_GDPpc',\n",
       " 'rr_per_country',\n",
       " 'rr_per_sector',\n",
       " 'sektor_consumer discretionary',\n",
       " 'sektor_consumer staples',\n",
       " 'sektor_energy',\n",
       " 'sektor_health care',\n",
       " 'sektor_industrials',\n",
       " 'sektor_materials',\n",
       " 'sektor_real estate',\n",
       " 'gielda_2',\n",
       " 'gielda_3',\n",
       " 'xrd_exists',\n",
       " 'ni_profit',\n",
       " 'ni_profit_20000',\n",
       " 'diff_positive',\n",
       " 'lev_sqrt',\n",
       " 'etr_y_ma',\n",
       " 'lev_ma',\n",
       " 'lev_past',\n",
       " 'sale_past',\n",
       " 'cash_holdings_past']"
      ]
     },
     "execution_count": 59,
     "metadata": {},
     "output_type": "execute_result"
    }
   ],
   "source": [
    "df.loc[:, rfe_candidates_without_disc].iloc[:, selector.support_].columns.tolist()"
   ]
  },
  {
   "cell_type": "code",
   "execution_count": 60,
   "metadata": {},
   "outputs": [],
   "source": [
    "rfe_candidates_without_disc = (\n",
    "    df.loc[:, rfe_candidates_without_disc].iloc[:, selector.support_].columns.tolist()\n",
    ")"
   ]
  },
  {
   "cell_type": "code",
   "execution_count": 61,
   "metadata": {},
   "outputs": [],
   "source": [
    "estimator = SVR(\n",
    "    kernel=\"linear\",\n",
    "    C=10,\n",
    "    epsilon=0.1,\n",
    "    shrinking=True,\n",
    "    cache_size=500,\n",
    "    verbose=False,\n",
    "    max_iter=-1,\n",
    ")\n",
    "selector = RFECV(estimator, step=1, cv=5, min_features_to_select=7, n_jobs=-1)\n",
    "selector = selector.fit(\n",
    "    df.loc[:, rfe_candidates].values, df.loc[:, \"etr\"].values.ravel()\n",
    ")"
   ]
  },
  {
   "cell_type": "code",
   "execution_count": 62,
   "metadata": {},
   "outputs": [
    {
     "data": {
      "text/plain": [
       "['txt_cat_(-63.011, -34.811]',\n",
       " 'txt_cat_(24.415, 25.05]',\n",
       " 'txt_cat_(308.55, 327.531]',\n",
       " 'pi_cat_(-8975.0, -1.523]',\n",
       " 'pi_cat_(-1.523, 157.119]',\n",
       " 'pi_cat_(157.119, 465.9]',\n",
       " 'pi_cat_(465.9, 7875.5]',\n",
       " 'pi_cat_(7875.5, 8108.5]',\n",
       " 'pi_cat_(8108.5, inf]',\n",
       " 'dlc_cat_(176.129, 200.9]']"
      ]
     },
     "execution_count": 62,
     "metadata": {},
     "output_type": "execute_result"
    }
   ],
   "source": [
    "df.loc[:, rfe_candidates].iloc[:, selector.support_].columns.tolist()"
   ]
  },
  {
   "cell_type": "code",
   "execution_count": 63,
   "metadata": {},
   "outputs": [],
   "source": [
    "rfe_candidates = df.loc[:, rfe_candidates].iloc[:, selector.support_].columns.tolist()"
   ]
  },
  {
   "cell_type": "markdown",
   "metadata": {},
   "source": [
    "#### Permutation importance"
   ]
  },
  {
   "cell_type": "markdown",
   "metadata": {},
   "source": [
    "Let's try something new for us - permutation importance for feature selection."
   ]
  },
  {
   "cell_type": "code",
   "execution_count": 64,
   "metadata": {},
   "outputs": [],
   "source": [
    "pi_candidates = [\n",
    "    \"rok\",\n",
    "    \"ta\",\n",
    "    \"txt\",\n",
    "    \"pi\",\n",
    "    \"str\",\n",
    "    \"xrd\",\n",
    "    \"ni\",\n",
    "    \"ppent\",\n",
    "    \"intant\",\n",
    "    \"dlc\",\n",
    "    \"dltt\",\n",
    "    \"capex\",\n",
    "    \"revenue\",\n",
    "    \"cce\",\n",
    "    \"adv\",\n",
    "    \"diff\",\n",
    "    \"rd\",\n",
    "    \"sale\",\n",
    "    \"cash_holdings\",\n",
    "    \"adv_expenditure\",\n",
    "    \"capex2\",\n",
    "    \"cfc\",\n",
    "    \"dta\",\n",
    "    \"capex2_scaled\",\n",
    "    \"y_v2x_polyarchy\",\n",
    "    \"y_e_p_polity\",\n",
    "    \"y_BR_Democracy\",\n",
    "    \"WB_GDPgrowth\",\n",
    "    \"WB_GDPpc\",\n",
    "    \"WB_Inflation\",\n",
    "    \"rr_per_country\",\n",
    "    \"rr_per_sector\",\n",
    "    \"sektor_consumer discretionary\",\n",
    "    \"sektor_consumer staples\",\n",
    "    \"sektor_energy\",\n",
    "    \"sektor_health care\",\n",
    "    \"sektor_industrials\",\n",
    "    \"sektor_materials\",\n",
    "    \"sektor_real estate\",\n",
    "    \"sektor_technology\",\n",
    "    \"sektor_utilities\",\n",
    "    \"gielda_2\",\n",
    "    \"gielda_3\",\n",
    "    \"gielda_4\",\n",
    "    \"gielda_5\",\n",
    "    \"txt_cat_(-63.011, -34.811]\",\n",
    "    \"txt_cat_(-34.811, 0.488]\",\n",
    "    \"txt_cat_(0.488, 24.415]\",\n",
    "    \"txt_cat_(24.415, 25.05]\",\n",
    "    \"txt_cat_(25.05, 308.55]\",\n",
    "    \"txt_cat_(308.55, 327.531]\",\n",
    "    \"txt_cat_(327.531, inf]\",\n",
    "    \"pi_cat_(-8975.0, -1.523]\",\n",
    "    \"pi_cat_(-1.523, 157.119]\",\n",
    "    \"pi_cat_(157.119, 465.9]\",\n",
    "    \"pi_cat_(465.9, 7875.5]\",\n",
    "    \"pi_cat_(7875.5, 8108.5]\",\n",
    "    \"pi_cat_(8108.5, inf]\",\n",
    "    \"str_cat_(0.0875, 0.192]\",\n",
    "    \"str_cat_(0.192, 0.28]\",\n",
    "    \"str_cat_(0.28, inf]\",\n",
    "    \"xrd_exists\",\n",
    "    \"ni_profit\",\n",
    "    \"ni_profit_20000\",\n",
    "    \"dlc_cat_(42.262, 176.129]\",\n",
    "    \"dlc_cat_(176.129, 200.9]\",\n",
    "    \"dlc_cat_(200.9, inf]\",\n",
    "    \"dltt_cat_(39.38, 327.85]\",\n",
    "    \"dltt_cat_(327.85, 876.617]\",\n",
    "    \"dltt_cat_(876.617, inf]\",\n",
    "    \"capex_cat_(7.447, 79.55]\",\n",
    "    \"capex_cat_(79.55, 5451.0]\",\n",
    "    \"capex_cat_(5451.0, inf]\",\n",
    "    \"revenue_cat_(0.174, 1248.817]\",\n",
    "    \"revenue_cat_(1248.817, 4233.587]\",\n",
    "    \"revenue_cat_(4233.587, inf]\",\n",
    "    \"cce_cat_(5.619, 63.321]\",\n",
    "    \"cce_cat_(63.321, inf]\",\n",
    "    \"adv_cat_(0.3, 874.5]\",\n",
    "    \"adv_cat_(874.5, inf]\",\n",
    "    \"diff_positive\",\n",
    "    \"roa_clip\",\n",
    "    \"lev_sqrt\",\n",
    "    \"intan_pow2\",\n",
    "    \"ppe_clip\",\n",
    "    \"adv_expenditure_positive\",\n",
    "    \"diff_dta\",\n",
    "    \"cfc_dta\",\n",
    "    \"etr_y_past\",\n",
    "    \"etr_y_ma\",\n",
    "    \"diff_ma\",\n",
    "    \"roa_ma\",\n",
    "    \"lev_ma\",\n",
    "    \"intan_ma\",\n",
    "    \"ppe_ma\",\n",
    "    \"sale_ma\",\n",
    "    \"cash_holdings_ma\",\n",
    "    \"roa_past\",\n",
    "    \"lev_past\",\n",
    "    \"intan_past\",\n",
    "    \"ppe_past\",\n",
    "    \"sale_past\",\n",
    "    \"cash_holdings_past\",\n",
    "]"
   ]
  },
  {
   "cell_type": "code",
   "execution_count": 65,
   "metadata": {},
   "outputs": [],
   "source": [
    "estimator = SVR(\n",
    "    kernel=\"rbf\",\n",
    "    C=10,\n",
    "    epsilon=0.1,\n",
    "    shrinking=True,\n",
    "    cache_size=500,\n",
    "    verbose=False,\n",
    "    max_iter=-1,\n",
    ")\n",
    "estimator.fit(df.loc[:, pi_candidates].values, df.loc[:, \"etr\"].values.ravel())\n",
    "result = permutation_importance(\n",
    "    estimator,\n",
    "    df.loc[:, pi_candidates].values,\n",
    "    df.loc[:, \"etr\"].values.ravel(),\n",
    "    n_repeats=3,\n",
    "    scoring=\"neg_mean_squared_error\",\n",
    "    random_state=42,\n",
    "    n_jobs=-1,\n",
    ")\n",
    "sorted_idx = result.importances_mean.argsort()"
   ]
  },
  {
   "cell_type": "code",
   "execution_count": 66,
   "metadata": {},
   "outputs": [],
   "source": [
    "sorted_idx = sorted_idx[-20:]"
   ]
  },
  {
   "cell_type": "code",
   "execution_count": 67,
   "metadata": {},
   "outputs": [
    {
     "data": {
      "image/png": "[encoded data removed]",
      "text/plain": [
       "<Figure size 1000x500 with 1 Axes>"
      ]
     },
     "metadata": {},
     "output_type": "display_data"
    }
   ],
   "source": [
    "fig, ax = plt.subplots(figsize=(10, 5))\n",
    "\n",
    "ax.boxplot(\n",
    "    result.importances[sorted_idx].T,\n",
    "    vert=False,\n",
    "    labels=df.loc[:, pi_candidates].columns[sorted_idx],\n",
    ")\n",
    "ax.set_title(\"Permutation Importances\")\n",
    "fig.tight_layout()\n",
    "plt.show()"
   ]
  },
  {
   "cell_type": "code",
   "execution_count": 68,
   "metadata": {},
   "outputs": [],
   "source": [
    "pi_var = df.loc[:, pi_candidates].columns[sorted_idx].tolist()"
   ]
  },
  {
   "cell_type": "code",
   "execution_count": 69,
   "metadata": {},
   "outputs": [],
   "source": [
    "estimator = SVR(\n",
    "    kernel=\"rbf\",\n",
    "    C=10,\n",
    "    epsilon=0.1,\n",
    "    shrinking=True,\n",
    "    cache_size=500,\n",
    "    verbose=False,\n",
    "    max_iter=-1,\n",
    ")\n",
    "estimator.fit(df.loc[:, pi_var].values, df.loc[:, \"etr\"].values.ravel())\n",
    "result = permutation_importance(\n",
    "    estimator,\n",
    "    df.loc[:, pi_var].values,\n",
    "    df.loc[:, \"etr\"].values.ravel(),\n",
    "    n_repeats=3,\n",
    "    scoring=\"neg_mean_squared_error\",\n",
    "    random_state=42,\n",
    "    n_jobs=-1,\n",
    ")\n",
    "sorted_idx = result.importances_mean.argsort()"
   ]
  },
  {
   "cell_type": "code",
   "execution_count": 70,
   "metadata": {},
   "outputs": [],
   "source": [
    "sorted_idx = sorted_idx[-10:]"
   ]
  },
  {
   "cell_type": "code",
   "execution_count": 71,
   "metadata": {},
   "outputs": [
    {
     "data": {
      "image/png": "[encoded data removed]",
      "text/plain": [
       "<Figure size 1000x500 with 1 Axes>"
      ]
     },
     "metadata": {},
     "output_type": "display_data"
    }
   ],
   "source": [
    "fig, ax = plt.subplots(figsize=(10, 5))\n",
    "\n",
    "ax.boxplot(\n",
    "    result.importances[sorted_idx].T,\n",
    "    vert=False,\n",
    "    labels=df.loc[:, pi_var].columns[sorted_idx],\n",
    ")\n",
    "ax.set_title(\"Permutation Importances\")\n",
    "fig.tight_layout()\n",
    "plt.show()"
   ]
  },
  {
   "cell_type": "code",
   "execution_count": 72,
   "metadata": {},
   "outputs": [],
   "source": [
    "pi_var_prim = df.loc[:, pi_var].columns[sorted_idx].tolist()"
   ]
  },
  {
   "cell_type": "code",
   "execution_count": 73,
   "metadata": {},
   "outputs": [
    {
     "data": {
      "text/plain": [
       "['lev_ma',\n",
       " 'cash_holdings_past',\n",
       " 'lev_past',\n",
       " 'WB_GDPgrowth',\n",
       " 'rr_per_country',\n",
       " 'str',\n",
       " 'lev_sqrt',\n",
       " 'rr_per_sector',\n",
       " 'etr_y_past',\n",
       " 'etr_y_ma']"
      ]
     },
     "execution_count": 73,
     "metadata": {},
     "output_type": "execute_result"
    }
   ],
   "source": [
    "pi_var_prim"
   ]
  },
  {
   "cell_type": "markdown",
   "metadata": {},
   "source": [
    "### Hyperparametes Tunning for each group of variables"
   ]
  },
  {
   "cell_type": "code",
   "execution_count": 74,
   "metadata": {},
   "outputs": [],
   "source": [
    "param = {\n",
    "    \"C\": [0.005, 0.01, 0.05, 0.1, 0.25],\n",
    "    \"epsilon\": [0.005, 0.01, 0.05, 0.1],\n",
    "    \"kernel\": [\"rbf\"],\n",
    "}\n",
    "mse = make_scorer(mean_squared_error, greater_is_better=True)"
   ]
  },
  {
   "cell_type": "code",
   "execution_count": 75,
   "metadata": {},
   "outputs": [],
   "source": [
    "def cv_proc(var):\n",
    "    model = SVR()\n",
    "    grid_CV = GridSearchCV(\n",
    "        model, param, cv=5, scoring=mse, return_train_score=True, n_jobs=-1\n",
    "    )\n",
    "    grid_CV.fit(df.loc[:, var].values, df.loc[:, \"etr\"].values.ravel())\n",
    "    print(grid_CV.best_params_)\n",
    "    print(grid_CV.best_score_)"
   ]
  },
  {
   "cell_type": "code",
   "execution_count": 76,
   "metadata": {},
   "outputs": [
    {
     "name": "stdout",
     "output_type": "stream",
     "text": [
      "{'C': 0.25, 'epsilon': 0.005, 'kernel': 'rbf'}\n",
      "0.020473027738694114\n"
     ]
    }
   ],
   "source": [
    "cv_proc(br_features)"
   ]
  },
  {
   "cell_type": "code",
   "execution_count": 77,
   "metadata": {},
   "outputs": [
    {
     "name": "stdout",
     "output_type": "stream",
     "text": [
      "{'C': 0.25, 'epsilon': 0.1, 'kernel': 'rbf'}\n",
      "0.021009431849439368\n"
     ]
    }
   ],
   "source": [
    "cv_proc(mi_features)"
   ]
  },
  {
   "cell_type": "code",
   "execution_count": 78,
   "metadata": {},
   "outputs": [
    {
     "name": "stdout",
     "output_type": "stream",
     "text": [
      "{'C': 0.25, 'epsilon': 0.1, 'kernel': 'rbf'}\n",
      "0.021109140350410126\n"
     ]
    }
   ],
   "source": [
    "cv_proc(mi_features_25)"
   ]
  },
  {
   "cell_type": "code",
   "execution_count": 79,
   "metadata": {},
   "outputs": [
    {
     "name": "stdout",
     "output_type": "stream",
     "text": [
      "{'C': 0.005, 'epsilon': 0.1, 'kernel': 'rbf'}\n",
      "0.02126626045928538\n"
     ]
    }
   ],
   "source": [
    "cv_proc(mi_features_35)"
   ]
  },
  {
   "cell_type": "code",
   "execution_count": 80,
   "metadata": {},
   "outputs": [
    {
     "name": "stdout",
     "output_type": "stream",
     "text": [
      "{'C': 0.005, 'epsilon': 0.1, 'kernel': 'rbf'}\n",
      "0.021489628484500478\n"
     ]
    }
   ],
   "source": [
    "cv_proc(mi_features_50)"
   ]
  },
  {
   "cell_type": "code",
   "execution_count": 81,
   "metadata": {},
   "outputs": [
    {
     "name": "stdout",
     "output_type": "stream",
     "text": [
      "{'C': 0.005, 'epsilon': 0.1, 'kernel': 'rbf'}\n",
      "0.0214738434688491\n"
     ]
    }
   ],
   "source": [
    "cv_proc(benchmark)"
   ]
  },
  {
   "cell_type": "code",
   "execution_count": 82,
   "metadata": {},
   "outputs": [
    {
     "name": "stdout",
     "output_type": "stream",
     "text": [
      "{'C': 0.005, 'epsilon': 0.1, 'kernel': 'rbf'}\n",
      "0.02138667661204189\n"
     ]
    }
   ],
   "source": [
    "cv_proc(benchmark2)"
   ]
  },
  {
   "cell_type": "code",
   "execution_count": 83,
   "metadata": {},
   "outputs": [
    {
     "name": "stdout",
     "output_type": "stream",
     "text": [
      "{'C': 0.005, 'epsilon': 0.1, 'kernel': 'rbf'}\n",
      "0.020714897148804857\n"
     ]
    }
   ],
   "source": [
    "cv_proc(sf_features)"
   ]
  },
  {
   "cell_type": "code",
   "execution_count": 84,
   "metadata": {},
   "outputs": [
    {
     "name": "stdout",
     "output_type": "stream",
     "text": [
      "{'C': 0.005, 'epsilon': 0.1, 'kernel': 'rbf'}\n",
      "0.020581786841789768\n"
     ]
    }
   ],
   "source": [
    "cv_proc(sf_features2)"
   ]
  },
  {
   "cell_type": "code",
   "execution_count": 85,
   "metadata": {},
   "outputs": [
    {
     "name": "stdout",
     "output_type": "stream",
     "text": [
      "{'C': 0.005, 'epsilon': 0.1, 'kernel': 'rbf'}\n",
      "0.021218504095009062\n"
     ]
    }
   ],
   "source": [
    "cv_proc(rfe_candidates_without_disc)"
   ]
  },
  {
   "cell_type": "code",
   "execution_count": 86,
   "metadata": {},
   "outputs": [
    {
     "name": "stdout",
     "output_type": "stream",
     "text": [
      "{'C': 0.005, 'epsilon': 0.1, 'kernel': 'rbf'}\n",
      "0.023332747131811753\n"
     ]
    }
   ],
   "source": [
    "cv_proc(rfe_candidates)"
   ]
  },
  {
   "cell_type": "code",
   "execution_count": 87,
   "metadata": {},
   "outputs": [
    {
     "name": "stdout",
     "output_type": "stream",
     "text": [
      "{'C': 0.005, 'epsilon': 0.1, 'kernel': 'rbf'}\n",
      "0.020787540939917047\n"
     ]
    }
   ],
   "source": [
    "cv_proc(pi_var_prim)"
   ]
  },
  {
   "cell_type": "code",
   "execution_count": 88,
   "metadata": {},
   "outputs": [
    {
     "name": "stdout",
     "output_type": "stream",
     "text": [
      "{'C': 0.005, 'epsilon': 0.1, 'kernel': 'rbf'}\n",
      "0.021174088401426622\n"
     ]
    }
   ],
   "source": [
    "cv_proc(pi_var)"
   ]
  },
  {
   "cell_type": "markdown",
   "metadata": {},
   "source": [
    "### Final models comparison - winner obtaining"
   ]
  },
  {
   "cell_type": "markdown",
   "metadata": {},
   "source": [
    "We would like to fight against data leakage in our CV, so we will treat it like a panel problem with a rolling window. We now based on our experience that this kind of approach is crucial to fight against overfitting.\n",
    "\n",
    "Sliding window:\n",
    " * T: 2005 - 2008; V: 2009\n",
    " * T: 2005 - 2009; V: 2010\n",
    " * T: 2005 - 2010; V: 2011\n",
    " * ..."
   ]
  },
  {
   "cell_type": "code",
   "execution_count": 91,
   "metadata": {},
   "outputs": [],
   "source": [
    "df = df.sort_values(by=\"rok\").reset_index(drop=True)"
   ]
  },
  {
   "cell_type": "code",
   "execution_count": 92,
   "metadata": {},
   "outputs": [],
   "source": [
    "def proper_CV(x, y, model, display_res=False):\n",
    "    train_score = list()\n",
    "    valid_score = list()\n",
    "    train_indexes = [0, 1452]\n",
    "    valid_indexes = [1452, 1815]\n",
    "    for i in range(0, 6):\n",
    "        train_x = x[x.index.isin(range(train_indexes[0], train_indexes[1]))]\n",
    "        train_y = y[y.index.isin(range(train_indexes[0], train_indexes[1]))]\n",
    "        valid_x = x[x.index.isin(range(valid_indexes[0], valid_indexes[1]))]\n",
    "        valid_y = y[y.index.isin(range(valid_indexes[0], valid_indexes[1]))]\n",
    "\n",
    "        model.fit(train_x.values, train_y.values.ravel())\n",
    "\n",
    "        pred_y_train = model.predict(train_x.values)\n",
    "        rmse = np.sqrt(mean_squared_error(train_y, pred_y_train))\n",
    "        train_score.append(rmse)\n",
    "\n",
    "        pred_y_val = model.predict(valid_x.values)\n",
    "        rmse = np.sqrt(mean_squared_error(valid_y, pred_y_val))\n",
    "        valid_score.append(rmse)\n",
    "\n",
    "        train_indexes = [0, valid_indexes[1]]\n",
    "        valid_indexes = [train_indexes[1], valid_indexes[1] + 363]\n",
    "\n",
    "    if display_res == True:\n",
    "        view = pd.DataFrame([train_score, valid_score]).T.rename(\n",
    "            columns={0: \"cv_train\", 1: \"cv_val\"}\n",
    "        )\n",
    "        display(view)\n",
    "        return train_score, valid_score, view\n",
    "    else:\n",
    "        return train_score, valid_score"
   ]
  },
  {
   "cell_type": "code",
   "execution_count": 93,
   "metadata": {},
   "outputs": [],
   "source": [
    "hp = [\n",
    "    {\"C\": 0.25, \"epsilon\": 0.005, \"kernel\": \"rbf\"},\n",
    "    {\"C\": 0.25, \"epsilon\": 0.1, \"kernel\": \"rbf\"},\n",
    "    {\"C\": 0.25, \"epsilon\": 0.1, \"kernel\": \"rbf\"},\n",
    "    {\"C\": 0.005, \"epsilon\": 0.1, \"kernel\": \"rbf\"},\n",
    "    {\"C\": 0.005, \"epsilon\": 0.1, \"kernel\": \"rbf\"},\n",
    "    {\"C\": 0.005, \"epsilon\": 0.1, \"kernel\": \"rbf\"},\n",
    "    {\"C\": 0.005, \"epsilon\": 0.1, \"kernel\": \"rbf\"},\n",
    "    {\"C\": 0.005, \"epsilon\": 0.1, \"kernel\": \"rbf\"},\n",
    "    {\"C\": 0.005, \"epsilon\": 0.1, \"kernel\": \"rbf\"},\n",
    "    {\"C\": 0.005, \"epsilon\": 0.1, \"kernel\": \"rbf\"},\n",
    "    {\"C\": 0.005, \"epsilon\": 0.1, \"kernel\": \"rbf\"},\n",
    "    {\"C\": 0.005, \"epsilon\": 0.1, \"kernel\": \"rbf\"},\n",
    "    {\"C\": 0.005, \"epsilon\": 0.1, \"kernel\": \"rbf\"},\n",
    "]"
   ]
  },
  {
   "cell_type": "code",
   "execution_count": 107,
   "metadata": {},
   "outputs": [
    {
     "data": {
      "text/html": [
       "<div>\n",
       "<style scoped>\n",
       "    .dataframe tbody tr th:only-of-type {\n",
       "        vertical-align: middle;\n",
       "    }\n",
       "\n",
       "    .dataframe tbody tr th {\n",
       "        vertical-align: top;\n",
       "    }\n",
       "\n",
       "    .dataframe thead th {\n",
       "        text-align: right;\n",
       "    }\n",
       "</style>\n",
       "<table border=\"1\" class=\"dataframe\">\n",
       "  <thead>\n",
       "    <tr style=\"text-align: right;\">\n",
       "      <th></th>\n",
       "      <th>cv_train</th>\n",
       "      <th>cv_val</th>\n",
       "    </tr>\n",
       "  </thead>\n",
       "  <tbody>\n",
       "    <tr>\n",
       "      <th>0</th>\n",
       "      <td>0.134222</td>\n",
       "      <td>0.149424</td>\n",
       "    </tr>\n",
       "    <tr>\n",
       "      <th>1</th>\n",
       "      <td>0.135224</td>\n",
       "      <td>0.134762</td>\n",
       "    </tr>\n",
       "    <tr>\n",
       "      <th>2</th>\n",
       "      <td>0.134153</td>\n",
       "      <td>0.150527</td>\n",
       "    </tr>\n",
       "    <tr>\n",
       "      <th>3</th>\n",
       "      <td>0.135747</td>\n",
       "      <td>0.148552</td>\n",
       "    </tr>\n",
       "    <tr>\n",
       "      <th>4</th>\n",
       "      <td>0.136399</td>\n",
       "      <td>0.127920</td>\n",
       "    </tr>\n",
       "    <tr>\n",
       "      <th>5</th>\n",
       "      <td>0.135766</td>\n",
       "      <td>0.134587</td>\n",
       "    </tr>\n",
       "  </tbody>\n",
       "</table>\n",
       "</div>"
      ],
      "text/plain": [
       "   cv_train    cv_val\n",
       "0  0.134222  0.149424\n",
       "1  0.135224  0.134762\n",
       "2  0.134153  0.150527\n",
       "3  0.135747  0.148552\n",
       "4  0.136399  0.127920\n",
       "5  0.135766  0.134587"
      ]
     },
     "metadata": {},
     "output_type": "display_data"
    }
   ],
   "source": [
    "model = SVR(**hp[0])\n",
    "var = br_features\n",
    "cv_output0 = proper_CV(df.loc[:, var], df.loc[:, \"etr\"], model, display_res=True)"
   ]
  },
  {
   "cell_type": "code",
   "execution_count": 108,
   "metadata": {},
   "outputs": [
    {
     "data": {
      "text/html": [
       "<div>\n",
       "<style scoped>\n",
       "    .dataframe tbody tr th:only-of-type {\n",
       "        vertical-align: middle;\n",
       "    }\n",
       "\n",
       "    .dataframe tbody tr th {\n",
       "        vertical-align: top;\n",
       "    }\n",
       "\n",
       "    .dataframe thead th {\n",
       "        text-align: right;\n",
       "    }\n",
       "</style>\n",
       "<table border=\"1\" class=\"dataframe\">\n",
       "  <thead>\n",
       "    <tr style=\"text-align: right;\">\n",
       "      <th></th>\n",
       "      <th>cv_train</th>\n",
       "      <th>cv_val</th>\n",
       "    </tr>\n",
       "  </thead>\n",
       "  <tbody>\n",
       "    <tr>\n",
       "      <th>0</th>\n",
       "      <td>0.132702</td>\n",
       "      <td>0.141898</td>\n",
       "    </tr>\n",
       "    <tr>\n",
       "      <th>1</th>\n",
       "      <td>0.133465</td>\n",
       "      <td>0.136143</td>\n",
       "    </tr>\n",
       "    <tr>\n",
       "      <th>2</th>\n",
       "      <td>0.133042</td>\n",
       "      <td>0.149741</td>\n",
       "    </tr>\n",
       "    <tr>\n",
       "      <th>3</th>\n",
       "      <td>0.135693</td>\n",
       "      <td>0.147243</td>\n",
       "    </tr>\n",
       "    <tr>\n",
       "      <th>4</th>\n",
       "      <td>0.135711</td>\n",
       "      <td>0.129298</td>\n",
       "    </tr>\n",
       "    <tr>\n",
       "      <th>5</th>\n",
       "      <td>0.134502</td>\n",
       "      <td>0.135628</td>\n",
       "    </tr>\n",
       "  </tbody>\n",
       "</table>\n",
       "</div>"
      ],
      "text/plain": [
       "   cv_train    cv_val\n",
       "0  0.132702  0.141898\n",
       "1  0.133465  0.136143\n",
       "2  0.133042  0.149741\n",
       "3  0.135693  0.147243\n",
       "4  0.135711  0.129298\n",
       "5  0.134502  0.135628"
      ]
     },
     "metadata": {},
     "output_type": "display_data"
    }
   ],
   "source": [
    "model = SVR(**hp[1])\n",
    "var = mi_features\n",
    "cv_output1 = proper_CV(df.loc[:, var], df.loc[:, \"etr\"], model, display_res=True)"
   ]
  },
  {
   "cell_type": "code",
   "execution_count": 109,
   "metadata": {},
   "outputs": [
    {
     "data": {
      "text/html": [
       "<div>\n",
       "<style scoped>\n",
       "    .dataframe tbody tr th:only-of-type {\n",
       "        vertical-align: middle;\n",
       "    }\n",
       "\n",
       "    .dataframe tbody tr th {\n",
       "        vertical-align: top;\n",
       "    }\n",
       "\n",
       "    .dataframe thead th {\n",
       "        text-align: right;\n",
       "    }\n",
       "</style>\n",
       "<table border=\"1\" class=\"dataframe\">\n",
       "  <thead>\n",
       "    <tr style=\"text-align: right;\">\n",
       "      <th></th>\n",
       "      <th>cv_train</th>\n",
       "      <th>cv_val</th>\n",
       "    </tr>\n",
       "  </thead>\n",
       "  <tbody>\n",
       "    <tr>\n",
       "      <th>0</th>\n",
       "      <td>0.131936</td>\n",
       "      <td>0.141598</td>\n",
       "    </tr>\n",
       "    <tr>\n",
       "      <th>1</th>\n",
       "      <td>0.132671</td>\n",
       "      <td>0.136225</td>\n",
       "    </tr>\n",
       "    <tr>\n",
       "      <th>2</th>\n",
       "      <td>0.132384</td>\n",
       "      <td>0.149925</td>\n",
       "    </tr>\n",
       "    <tr>\n",
       "      <th>3</th>\n",
       "      <td>0.134587</td>\n",
       "      <td>0.147840</td>\n",
       "    </tr>\n",
       "    <tr>\n",
       "      <th>4</th>\n",
       "      <td>0.134904</td>\n",
       "      <td>0.129797</td>\n",
       "    </tr>\n",
       "    <tr>\n",
       "      <th>5</th>\n",
       "      <td>0.133872</td>\n",
       "      <td>0.136911</td>\n",
       "    </tr>\n",
       "  </tbody>\n",
       "</table>\n",
       "</div>"
      ],
      "text/plain": [
       "   cv_train    cv_val\n",
       "0  0.131936  0.141598\n",
       "1  0.132671  0.136225\n",
       "2  0.132384  0.149925\n",
       "3  0.134587  0.147840\n",
       "4  0.134904  0.129797\n",
       "5  0.133872  0.136911"
      ]
     },
     "metadata": {},
     "output_type": "display_data"
    }
   ],
   "source": [
    "model = SVR(**hp[2])\n",
    "var = mi_features_25\n",
    "cv_output2 = proper_CV(df.loc[:, var], df.loc[:, \"etr\"], model, display_res=True)"
   ]
  },
  {
   "cell_type": "code",
   "execution_count": 110,
   "metadata": {},
   "outputs": [
    {
     "data": {
      "text/html": [
       "<div>\n",
       "<style scoped>\n",
       "    .dataframe tbody tr th:only-of-type {\n",
       "        vertical-align: middle;\n",
       "    }\n",
       "\n",
       "    .dataframe tbody tr th {\n",
       "        vertical-align: top;\n",
       "    }\n",
       "\n",
       "    .dataframe thead th {\n",
       "        text-align: right;\n",
       "    }\n",
       "</style>\n",
       "<table border=\"1\" class=\"dataframe\">\n",
       "  <thead>\n",
       "    <tr style=\"text-align: right;\">\n",
       "      <th></th>\n",
       "      <th>cv_train</th>\n",
       "      <th>cv_val</th>\n",
       "    </tr>\n",
       "  </thead>\n",
       "  <tbody>\n",
       "    <tr>\n",
       "      <th>0</th>\n",
       "      <td>0.146095</td>\n",
       "      <td>0.134814</td>\n",
       "    </tr>\n",
       "    <tr>\n",
       "      <th>1</th>\n",
       "      <td>0.144374</td>\n",
       "      <td>0.135153</td>\n",
       "    </tr>\n",
       "    <tr>\n",
       "      <th>2</th>\n",
       "      <td>0.142954</td>\n",
       "      <td>0.148436</td>\n",
       "    </tr>\n",
       "    <tr>\n",
       "      <th>3</th>\n",
       "      <td>0.143574</td>\n",
       "      <td>0.147616</td>\n",
       "    </tr>\n",
       "    <tr>\n",
       "      <th>4</th>\n",
       "      <td>0.143316</td>\n",
       "      <td>0.131054</td>\n",
       "    </tr>\n",
       "    <tr>\n",
       "      <th>5</th>\n",
       "      <td>0.141933</td>\n",
       "      <td>0.136807</td>\n",
       "    </tr>\n",
       "  </tbody>\n",
       "</table>\n",
       "</div>"
      ],
      "text/plain": [
       "   cv_train    cv_val\n",
       "0  0.146095  0.134814\n",
       "1  0.144374  0.135153\n",
       "2  0.142954  0.148436\n",
       "3  0.143574  0.147616\n",
       "4  0.143316  0.131054\n",
       "5  0.141933  0.136807"
      ]
     },
     "metadata": {},
     "output_type": "display_data"
    }
   ],
   "source": [
    "model = SVR(**hp[3])\n",
    "\n",
    "var = mi_features_35\n",
    "cv_output3 = proper_CV(df.loc[:, var], df.loc[:, \"etr\"], model, display_res=True)"
   ]
  },
  {
   "cell_type": "code",
   "execution_count": 111,
   "metadata": {},
   "outputs": [
    {
     "data": {
      "text/html": [
       "<div>\n",
       "<style scoped>\n",
       "    .dataframe tbody tr th:only-of-type {\n",
       "        vertical-align: middle;\n",
       "    }\n",
       "\n",
       "    .dataframe tbody tr th {\n",
       "        vertical-align: top;\n",
       "    }\n",
       "\n",
       "    .dataframe thead th {\n",
       "        text-align: right;\n",
       "    }\n",
       "</style>\n",
       "<table border=\"1\" class=\"dataframe\">\n",
       "  <thead>\n",
       "    <tr style=\"text-align: right;\">\n",
       "      <th></th>\n",
       "      <th>cv_train</th>\n",
       "      <th>cv_val</th>\n",
       "    </tr>\n",
       "  </thead>\n",
       "  <tbody>\n",
       "    <tr>\n",
       "      <th>0</th>\n",
       "      <td>0.147681</td>\n",
       "      <td>0.133364</td>\n",
       "    </tr>\n",
       "    <tr>\n",
       "      <th>1</th>\n",
       "      <td>0.145315</td>\n",
       "      <td>0.135804</td>\n",
       "    </tr>\n",
       "    <tr>\n",
       "      <th>2</th>\n",
       "      <td>0.144007</td>\n",
       "      <td>0.148303</td>\n",
       "    </tr>\n",
       "    <tr>\n",
       "      <th>3</th>\n",
       "      <td>0.144418</td>\n",
       "      <td>0.147910</td>\n",
       "    </tr>\n",
       "    <tr>\n",
       "      <th>4</th>\n",
       "      <td>0.144198</td>\n",
       "      <td>0.131331</td>\n",
       "    </tr>\n",
       "    <tr>\n",
       "      <th>5</th>\n",
       "      <td>0.142771</td>\n",
       "      <td>0.137240</td>\n",
       "    </tr>\n",
       "  </tbody>\n",
       "</table>\n",
       "</div>"
      ],
      "text/plain": [
       "   cv_train    cv_val\n",
       "0  0.147681  0.133364\n",
       "1  0.145315  0.135804\n",
       "2  0.144007  0.148303\n",
       "3  0.144418  0.147910\n",
       "4  0.144198  0.131331\n",
       "5  0.142771  0.137240"
      ]
     },
     "metadata": {},
     "output_type": "display_data"
    }
   ],
   "source": [
    "model = SVR(**hp[4])\n",
    "\n",
    "var = mi_features_50\n",
    "cv_output4 = proper_CV(df.loc[:, var], df.loc[:, \"etr\"], model, display_res=True)"
   ]
  },
  {
   "cell_type": "code",
   "execution_count": 112,
   "metadata": {},
   "outputs": [
    {
     "data": {
      "text/html": [
       "<div>\n",
       "<style scoped>\n",
       "    .dataframe tbody tr th:only-of-type {\n",
       "        vertical-align: middle;\n",
       "    }\n",
       "\n",
       "    .dataframe tbody tr th {\n",
       "        vertical-align: top;\n",
       "    }\n",
       "\n",
       "    .dataframe thead th {\n",
       "        text-align: right;\n",
       "    }\n",
       "</style>\n",
       "<table border=\"1\" class=\"dataframe\">\n",
       "  <thead>\n",
       "    <tr style=\"text-align: right;\">\n",
       "      <th></th>\n",
       "      <th>cv_train</th>\n",
       "      <th>cv_val</th>\n",
       "    </tr>\n",
       "  </thead>\n",
       "  <tbody>\n",
       "    <tr>\n",
       "      <th>0</th>\n",
       "      <td>0.147263</td>\n",
       "      <td>0.132993</td>\n",
       "    </tr>\n",
       "    <tr>\n",
       "      <th>1</th>\n",
       "      <td>0.144791</td>\n",
       "      <td>0.136149</td>\n",
       "    </tr>\n",
       "    <tr>\n",
       "      <th>2</th>\n",
       "      <td>0.143448</td>\n",
       "      <td>0.149360</td>\n",
       "    </tr>\n",
       "    <tr>\n",
       "      <th>3</th>\n",
       "      <td>0.144028</td>\n",
       "      <td>0.148962</td>\n",
       "    </tr>\n",
       "    <tr>\n",
       "      <th>4</th>\n",
       "      <td>0.143927</td>\n",
       "      <td>0.132284</td>\n",
       "    </tr>\n",
       "    <tr>\n",
       "      <th>5</th>\n",
       "      <td>0.142478</td>\n",
       "      <td>0.136771</td>\n",
       "    </tr>\n",
       "  </tbody>\n",
       "</table>\n",
       "</div>"
      ],
      "text/plain": [
       "   cv_train    cv_val\n",
       "0  0.147263  0.132993\n",
       "1  0.144791  0.136149\n",
       "2  0.143448  0.149360\n",
       "3  0.144028  0.148962\n",
       "4  0.143927  0.132284\n",
       "5  0.142478  0.136771"
      ]
     },
     "metadata": {},
     "output_type": "display_data"
    }
   ],
   "source": [
    "model = SVR(**hp[5])\n",
    "var = benchmark\n",
    "cv_output5 = proper_CV(df.loc[:, var], df.loc[:, \"etr\"], model, display_res=True)"
   ]
  },
  {
   "cell_type": "code",
   "execution_count": 113,
   "metadata": {},
   "outputs": [
    {
     "data": {
      "text/html": [
       "<div>\n",
       "<style scoped>\n",
       "    .dataframe tbody tr th:only-of-type {\n",
       "        vertical-align: middle;\n",
       "    }\n",
       "\n",
       "    .dataframe tbody tr th {\n",
       "        vertical-align: top;\n",
       "    }\n",
       "\n",
       "    .dataframe thead th {\n",
       "        text-align: right;\n",
       "    }\n",
       "</style>\n",
       "<table border=\"1\" class=\"dataframe\">\n",
       "  <thead>\n",
       "    <tr style=\"text-align: right;\">\n",
       "      <th></th>\n",
       "      <th>cv_train</th>\n",
       "      <th>cv_val</th>\n",
       "    </tr>\n",
       "  </thead>\n",
       "  <tbody>\n",
       "    <tr>\n",
       "      <th>0</th>\n",
       "      <td>0.147165</td>\n",
       "      <td>0.132973</td>\n",
       "    </tr>\n",
       "    <tr>\n",
       "      <th>1</th>\n",
       "      <td>0.144511</td>\n",
       "      <td>0.135948</td>\n",
       "    </tr>\n",
       "    <tr>\n",
       "      <th>2</th>\n",
       "      <td>0.143187</td>\n",
       "      <td>0.148616</td>\n",
       "    </tr>\n",
       "    <tr>\n",
       "      <th>3</th>\n",
       "      <td>0.143985</td>\n",
       "      <td>0.147984</td>\n",
       "    </tr>\n",
       "    <tr>\n",
       "      <th>4</th>\n",
       "      <td>0.143683</td>\n",
       "      <td>0.131501</td>\n",
       "    </tr>\n",
       "    <tr>\n",
       "      <th>5</th>\n",
       "      <td>0.142346</td>\n",
       "      <td>0.136195</td>\n",
       "    </tr>\n",
       "  </tbody>\n",
       "</table>\n",
       "</div>"
      ],
      "text/plain": [
       "   cv_train    cv_val\n",
       "0  0.147165  0.132973\n",
       "1  0.144511  0.135948\n",
       "2  0.143187  0.148616\n",
       "3  0.143985  0.147984\n",
       "4  0.143683  0.131501\n",
       "5  0.142346  0.136195"
      ]
     },
     "metadata": {},
     "output_type": "display_data"
    }
   ],
   "source": [
    "model = SVR(**hp[6])\n",
    "var = benchmark2\n",
    "cv_output6 = proper_CV(df.loc[:, var], df.loc[:, \"etr\"], model, display_res=True)"
   ]
  },
  {
   "cell_type": "code",
   "execution_count": 114,
   "metadata": {},
   "outputs": [
    {
     "data": {
      "text/html": [
       "<div>\n",
       "<style scoped>\n",
       "    .dataframe tbody tr th:only-of-type {\n",
       "        vertical-align: middle;\n",
       "    }\n",
       "\n",
       "    .dataframe tbody tr th {\n",
       "        vertical-align: top;\n",
       "    }\n",
       "\n",
       "    .dataframe thead th {\n",
       "        text-align: right;\n",
       "    }\n",
       "</style>\n",
       "<table border=\"1\" class=\"dataframe\">\n",
       "  <thead>\n",
       "    <tr style=\"text-align: right;\">\n",
       "      <th></th>\n",
       "      <th>cv_train</th>\n",
       "      <th>cv_val</th>\n",
       "    </tr>\n",
       "  </thead>\n",
       "  <tbody>\n",
       "    <tr>\n",
       "      <th>0</th>\n",
       "      <td>0.140783</td>\n",
       "      <td>0.132922</td>\n",
       "    </tr>\n",
       "    <tr>\n",
       "      <th>1</th>\n",
       "      <td>0.139887</td>\n",
       "      <td>0.135021</td>\n",
       "    </tr>\n",
       "    <tr>\n",
       "      <th>2</th>\n",
       "      <td>0.139141</td>\n",
       "      <td>0.152122</td>\n",
       "    </tr>\n",
       "    <tr>\n",
       "      <th>3</th>\n",
       "      <td>0.140970</td>\n",
       "      <td>0.152111</td>\n",
       "    </tr>\n",
       "    <tr>\n",
       "      <th>4</th>\n",
       "      <td>0.141747</td>\n",
       "      <td>0.133731</td>\n",
       "    </tr>\n",
       "    <tr>\n",
       "      <th>5</th>\n",
       "      <td>0.140937</td>\n",
       "      <td>0.136954</td>\n",
       "    </tr>\n",
       "  </tbody>\n",
       "</table>\n",
       "</div>"
      ],
      "text/plain": [
       "   cv_train    cv_val\n",
       "0  0.140783  0.132922\n",
       "1  0.139887  0.135021\n",
       "2  0.139141  0.152122\n",
       "3  0.140970  0.152111\n",
       "4  0.141747  0.133731\n",
       "5  0.140937  0.136954"
      ]
     },
     "metadata": {},
     "output_type": "display_data"
    }
   ],
   "source": [
    "model = SVR(**hp[7])\n",
    "\n",
    "var = sf_features\n",
    "cv_output7 = proper_CV(df.loc[:, var], df.loc[:, \"etr\"], model, display_res=True)"
   ]
  },
  {
   "cell_type": "code",
   "execution_count": 115,
   "metadata": {},
   "outputs": [
    {
     "data": {
      "text/html": [
       "<div>\n",
       "<style scoped>\n",
       "    .dataframe tbody tr th:only-of-type {\n",
       "        vertical-align: middle;\n",
       "    }\n",
       "\n",
       "    .dataframe tbody tr th {\n",
       "        vertical-align: top;\n",
       "    }\n",
       "\n",
       "    .dataframe thead th {\n",
       "        text-align: right;\n",
       "    }\n",
       "</style>\n",
       "<table border=\"1\" class=\"dataframe\">\n",
       "  <thead>\n",
       "    <tr style=\"text-align: right;\">\n",
       "      <th></th>\n",
       "      <th>cv_train</th>\n",
       "      <th>cv_val</th>\n",
       "    </tr>\n",
       "  </thead>\n",
       "  <tbody>\n",
       "    <tr>\n",
       "      <th>0</th>\n",
       "      <td>0.140517</td>\n",
       "      <td>0.133401</td>\n",
       "    </tr>\n",
       "    <tr>\n",
       "      <th>1</th>\n",
       "      <td>0.139471</td>\n",
       "      <td>0.134978</td>\n",
       "    </tr>\n",
       "    <tr>\n",
       "      <th>2</th>\n",
       "      <td>0.139117</td>\n",
       "      <td>0.152155</td>\n",
       "    </tr>\n",
       "    <tr>\n",
       "      <th>3</th>\n",
       "      <td>0.140745</td>\n",
       "      <td>0.151027</td>\n",
       "    </tr>\n",
       "    <tr>\n",
       "      <th>4</th>\n",
       "      <td>0.141371</td>\n",
       "      <td>0.132163</td>\n",
       "    </tr>\n",
       "    <tr>\n",
       "      <th>5</th>\n",
       "      <td>0.140421</td>\n",
       "      <td>0.135942</td>\n",
       "    </tr>\n",
       "  </tbody>\n",
       "</table>\n",
       "</div>"
      ],
      "text/plain": [
       "   cv_train    cv_val\n",
       "0  0.140517  0.133401\n",
       "1  0.139471  0.134978\n",
       "2  0.139117  0.152155\n",
       "3  0.140745  0.151027\n",
       "4  0.141371  0.132163\n",
       "5  0.140421  0.135942"
      ]
     },
     "metadata": {},
     "output_type": "display_data"
    }
   ],
   "source": [
    "model = SVR(**hp[8])\n",
    "\n",
    "var = sf_features2\n",
    "cv_output8 = proper_CV(df.loc[:, var], df.loc[:, \"etr\"], model, display_res=True)"
   ]
  },
  {
   "cell_type": "code",
   "execution_count": 116,
   "metadata": {},
   "outputs": [
    {
     "data": {
      "text/html": [
       "<div>\n",
       "<style scoped>\n",
       "    .dataframe tbody tr th:only-of-type {\n",
       "        vertical-align: middle;\n",
       "    }\n",
       "\n",
       "    .dataframe tbody tr th {\n",
       "        vertical-align: top;\n",
       "    }\n",
       "\n",
       "    .dataframe thead th {\n",
       "        text-align: right;\n",
       "    }\n",
       "</style>\n",
       "<table border=\"1\" class=\"dataframe\">\n",
       "  <thead>\n",
       "    <tr style=\"text-align: right;\">\n",
       "      <th></th>\n",
       "      <th>cv_train</th>\n",
       "      <th>cv_val</th>\n",
       "    </tr>\n",
       "  </thead>\n",
       "  <tbody>\n",
       "    <tr>\n",
       "      <th>0</th>\n",
       "      <td>0.145696</td>\n",
       "      <td>0.133143</td>\n",
       "    </tr>\n",
       "    <tr>\n",
       "      <th>1</th>\n",
       "      <td>0.143528</td>\n",
       "      <td>0.136003</td>\n",
       "    </tr>\n",
       "    <tr>\n",
       "      <th>2</th>\n",
       "      <td>0.142491</td>\n",
       "      <td>0.147077</td>\n",
       "    </tr>\n",
       "    <tr>\n",
       "      <th>3</th>\n",
       "      <td>0.142933</td>\n",
       "      <td>0.147811</td>\n",
       "    </tr>\n",
       "    <tr>\n",
       "      <th>4</th>\n",
       "      <td>0.142688</td>\n",
       "      <td>0.131748</td>\n",
       "    </tr>\n",
       "    <tr>\n",
       "      <th>5</th>\n",
       "      <td>0.141533</td>\n",
       "      <td>0.135182</td>\n",
       "    </tr>\n",
       "  </tbody>\n",
       "</table>\n",
       "</div>"
      ],
      "text/plain": [
       "   cv_train    cv_val\n",
       "0  0.145696  0.133143\n",
       "1  0.143528  0.136003\n",
       "2  0.142491  0.147077\n",
       "3  0.142933  0.147811\n",
       "4  0.142688  0.131748\n",
       "5  0.141533  0.135182"
      ]
     },
     "metadata": {},
     "output_type": "display_data"
    }
   ],
   "source": [
    "model = SVR(**hp[9])\n",
    "var = rfe_candidates_without_disc\n",
    "cv_output9 = proper_CV(df.loc[:, var], df.loc[:, \"etr\"], model, display_res=True)"
   ]
  },
  {
   "cell_type": "code",
   "execution_count": 117,
   "metadata": {},
   "outputs": [
    {
     "data": {
      "text/html": [
       "<div>\n",
       "<style scoped>\n",
       "    .dataframe tbody tr th:only-of-type {\n",
       "        vertical-align: middle;\n",
       "    }\n",
       "\n",
       "    .dataframe tbody tr th {\n",
       "        vertical-align: top;\n",
       "    }\n",
       "\n",
       "    .dataframe thead th {\n",
       "        text-align: right;\n",
       "    }\n",
       "</style>\n",
       "<table border=\"1\" class=\"dataframe\">\n",
       "  <thead>\n",
       "    <tr style=\"text-align: right;\">\n",
       "      <th></th>\n",
       "      <th>cv_train</th>\n",
       "      <th>cv_val</th>\n",
       "    </tr>\n",
       "  </thead>\n",
       "  <tbody>\n",
       "    <tr>\n",
       "      <th>0</th>\n",
       "      <td>0.156633</td>\n",
       "      <td>0.139362</td>\n",
       "    </tr>\n",
       "    <tr>\n",
       "      <th>1</th>\n",
       "      <td>0.153224</td>\n",
       "      <td>0.138238</td>\n",
       "    </tr>\n",
       "    <tr>\n",
       "      <th>2</th>\n",
       "      <td>0.151335</td>\n",
       "      <td>0.155645</td>\n",
       "    </tr>\n",
       "    <tr>\n",
       "      <th>3</th>\n",
       "      <td>0.152445</td>\n",
       "      <td>0.152620</td>\n",
       "    </tr>\n",
       "    <tr>\n",
       "      <th>4</th>\n",
       "      <td>0.152190</td>\n",
       "      <td>0.139453</td>\n",
       "    </tr>\n",
       "    <tr>\n",
       "      <th>5</th>\n",
       "      <td>0.151055</td>\n",
       "      <td>0.142193</td>\n",
       "    </tr>\n",
       "  </tbody>\n",
       "</table>\n",
       "</div>"
      ],
      "text/plain": [
       "   cv_train    cv_val\n",
       "0  0.156633  0.139362\n",
       "1  0.153224  0.138238\n",
       "2  0.151335  0.155645\n",
       "3  0.152445  0.152620\n",
       "4  0.152190  0.139453\n",
       "5  0.151055  0.142193"
      ]
     },
     "metadata": {},
     "output_type": "display_data"
    }
   ],
   "source": [
    "model = SVR(**hp[10])\n",
    "var = rfe_candidates\n",
    "cv_output10 = proper_CV(df.loc[:, var], df.loc[:, \"etr\"], model, display_res=True)"
   ]
  },
  {
   "cell_type": "code",
   "execution_count": 118,
   "metadata": {},
   "outputs": [
    {
     "data": {
      "text/html": [
       "<div>\n",
       "<style scoped>\n",
       "    .dataframe tbody tr th:only-of-type {\n",
       "        vertical-align: middle;\n",
       "    }\n",
       "\n",
       "    .dataframe tbody tr th {\n",
       "        vertical-align: top;\n",
       "    }\n",
       "\n",
       "    .dataframe thead th {\n",
       "        text-align: right;\n",
       "    }\n",
       "</style>\n",
       "<table border=\"1\" class=\"dataframe\">\n",
       "  <thead>\n",
       "    <tr style=\"text-align: right;\">\n",
       "      <th></th>\n",
       "      <th>cv_train</th>\n",
       "      <th>cv_val</th>\n",
       "    </tr>\n",
       "  </thead>\n",
       "  <tbody>\n",
       "    <tr>\n",
       "      <th>0</th>\n",
       "      <td>0.144135</td>\n",
       "      <td>0.133161</td>\n",
       "    </tr>\n",
       "    <tr>\n",
       "      <th>1</th>\n",
       "      <td>0.141644</td>\n",
       "      <td>0.133272</td>\n",
       "    </tr>\n",
       "    <tr>\n",
       "      <th>2</th>\n",
       "      <td>0.140641</td>\n",
       "      <td>0.149247</td>\n",
       "    </tr>\n",
       "    <tr>\n",
       "      <th>3</th>\n",
       "      <td>0.142016</td>\n",
       "      <td>0.148067</td>\n",
       "    </tr>\n",
       "    <tr>\n",
       "      <th>4</th>\n",
       "      <td>0.142477</td>\n",
       "      <td>0.129469</td>\n",
       "    </tr>\n",
       "    <tr>\n",
       "      <th>5</th>\n",
       "      <td>0.140979</td>\n",
       "      <td>0.133394</td>\n",
       "    </tr>\n",
       "  </tbody>\n",
       "</table>\n",
       "</div>"
      ],
      "text/plain": [
       "   cv_train    cv_val\n",
       "0  0.144135  0.133161\n",
       "1  0.141644  0.133272\n",
       "2  0.140641  0.149247\n",
       "3  0.142016  0.148067\n",
       "4  0.142477  0.129469\n",
       "5  0.140979  0.133394"
      ]
     },
     "metadata": {},
     "output_type": "display_data"
    }
   ],
   "source": [
    "model = SVR(**hp[11])\n",
    "\n",
    "var = pi_var_prim\n",
    "cv_output11 = proper_CV(df.loc[:, var], df.loc[:, \"etr\"], model, display_res=True)"
   ]
  },
  {
   "cell_type": "code",
   "execution_count": 119,
   "metadata": {},
   "outputs": [
    {
     "data": {
      "text/html": [
       "<div>\n",
       "<style scoped>\n",
       "    .dataframe tbody tr th:only-of-type {\n",
       "        vertical-align: middle;\n",
       "    }\n",
       "\n",
       "    .dataframe tbody tr th {\n",
       "        vertical-align: top;\n",
       "    }\n",
       "\n",
       "    .dataframe thead th {\n",
       "        text-align: right;\n",
       "    }\n",
       "</style>\n",
       "<table border=\"1\" class=\"dataframe\">\n",
       "  <thead>\n",
       "    <tr style=\"text-align: right;\">\n",
       "      <th></th>\n",
       "      <th>cv_train</th>\n",
       "      <th>cv_val</th>\n",
       "    </tr>\n",
       "  </thead>\n",
       "  <tbody>\n",
       "    <tr>\n",
       "      <th>0</th>\n",
       "      <td>0.146127</td>\n",
       "      <td>0.132615</td>\n",
       "    </tr>\n",
       "    <tr>\n",
       "      <th>1</th>\n",
       "      <td>0.143648</td>\n",
       "      <td>0.134567</td>\n",
       "    </tr>\n",
       "    <tr>\n",
       "      <th>2</th>\n",
       "      <td>0.142416</td>\n",
       "      <td>0.149804</td>\n",
       "    </tr>\n",
       "    <tr>\n",
       "      <th>3</th>\n",
       "      <td>0.143464</td>\n",
       "      <td>0.146932</td>\n",
       "    </tr>\n",
       "    <tr>\n",
       "      <th>4</th>\n",
       "      <td>0.143372</td>\n",
       "      <td>0.130175</td>\n",
       "    </tr>\n",
       "    <tr>\n",
       "      <th>5</th>\n",
       "      <td>0.141909</td>\n",
       "      <td>0.134692</td>\n",
       "    </tr>\n",
       "  </tbody>\n",
       "</table>\n",
       "</div>"
      ],
      "text/plain": [
       "   cv_train    cv_val\n",
       "0  0.146127  0.132615\n",
       "1  0.143648  0.134567\n",
       "2  0.142416  0.149804\n",
       "3  0.143464  0.146932\n",
       "4  0.143372  0.130175\n",
       "5  0.141909  0.134692"
      ]
     },
     "metadata": {},
     "output_type": "display_data"
    }
   ],
   "source": [
    "model = SVR(**hp[12])\n",
    "var = pi_var\n",
    "cv_output12 = proper_CV(df.loc[:, var], df.loc[:, \"etr\"], model, display_res=True)"
   ]
  },
  {
   "cell_type": "code",
   "execution_count": 120,
   "metadata": {},
   "outputs": [
    {
     "data": {
      "text/html": [
       "<div>\n",
       "<style scoped>\n",
       "    .dataframe tbody tr th:only-of-type {\n",
       "        vertical-align: middle;\n",
       "    }\n",
       "\n",
       "    .dataframe tbody tr th {\n",
       "        vertical-align: top;\n",
       "    }\n",
       "\n",
       "    .dataframe thead th {\n",
       "        text-align: right;\n",
       "    }\n",
       "</style>\n",
       "<table border=\"1\" class=\"dataframe\">\n",
       "  <thead>\n",
       "    <tr style=\"text-align: right;\">\n",
       "      <th></th>\n",
       "      <th>train_mean</th>\n",
       "      <th>test_mean</th>\n",
       "    </tr>\n",
       "  </thead>\n",
       "  <tbody>\n",
       "    <tr>\n",
       "      <th>0</th>\n",
       "      <td>0.135252</td>\n",
       "      <td>0.140962</td>\n",
       "    </tr>\n",
       "    <tr>\n",
       "      <th>1</th>\n",
       "      <td>0.134186</td>\n",
       "      <td>0.139992</td>\n",
       "    </tr>\n",
       "    <tr>\n",
       "      <th>2</th>\n",
       "      <td>0.133392</td>\n",
       "      <td>0.140383</td>\n",
       "    </tr>\n",
       "    <tr>\n",
       "      <th>3</th>\n",
       "      <td>0.143707</td>\n",
       "      <td>0.138980</td>\n",
       "    </tr>\n",
       "    <tr>\n",
       "      <th>4</th>\n",
       "      <td>0.144732</td>\n",
       "      <td>0.138992</td>\n",
       "    </tr>\n",
       "    <tr>\n",
       "      <th>5</th>\n",
       "      <td>0.144323</td>\n",
       "      <td>0.139420</td>\n",
       "    </tr>\n",
       "    <tr>\n",
       "      <th>6</th>\n",
       "      <td>0.144146</td>\n",
       "      <td>0.138869</td>\n",
       "    </tr>\n",
       "    <tr>\n",
       "      <th>7</th>\n",
       "      <td>0.140577</td>\n",
       "      <td>0.140477</td>\n",
       "    </tr>\n",
       "    <tr>\n",
       "      <th>8</th>\n",
       "      <td>0.140274</td>\n",
       "      <td>0.139944</td>\n",
       "    </tr>\n",
       "    <tr>\n",
       "      <th>9</th>\n",
       "      <td>0.143145</td>\n",
       "      <td>0.138494</td>\n",
       "    </tr>\n",
       "    <tr>\n",
       "      <th>10</th>\n",
       "      <td>0.152814</td>\n",
       "      <td>0.144585</td>\n",
       "    </tr>\n",
       "    <tr>\n",
       "      <th>11</th>\n",
       "      <td>0.141982</td>\n",
       "      <td>0.137768</td>\n",
       "    </tr>\n",
       "    <tr>\n",
       "      <th>12</th>\n",
       "      <td>0.143489</td>\n",
       "      <td>0.138131</td>\n",
       "    </tr>\n",
       "  </tbody>\n",
       "</table>\n",
       "</div>"
      ],
      "text/plain": [
       "    train_mean  test_mean\n",
       "0     0.135252   0.140962\n",
       "1     0.134186   0.139992\n",
       "2     0.133392   0.140383\n",
       "3     0.143707   0.138980\n",
       "4     0.144732   0.138992\n",
       "5     0.144323   0.139420\n",
       "6     0.144146   0.138869\n",
       "7     0.140577   0.140477\n",
       "8     0.140274   0.139944\n",
       "9     0.143145   0.138494\n",
       "10    0.152814   0.144585\n",
       "11    0.141982   0.137768\n",
       "12    0.143489   0.138131"
      ]
     },
     "execution_count": 120,
     "metadata": {},
     "output_type": "execute_result"
    }
   ],
   "source": [
    "pd.DataFrame(\n",
    "    [\n",
    "        cv_output0[2].mean().tolist(),\n",
    "        cv_output1[2].mean().tolist(),\n",
    "        cv_output2[2].mean().tolist(),\n",
    "        cv_output3[2].mean().tolist(),\n",
    "        cv_output4[2].mean().tolist(),\n",
    "        cv_output5[2].mean().tolist(),\n",
    "        cv_output6[2].mean().tolist(),\n",
    "        cv_output7[2].mean().tolist(),\n",
    "        cv_output8[2].mean().tolist(),\n",
    "        cv_output9[2].mean().tolist(),\n",
    "        cv_output10[2].mean().tolist(),\n",
    "        cv_output11[2].mean().tolist(),\n",
    "        cv_output12[2].mean().tolist(),\n",
    "    ],\n",
    "    columns=[\"train_mean\", \"test_mean\"],\n",
    ")"
   ]
  },
  {
   "cell_type": "code",
   "execution_count": 121,
   "metadata": {},
   "outputs": [
    {
     "data": {
      "text/html": [
       "<div>\n",
       "<style scoped>\n",
       "    .dataframe tbody tr th:only-of-type {\n",
       "        vertical-align: middle;\n",
       "    }\n",
       "\n",
       "    .dataframe tbody tr th {\n",
       "        vertical-align: top;\n",
       "    }\n",
       "\n",
       "    .dataframe thead th {\n",
       "        text-align: right;\n",
       "    }\n",
       "</style>\n",
       "<table border=\"1\" class=\"dataframe\">\n",
       "  <thead>\n",
       "    <tr style=\"text-align: right;\">\n",
       "      <th></th>\n",
       "      <th>train_std</th>\n",
       "      <th>test_std</th>\n",
       "    </tr>\n",
       "  </thead>\n",
       "  <tbody>\n",
       "    <tr>\n",
       "      <th>0</th>\n",
       "      <td>0.000905</td>\n",
       "      <td>0.009694</td>\n",
       "    </tr>\n",
       "    <tr>\n",
       "      <th>1</th>\n",
       "      <td>0.001321</td>\n",
       "      <td>0.007739</td>\n",
       "    </tr>\n",
       "    <tr>\n",
       "      <th>2</th>\n",
       "      <td>0.001233</td>\n",
       "      <td>0.007610</td>\n",
       "    </tr>\n",
       "    <tr>\n",
       "      <th>3</th>\n",
       "      <td>0.001417</td>\n",
       "      <td>0.007260</td>\n",
       "    </tr>\n",
       "    <tr>\n",
       "      <th>4</th>\n",
       "      <td>0.001661</td>\n",
       "      <td>0.007346</td>\n",
       "    </tr>\n",
       "    <tr>\n",
       "      <th>5</th>\n",
       "      <td>0.001630</td>\n",
       "      <td>0.007743</td>\n",
       "    </tr>\n",
       "    <tr>\n",
       "      <th>6</th>\n",
       "      <td>0.001652</td>\n",
       "      <td>0.007521</td>\n",
       "    </tr>\n",
       "    <tr>\n",
       "      <th>7</th>\n",
       "      <td>0.000920</td>\n",
       "      <td>0.009118</td>\n",
       "    </tr>\n",
       "    <tr>\n",
       "      <th>8</th>\n",
       "      <td>0.000836</td>\n",
       "      <td>0.009121</td>\n",
       "    </tr>\n",
       "    <tr>\n",
       "      <th>9</th>\n",
       "      <td>0.001410</td>\n",
       "      <td>0.007096</td>\n",
       "    </tr>\n",
       "    <tr>\n",
       "      <th>10</th>\n",
       "      <td>0.002028</td>\n",
       "      <td>0.007570</td>\n",
       "    </tr>\n",
       "    <tr>\n",
       "      <th>11</th>\n",
       "      <td>0.001249</td>\n",
       "      <td>0.008571</td>\n",
       "    </tr>\n",
       "    <tr>\n",
       "      <th>12</th>\n",
       "      <td>0.001459</td>\n",
       "      <td>0.008148</td>\n",
       "    </tr>\n",
       "  </tbody>\n",
       "</table>\n",
       "</div>"
      ],
      "text/plain": [
       "    train_std  test_std\n",
       "0    0.000905  0.009694\n",
       "1    0.001321  0.007739\n",
       "2    0.001233  0.007610\n",
       "3    0.001417  0.007260\n",
       "4    0.001661  0.007346\n",
       "5    0.001630  0.007743\n",
       "6    0.001652  0.007521\n",
       "7    0.000920  0.009118\n",
       "8    0.000836  0.009121\n",
       "9    0.001410  0.007096\n",
       "10   0.002028  0.007570\n",
       "11   0.001249  0.008571\n",
       "12   0.001459  0.008148"
      ]
     },
     "execution_count": 121,
     "metadata": {},
     "output_type": "execute_result"
    }
   ],
   "source": [
    "pd.DataFrame(\n",
    "    [\n",
    "        cv_output0[2].std().tolist(),\n",
    "        cv_output1[2].std().tolist(),\n",
    "        cv_output2[2].std().tolist(),\n",
    "        cv_output3[2].std().tolist(),\n",
    "        cv_output4[2].std().tolist(),\n",
    "        cv_output5[2].std().tolist(),\n",
    "        cv_output6[2].std().tolist(),\n",
    "        cv_output7[2].std().tolist(),\n",
    "        cv_output8[2].std().tolist(),\n",
    "        cv_output9[2].std().tolist(),\n",
    "        cv_output10[2].std().tolist(),\n",
    "        cv_output11[2].std().tolist(),\n",
    "        cv_output12[2].std().tolist(),\n",
    "    ],\n",
    "    columns=[\"train_std\", \"test_std\"],\n",
    ")"
   ]
  },
  {
   "cell_type": "markdown",
   "metadata": {},
   "source": [
    "8th models seems to be the best one! We see that our intuition was quite good - binary variables should be removed!"
   ]
  },
  {
   "cell_type": "code",
   "execution_count": 123,
   "metadata": {},
   "outputs": [
    {
     "name": "stdout",
     "output_type": "stream",
     "text": [
      "['ta', 'pi', 'str', 'xrd', 'dlc', 'capex', 'revenue', 'cce', 'diff', 'sale', 'cash_holdings', 'capex2', 'cfc', 'capex2_scaled', 'WB_GDPpc', 'rr_per_country', 'rr_per_sector', 'sektor_consumer discretionary', 'sektor_consumer staples', 'sektor_energy', 'sektor_health care', 'sektor_industrials', 'sektor_materials', 'sektor_real estate', 'gielda_2', 'gielda_3', 'xrd_exists', 'ni_profit', 'ni_profit_20000', 'diff_positive', 'lev_sqrt', 'etr_y_ma', 'lev_ma', 'lev_past', 'sale_past', 'cash_holdings_past']\n"
     ]
    }
   ],
   "source": [
    "print(rfe_candidates_without_disc)"
   ]
  },
  {
   "cell_type": "markdown",
   "metadata": {},
   "source": [
    "### Fit final model and save it"
   ]
  },
  {
   "cell_type": "code",
   "execution_count": 158,
   "metadata": {},
   "outputs": [
    {
     "data": {
      "text/html": [
       "<style>#sk-container-id-9 {color: black;background-color: white;}#sk-container-id-9 pre{padding: 0;}#sk-container-id-9 div.sk-toggleable {background-color: white;}#sk-container-id-9 label.sk-toggleable__label {cursor: pointer;display: block;width: 100%;margin-bottom: 0;padding: 0.3em;box-sizing: border-box;text-align: center;}#sk-container-id-9 label.sk-toggleable__label-arrow:before {content: \"▸\";float: left;margin-right: 0.25em;color: #696969;}#sk-container-id-9 label.sk-toggleable__label-arrow:hover:before {color: black;}#sk-container-id-9 div.sk-estimator:hover label.sk-toggleable__label-arrow:before {color: black;}#sk-container-id-9 div.sk-toggleable__content {max-height: 0;max-width: 0;overflow: hidden;text-align: left;background-color: #f0f8ff;}#sk-container-id-9 div.sk-toggleable__content pre {margin: 0.2em;color: black;border-radius: 0.25em;background-color: #f0f8ff;}#sk-container-id-9 input.sk-toggleable__control:checked~div.sk-toggleable__content {max-height: 200px;max-width: 100%;overflow: auto;}#sk-container-id-9 input.sk-toggleable__control:checked~label.sk-toggleable__label-arrow:before {content: \"▾\";}#sk-container-id-9 div.sk-estimator input.sk-toggleable__control:checked~label.sk-toggleable__label {background-color: #d4ebff;}#sk-container-id-9 div.sk-label input.sk-toggleable__control:checked~label.sk-toggleable__label {background-color: #d4ebff;}#sk-container-id-9 input.sk-hidden--visually {border: 0;clip: rect(1px 1px 1px 1px);clip: rect(1px, 1px, 1px, 1px);height: 1px;margin: -1px;overflow: hidden;padding: 0;position: absolute;width: 1px;}#sk-container-id-9 div.sk-estimator {font-family: monospace;background-color: #f0f8ff;border: 1px dotted black;border-radius: 0.25em;box-sizing: border-box;margin-bottom: 0.5em;}#sk-container-id-9 div.sk-estimator:hover {background-color: #d4ebff;}#sk-container-id-9 div.sk-parallel-item::after {content: \"\";width: 100%;border-bottom: 1px solid gray;flex-grow: 1;}#sk-container-id-9 div.sk-label:hover label.sk-toggleable__label {background-color: #d4ebff;}#sk-container-id-9 div.sk-serial::before {content: \"\";position: absolute;border-left: 1px solid gray;box-sizing: border-box;top: 0;bottom: 0;left: 50%;z-index: 0;}#sk-container-id-9 div.sk-serial {display: flex;flex-direction: column;align-items: center;background-color: white;padding-right: 0.2em;padding-left: 0.2em;position: relative;}#sk-container-id-9 div.sk-item {position: relative;z-index: 1;}#sk-container-id-9 div.sk-parallel {display: flex;align-items: stretch;justify-content: center;background-color: white;position: relative;}#sk-container-id-9 div.sk-item::before, #sk-container-id-9 div.sk-parallel-item::before {content: \"\";position: absolute;border-left: 1px solid gray;box-sizing: border-box;top: 0;bottom: 0;left: 50%;z-index: -1;}#sk-container-id-9 div.sk-parallel-item {display: flex;flex-direction: column;z-index: 1;position: relative;background-color: white;}#sk-container-id-9 div.sk-parallel-item:first-child::after {align-self: flex-end;width: 50%;}#sk-container-id-9 div.sk-parallel-item:last-child::after {align-self: flex-start;width: 50%;}#sk-container-id-9 div.sk-parallel-item:only-child::after {width: 0;}#sk-container-id-9 div.sk-dashed-wrapped {border: 1px dashed gray;margin: 0 0.4em 0.5em 0.4em;box-sizing: border-box;padding-bottom: 0.4em;background-color: white;}#sk-container-id-9 div.sk-label label {font-family: monospace;font-weight: bold;display: inline-block;line-height: 1.2em;}#sk-container-id-9 div.sk-label-container {text-align: center;}#sk-container-id-9 div.sk-container {/* jupyter's `normalize.less` sets `[hidden] { display: none; }` but bootstrap.min.css set `[hidden] { display: none !important; }` so we also need the `!important` here to be able to override the default hidden behavior on the sphinx rendered scikit-learn.org. See: https://github.com/scikit-learn/scikit-learn/issues/21755 */display: inline-block !important;position: relative;}#sk-container-id-9 div.sk-text-repr-fallback {display: none;}</style><div id=\"sk-container-id-9\" class=\"sk-top-container\"><div class=\"sk-text-repr-fallback\"><pre>SVR(C=0.005)</pre><b>In a Jupyter environment, please rerun this cell to show the HTML representation or trust the notebook. <br />On GitHub, the HTML representation is unable to render, please try loading this page with nbviewer.org.</b></div><div class=\"sk-container\" hidden><div class=\"sk-item\"><div class=\"sk-estimator sk-toggleable\"><input class=\"sk-toggleable__control sk-hidden--visually\" id=\"sk-estimator-id-13\" type=\"checkbox\" checked><label for=\"sk-estimator-id-13\" class=\"sk-toggleable__label sk-toggleable__label-arrow\">SVR</label><div class=\"sk-toggleable__content\"><pre>SVR(C=0.005)</pre></div></div></div></div></div>"
      ],
      "text/plain": [
       "SVR(C=0.005)"
      ]
     },
     "execution_count": 158,
     "metadata": {},
     "output_type": "execute_result"
    }
   ],
   "source": [
    "model = SVR(**hp[9])\n",
    "\n",
    "model.fit(\n",
    "    df.loc[:, rfe_candidates_without_disc].values, df.loc[:, \"etr\"].values.ravel()\n",
    ")"
   ]
  },
  {
   "cell_type": "code",
   "execution_count": 159,
   "metadata": {},
   "outputs": [],
   "source": [
    "filename = \"../models/svr.sav\""
   ]
  },
  {
   "cell_type": "code",
   "execution_count": 160,
   "metadata": {},
   "outputs": [],
   "source": [
    "pickle.dump(model, open(filename, \"wb\"))"
   ]
  },
  {
   "cell_type": "code",
   "execution_count": null,
   "metadata": {},
   "outputs": [],
   "source": []
  }
 ],
 "metadata": {
  "kernelspec": {
   "display_name": "Python 3 (ipykernel)",
   "language": "python",
   "name": "python3"
  },
  "language_info": {
   "codemirror_mode": {
    "name": "ipython",
    "version": 3
   },
   "file_extension": ".py",
   "mimetype": "text/x-python",
   "name": "python",
   "nbconvert_exporter": "python",
   "pygments_lexer": "ipython3",
   "version": "3.11.5"
  },
  "vscode": {
   "interpreter": {
    "hash": "bff0f7c864331389fa2ce0c5d534e26d0bfdbc8f9c927a5938dc8a191fde6d96"
   }
  }
 },
 "nbformat": 4,
 "nbformat_minor": 4
}
