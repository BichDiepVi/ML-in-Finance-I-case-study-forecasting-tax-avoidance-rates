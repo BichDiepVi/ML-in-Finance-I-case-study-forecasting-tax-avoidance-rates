{
 "cells": [
  {
   "cell_type": "markdown",
   "metadata": {},
   "source": [
    "# KNN Regression"
   ]
  },
  {
   "cell_type": "markdown",
   "metadata": {},
   "source": [
    "KNN in our problem might not be the best choice - variables highly skewed! But we will do our best!"
   ]
  },
  {
   "cell_type": "markdown",
   "metadata": {},
   "source": [
    "We will apply following approach in case of KNN:\n",
    " * we will perform feature engineering - standardization\n",
    " * then we will find \"good enough\" parameters (in CV) to proceed feature selection procedure and after that we will have groups of feature candidates\n",
    " * then we will tune hyperparameters for each group of variables (in CV) - we will obtain couple of models\n",
    " * then we will compare all models based on so called \"proper CV\" and we will fit and picke the winner!"
   ]
  },
  {
   "cell_type": "markdown",
   "metadata": {},
   "source": [
    "We are aware of potential data leakage in case of usage KFold CV without time-series problem handling (in point 2 and 3). \n",
    "\n",
    "*To be honest in this problem it is not a big deal - based on our experience and we treat it like a feature!*\n",
    "\n",
    "During the last step of our procedure we will verify previous analysis based on \"proper CV\" which handle time-series properties!!! So during hyperparameters tuning we will use different CV (we fight against data leakage)."
   ]
  },
  {
   "cell_type": "markdown",
   "metadata": {},
   "source": [
    "### Dependencies loading"
   ]
  },
  {
   "cell_type": "code",
   "execution_count": 107,
   "metadata": {
    "ExecuteTime": {
     "end_time": "2020-06-03T00:41:01.482511Z",
     "start_time": "2020-06-03T00:41:00.334768Z"
    }
   },
   "outputs": [],
   "source": [
    "import pandas as pd\n",
    "import numpy as np\n",
    "import matplotlib.pyplot as plt\n",
    "import seaborn as sns\n",
    "from sklearn.feature_selection import RFECV\n",
    "from sklearn.inspection import permutation_importance\n",
    "from sklearn.model_selection import KFold\n",
    "from sklearn.metrics import mean_squared_error\n",
    "from sklearn.metrics import make_scorer\n",
    "from mlxtend.feature_selection import SequentialFeatureSelector as SFS\n",
    "from sklearn.neighbors import KNeighborsRegressor\n",
    "from sklearn.preprocessing import MinMaxScaler\n",
    "from sklearn.model_selection import cross_validate\n",
    "from sklearn.model_selection import GridSearchCV\n",
    "from ReliefF import ReliefF\n",
    "import pickle\n",
    "\n",
    "pd.set_option(\"display.max_columns\", 500)\n",
    "pd.set_option(\"display.max_rows\", 150)\n",
    "\n",
    "# np.random.seed(1916) #uncomment if you want your code to be reproducible; for the purposes of our activity, let's add some randomness to the results"
   ]
  },
  {
   "cell_type": "markdown",
   "metadata": {},
   "source": [
    "### Data loading"
   ]
  },
  {
   "cell_type": "code",
   "execution_count": 108,
   "metadata": {
    "ExecuteTime": {
     "end_time": "2020-06-03T00:41:01.571464Z",
     "start_time": "2020-06-03T00:41:01.484496Z"
    }
   },
   "outputs": [],
   "source": [
    "preprocessed_output_data_path = \"../data/output\"\n",
    "\n",
    "df = pd.read_csv(f\"{preprocessed_output_data_path}/train_fe.csv\", index_col=0)\n",
    "\n",
    "fr = pd.read_excel(f\"{preprocessed_output_data_path}/feature_ranking.xlsx\", index_col=0)"
   ]
  },
  {
   "cell_type": "markdown",
   "metadata": {},
   "source": [
    "### Feature engineering for KNN model"
   ]
  },
  {
   "cell_type": "markdown",
   "metadata": {},
   "source": [
    "We have to standardize our variables. We will use range standardization (Min Max Scaler) because we have got dummies! We gave every variable a chance to have the same impact on the model."
   ]
  },
  {
   "cell_type": "code",
   "execution_count": 109,
   "metadata": {
    "ExecuteTime": {
     "end_time": "2020-06-03T00:41:02.769667Z",
     "start_time": "2020-06-03T00:41:02.763687Z"
    }
   },
   "outputs": [
    {
     "name": "stdout",
     "output_type": "stream",
     "text": [
      "['Ticker', 'Nazwa2', 'rok', 'ta', 'txt', 'pi', 'str', 'xrd', 'ni', 'ppent', 'intant', 'dlc', 'dltt', 'capex', 'revenue', 'cce', 'adv', 'etr', 'diff', 'roa', 'lev', 'intan', 'rd', 'ppe', 'sale', 'cash_holdings', 'adv_expenditure', 'capex2', 'cfc', 'dta', 'capex2_scaled', 'y_v2x_polyarchy', 'y_e_p_polity', 'y_BR_Democracy', 'WB_GDPgrowth', 'WB_GDPpc', 'WB_Inflation', 'rr_per_country', 'rr_per_sector', 'sektor_consumer discretionary', 'sektor_consumer staples', 'sektor_energy', 'sektor_health care', 'sektor_industrials', 'sektor_materials', 'sektor_real estate', 'sektor_technology', 'sektor_utilities', 'gielda_2', 'gielda_3', 'gielda_4', 'gielda_5', 'ta_log', 'txt_cat_(-63.011, -34.811]', 'txt_cat_(-34.811, 0.488]', 'txt_cat_(0.488, 24.415]', 'txt_cat_(24.415, 25.05]', 'txt_cat_(25.05, 308.55]', 'txt_cat_(308.55, 327.531]', 'txt_cat_(327.531, inf]', 'pi_cat_(-8975.0, -1.523]', 'pi_cat_(-1.523, 157.119]', 'pi_cat_(157.119, 465.9]', 'pi_cat_(465.9, 7875.5]', 'pi_cat_(7875.5, 8108.5]', 'pi_cat_(8108.5, inf]', 'str_cat_(0.0875, 0.192]', 'str_cat_(0.192, 0.28]', 'str_cat_(0.28, inf]', 'xrd_exists', 'ni_profit', 'ni_profit_20000', 'ppent_sqrt', 'intant_sqrt', 'dlc_cat_(42.262, 176.129]', 'dlc_cat_(176.129, 200.9]', 'dlc_cat_(200.9, inf]', 'dltt_cat_(39.38, 327.85]', 'dltt_cat_(327.85, 876.617]', 'dltt_cat_(876.617, inf]', 'capex_cat_(7.447, 79.55]', 'capex_cat_(79.55, 5451.0]', 'capex_cat_(5451.0, inf]', 'revenue_cat_(0.174, 1248.817]', 'revenue_cat_(1248.817, 4233.587]', 'revenue_cat_(4233.587, inf]', 'cce_cat_(5.619, 63.321]', 'cce_cat_(63.321, inf]', 'adv_cat_(0.3, 874.5]', 'adv_cat_(874.5, inf]', 'diff_positive', 'roa_clip', 'lev_sqrt', 'intan_pow2', 'rd_sqrt', 'ppe_clip', 'cash_holdings_sqrt', 'adv_expenditure_positive', 'diff_dta', 'cfc_dta', 'etr_y_past', 'etr_y_ma', 'diff_ma', 'roa_ma', 'lev_ma', 'intan_ma', 'ppe_ma', 'sale_ma', 'cash_holdings_ma', 'roa_past', 'lev_past', 'intan_past', 'ppe_past', 'sale_past', 'cash_holdings_past']\n"
     ]
    }
   ],
   "source": [
    "print(df.columns.tolist())"
   ]
  },
  {
   "cell_type": "code",
   "execution_count": 110,
   "metadata": {
    "ExecuteTime": {
     "end_time": "2020-06-03T00:41:03.190680Z",
     "start_time": "2020-06-03T00:41:03.184680Z"
    }
   },
   "outputs": [],
   "source": [
    "columns = [\n",
    "    \"rok\",\n",
    "    \"ta\",\n",
    "    \"txt\",\n",
    "    \"pi\",\n",
    "    \"str\",\n",
    "    \"xrd\",\n",
    "    \"ni\",\n",
    "    \"ppent\",\n",
    "    \"intant\",\n",
    "    \"dlc\",\n",
    "    \"dltt\",\n",
    "    \"capex\",\n",
    "    \"revenue\",\n",
    "    \"cce\",\n",
    "    \"adv\",\n",
    "    \"etr\",\n",
    "    \"diff\",\n",
    "    \"roa\",\n",
    "    \"lev\",\n",
    "    \"intan\",\n",
    "    \"rd\",\n",
    "    \"ppe\",\n",
    "    \"sale\",\n",
    "    \"cash_holdings\",\n",
    "    \"adv_expenditure\",\n",
    "    \"capex2\",\n",
    "    \"cfc\",\n",
    "    \"dta\",\n",
    "    \"capex2_scaled\",\n",
    "    \"y_v2x_polyarchy\",\n",
    "    \"y_e_p_polity\",\n",
    "    \"y_BR_Democracy\",\n",
    "    \"WB_GDPgrowth\",\n",
    "    \"WB_GDPpc\",\n",
    "    \"WB_Inflation\",\n",
    "    \"rr_per_country\",\n",
    "    \"rr_per_sector\",\n",
    "    \"sektor_consumer discretionary\",\n",
    "    \"sektor_consumer staples\",\n",
    "    \"sektor_energy\",\n",
    "    \"sektor_health care\",\n",
    "    \"sektor_industrials\",\n",
    "    \"sektor_materials\",\n",
    "    \"sektor_real estate\",\n",
    "    \"sektor_technology\",\n",
    "    \"sektor_utilities\",\n",
    "    \"gielda_2\",\n",
    "    \"gielda_3\",\n",
    "    \"gielda_4\",\n",
    "    \"gielda_5\",\n",
    "    \"ta_log\",\n",
    "    \"txt_cat_(-63.011, -34.811]\",\n",
    "    \"txt_cat_(-34.811, 0.488]\",\n",
    "    \"txt_cat_(0.488, 24.415]\",\n",
    "    \"txt_cat_(24.415, 25.05]\",\n",
    "    \"txt_cat_(25.05, 308.55]\",\n",
    "    \"txt_cat_(308.55, 327.531]\",\n",
    "    \"txt_cat_(327.531, inf]\",\n",
    "    \"pi_cat_(-8975.0, -1.523]\",\n",
    "    \"pi_cat_(-1.523, 157.119]\",\n",
    "    \"pi_cat_(157.119, 465.9]\",\n",
    "    \"pi_cat_(465.9, 7875.5]\",\n",
    "    \"pi_cat_(7875.5, 8108.5]\",\n",
    "    \"pi_cat_(8108.5, inf]\",\n",
    "    \"str_cat_(0.0875, 0.192]\",\n",
    "    \"str_cat_(0.192, 0.28]\",\n",
    "    \"str_cat_(0.28, inf]\",\n",
    "    \"xrd_exists\",\n",
    "    \"ni_profit\",\n",
    "    \"ni_profit_20000\",\n",
    "    \"ppent_sqrt\",\n",
    "    \"intant_sqrt\",\n",
    "    \"dlc_cat_(42.262, 176.129]\",\n",
    "    \"dlc_cat_(176.129, 200.9]\",\n",
    "    \"dlc_cat_(200.9, inf]\",\n",
    "    \"dltt_cat_(39.38, 327.85]\",\n",
    "    \"dltt_cat_(327.85, 876.617]\",\n",
    "    \"dltt_cat_(876.617, inf]\",\n",
    "    \"capex_cat_(7.447, 79.55]\",\n",
    "    \"capex_cat_(79.55, 5451.0]\",\n",
    "    \"capex_cat_(5451.0, inf]\",\n",
    "    \"revenue_cat_(0.174, 1248.817]\",\n",
    "    \"revenue_cat_(1248.817, 4233.587]\",\n",
    "    \"revenue_cat_(4233.587, inf]\",\n",
    "    \"cce_cat_(5.619, 63.321]\",\n",
    "    \"cce_cat_(63.321, inf]\",\n",
    "    \"adv_cat_(0.3, 874.5]\",\n",
    "    \"adv_cat_(874.5, inf]\",\n",
    "    \"diff_positive\",\n",
    "    \"roa_clip\",\n",
    "    \"lev_sqrt\",\n",
    "    \"intan_pow2\",\n",
    "    \"rd_sqrt\",\n",
    "    \"ppe_clip\",\n",
    "    \"cash_holdings_sqrt\",\n",
    "    \"adv_expenditure_positive\",\n",
    "    \"diff_dta\",\n",
    "    \"cfc_dta\",\n",
    "    \"etr_y_past\",\n",
    "    \"etr_y_ma\",\n",
    "    \"diff_ma\",\n",
    "    \"roa_ma\",\n",
    "    \"lev_ma\",\n",
    "    \"intan_ma\",\n",
    "    \"ppe_ma\",\n",
    "    \"sale_ma\",\n",
    "    \"cash_holdings_ma\",\n",
    "    \"roa_past\",\n",
    "    \"lev_past\",\n",
    "    \"intan_past\",\n",
    "    \"ppe_past\",\n",
    "    \"sale_past\",\n",
    "    \"cash_holdings_past\",\n",
    "]"
   ]
  },
  {
   "cell_type": "code",
   "execution_count": 111,
   "metadata": {
    "ExecuteTime": {
     "end_time": "2020-06-03T00:41:03.723514Z",
     "start_time": "2020-06-03T00:41:03.696530Z"
    }
   },
   "outputs": [],
   "source": [
    "standardization = list()\n",
    "not_standardization = list()\n",
    "for i in columns:\n",
    "    if df[i].nunique() > 2:\n",
    "        standardization.append(i)\n",
    "    else:\n",
    "        not_standardization.append(i)"
   ]
  },
  {
   "cell_type": "code",
   "execution_count": 112,
   "metadata": {
    "ExecuteTime": {
     "end_time": "2020-06-03T00:41:04.096467Z",
     "start_time": "2020-06-03T00:41:04.092469Z"
    }
   },
   "outputs": [
    {
     "name": "stdout",
     "output_type": "stream",
     "text": [
      "['rok', 'ta', 'txt', 'pi', 'str', 'xrd', 'ni', 'ppent', 'intant', 'dlc', 'dltt', 'capex', 'revenue', 'cce', 'adv', 'etr', 'diff', 'roa', 'lev', 'intan', 'rd', 'ppe', 'sale', 'cash_holdings', 'adv_expenditure', 'capex2', 'capex2_scaled', 'y_v2x_polyarchy', 'WB_GDPgrowth', 'WB_GDPpc', 'WB_Inflation', 'rr_per_country', 'rr_per_sector', 'ta_log', 'ppent_sqrt', 'intant_sqrt', 'roa_clip', 'lev_sqrt', 'intan_pow2', 'rd_sqrt', 'ppe_clip', 'cash_holdings_sqrt', 'diff_dta', 'etr_y_past', 'etr_y_ma', 'diff_ma', 'roa_ma', 'lev_ma', 'intan_ma', 'ppe_ma', 'sale_ma', 'cash_holdings_ma', 'roa_past', 'lev_past', 'intan_past', 'ppe_past', 'sale_past', 'cash_holdings_past']\n"
     ]
    }
   ],
   "source": [
    "print(standardization)"
   ]
  },
  {
   "cell_type": "code",
   "execution_count": 113,
   "metadata": {
    "ExecuteTime": {
     "end_time": "2020-06-03T00:41:04.592813Z",
     "start_time": "2020-06-03T00:41:04.589797Z"
    }
   },
   "outputs": [
    {
     "name": "stdout",
     "output_type": "stream",
     "text": [
      "['cfc', 'dta', 'y_e_p_polity', 'y_BR_Democracy', 'sektor_consumer discretionary', 'sektor_consumer staples', 'sektor_energy', 'sektor_health care', 'sektor_industrials', 'sektor_materials', 'sektor_real estate', 'sektor_technology', 'sektor_utilities', 'gielda_2', 'gielda_3', 'gielda_4', 'gielda_5', 'txt_cat_(-63.011, -34.811]', 'txt_cat_(-34.811, 0.488]', 'txt_cat_(0.488, 24.415]', 'txt_cat_(24.415, 25.05]', 'txt_cat_(25.05, 308.55]', 'txt_cat_(308.55, 327.531]', 'txt_cat_(327.531, inf]', 'pi_cat_(-8975.0, -1.523]', 'pi_cat_(-1.523, 157.119]', 'pi_cat_(157.119, 465.9]', 'pi_cat_(465.9, 7875.5]', 'pi_cat_(7875.5, 8108.5]', 'pi_cat_(8108.5, inf]', 'str_cat_(0.0875, 0.192]', 'str_cat_(0.192, 0.28]', 'str_cat_(0.28, inf]', 'xrd_exists', 'ni_profit', 'ni_profit_20000', 'dlc_cat_(42.262, 176.129]', 'dlc_cat_(176.129, 200.9]', 'dlc_cat_(200.9, inf]', 'dltt_cat_(39.38, 327.85]', 'dltt_cat_(327.85, 876.617]', 'dltt_cat_(876.617, inf]', 'capex_cat_(7.447, 79.55]', 'capex_cat_(79.55, 5451.0]', 'capex_cat_(5451.0, inf]', 'revenue_cat_(0.174, 1248.817]', 'revenue_cat_(1248.817, 4233.587]', 'revenue_cat_(4233.587, inf]', 'cce_cat_(5.619, 63.321]', 'cce_cat_(63.321, inf]', 'adv_cat_(0.3, 874.5]', 'adv_cat_(874.5, inf]', 'diff_positive', 'adv_expenditure_positive', 'cfc_dta']\n"
     ]
    }
   ],
   "source": [
    "print(not_standardization)"
   ]
  },
  {
   "cell_type": "code",
   "execution_count": 114,
   "metadata": {
    "ExecuteTime": {
     "end_time": "2020-06-03T00:41:04.992731Z",
     "start_time": "2020-06-03T00:41:04.988752Z"
    }
   },
   "outputs": [],
   "source": [
    "standardization.remove(\"etr\")"
   ]
  },
  {
   "cell_type": "code",
   "execution_count": 115,
   "metadata": {
    "ExecuteTime": {
     "end_time": "2020-06-03T00:41:05.626690Z",
     "start_time": "2020-06-03T00:41:05.624691Z"
    }
   },
   "outputs": [],
   "source": [
    "standardization.append(\"y_e_p_polity\")"
   ]
  },
  {
   "cell_type": "code",
   "execution_count": 116,
   "metadata": {
    "ExecuteTime": {
     "end_time": "2020-06-03T00:41:06.020537Z",
     "start_time": "2020-06-03T00:41:06.016559Z"
    }
   },
   "outputs": [
    {
     "name": "stdout",
     "output_type": "stream",
     "text": [
      "['rok', 'ta', 'txt', 'pi', 'str', 'xrd', 'ni', 'ppent', 'intant', 'dlc', 'dltt', 'capex', 'revenue', 'cce', 'adv', 'diff', 'roa', 'lev', 'intan', 'rd', 'ppe', 'sale', 'cash_holdings', 'adv_expenditure', 'capex2', 'capex2_scaled', 'y_v2x_polyarchy', 'WB_GDPgrowth', 'WB_GDPpc', 'WB_Inflation', 'rr_per_country', 'rr_per_sector', 'ta_log', 'ppent_sqrt', 'intant_sqrt', 'roa_clip', 'lev_sqrt', 'intan_pow2', 'rd_sqrt', 'ppe_clip', 'cash_holdings_sqrt', 'diff_dta', 'etr_y_past', 'etr_y_ma', 'diff_ma', 'roa_ma', 'lev_ma', 'intan_ma', 'ppe_ma', 'sale_ma', 'cash_holdings_ma', 'roa_past', 'lev_past', 'intan_past', 'ppe_past', 'sale_past', 'cash_holdings_past', 'y_e_p_polity']\n"
     ]
    }
   ],
   "source": [
    "print(standardization)"
   ]
  },
  {
   "cell_type": "code",
   "execution_count": 117,
   "metadata": {
    "ExecuteTime": {
     "end_time": "2020-06-03T00:41:08.981644Z",
     "start_time": "2020-06-03T00:41:08.919676Z"
    }
   },
   "outputs": [],
   "source": [
    "scaler = MinMaxScaler()\n",
    "scaler.fit(df[standardization])\n",
    "df[standardization] = scaler.transform(df[standardization])"
   ]
  },
  {
   "cell_type": "code",
   "execution_count": 118,
   "metadata": {
    "ExecuteTime": {
     "end_time": "2020-06-03T00:41:09.192640Z",
     "start_time": "2020-06-03T00:41:09.188645Z"
    }
   },
   "outputs": [],
   "source": [
    "pickle.dump(scaler, open(\"../models/minmaxscaler.sav\", \"wb\"))"
   ]
  },
  {
   "cell_type": "code",
   "execution_count": 119,
   "metadata": {
    "ExecuteTime": {
     "end_time": "2020-06-03T00:41:10.080691Z",
     "start_time": "2020-06-03T00:41:10.076694Z"
    }
   },
   "outputs": [],
   "source": [
    "# df[standardization]= scaler.fit_transform(df[standardization])"
   ]
  },
  {
   "cell_type": "markdown",
   "metadata": {},
   "source": [
    "Double check. Everything seems to be good :-) "
   ]
  },
  {
   "cell_type": "code",
   "execution_count": 120,
   "metadata": {
    "ExecuteTime": {
     "end_time": "2020-06-03T00:41:11.213573Z",
     "start_time": "2020-06-03T00:41:11.008698Z"
    }
   },
   "outputs": [
    {
     "data": {
      "text/plain": [
       "array([0., 1.])"
      ]
     },
     "execution_count": 120,
     "metadata": {},
     "output_type": "execute_result"
    }
   ],
   "source": [
    "df[columns].describe().T[\"min\"].unique()"
   ]
  },
  {
   "cell_type": "code",
   "execution_count": 121,
   "metadata": {
    "ExecuteTime": {
     "end_time": "2020-06-03T00:41:11.800830Z",
     "start_time": "2020-06-03T00:41:11.594959Z"
    }
   },
   "outputs": [
    {
     "data": {
      "text/plain": [
       "array([1., 1., 1.])"
      ]
     },
     "execution_count": 121,
     "metadata": {},
     "output_type": "execute_result"
    }
   ],
   "source": [
    "df[columns].describe().T[\"max\"].unique()"
   ]
  },
  {
   "cell_type": "markdown",
   "metadata": {},
   "source": [
    "### Searching for \"good enough\" model to feature selection"
   ]
  },
  {
   "cell_type": "markdown",
   "metadata": {},
   "source": [
    "Let's use top 10 variables proposed by Mutual Information!"
   ]
  },
  {
   "cell_type": "code",
   "execution_count": 122,
   "metadata": {
    "ExecuteTime": {
     "end_time": "2020-06-03T00:41:12.566837Z",
     "start_time": "2020-06-03T00:41:12.561837Z"
    }
   },
   "outputs": [],
   "source": [
    "var = fr.mi_score.sort_values(ascending=False).index.tolist()[0:10]"
   ]
  },
  {
   "cell_type": "code",
   "execution_count": 123,
   "metadata": {
    "ExecuteTime": {
     "end_time": "2020-06-03T00:41:12.832677Z",
     "start_time": "2020-06-03T00:41:12.829690Z"
    }
   },
   "outputs": [
    {
     "name": "stdout",
     "output_type": "stream",
     "text": [
      "['etr_y_past', 'etr_y_ma', 'txt', 'diff', 'ni', 'pi', 'intant', 'intant_sqrt', 'ta', 'revenue']\n"
     ]
    }
   ],
   "source": [
    "print(var)"
   ]
  },
  {
   "cell_type": "code",
   "execution_count": 124,
   "metadata": {
    "ExecuteTime": {
     "end_time": "2020-06-03T00:41:13.022677Z",
     "start_time": "2020-06-03T00:41:13.016691Z"
    }
   },
   "outputs": [
    {
     "data": {
      "text/plain": [
       "63.190189111918315"
      ]
     },
     "execution_count": 124,
     "metadata": {},
     "output_type": "execute_result"
    }
   ],
   "source": [
    "df.shape[0] ** (0.5)"
   ]
  },
  {
   "cell_type": "code",
   "execution_count": 125,
   "metadata": {
    "ExecuteTime": {
     "end_time": "2020-06-03T00:41:13.205680Z",
     "start_time": "2020-06-03T00:41:13.201686Z"
    }
   },
   "outputs": [],
   "source": [
    "param = {\n",
    "    \"n_neighbors\": [5, 7, 10, 12, 15, 25, 40, 50, 100],\n",
    "    \"weights\": [\"uniform\", \"distance\"],\n",
    "    \"metric\": [\"minkowski\", \"manhattan\", \"chebyshev\"],\n",
    "    \"p\": [1, 2],\n",
    "}"
   ]
  },
  {
   "cell_type": "code",
   "execution_count": 126,
   "metadata": {
    "ExecuteTime": {
     "end_time": "2020-06-03T00:41:13.384053Z",
     "start_time": "2020-06-03T00:41:13.381051Z"
    }
   },
   "outputs": [],
   "source": [
    "mse = make_scorer(mean_squared_error, greater_is_better=False)"
   ]
  },
  {
   "cell_type": "code",
   "execution_count": 127,
   "metadata": {
    "ExecuteTime": {
     "end_time": "2020-06-03T00:41:28.787150Z",
     "start_time": "2020-06-03T00:41:13.740458Z"
    }
   },
   "outputs": [
    {
     "data": {
      "text/html": [
       "<style>#sk-container-id-7 {color: black;background-color: white;}#sk-container-id-7 pre{padding: 0;}#sk-container-id-7 div.sk-toggleable {background-color: white;}#sk-container-id-7 label.sk-toggleable__label {cursor: pointer;display: block;width: 100%;margin-bottom: 0;padding: 0.3em;box-sizing: border-box;text-align: center;}#sk-container-id-7 label.sk-toggleable__label-arrow:before {content: \"▸\";float: left;margin-right: 0.25em;color: #696969;}#sk-container-id-7 label.sk-toggleable__label-arrow:hover:before {color: black;}#sk-container-id-7 div.sk-estimator:hover label.sk-toggleable__label-arrow:before {color: black;}#sk-container-id-7 div.sk-toggleable__content {max-height: 0;max-width: 0;overflow: hidden;text-align: left;background-color: #f0f8ff;}#sk-container-id-7 div.sk-toggleable__content pre {margin: 0.2em;color: black;border-radius: 0.25em;background-color: #f0f8ff;}#sk-container-id-7 input.sk-toggleable__control:checked~div.sk-toggleable__content {max-height: 200px;max-width: 100%;overflow: auto;}#sk-container-id-7 input.sk-toggleable__control:checked~label.sk-toggleable__label-arrow:before {content: \"▾\";}#sk-container-id-7 div.sk-estimator input.sk-toggleable__control:checked~label.sk-toggleable__label {background-color: #d4ebff;}#sk-container-id-7 div.sk-label input.sk-toggleable__control:checked~label.sk-toggleable__label {background-color: #d4ebff;}#sk-container-id-7 input.sk-hidden--visually {border: 0;clip: rect(1px 1px 1px 1px);clip: rect(1px, 1px, 1px, 1px);height: 1px;margin: -1px;overflow: hidden;padding: 0;position: absolute;width: 1px;}#sk-container-id-7 div.sk-estimator {font-family: monospace;background-color: #f0f8ff;border: 1px dotted black;border-radius: 0.25em;box-sizing: border-box;margin-bottom: 0.5em;}#sk-container-id-7 div.sk-estimator:hover {background-color: #d4ebff;}#sk-container-id-7 div.sk-parallel-item::after {content: \"\";width: 100%;border-bottom: 1px solid gray;flex-grow: 1;}#sk-container-id-7 div.sk-label:hover label.sk-toggleable__label {background-color: #d4ebff;}#sk-container-id-7 div.sk-serial::before {content: \"\";position: absolute;border-left: 1px solid gray;box-sizing: border-box;top: 0;bottom: 0;left: 50%;z-index: 0;}#sk-container-id-7 div.sk-serial {display: flex;flex-direction: column;align-items: center;background-color: white;padding-right: 0.2em;padding-left: 0.2em;position: relative;}#sk-container-id-7 div.sk-item {position: relative;z-index: 1;}#sk-container-id-7 div.sk-parallel {display: flex;align-items: stretch;justify-content: center;background-color: white;position: relative;}#sk-container-id-7 div.sk-item::before, #sk-container-id-7 div.sk-parallel-item::before {content: \"\";position: absolute;border-left: 1px solid gray;box-sizing: border-box;top: 0;bottom: 0;left: 50%;z-index: -1;}#sk-container-id-7 div.sk-parallel-item {display: flex;flex-direction: column;z-index: 1;position: relative;background-color: white;}#sk-container-id-7 div.sk-parallel-item:first-child::after {align-self: flex-end;width: 50%;}#sk-container-id-7 div.sk-parallel-item:last-child::after {align-self: flex-start;width: 50%;}#sk-container-id-7 div.sk-parallel-item:only-child::after {width: 0;}#sk-container-id-7 div.sk-dashed-wrapped {border: 1px dashed gray;margin: 0 0.4em 0.5em 0.4em;box-sizing: border-box;padding-bottom: 0.4em;background-color: white;}#sk-container-id-7 div.sk-label label {font-family: monospace;font-weight: bold;display: inline-block;line-height: 1.2em;}#sk-container-id-7 div.sk-label-container {text-align: center;}#sk-container-id-7 div.sk-container {/* jupyter's `normalize.less` sets `[hidden] { display: none; }` but bootstrap.min.css set `[hidden] { display: none !important; }` so we also need the `!important` here to be able to override the default hidden behavior on the sphinx rendered scikit-learn.org. See: https://github.com/scikit-learn/scikit-learn/issues/21755 */display: inline-block !important;position: relative;}#sk-container-id-7 div.sk-text-repr-fallback {display: none;}</style><div id=\"sk-container-id-7\" class=\"sk-top-container\"><div class=\"sk-text-repr-fallback\"><pre>GridSearchCV(cv=5, estimator=KNeighborsRegressor(), n_jobs=-1,\n",
       "             param_grid={&#x27;metric&#x27;: [&#x27;minkowski&#x27;, &#x27;manhattan&#x27;, &#x27;chebyshev&#x27;],\n",
       "                         &#x27;n_neighbors&#x27;: [5, 7, 10, 12, 15, 25, 40, 50, 100],\n",
       "                         &#x27;p&#x27;: [1, 2], &#x27;weights&#x27;: [&#x27;uniform&#x27;, &#x27;distance&#x27;]},\n",
       "             return_train_score=True,\n",
       "             scoring=make_scorer(mean_squared_error, greater_is_better=False))</pre><b>In a Jupyter environment, please rerun this cell to show the HTML representation or trust the notebook. <br />On GitHub, the HTML representation is unable to render, please try loading this page with nbviewer.org.</b></div><div class=\"sk-container\" hidden><div class=\"sk-item sk-dashed-wrapped\"><div class=\"sk-label-container\"><div class=\"sk-label sk-toggleable\"><input class=\"sk-toggleable__control sk-hidden--visually\" id=\"sk-estimator-id-11\" type=\"checkbox\" ><label for=\"sk-estimator-id-11\" class=\"sk-toggleable__label sk-toggleable__label-arrow\">GridSearchCV</label><div class=\"sk-toggleable__content\"><pre>GridSearchCV(cv=5, estimator=KNeighborsRegressor(), n_jobs=-1,\n",
       "             param_grid={&#x27;metric&#x27;: [&#x27;minkowski&#x27;, &#x27;manhattan&#x27;, &#x27;chebyshev&#x27;],\n",
       "                         &#x27;n_neighbors&#x27;: [5, 7, 10, 12, 15, 25, 40, 50, 100],\n",
       "                         &#x27;p&#x27;: [1, 2], &#x27;weights&#x27;: [&#x27;uniform&#x27;, &#x27;distance&#x27;]},\n",
       "             return_train_score=True,\n",
       "             scoring=make_scorer(mean_squared_error, greater_is_better=False))</pre></div></div></div><div class=\"sk-parallel\"><div class=\"sk-parallel-item\"><div class=\"sk-item\"><div class=\"sk-label-container\"><div class=\"sk-label sk-toggleable\"><input class=\"sk-toggleable__control sk-hidden--visually\" id=\"sk-estimator-id-12\" type=\"checkbox\" ><label for=\"sk-estimator-id-12\" class=\"sk-toggleable__label sk-toggleable__label-arrow\">estimator: KNeighborsRegressor</label><div class=\"sk-toggleable__content\"><pre>KNeighborsRegressor()</pre></div></div></div><div class=\"sk-serial\"><div class=\"sk-item\"><div class=\"sk-estimator sk-toggleable\"><input class=\"sk-toggleable__control sk-hidden--visually\" id=\"sk-estimator-id-13\" type=\"checkbox\" ><label for=\"sk-estimator-id-13\" class=\"sk-toggleable__label sk-toggleable__label-arrow\">KNeighborsRegressor</label><div class=\"sk-toggleable__content\"><pre>KNeighborsRegressor()</pre></div></div></div></div></div></div></div></div></div></div>"
      ],
      "text/plain": [
       "GridSearchCV(cv=5, estimator=KNeighborsRegressor(), n_jobs=-1,\n",
       "             param_grid={'metric': ['minkowski', 'manhattan', 'chebyshev'],\n",
       "                         'n_neighbors': [5, 7, 10, 12, 15, 25, 40, 50, 100],\n",
       "                         'p': [1, 2], 'weights': ['uniform', 'distance']},\n",
       "             return_train_score=True,\n",
       "             scoring=make_scorer(mean_squared_error, greater_is_better=False))"
      ]
     },
     "execution_count": 127,
     "metadata": {},
     "output_type": "execute_result"
    }
   ],
   "source": [
    "model = KNeighborsRegressor()\n",
    "grid_CV = GridSearchCV(\n",
    "    model, param, cv=5, scoring=mse, return_train_score=True, n_jobs=-1\n",
    ")\n",
    "grid_CV.fit(df.loc[:, var].values, df.loc[:, \"etr\"].values.ravel())"
   ]
  },
  {
   "cell_type": "code",
   "execution_count": 128,
   "metadata": {
    "ExecuteTime": {
     "end_time": "2020-06-03T00:41:28.797030Z",
     "start_time": "2020-06-03T00:41:28.790036Z"
    }
   },
   "outputs": [
    {
     "data": {
      "text/plain": [
       "{'metric': 'minkowski', 'n_neighbors': 100, 'p': 1, 'weights': 'uniform'}"
      ]
     },
     "execution_count": 128,
     "metadata": {},
     "output_type": "execute_result"
    }
   ],
   "source": [
    "grid_CV.best_params_"
   ]
  },
  {
   "cell_type": "code",
   "execution_count": 129,
   "metadata": {
    "ExecuteTime": {
     "end_time": "2020-06-03T00:41:28.849001Z",
     "start_time": "2020-06-03T00:41:28.799029Z"
    }
   },
   "outputs": [
    {
     "data": {
      "text/plain": [
       "{'mean_fit_time': array([0.00079145, 0.00117559, 0.00211382, 0.00173306, 0.00185461,\n",
       "        0.00179081, 0.00144186, 0.0021678 , 0.0016046 , 0.00155983,\n",
       "        0.00122328, 0.00068159, 0.00092759, 0.00152526, 0.00128031,\n",
       "        0.00146418, 0.00145063, 0.0010468 , 0.00094976, 0.0014924 ,\n",
       "        0.00098848, 0.00067887, 0.00092816, 0.00068731, 0.00118065,\n",
       "        0.00093632, 0.00089221, 0.00066123, 0.00106959, 0.00067391,\n",
       "        0.00067306, 0.00089197, 0.00164022, 0.00087276, 0.0006938 ,\n",
       "        0.0009758 , 0.00172186, 0.00088525, 0.00090733, 0.00145345,\n",
       "        0.00304723, 0.00091658, 0.00155573, 0.00151649, 0.00109611,\n",
       "        0.00096154, 0.00105014, 0.0025744 , 0.0020596 , 0.00096135,\n",
       "        0.00085711, 0.00088716, 0.00179014, 0.00066762, 0.00181532,\n",
       "        0.00166287, 0.00132513, 0.00110188, 0.00104022, 0.00087256,\n",
       "        0.00158472, 0.00153637, 0.0008779 , 0.00067863, 0.00130787,\n",
       "        0.00090456, 0.00097289, 0.00092525, 0.00073557, 0.0024652 ,\n",
       "        0.00119743, 0.00069785, 0.00074515, 0.00148678, 0.00082574,\n",
       "        0.0006393 , 0.00106025, 0.00071082, 0.00115108, 0.00088696,\n",
       "        0.0015451 , 0.00070968, 0.00083013, 0.00082245, 0.00096045,\n",
       "        0.00064816, 0.00080242, 0.00230803, 0.00113144, 0.001056  ,\n",
       "        0.00083489, 0.00085063, 0.00118132, 0.00085001, 0.00086975,\n",
       "        0.00158291, 0.00215688, 0.00152526, 0.00086241, 0.0008872 ,\n",
       "        0.00147805, 0.00089087, 0.00090251, 0.00086265, 0.00111294,\n",
       "        0.0009892 , 0.00160513, 0.00204215]),\n",
       " 'std_fit_time': array([2.41166492e-05, 8.01294382e-04, 1.13536492e-03, 1.02917848e-03,\n",
       "        6.54668547e-04, 9.60211644e-04, 2.96017136e-04, 1.48909170e-03,\n",
       "        3.27708307e-04, 8.11831354e-04, 4.75379920e-04, 3.45772375e-05,\n",
       "        4.94396268e-04, 1.68539182e-03, 5.01313920e-04, 1.18654649e-03,\n",
       "        1.56221664e-03, 4.77732523e-04, 5.65244155e-04, 1.67627866e-03,\n",
       "        4.03318385e-04, 2.84554747e-05, 5.21456066e-04, 1.54919982e-05,\n",
       "        4.64969265e-04, 5.04835190e-04, 3.68189694e-04, 1.45654825e-05,\n",
       "        4.79274562e-04, 1.36733419e-05, 2.06002482e-05, 4.27933347e-04,\n",
       "        1.35071551e-03, 3.55747640e-04, 2.40885371e-05, 5.24301947e-04,\n",
       "        1.57517436e-03, 4.41138984e-04, 4.98422136e-04, 1.38697607e-03,\n",
       "        2.47727806e-03, 5.30970125e-04, 9.67680168e-04, 1.71788349e-03,\n",
       "        5.45778063e-04, 5.87647196e-04, 7.68255423e-04, 3.84978101e-03,\n",
       "        2.44901266e-03, 5.89432478e-04, 4.04608650e-04, 4.63498350e-04,\n",
       "        1.26564287e-03, 1.59333551e-05, 2.22345413e-03, 1.95035541e-03,\n",
       "        5.33637836e-04, 5.36744681e-04, 5.08929172e-04, 3.65117559e-04,\n",
       "        1.42490031e-03, 1.47702497e-03, 3.95983859e-04, 2.04793649e-05,\n",
       "        7.01353347e-04, 4.39915242e-04, 5.89716017e-04, 4.65779564e-04,\n",
       "        7.27106153e-05, 3.05217611e-03, 5.55382569e-04, 9.34892726e-06,\n",
       "        8.29036768e-05, 1.09653277e-03, 3.70259696e-04, 2.51205853e-05,\n",
       "        4.97819569e-04, 7.11586761e-05, 4.94131970e-04, 3.57829654e-04,\n",
       "        9.15012756e-04, 9.47711423e-05, 3.85007942e-04, 3.54990600e-04,\n",
       "        5.61059670e-04, 1.05945877e-05, 3.28511270e-04, 2.06383946e-03,\n",
       "        6.28692508e-04, 8.38405941e-04, 3.93068482e-04, 3.80272249e-04,\n",
       "        6.59061602e-04, 3.54358364e-04, 3.88137363e-04, 1.86755051e-03,\n",
       "        1.88720682e-03, 1.74551183e-03, 3.84259081e-04, 3.70916218e-04,\n",
       "        3.93208392e-04, 4.62058592e-04, 4.82500340e-04, 3.71220481e-04,\n",
       "        4.79647058e-04, 3.90476560e-04, 5.08693170e-04, 1.13243061e-03]),\n",
       " 'mean_score_time': array([0.00656052, 0.00919676, 0.00734601, 0.00847883, 0.01014223,\n",
       "        0.00842032, 0.00687308, 0.00627427, 0.00972137, 0.0103075 ,\n",
       "        0.00709763, 0.00591187, 0.01067386, 0.00928512, 0.00823064,\n",
       "        0.01160421, 0.01166015, 0.01033039, 0.00899501, 0.01029863,\n",
       "        0.01346564, 0.01372666, 0.00979986, 0.00984664, 0.0157362 ,\n",
       "        0.01701403, 0.01473556, 0.0120151 , 0.02064991, 0.01561933,\n",
       "        0.01812067, 0.01288204, 0.02236814, 0.02759199, 0.02181325,\n",
       "        0.02333298, 0.00972643, 0.00753818, 0.00680814, 0.01069551,\n",
       "        0.00946393, 0.00738831, 0.00763726, 0.00882397, 0.00916719,\n",
       "        0.00856652, 0.01397166, 0.00996609, 0.00859051, 0.00985942,\n",
       "        0.01206813, 0.01053157, 0.01305699, 0.00970979, 0.00988784,\n",
       "        0.0163897 , 0.01411171, 0.01582079, 0.01088161, 0.01460071,\n",
       "        0.01502399, 0.02119584, 0.01333528, 0.01445971, 0.01661606,\n",
       "        0.01786556, 0.01731396, 0.02474022, 0.02842598, 0.04100695,\n",
       "        0.03218002, 0.02978129, 0.00581756, 0.00699396, 0.00718732,\n",
       "        0.00703506, 0.00770583, 0.00658345, 0.0049089 , 0.00661793,\n",
       "        0.00480199, 0.00540895, 0.00491977, 0.00502777, 0.00628815,\n",
       "        0.00673199, 0.00486288, 0.00615606, 0.0073905 , 0.00770702,\n",
       "        0.00796399, 0.00584865, 0.00840683, 0.00695305, 0.01186028,\n",
       "        0.00734453, 0.0113102 , 0.00973744, 0.01119208, 0.00956125,\n",
       "        0.01561933, 0.01165261, 0.01186228, 0.01270432, 0.01702404,\n",
       "        0.01765423, 0.02002687, 0.02065401]),\n",
       " 'std_score_time': array([0.00054502, 0.00506495, 0.0024999 , 0.00426425, 0.00522691,\n",
       "        0.0020307 , 0.00206319, 0.00201395, 0.0020486 , 0.00325109,\n",
       "        0.00192287, 0.00055181, 0.00319736, 0.00187813, 0.00206147,\n",
       "        0.0048701 , 0.00343812, 0.00214226, 0.00262347, 0.00339362,\n",
       "        0.00465811, 0.00558552, 0.00298496, 0.00285253, 0.00400059,\n",
       "        0.00549835, 0.00588694, 0.00250494, 0.00493668, 0.00295048,\n",
       "        0.00598928, 0.00213181, 0.00348635, 0.00528483, 0.00470282,\n",
       "        0.00345732, 0.00327252, 0.00256168, 0.00096081, 0.00577609,\n",
       "        0.00294373, 0.00130002, 0.00089858, 0.00272527, 0.00111362,\n",
       "        0.00202854, 0.00963382, 0.00337928, 0.00102784, 0.00261474,\n",
       "        0.00438985, 0.00323815, 0.00324312, 0.00167338, 0.00260055,\n",
       "        0.01464593, 0.00351897, 0.00522997, 0.00100169, 0.00510918,\n",
       "        0.00266867, 0.01038119, 0.00108452, 0.00261433, 0.00255848,\n",
       "        0.00339522, 0.00411783, 0.00991444, 0.00590572, 0.01802756,\n",
       "        0.0079588 , 0.01100016, 0.00482343, 0.00475336, 0.00465614,\n",
       "        0.00733978, 0.00461685, 0.0039774 , 0.00094552, 0.00299705,\n",
       "        0.00109525, 0.00114737, 0.00100534, 0.00126263, 0.00337971,\n",
       "        0.00428777, 0.00057821, 0.0026421 , 0.00277547, 0.00334101,\n",
       "        0.00317445, 0.00144016, 0.0023114 , 0.00106736, 0.00513164,\n",
       "        0.00112111, 0.00231686, 0.00275137, 0.00317135, 0.00139775,\n",
       "        0.00267235, 0.00280515, 0.00231381, 0.00327934, 0.00138493,\n",
       "        0.00203345, 0.00334636, 0.0041239 ]),\n",
       " 'param_metric': masked_array(data=['minkowski', 'minkowski', 'minkowski', 'minkowski',\n",
       "                    'minkowski', 'minkowski', 'minkowski', 'minkowski',\n",
       "                    'minkowski', 'minkowski', 'minkowski', 'minkowski',\n",
       "                    'minkowski', 'minkowski', 'minkowski', 'minkowski',\n",
       "                    'minkowski', 'minkowski', 'minkowski', 'minkowski',\n",
       "                    'minkowski', 'minkowski', 'minkowski', 'minkowski',\n",
       "                    'minkowski', 'minkowski', 'minkowski', 'minkowski',\n",
       "                    'minkowski', 'minkowski', 'minkowski', 'minkowski',\n",
       "                    'minkowski', 'minkowski', 'minkowski', 'minkowski',\n",
       "                    'manhattan', 'manhattan', 'manhattan', 'manhattan',\n",
       "                    'manhattan', 'manhattan', 'manhattan', 'manhattan',\n",
       "                    'manhattan', 'manhattan', 'manhattan', 'manhattan',\n",
       "                    'manhattan', 'manhattan', 'manhattan', 'manhattan',\n",
       "                    'manhattan', 'manhattan', 'manhattan', 'manhattan',\n",
       "                    'manhattan', 'manhattan', 'manhattan', 'manhattan',\n",
       "                    'manhattan', 'manhattan', 'manhattan', 'manhattan',\n",
       "                    'manhattan', 'manhattan', 'manhattan', 'manhattan',\n",
       "                    'manhattan', 'manhattan', 'manhattan', 'manhattan',\n",
       "                    'chebyshev', 'chebyshev', 'chebyshev', 'chebyshev',\n",
       "                    'chebyshev', 'chebyshev', 'chebyshev', 'chebyshev',\n",
       "                    'chebyshev', 'chebyshev', 'chebyshev', 'chebyshev',\n",
       "                    'chebyshev', 'chebyshev', 'chebyshev', 'chebyshev',\n",
       "                    'chebyshev', 'chebyshev', 'chebyshev', 'chebyshev',\n",
       "                    'chebyshev', 'chebyshev', 'chebyshev', 'chebyshev',\n",
       "                    'chebyshev', 'chebyshev', 'chebyshev', 'chebyshev',\n",
       "                    'chebyshev', 'chebyshev', 'chebyshev', 'chebyshev',\n",
       "                    'chebyshev', 'chebyshev', 'chebyshev', 'chebyshev'],\n",
       "              mask=[False, False, False, False, False, False, False, False,\n",
       "                    False, False, False, False, False, False, False, False,\n",
       "                    False, False, False, False, False, False, False, False,\n",
       "                    False, False, False, False, False, False, False, False,\n",
       "                    False, False, False, False, False, False, False, False,\n",
       "                    False, False, False, False, False, False, False, False,\n",
       "                    False, False, False, False, False, False, False, False,\n",
       "                    False, False, False, False, False, False, False, False,\n",
       "                    False, False, False, False, False, False, False, False,\n",
       "                    False, False, False, False, False, False, False, False,\n",
       "                    False, False, False, False, False, False, False, False,\n",
       "                    False, False, False, False, False, False, False, False,\n",
       "                    False, False, False, False, False, False, False, False,\n",
       "                    False, False, False, False],\n",
       "        fill_value='?',\n",
       "             dtype=object),\n",
       " 'param_n_neighbors': masked_array(data=[5, 5, 5, 5, 7, 7, 7, 7, 10, 10, 10, 10, 12, 12, 12, 12,\n",
       "                    15, 15, 15, 15, 25, 25, 25, 25, 40, 40, 40, 40, 50, 50,\n",
       "                    50, 50, 100, 100, 100, 100, 5, 5, 5, 5, 7, 7, 7, 7, 10,\n",
       "                    10, 10, 10, 12, 12, 12, 12, 15, 15, 15, 15, 25, 25, 25,\n",
       "                    25, 40, 40, 40, 40, 50, 50, 50, 50, 100, 100, 100, 100,\n",
       "                    5, 5, 5, 5, 7, 7, 7, 7, 10, 10, 10, 10, 12, 12, 12, 12,\n",
       "                    15, 15, 15, 15, 25, 25, 25, 25, 40, 40, 40, 40, 50, 50,\n",
       "                    50, 50, 100, 100, 100, 100],\n",
       "              mask=[False, False, False, False, False, False, False, False,\n",
       "                    False, False, False, False, False, False, False, False,\n",
       "                    False, False, False, False, False, False, False, False,\n",
       "                    False, False, False, False, False, False, False, False,\n",
       "                    False, False, False, False, False, False, False, False,\n",
       "                    False, False, False, False, False, False, False, False,\n",
       "                    False, False, False, False, False, False, False, False,\n",
       "                    False, False, False, False, False, False, False, False,\n",
       "                    False, False, False, False, False, False, False, False,\n",
       "                    False, False, False, False, False, False, False, False,\n",
       "                    False, False, False, False, False, False, False, False,\n",
       "                    False, False, False, False, False, False, False, False,\n",
       "                    False, False, False, False, False, False, False, False,\n",
       "                    False, False, False, False],\n",
       "        fill_value='?',\n",
       "             dtype=object),\n",
       " 'param_p': masked_array(data=[1, 1, 2, 2, 1, 1, 2, 2, 1, 1, 2, 2, 1, 1, 2, 2, 1, 1,\n",
       "                    2, 2, 1, 1, 2, 2, 1, 1, 2, 2, 1, 1, 2, 2, 1, 1, 2, 2,\n",
       "                    1, 1, 2, 2, 1, 1, 2, 2, 1, 1, 2, 2, 1, 1, 2, 2, 1, 1,\n",
       "                    2, 2, 1, 1, 2, 2, 1, 1, 2, 2, 1, 1, 2, 2, 1, 1, 2, 2,\n",
       "                    1, 1, 2, 2, 1, 1, 2, 2, 1, 1, 2, 2, 1, 1, 2, 2, 1, 1,\n",
       "                    2, 2, 1, 1, 2, 2, 1, 1, 2, 2, 1, 1, 2, 2, 1, 1, 2, 2],\n",
       "              mask=[False, False, False, False, False, False, False, False,\n",
       "                    False, False, False, False, False, False, False, False,\n",
       "                    False, False, False, False, False, False, False, False,\n",
       "                    False, False, False, False, False, False, False, False,\n",
       "                    False, False, False, False, False, False, False, False,\n",
       "                    False, False, False, False, False, False, False, False,\n",
       "                    False, False, False, False, False, False, False, False,\n",
       "                    False, False, False, False, False, False, False, False,\n",
       "                    False, False, False, False, False, False, False, False,\n",
       "                    False, False, False, False, False, False, False, False,\n",
       "                    False, False, False, False, False, False, False, False,\n",
       "                    False, False, False, False, False, False, False, False,\n",
       "                    False, False, False, False, False, False, False, False,\n",
       "                    False, False, False, False],\n",
       "        fill_value='?',\n",
       "             dtype=object),\n",
       " 'param_weights': masked_array(data=['uniform', 'distance', 'uniform', 'distance',\n",
       "                    'uniform', 'distance', 'uniform', 'distance',\n",
       "                    'uniform', 'distance', 'uniform', 'distance',\n",
       "                    'uniform', 'distance', 'uniform', 'distance',\n",
       "                    'uniform', 'distance', 'uniform', 'distance',\n",
       "                    'uniform', 'distance', 'uniform', 'distance',\n",
       "                    'uniform', 'distance', 'uniform', 'distance',\n",
       "                    'uniform', 'distance', 'uniform', 'distance',\n",
       "                    'uniform', 'distance', 'uniform', 'distance',\n",
       "                    'uniform', 'distance', 'uniform', 'distance',\n",
       "                    'uniform', 'distance', 'uniform', 'distance',\n",
       "                    'uniform', 'distance', 'uniform', 'distance',\n",
       "                    'uniform', 'distance', 'uniform', 'distance',\n",
       "                    'uniform', 'distance', 'uniform', 'distance',\n",
       "                    'uniform', 'distance', 'uniform', 'distance',\n",
       "                    'uniform', 'distance', 'uniform', 'distance',\n",
       "                    'uniform', 'distance', 'uniform', 'distance',\n",
       "                    'uniform', 'distance', 'uniform', 'distance',\n",
       "                    'uniform', 'distance', 'uniform', 'distance',\n",
       "                    'uniform', 'distance', 'uniform', 'distance',\n",
       "                    'uniform', 'distance', 'uniform', 'distance',\n",
       "                    'uniform', 'distance', 'uniform', 'distance',\n",
       "                    'uniform', 'distance', 'uniform', 'distance',\n",
       "                    'uniform', 'distance', 'uniform', 'distance',\n",
       "                    'uniform', 'distance', 'uniform', 'distance',\n",
       "                    'uniform', 'distance', 'uniform', 'distance',\n",
       "                    'uniform', 'distance', 'uniform', 'distance'],\n",
       "              mask=[False, False, False, False, False, False, False, False,\n",
       "                    False, False, False, False, False, False, False, False,\n",
       "                    False, False, False, False, False, False, False, False,\n",
       "                    False, False, False, False, False, False, False, False,\n",
       "                    False, False, False, False, False, False, False, False,\n",
       "                    False, False, False, False, False, False, False, False,\n",
       "                    False, False, False, False, False, False, False, False,\n",
       "                    False, False, False, False, False, False, False, False,\n",
       "                    False, False, False, False, False, False, False, False,\n",
       "                    False, False, False, False, False, False, False, False,\n",
       "                    False, False, False, False, False, False, False, False,\n",
       "                    False, False, False, False, False, False, False, False,\n",
       "                    False, False, False, False, False, False, False, False,\n",
       "                    False, False, False, False],\n",
       "        fill_value='?',\n",
       "             dtype=object),\n",
       " 'params': [{'metric': 'minkowski',\n",
       "   'n_neighbors': 5,\n",
       "   'p': 1,\n",
       "   'weights': 'uniform'},\n",
       "  {'metric': 'minkowski', 'n_neighbors': 5, 'p': 1, 'weights': 'distance'},\n",
       "  {'metric': 'minkowski', 'n_neighbors': 5, 'p': 2, 'weights': 'uniform'},\n",
       "  {'metric': 'minkowski', 'n_neighbors': 5, 'p': 2, 'weights': 'distance'},\n",
       "  {'metric': 'minkowski', 'n_neighbors': 7, 'p': 1, 'weights': 'uniform'},\n",
       "  {'metric': 'minkowski', 'n_neighbors': 7, 'p': 1, 'weights': 'distance'},\n",
       "  {'metric': 'minkowski', 'n_neighbors': 7, 'p': 2, 'weights': 'uniform'},\n",
       "  {'metric': 'minkowski', 'n_neighbors': 7, 'p': 2, 'weights': 'distance'},\n",
       "  {'metric': 'minkowski', 'n_neighbors': 10, 'p': 1, 'weights': 'uniform'},\n",
       "  {'metric': 'minkowski', 'n_neighbors': 10, 'p': 1, 'weights': 'distance'},\n",
       "  {'metric': 'minkowski', 'n_neighbors': 10, 'p': 2, 'weights': 'uniform'},\n",
       "  {'metric': 'minkowski', 'n_neighbors': 10, 'p': 2, 'weights': 'distance'},\n",
       "  {'metric': 'minkowski', 'n_neighbors': 12, 'p': 1, 'weights': 'uniform'},\n",
       "  {'metric': 'minkowski', 'n_neighbors': 12, 'p': 1, 'weights': 'distance'},\n",
       "  {'metric': 'minkowski', 'n_neighbors': 12, 'p': 2, 'weights': 'uniform'},\n",
       "  {'metric': 'minkowski', 'n_neighbors': 12, 'p': 2, 'weights': 'distance'},\n",
       "  {'metric': 'minkowski', 'n_neighbors': 15, 'p': 1, 'weights': 'uniform'},\n",
       "  {'metric': 'minkowski', 'n_neighbors': 15, 'p': 1, 'weights': 'distance'},\n",
       "  {'metric': 'minkowski', 'n_neighbors': 15, 'p': 2, 'weights': 'uniform'},\n",
       "  {'metric': 'minkowski', 'n_neighbors': 15, 'p': 2, 'weights': 'distance'},\n",
       "  {'metric': 'minkowski', 'n_neighbors': 25, 'p': 1, 'weights': 'uniform'},\n",
       "  {'metric': 'minkowski', 'n_neighbors': 25, 'p': 1, 'weights': 'distance'},\n",
       "  {'metric': 'minkowski', 'n_neighbors': 25, 'p': 2, 'weights': 'uniform'},\n",
       "  {'metric': 'minkowski', 'n_neighbors': 25, 'p': 2, 'weights': 'distance'},\n",
       "  {'metric': 'minkowski', 'n_neighbors': 40, 'p': 1, 'weights': 'uniform'},\n",
       "  {'metric': 'minkowski', 'n_neighbors': 40, 'p': 1, 'weights': 'distance'},\n",
       "  {'metric': 'minkowski', 'n_neighbors': 40, 'p': 2, 'weights': 'uniform'},\n",
       "  {'metric': 'minkowski', 'n_neighbors': 40, 'p': 2, 'weights': 'distance'},\n",
       "  {'metric': 'minkowski', 'n_neighbors': 50, 'p': 1, 'weights': 'uniform'},\n",
       "  {'metric': 'minkowski', 'n_neighbors': 50, 'p': 1, 'weights': 'distance'},\n",
       "  {'metric': 'minkowski', 'n_neighbors': 50, 'p': 2, 'weights': 'uniform'},\n",
       "  {'metric': 'minkowski', 'n_neighbors': 50, 'p': 2, 'weights': 'distance'},\n",
       "  {'metric': 'minkowski', 'n_neighbors': 100, 'p': 1, 'weights': 'uniform'},\n",
       "  {'metric': 'minkowski', 'n_neighbors': 100, 'p': 1, 'weights': 'distance'},\n",
       "  {'metric': 'minkowski', 'n_neighbors': 100, 'p': 2, 'weights': 'uniform'},\n",
       "  {'metric': 'minkowski', 'n_neighbors': 100, 'p': 2, 'weights': 'distance'},\n",
       "  {'metric': 'manhattan', 'n_neighbors': 5, 'p': 1, 'weights': 'uniform'},\n",
       "  {'metric': 'manhattan', 'n_neighbors': 5, 'p': 1, 'weights': 'distance'},\n",
       "  {'metric': 'manhattan', 'n_neighbors': 5, 'p': 2, 'weights': 'uniform'},\n",
       "  {'metric': 'manhattan', 'n_neighbors': 5, 'p': 2, 'weights': 'distance'},\n",
       "  {'metric': 'manhattan', 'n_neighbors': 7, 'p': 1, 'weights': 'uniform'},\n",
       "  {'metric': 'manhattan', 'n_neighbors': 7, 'p': 1, 'weights': 'distance'},\n",
       "  {'metric': 'manhattan', 'n_neighbors': 7, 'p': 2, 'weights': 'uniform'},\n",
       "  {'metric': 'manhattan', 'n_neighbors': 7, 'p': 2, 'weights': 'distance'},\n",
       "  {'metric': 'manhattan', 'n_neighbors': 10, 'p': 1, 'weights': 'uniform'},\n",
       "  {'metric': 'manhattan', 'n_neighbors': 10, 'p': 1, 'weights': 'distance'},\n",
       "  {'metric': 'manhattan', 'n_neighbors': 10, 'p': 2, 'weights': 'uniform'},\n",
       "  {'metric': 'manhattan', 'n_neighbors': 10, 'p': 2, 'weights': 'distance'},\n",
       "  {'metric': 'manhattan', 'n_neighbors': 12, 'p': 1, 'weights': 'uniform'},\n",
       "  {'metric': 'manhattan', 'n_neighbors': 12, 'p': 1, 'weights': 'distance'},\n",
       "  {'metric': 'manhattan', 'n_neighbors': 12, 'p': 2, 'weights': 'uniform'},\n",
       "  {'metric': 'manhattan', 'n_neighbors': 12, 'p': 2, 'weights': 'distance'},\n",
       "  {'metric': 'manhattan', 'n_neighbors': 15, 'p': 1, 'weights': 'uniform'},\n",
       "  {'metric': 'manhattan', 'n_neighbors': 15, 'p': 1, 'weights': 'distance'},\n",
       "  {'metric': 'manhattan', 'n_neighbors': 15, 'p': 2, 'weights': 'uniform'},\n",
       "  {'metric': 'manhattan', 'n_neighbors': 15, 'p': 2, 'weights': 'distance'},\n",
       "  {'metric': 'manhattan', 'n_neighbors': 25, 'p': 1, 'weights': 'uniform'},\n",
       "  {'metric': 'manhattan', 'n_neighbors': 25, 'p': 1, 'weights': 'distance'},\n",
       "  {'metric': 'manhattan', 'n_neighbors': 25, 'p': 2, 'weights': 'uniform'},\n",
       "  {'metric': 'manhattan', 'n_neighbors': 25, 'p': 2, 'weights': 'distance'},\n",
       "  {'metric': 'manhattan', 'n_neighbors': 40, 'p': 1, 'weights': 'uniform'},\n",
       "  {'metric': 'manhattan', 'n_neighbors': 40, 'p': 1, 'weights': 'distance'},\n",
       "  {'metric': 'manhattan', 'n_neighbors': 40, 'p': 2, 'weights': 'uniform'},\n",
       "  {'metric': 'manhattan', 'n_neighbors': 40, 'p': 2, 'weights': 'distance'},\n",
       "  {'metric': 'manhattan', 'n_neighbors': 50, 'p': 1, 'weights': 'uniform'},\n",
       "  {'metric': 'manhattan', 'n_neighbors': 50, 'p': 1, 'weights': 'distance'},\n",
       "  {'metric': 'manhattan', 'n_neighbors': 50, 'p': 2, 'weights': 'uniform'},\n",
       "  {'metric': 'manhattan', 'n_neighbors': 50, 'p': 2, 'weights': 'distance'},\n",
       "  {'metric': 'manhattan', 'n_neighbors': 100, 'p': 1, 'weights': 'uniform'},\n",
       "  {'metric': 'manhattan', 'n_neighbors': 100, 'p': 1, 'weights': 'distance'},\n",
       "  {'metric': 'manhattan', 'n_neighbors': 100, 'p': 2, 'weights': 'uniform'},\n",
       "  {'metric': 'manhattan', 'n_neighbors': 100, 'p': 2, 'weights': 'distance'},\n",
       "  {'metric': 'chebyshev', 'n_neighbors': 5, 'p': 1, 'weights': 'uniform'},\n",
       "  {'metric': 'chebyshev', 'n_neighbors': 5, 'p': 1, 'weights': 'distance'},\n",
       "  {'metric': 'chebyshev', 'n_neighbors': 5, 'p': 2, 'weights': 'uniform'},\n",
       "  {'metric': 'chebyshev', 'n_neighbors': 5, 'p': 2, 'weights': 'distance'},\n",
       "  {'metric': 'chebyshev', 'n_neighbors': 7, 'p': 1, 'weights': 'uniform'},\n",
       "  {'metric': 'chebyshev', 'n_neighbors': 7, 'p': 1, 'weights': 'distance'},\n",
       "  {'metric': 'chebyshev', 'n_neighbors': 7, 'p': 2, 'weights': 'uniform'},\n",
       "  {'metric': 'chebyshev', 'n_neighbors': 7, 'p': 2, 'weights': 'distance'},\n",
       "  {'metric': 'chebyshev', 'n_neighbors': 10, 'p': 1, 'weights': 'uniform'},\n",
       "  {'metric': 'chebyshev', 'n_neighbors': 10, 'p': 1, 'weights': 'distance'},\n",
       "  {'metric': 'chebyshev', 'n_neighbors': 10, 'p': 2, 'weights': 'uniform'},\n",
       "  {'metric': 'chebyshev', 'n_neighbors': 10, 'p': 2, 'weights': 'distance'},\n",
       "  {'metric': 'chebyshev', 'n_neighbors': 12, 'p': 1, 'weights': 'uniform'},\n",
       "  {'metric': 'chebyshev', 'n_neighbors': 12, 'p': 1, 'weights': 'distance'},\n",
       "  {'metric': 'chebyshev', 'n_neighbors': 12, 'p': 2, 'weights': 'uniform'},\n",
       "  {'metric': 'chebyshev', 'n_neighbors': 12, 'p': 2, 'weights': 'distance'},\n",
       "  {'metric': 'chebyshev', 'n_neighbors': 15, 'p': 1, 'weights': 'uniform'},\n",
       "  {'metric': 'chebyshev', 'n_neighbors': 15, 'p': 1, 'weights': 'distance'},\n",
       "  {'metric': 'chebyshev', 'n_neighbors': 15, 'p': 2, 'weights': 'uniform'},\n",
       "  {'metric': 'chebyshev', 'n_neighbors': 15, 'p': 2, 'weights': 'distance'},\n",
       "  {'metric': 'chebyshev', 'n_neighbors': 25, 'p': 1, 'weights': 'uniform'},\n",
       "  {'metric': 'chebyshev', 'n_neighbors': 25, 'p': 1, 'weights': 'distance'},\n",
       "  {'metric': 'chebyshev', 'n_neighbors': 25, 'p': 2, 'weights': 'uniform'},\n",
       "  {'metric': 'chebyshev', 'n_neighbors': 25, 'p': 2, 'weights': 'distance'},\n",
       "  {'metric': 'chebyshev', 'n_neighbors': 40, 'p': 1, 'weights': 'uniform'},\n",
       "  {'metric': 'chebyshev', 'n_neighbors': 40, 'p': 1, 'weights': 'distance'},\n",
       "  {'metric': 'chebyshev', 'n_neighbors': 40, 'p': 2, 'weights': 'uniform'},\n",
       "  {'metric': 'chebyshev', 'n_neighbors': 40, 'p': 2, 'weights': 'distance'},\n",
       "  {'metric': 'chebyshev', 'n_neighbors': 50, 'p': 1, 'weights': 'uniform'},\n",
       "  {'metric': 'chebyshev', 'n_neighbors': 50, 'p': 1, 'weights': 'distance'},\n",
       "  {'metric': 'chebyshev', 'n_neighbors': 50, 'p': 2, 'weights': 'uniform'},\n",
       "  {'metric': 'chebyshev', 'n_neighbors': 50, 'p': 2, 'weights': 'distance'},\n",
       "  {'metric': 'chebyshev', 'n_neighbors': 100, 'p': 1, 'weights': 'uniform'},\n",
       "  {'metric': 'chebyshev', 'n_neighbors': 100, 'p': 1, 'weights': 'distance'},\n",
       "  {'metric': 'chebyshev', 'n_neighbors': 100, 'p': 2, 'weights': 'uniform'},\n",
       "  {'metric': 'chebyshev', 'n_neighbors': 100, 'p': 2, 'weights': 'distance'}],\n",
       " 'split0_test_score': array([-0.01995381, -0.02093702, -0.02072712, -0.02166247, -0.01893111,\n",
       "        -0.01961551, -0.0189022 , -0.01972065, -0.0183547 , -0.01877803,\n",
       "        -0.01809406, -0.0185917 , -0.01769064, -0.01817851, -0.01750212,\n",
       "        -0.01803193, -0.01773211, -0.0180647 , -0.01718441, -0.01764595,\n",
       "        -0.01676492, -0.01702564, -0.01701012, -0.01725231, -0.01673932,\n",
       "        -0.01687355, -0.01671616, -0.01686919, -0.01655025, -0.01668119,\n",
       "        -0.01662087, -0.01674846, -0.01678137, -0.0167583 , -0.01675805,\n",
       "        -0.01676051, -0.01995381, -0.02093702, -0.01995381, -0.02093702,\n",
       "        -0.01893111, -0.01961551, -0.01893111, -0.01961551, -0.0183547 ,\n",
       "        -0.01877803, -0.0183547 , -0.01877803, -0.01769064, -0.01817851,\n",
       "        -0.01769064, -0.01817851, -0.01773211, -0.0180647 , -0.01773211,\n",
       "        -0.0180647 , -0.01676492, -0.01702564, -0.01676492, -0.01702564,\n",
       "        -0.01673932, -0.01687355, -0.01673932, -0.01687355, -0.01655025,\n",
       "        -0.01668119, -0.01655025, -0.01668119, -0.01678137, -0.0167583 ,\n",
       "        -0.01678137, -0.0167583 , -0.02125827, -0.02198496, -0.02125827,\n",
       "        -0.02198496, -0.01993901, -0.02063086, -0.01993901, -0.02063086,\n",
       "        -0.01841384, -0.01915126, -0.01841384, -0.01915126, -0.01790251,\n",
       "        -0.01850495, -0.01790251, -0.01850495, -0.01756919, -0.01807443,\n",
       "        -0.01756919, -0.01807443, -0.01705915, -0.01732807, -0.01705915,\n",
       "        -0.01732807, -0.01666813, -0.01683403, -0.01666813, -0.01683403,\n",
       "        -0.01676882, -0.01688258, -0.01676882, -0.01688258, -0.01692086,\n",
       "        -0.01690473, -0.01692086, -0.01690473]),\n",
       " 'split1_test_score': array([-0.0223961 , -0.02243049, -0.02202043, -0.02224209, -0.02112958,\n",
       "        -0.02117253, -0.02118234, -0.02148757, -0.01977084, -0.0199865 ,\n",
       "        -0.01966567, -0.02001417, -0.01924506, -0.01948393, -0.01911681,\n",
       "        -0.01948428, -0.01897374, -0.0191236 , -0.01880752, -0.0191608 ,\n",
       "        -0.01822356, -0.01836809, -0.01852911, -0.01873243, -0.01803026,\n",
       "        -0.01810998, -0.01813415, -0.01829809, -0.01810941, -0.01814849,\n",
       "        -0.01791863, -0.01808833, -0.01778442, -0.01779822, -0.01772826,\n",
       "        -0.01779712, -0.0223961 , -0.02243049, -0.0223961 , -0.02243049,\n",
       "        -0.02112958, -0.02117253, -0.02112958, -0.02117253, -0.01977084,\n",
       "        -0.0199865 , -0.01977084, -0.0199865 , -0.01924506, -0.01948393,\n",
       "        -0.01924506, -0.01948393, -0.01897374, -0.0191236 , -0.01897374,\n",
       "        -0.0191236 , -0.01822356, -0.01836809, -0.01822356, -0.01836809,\n",
       "        -0.01803026, -0.01810998, -0.01803026, -0.01810998, -0.01810941,\n",
       "        -0.01814849, -0.01810941, -0.01814849, -0.01778442, -0.01779822,\n",
       "        -0.01778442, -0.01779822, -0.02217345, -0.02235507, -0.02217345,\n",
       "        -0.02235507, -0.02138811, -0.02143209, -0.02138811, -0.02143209,\n",
       "        -0.02018943, -0.02046076, -0.02018943, -0.02046076, -0.01982756,\n",
       "        -0.02013555, -0.01982756, -0.02013555, -0.0193571 , -0.01963698,\n",
       "        -0.0193571 , -0.01963698, -0.0184692 , -0.01872045, -0.0184692 ,\n",
       "        -0.01872045, -0.01811286, -0.0183075 , -0.01811286, -0.0183075 ,\n",
       "        -0.01793279, -0.0181012 , -0.01793279, -0.0181012 , -0.01766994,\n",
       "        -0.01779045, -0.01766994, -0.01779045]),\n",
       " 'split2_test_score': array([-0.02233904, -0.0225421 , -0.021414  , -0.02208183, -0.02109278,\n",
       "        -0.02146352, -0.02056779, -0.02115858, -0.01994112, -0.02045305,\n",
       "        -0.01985714, -0.02041186, -0.01996176, -0.02027379, -0.01943881,\n",
       "        -0.01992043, -0.01926219, -0.01964669, -0.01892047, -0.01941586,\n",
       "        -0.01885797, -0.01914929, -0.01887209, -0.0192162 , -0.01875603,\n",
       "        -0.01899093, -0.01886391, -0.01910229, -0.01878899, -0.01895353,\n",
       "        -0.01878744, -0.01900568, -0.01867904, -0.01879389, -0.0189287 ,\n",
       "        -0.01901011, -0.02233904, -0.0225421 , -0.02233904, -0.0225421 ,\n",
       "        -0.02109278, -0.02146352, -0.02109278, -0.02146352, -0.01994112,\n",
       "        -0.02045305, -0.01994112, -0.02045305, -0.01996176, -0.02027379,\n",
       "        -0.01996176, -0.02027379, -0.01926219, -0.01964669, -0.01926219,\n",
       "        -0.01964669, -0.01885797, -0.01914929, -0.01885797, -0.01914929,\n",
       "        -0.01875603, -0.01899093, -0.01875603, -0.01899093, -0.01878899,\n",
       "        -0.01895353, -0.01878899, -0.01895353, -0.01867904, -0.01879389,\n",
       "        -0.01867904, -0.01879389, -0.02092859, -0.02161875, -0.02092859,\n",
       "        -0.02161875, -0.01974736, -0.02060514, -0.01974736, -0.02060514,\n",
       "        -0.01981819, -0.02028337, -0.01981819, -0.02028337, -0.01942737,\n",
       "        -0.01989953, -0.01942737, -0.01989953, -0.01916169, -0.01964324,\n",
       "        -0.01916169, -0.01964324, -0.01904771, -0.01937701, -0.01904771,\n",
       "        -0.01937701, -0.01879196, -0.01906422, -0.01879196, -0.01906422,\n",
       "        -0.01883866, -0.01906287, -0.01883866, -0.01906287, -0.01893144,\n",
       "        -0.01904047, -0.01893144, -0.01904047]),\n",
       " 'split3_test_score': array([-0.02724743, -0.02778016, -0.0276751 , -0.02803004, -0.02550305,\n",
       "        -0.02600964, -0.02630745, -0.02669179, -0.02466518, -0.02517003,\n",
       "        -0.02512931, -0.02571674, -0.02390749, -0.02447185, -0.02422504,\n",
       "        -0.02489923, -0.02386783, -0.02433543, -0.0242015 , -0.02471993,\n",
       "        -0.02409817, -0.02433812, -0.02368227, -0.02411982, -0.02390106,\n",
       "        -0.02407924, -0.02388067, -0.02412177, -0.0239755 , -0.02410549,\n",
       "        -0.02399694, -0.02417364, -0.02395139, -0.02398233, -0.02420893,\n",
       "        -0.02421806, -0.02724743, -0.02778016, -0.02724743, -0.02778016,\n",
       "        -0.02550305, -0.02600964, -0.02550305, -0.02600964, -0.02466518,\n",
       "        -0.02517003, -0.02466518, -0.02517003, -0.02390749, -0.02447185,\n",
       "        -0.02390749, -0.02447185, -0.02386783, -0.02433543, -0.02386783,\n",
       "        -0.02433543, -0.02409817, -0.02433812, -0.02409817, -0.02433812,\n",
       "        -0.02390106, -0.02407924, -0.02390106, -0.02407924, -0.0239755 ,\n",
       "        -0.02410549, -0.0239755 , -0.02410549, -0.02395139, -0.02398233,\n",
       "        -0.02395139, -0.02398233, -0.02764489, -0.0282123 , -0.02764489,\n",
       "        -0.0282123 , -0.02657963, -0.02714146, -0.02657963, -0.02714146,\n",
       "        -0.02524303, -0.02601986, -0.02524303, -0.02601986, -0.02479216,\n",
       "        -0.02553655, -0.02479216, -0.02553655, -0.02444663, -0.02511061,\n",
       "        -0.02444663, -0.02511061, -0.0238051 , -0.0243331 , -0.0238051 ,\n",
       "        -0.0243331 , -0.02401325, -0.02432518, -0.02401325, -0.02432518,\n",
       "        -0.02407117, -0.02431286, -0.02407117, -0.02431286, -0.02399375,\n",
       "        -0.02412364, -0.02399375, -0.02412364]),\n",
       " 'split4_test_score': array([-0.02557067, -0.02587113, -0.02531506, -0.02582132, -0.02433821,\n",
       "        -0.02481263, -0.02458176, -0.02497079, -0.02334991, -0.02377281,\n",
       "        -0.02371642, -0.02417988, -0.02300184, -0.02346324, -0.0235812 ,\n",
       "        -0.02399691, -0.02259155, -0.0230069 , -0.02289612, -0.02333611,\n",
       "        -0.02214015, -0.02243815, -0.02249137, -0.02275073, -0.02224599,\n",
       "        -0.02236051, -0.02211001, -0.0223311 , -0.02200978, -0.02214139,\n",
       "        -0.02193887, -0.02214299, -0.02196207, -0.02199813, -0.02199195,\n",
       "        -0.02204979, -0.02557067, -0.02587113, -0.02557067, -0.02587113,\n",
       "        -0.02433821, -0.02481263, -0.02433821, -0.02481263, -0.02334991,\n",
       "        -0.02377281, -0.02334991, -0.02377281, -0.02300184, -0.02346324,\n",
       "        -0.02300184, -0.02346324, -0.02259155, -0.0230069 , -0.02259155,\n",
       "        -0.0230069 , -0.02214015, -0.02243815, -0.02214015, -0.02243815,\n",
       "        -0.02224599, -0.02236051, -0.02224599, -0.02236051, -0.02200978,\n",
       "        -0.02214139, -0.02200978, -0.02214139, -0.02196207, -0.02199813,\n",
       "        -0.02196207, -0.02199813, -0.02636933, -0.02687232, -0.02636933,\n",
       "        -0.02687232, -0.02485618, -0.02537298, -0.02485618, -0.02537298,\n",
       "        -0.02382273, -0.0243678 , -0.02382273, -0.0243678 , -0.02353131,\n",
       "        -0.02399161, -0.02353131, -0.02399161, -0.0232399 , -0.02360888,\n",
       "        -0.0232399 , -0.02360888, -0.02237391, -0.02276019, -0.02237391,\n",
       "        -0.02276019, -0.02207506, -0.02230721, -0.02207506, -0.02230721,\n",
       "        -0.02205267, -0.02225496, -0.02205267, -0.02225496, -0.02212973,\n",
       "        -0.02220475, -0.02212973, -0.02220475]),\n",
       " 'mean_test_score': array([-0.02350141, -0.02391218, -0.02343034, -0.02396755, -0.02219894,\n",
       "        -0.02261476, -0.02230831, -0.02280588, -0.02121635, -0.02163208,\n",
       "        -0.02129252, -0.02178287, -0.02076136, -0.02117426, -0.02077279,\n",
       "        -0.02126656, -0.02048549, -0.02083546, -0.020402  , -0.02085573,\n",
       "        -0.02001696, -0.02026386, -0.02011699, -0.0204143 , -0.01993453,\n",
       "        -0.02008284, -0.01994098, -0.02014449, -0.01988679, -0.02000602,\n",
       "        -0.01985255, -0.02003182, -0.01983166, -0.01986618, -0.01992318,\n",
       "        -0.01996712, -0.02350141, -0.02391218, -0.02350141, -0.02391218,\n",
       "        -0.02219894, -0.02261476, -0.02219894, -0.02261476, -0.02121635,\n",
       "        -0.02163208, -0.02121635, -0.02163208, -0.02076136, -0.02117426,\n",
       "        -0.02076136, -0.02117426, -0.02048549, -0.02083546, -0.02048549,\n",
       "        -0.02083546, -0.02001696, -0.02026386, -0.02001696, -0.02026386,\n",
       "        -0.01993453, -0.02008284, -0.01993453, -0.02008284, -0.01988679,\n",
       "        -0.02000602, -0.01988679, -0.02000602, -0.01983166, -0.01986618,\n",
       "        -0.01983166, -0.01986618, -0.02367491, -0.02420868, -0.02367491,\n",
       "        -0.02420868, -0.02250206, -0.02303651, -0.02250206, -0.02303651,\n",
       "        -0.02149744, -0.02205661, -0.02149744, -0.02205661, -0.02109618,\n",
       "        -0.02161364, -0.02109618, -0.02161364, -0.0207549 , -0.02121483,\n",
       "        -0.0207549 , -0.02121483, -0.02015101, -0.02050376, -0.02015101,\n",
       "        -0.02050376, -0.01993225, -0.02016763, -0.01993225, -0.02016763,\n",
       "        -0.01993282, -0.02012289, -0.01993282, -0.02012289, -0.01992914,\n",
       "        -0.02001281, -0.01992914, -0.02001281]),\n",
       " 'std_test_score': array([0.00258739, 0.00251884, 0.00264314, 0.00252138, 0.00238912,\n",
       "        0.00239819, 0.00272252, 0.00259836, 0.00238123, 0.00242254,\n",
       "        0.00266583, 0.00269861, 0.00233605, 0.00239817, 0.00264667,\n",
       "        0.0026871 , 0.00233404, 0.00240772, 0.00267384, 0.00269567,\n",
       "        0.00269442, 0.00270737, 0.0025327 , 0.00258659, 0.00269446,\n",
       "        0.00270344, 0.00264764, 0.00267668, 0.00271003, 0.00271949,\n",
       "        0.00271466, 0.00272845, 0.00269573, 0.00270456, 0.00277389,\n",
       "        0.00276822, 0.00258739, 0.00251884, 0.00258739, 0.00251884,\n",
       "        0.00238912, 0.00239819, 0.00238912, 0.00239819, 0.00238123,\n",
       "        0.00242254, 0.00238123, 0.00242254, 0.00233605, 0.00239817,\n",
       "        0.00233605, 0.00239817, 0.00233404, 0.00240772, 0.00233404,\n",
       "        0.00240772, 0.00269442, 0.00270737, 0.00269442, 0.00270737,\n",
       "        0.00269446, 0.00270344, 0.00269446, 0.00270344, 0.00271003,\n",
       "        0.00271949, 0.00271003, 0.00271949, 0.00269573, 0.00270456,\n",
       "        0.00269573, 0.00270456, 0.00278056, 0.00276451, 0.00278056,\n",
       "        0.00276451, 0.00274105, 0.00270491, 0.00274105, 0.00270491,\n",
       "        0.0025875 , 0.00265259, 0.0025875 , 0.00265259, 0.00261473,\n",
       "        0.00267697, 0.00261473, 0.00267697, 0.00262469, 0.00267321,\n",
       "        0.00262469, 0.00267321, 0.00252583, 0.00261878, 0.00252583,\n",
       "        0.00261878, 0.00270226, 0.00274421, 0.00270226, 0.00274421,\n",
       "        0.00271396, 0.00274998, 0.00271396, 0.00274998, 0.00270232,\n",
       "        0.0027294 , 0.00270232, 0.0027294 ]),\n",
       " 'rank_test_score': array([ 98, 103,  97, 106,  85,  91,  88,  94,  70,  79,  74,  82,  55,\n",
       "         65,  58,  73,  48,  59,  46,  62,  28,  43,  35,  47,  18,  32,\n",
       "         21,  38,   8,  23,   4,  31,   1,   5,  11,  22,  98, 103,  98,\n",
       "        103,  85,  91,  85,  91,  70,  79,  70,  79,  55,  65,  55,  65,\n",
       "         48,  59,  48,  59,  28,  43,  28,  43,  18,  32,  18,  32,   8,\n",
       "         23,   8,  23,   1,   5,   1,   5, 101, 107, 101, 107,  89,  95,\n",
       "         89,  95,  75,  83,  75,  83,  63,  77,  63,  77,  53,  68,  53,\n",
       "         68,  39,  51,  39,  51,  14,  41,  14,  41,  16,  36,  16,  36,\n",
       "         12,  26,  12,  26], dtype=int32),\n",
       " 'split0_train_score': array([-0.01622781, -0.00071288, -0.01624747, -0.00071288, -0.01744398,\n",
       "        -0.0007051 , -0.01719989, -0.0007051 , -0.01816333, -0.00070506,\n",
       "        -0.01809687, -0.00070506, -0.01851108, -0.00070506, -0.01835156,\n",
       "        -0.00070506, -0.01883071, -0.00070506, -0.0187136 , -0.00070506,\n",
       "        -0.01927919, -0.00070506, -0.01929706, -0.00070506, -0.0198059 ,\n",
       "        -0.00070506, -0.0198517 , -0.00070506, -0.01992545, -0.00070506,\n",
       "        -0.01998662, -0.00070506, -0.02015919, -0.00070506, -0.0202979 ,\n",
       "        -0.00070506, -0.01622781, -0.00071288, -0.01622781, -0.00071288,\n",
       "        -0.01744398, -0.0007051 , -0.01744398, -0.0007051 , -0.01816333,\n",
       "        -0.00070506, -0.01816333, -0.00070506, -0.01851108, -0.00070506,\n",
       "        -0.01851108, -0.00070506, -0.01883071, -0.00070506, -0.01883071,\n",
       "        -0.00070506, -0.01927919, -0.00070506, -0.01927919, -0.00070506,\n",
       "        -0.0198059 , -0.00070506, -0.0198059 , -0.00070506, -0.01992545,\n",
       "        -0.00070506, -0.01992545, -0.00070506, -0.02015919, -0.00070506,\n",
       "        -0.02015919, -0.00070506, -0.01628121, -0.00071288, -0.01628121,\n",
       "        -0.00071288, -0.01739461, -0.0007051 , -0.01739461, -0.0007051 ,\n",
       "        -0.01839921, -0.00070506, -0.01839921, -0.00070506, -0.01867204,\n",
       "        -0.00070506, -0.01867204, -0.00070506, -0.01885477, -0.00070506,\n",
       "        -0.01885477, -0.00070506, -0.01933045, -0.00070506, -0.01933045,\n",
       "        -0.00070506, -0.01976977, -0.00070506, -0.01976977, -0.00070506,\n",
       "        -0.01996697, -0.00070506, -0.01996697, -0.00070506, -0.02029643,\n",
       "        -0.00070506, -0.02029643, -0.00070506]),\n",
       " 'split1_train_score': array([-0.01558427, -0.00083982, -0.01559023, -0.00083982, -0.01640502,\n",
       "        -0.00081266, -0.01633802, -0.00081266, -0.01750712, -0.00080742,\n",
       "        -0.0175892 , -0.00080742, -0.01776905, -0.00080741, -0.01777053,\n",
       "        -0.00080741, -0.01825345, -0.00080741, -0.01816338, -0.00080741,\n",
       "        -0.0189025 , -0.00080741, -0.01883969, -0.00080741, -0.01942652,\n",
       "        -0.00080741, -0.01933778, -0.00080741, -0.01954402, -0.00080741,\n",
       "        -0.01953217, -0.00080741, -0.01996846, -0.00080741, -0.02003884,\n",
       "        -0.00080741, -0.01558427, -0.00083982, -0.01558427, -0.00083982,\n",
       "        -0.01640502, -0.00081266, -0.01640502, -0.00081266, -0.01750712,\n",
       "        -0.00080742, -0.01750712, -0.00080742, -0.01776905, -0.00080741,\n",
       "        -0.01776905, -0.00080741, -0.01825345, -0.00080741, -0.01825345,\n",
       "        -0.00080741, -0.0189025 , -0.00080741, -0.0189025 , -0.00080741,\n",
       "        -0.01942652, -0.00080741, -0.01942652, -0.00080741, -0.01954402,\n",
       "        -0.00080741, -0.01954402, -0.00080741, -0.01996846, -0.00080741,\n",
       "        -0.01996846, -0.00080741, -0.0157903 , -0.00083982, -0.0157903 ,\n",
       "        -0.00083982, -0.01660198, -0.00081266, -0.01660198, -0.00081266,\n",
       "        -0.0176191 , -0.00080742, -0.0176191 , -0.00080742, -0.01801112,\n",
       "        -0.00080741, -0.01801112, -0.00080741, -0.01830739, -0.00080741,\n",
       "        -0.01830739, -0.00080741, -0.01893318, -0.00080741, -0.01893318,\n",
       "        -0.00080741, -0.01940271, -0.00080741, -0.01940271, -0.00080741,\n",
       "        -0.01956266, -0.00080741, -0.01956266, -0.00080741, -0.01999564,\n",
       "        -0.00080741, -0.01999564, -0.00080741]),\n",
       " 'split2_train_score': array([-0.01566432, -0.00069241, -0.01560736, -0.00069241, -0.0166323 ,\n",
       "        -0.00063715, -0.01664237, -0.00063715, -0.01750092, -0.00063644,\n",
       "        -0.01741589, -0.00063644, -0.01776331, -0.00063644, -0.01776836,\n",
       "        -0.00063644, -0.01817371, -0.00063644, -0.01810364, -0.00063644,\n",
       "        -0.01871765, -0.00063644, -0.01869706, -0.00063644, -0.01921261,\n",
       "        -0.00063644, -0.01922863, -0.00063644, -0.01929031, -0.00063644,\n",
       "        -0.01935437, -0.00063644, -0.01970828, -0.00063644, -0.01974382,\n",
       "        -0.00063644, -0.01566432, -0.00069241, -0.01566432, -0.00069241,\n",
       "        -0.0166323 , -0.00063715, -0.0166323 , -0.00063715, -0.01750092,\n",
       "        -0.00063644, -0.01750092, -0.00063644, -0.01776331, -0.00063644,\n",
       "        -0.01776331, -0.00063644, -0.01817371, -0.00063644, -0.01817371,\n",
       "        -0.00063644, -0.01871765, -0.00063644, -0.01871765, -0.00063644,\n",
       "        -0.01921261, -0.00063644, -0.01921261, -0.00063644, -0.01929031,\n",
       "        -0.00063644, -0.01929031, -0.00063644, -0.01970828, -0.00063644,\n",
       "        -0.01970828, -0.00063644, -0.01599801, -0.00069241, -0.01599801,\n",
       "        -0.00069241, -0.01678798, -0.00063715, -0.01678798, -0.00063715,\n",
       "        -0.01772433, -0.00063644, -0.01772433, -0.00063644, -0.01791399,\n",
       "        -0.00063644, -0.01791399, -0.00063644, -0.0182861 , -0.00063644,\n",
       "        -0.0182861 , -0.00063644, -0.01876439, -0.00063644, -0.01876439,\n",
       "        -0.00063644, -0.01911173, -0.00063644, -0.01911173, -0.00063644,\n",
       "        -0.01930097, -0.00063644, -0.01930097, -0.00063644, -0.01972268,\n",
       "        -0.00063644, -0.01972268, -0.00063644]),\n",
       " 'split3_train_score': array([-0.01468096, -0.00064467, -0.01456358, -0.00064467, -0.01568529,\n",
       "        -0.00063038, -0.01559535, -0.00063038, -0.0165188 , -0.00062963,\n",
       "        -0.01639174, -0.00062963, -0.01682799, -0.00062963, -0.01676493,\n",
       "        -0.00062963, -0.01703828, -0.00062963, -0.01703284, -0.00062963,\n",
       "        -0.01745881, -0.00062963, -0.01761455, -0.00062963, -0.01798087,\n",
       "        -0.00062963, -0.01798538, -0.00062963, -0.01807426, -0.00062963,\n",
       "        -0.01808615, -0.00062963, -0.01843398, -0.00062963, -0.01845719,\n",
       "        -0.00062963, -0.01468096, -0.00064467, -0.01468096, -0.00064467,\n",
       "        -0.01568529, -0.00063038, -0.01568529, -0.00063038, -0.0165188 ,\n",
       "        -0.00062963, -0.0165188 , -0.00062963, -0.01682799, -0.00062963,\n",
       "        -0.01682799, -0.00062963, -0.01703828, -0.00062963, -0.01703828,\n",
       "        -0.00062963, -0.01745881, -0.00062963, -0.01745881, -0.00062963,\n",
       "        -0.01798087, -0.00062963, -0.01798087, -0.00062963, -0.01807426,\n",
       "        -0.00062963, -0.01807426, -0.00062963, -0.01843398, -0.00062963,\n",
       "        -0.01843398, -0.00062963, -0.01454641, -0.00064467, -0.01454641,\n",
       "        -0.00064467, -0.01544941, -0.00063038, -0.01544941, -0.00063038,\n",
       "        -0.0164378 , -0.00062963, -0.0164378 , -0.00062963, -0.01670957,\n",
       "        -0.00062963, -0.01670957, -0.00062963, -0.01695656, -0.00062963,\n",
       "        -0.01695656, -0.00062963, -0.01751516, -0.00062963, -0.01751516,\n",
       "        -0.00062963, -0.01789928, -0.00062963, -0.01789928, -0.00062963,\n",
       "        -0.0180586 , -0.00062963, -0.0180586 , -0.00062963, -0.01842622,\n",
       "        -0.00062963, -0.01842622, -0.00062963]),\n",
       " 'split4_train_score': array([-0.01495184, -0.00076536, -0.01487674, -0.00076536, -0.01590736,\n",
       "        -0.00071032, -0.01591279, -0.00071032, -0.01659615, -0.00070919,\n",
       "        -0.01671321, -0.00070919, -0.01703868, -0.00070919, -0.01705074,\n",
       "        -0.00070919, -0.01737778, -0.00070919, -0.01732262, -0.00070919,\n",
       "        -0.01809086, -0.00070919, -0.01795437, -0.00070919, -0.01843578,\n",
       "        -0.00070919, -0.01844978, -0.00070919, -0.01860201, -0.00070919,\n",
       "        -0.01866894, -0.00070919, -0.01892006, -0.00070919, -0.01900184,\n",
       "        -0.00070919, -0.01495184, -0.00076536, -0.01495184, -0.00076536,\n",
       "        -0.01590736, -0.00071032, -0.01590736, -0.00071032, -0.01659615,\n",
       "        -0.00070919, -0.01659615, -0.00070919, -0.01703868, -0.00070919,\n",
       "        -0.01703868, -0.00070919, -0.01737778, -0.00070919, -0.01737778,\n",
       "        -0.00070919, -0.01809086, -0.00070919, -0.01809086, -0.00070919,\n",
       "        -0.01843578, -0.00070919, -0.01843578, -0.00070919, -0.01860201,\n",
       "        -0.00070919, -0.01860201, -0.00070919, -0.01892006, -0.00070919,\n",
       "        -0.01892006, -0.00070919, -0.0148346 , -0.00076536, -0.0148346 ,\n",
       "        -0.00076536, -0.01587573, -0.00071032, -0.01587573, -0.00071032,\n",
       "        -0.01686201, -0.00070919, -0.01686201, -0.00070919, -0.01719839,\n",
       "        -0.00070919, -0.01719839, -0.00070919, -0.01745277, -0.00070919,\n",
       "        -0.01745277, -0.00070919, -0.0179895 , -0.00070919, -0.0179895 ,\n",
       "        -0.00070919, -0.01838791, -0.00070919, -0.01838791, -0.00070919,\n",
       "        -0.01850347, -0.00070919, -0.01850347, -0.00070919, -0.01890851,\n",
       "        -0.00070919, -0.01890851, -0.00070919]),\n",
       " 'mean_train_score': array([-0.01542184, -0.00073103, -0.01537707, -0.00073103, -0.01641479,\n",
       "        -0.00069912, -0.01633768, -0.00069912, -0.01725726, -0.00069755,\n",
       "        -0.01724138, -0.00069755, -0.01758202, -0.00069755, -0.01754122,\n",
       "        -0.00069755, -0.01793479, -0.00069755, -0.01786721, -0.00069755,\n",
       "        -0.0184898 , -0.00069755, -0.01848055, -0.00069755, -0.01897234,\n",
       "        -0.00069755, -0.01897065, -0.00069755, -0.01908721, -0.00069755,\n",
       "        -0.01912565, -0.00069755, -0.019438  , -0.00069755, -0.01950792,\n",
       "        -0.00069755, -0.01542184, -0.00073103, -0.01542184, -0.00073103,\n",
       "        -0.01641479, -0.00069912, -0.01641479, -0.00069912, -0.01725726,\n",
       "        -0.00069755, -0.01725726, -0.00069755, -0.01758202, -0.00069755,\n",
       "        -0.01758202, -0.00069755, -0.01793479, -0.00069755, -0.01793479,\n",
       "        -0.00069755, -0.0184898 , -0.00069755, -0.0184898 , -0.00069755,\n",
       "        -0.01897234, -0.00069755, -0.01897234, -0.00069755, -0.01908721,\n",
       "        -0.00069755, -0.01908721, -0.00069755, -0.019438  , -0.00069755,\n",
       "        -0.019438  , -0.00069755, -0.01549011, -0.00073103, -0.01549011,\n",
       "        -0.00073103, -0.01642194, -0.00069912, -0.01642194, -0.00069912,\n",
       "        -0.01740849, -0.00069755, -0.01740849, -0.00069755, -0.01770102,\n",
       "        -0.00069755, -0.01770102, -0.00069755, -0.01797152, -0.00069755,\n",
       "        -0.01797152, -0.00069755, -0.01850653, -0.00069755, -0.01850653,\n",
       "        -0.00069755, -0.01891428, -0.00069755, -0.01891428, -0.00069755,\n",
       "        -0.01907853, -0.00069755, -0.01907853, -0.00069755, -0.01946989,\n",
       "        -0.00069755, -0.01946989, -0.00069755]),\n",
       " 'std_train_score': array([5.48556667e-04, 6.67711200e-05, 5.94671202e-04, 6.67711200e-05,\n",
       "        6.15840339e-04, 6.57533202e-05, 5.59972161e-04, 6.57533202e-05,\n",
       "        6.20508551e-04, 6.42045146e-05, 6.13865325e-04, 6.42045146e-05,\n",
       "        5.99127573e-04, 6.42012380e-05, 5.66394968e-04, 6.42012380e-05,\n",
       "        6.44249241e-04, 6.42012380e-05, 6.08728226e-04, 6.42012380e-05,\n",
       "        6.43036532e-04, 6.42012380e-05, 6.11451736e-04, 6.42012380e-05,\n",
       "        6.67791498e-04, 6.42012380e-05, 6.66280325e-04, 6.42012380e-05,\n",
       "        6.65438097e-04, 6.42012380e-05, 6.70519907e-04, 6.42012380e-05,\n",
       "        6.55874617e-04, 6.42012380e-05, 6.81431337e-04, 6.42012380e-05,\n",
       "        5.48556667e-04, 6.67711200e-05, 5.48556667e-04, 6.67711200e-05,\n",
       "        6.15840339e-04, 6.57533202e-05, 6.15840339e-04, 6.57533202e-05,\n",
       "        6.20508551e-04, 6.42045146e-05, 6.20508551e-04, 6.42045146e-05,\n",
       "        5.99127573e-04, 6.42012380e-05, 5.99127573e-04, 6.42012380e-05,\n",
       "        6.44249241e-04, 6.42012380e-05, 6.44249241e-04, 6.42012380e-05,\n",
       "        6.43036532e-04, 6.42012380e-05, 6.43036532e-04, 6.42012380e-05,\n",
       "        6.67791498e-04, 6.42012380e-05, 6.67791498e-04, 6.42012380e-05,\n",
       "        6.65438097e-04, 6.42012380e-05, 6.65438097e-04, 6.42012380e-05,\n",
       "        6.55874617e-04, 6.42012380e-05, 6.55874617e-04, 6.42012380e-05,\n",
       "        6.77373571e-04, 6.67711200e-05, 6.77373571e-04, 6.67711200e-05,\n",
       "        6.86530908e-04, 6.57533202e-05, 6.86530908e-04, 6.57533202e-05,\n",
       "        6.87971134e-04, 6.42045146e-05, 6.87971134e-04, 6.42045146e-05,\n",
       "        6.81174824e-04, 6.42012380e-05, 6.81174824e-04, 6.42012380e-05,\n",
       "        6.76925737e-04, 6.42012380e-05, 6.76925737e-04, 6.42012380e-05,\n",
       "        6.59923256e-04, 6.42012380e-05, 6.59923256e-04, 6.42012380e-05,\n",
       "        6.80691057e-04, 6.42012380e-05, 6.80691057e-04, 6.42012380e-05,\n",
       "        6.99164702e-04, 6.42012380e-05, 6.99164702e-04, 6.42012380e-05,\n",
       "        6.96830505e-04, 6.42012380e-05, 6.96830505e-04, 6.42012380e-05])}"
      ]
     },
     "execution_count": 129,
     "metadata": {},
     "output_type": "execute_result"
    }
   ],
   "source": [
    "grid_CV.cv_results_"
   ]
  },
  {
   "cell_type": "markdown",
   "metadata": {},
   "source": [
    "Right now (temporary) we will this hyperparameters as the best one:"
   ]
  },
  {
   "cell_type": "code",
   "execution_count": 130,
   "metadata": {
    "ExecuteTime": {
     "end_time": "2020-06-03T00:41:28.859995Z",
     "start_time": "2020-06-03T00:41:28.852998Z"
    }
   },
   "outputs": [
    {
     "data": {
      "text/plain": [
       "{'metric': 'minkowski', 'n_neighbors': 100, 'p': 1, 'weights': 'uniform'}"
      ]
     },
     "execution_count": 130,
     "metadata": {},
     "output_type": "execute_result"
    }
   ],
   "source": [
    "grid_CV.best_params_"
   ]
  },
  {
   "cell_type": "markdown",
   "metadata": {},
   "source": [
    "### Feature selection for KNN"
   ]
  },
  {
   "cell_type": "markdown",
   "metadata": {},
   "source": [
    "We would like to base our feature selection on:\n",
    " * feature ranking\n",
    " * forward elimination\n",
    " * relief - special feature selection model for KNN found during Michał Woźniak & Michał Dyczko undergrad. research"
   ]
  },
  {
   "cell_type": "markdown",
   "metadata": {},
   "source": [
    "#### Feature ranking"
   ]
  },
  {
   "cell_type": "code",
   "execution_count": 131,
   "metadata": {
    "ExecuteTime": {
     "end_time": "2020-06-03T00:41:41.293988Z",
     "start_time": "2020-06-03T00:41:41.289008Z"
    }
   },
   "outputs": [],
   "source": [
    "fr.sort_values(\"mi_score\", ascending=False, inplace=True)"
   ]
  },
  {
   "cell_type": "code",
   "execution_count": 132,
   "metadata": {
    "ExecuteTime": {
     "end_time": "2020-06-03T00:41:41.547666Z",
     "start_time": "2020-06-03T00:41:41.535661Z"
    }
   },
   "outputs": [
    {
     "data": {
      "text/html": [
       "<div>\n",
       "<style scoped>\n",
       "    .dataframe tbody tr th:only-of-type {\n",
       "        vertical-align: middle;\n",
       "    }\n",
       "\n",
       "    .dataframe tbody tr th {\n",
       "        vertical-align: top;\n",
       "    }\n",
       "\n",
       "    .dataframe thead th {\n",
       "        text-align: right;\n",
       "    }\n",
       "</style>\n",
       "<table border=\"1\" class=\"dataframe\">\n",
       "  <thead>\n",
       "    <tr style=\"text-align: right;\">\n",
       "      <th></th>\n",
       "      <th>mi_score</th>\n",
       "      <th>sign_fscore</th>\n",
       "      <th>sign_fscore_0_1</th>\n",
       "      <th>corr</th>\n",
       "      <th>EN_coef</th>\n",
       "      <th>boruta_rank</th>\n",
       "    </tr>\n",
       "  </thead>\n",
       "  <tbody>\n",
       "    <tr>\n",
       "      <th>etr_y_past</th>\n",
       "      <td>1.009402</td>\n",
       "      <td>1.304040e-84</td>\n",
       "      <td>1</td>\n",
       "      <td>0.520405</td>\n",
       "      <td>NaN</td>\n",
       "      <td>1</td>\n",
       "    </tr>\n",
       "    <tr>\n",
       "      <th>etr_y_ma</th>\n",
       "      <td>0.825650</td>\n",
       "      <td>2.473770e-125</td>\n",
       "      <td>1</td>\n",
       "      <td>0.526871</td>\n",
       "      <td>NaN</td>\n",
       "      <td>1</td>\n",
       "    </tr>\n",
       "    <tr>\n",
       "      <th>txt</th>\n",
       "      <td>0.633067</td>\n",
       "      <td>5.246456e-13</td>\n",
       "      <td>1</td>\n",
       "      <td>0.368732</td>\n",
       "      <td>1.466269e-05</td>\n",
       "      <td>1</td>\n",
       "    </tr>\n",
       "    <tr>\n",
       "      <th>diff</th>\n",
       "      <td>0.632640</td>\n",
       "      <td>2.257712e-02</td>\n",
       "      <td>1</td>\n",
       "      <td>-0.291716</td>\n",
       "      <td>NaN</td>\n",
       "      <td>1</td>\n",
       "    </tr>\n",
       "    <tr>\n",
       "      <th>ni</th>\n",
       "      <td>0.613297</td>\n",
       "      <td>1.747230e-09</td>\n",
       "      <td>1</td>\n",
       "      <td>0.263458</td>\n",
       "      <td>-3.442000e-07</td>\n",
       "      <td>7</td>\n",
       "    </tr>\n",
       "  </tbody>\n",
       "</table>\n",
       "</div>"
      ],
      "text/plain": [
       "            mi_score    sign_fscore  sign_fscore_0_1      corr       EN_coef  \\\n",
       "etr_y_past  1.009402   1.304040e-84                1  0.520405           NaN   \n",
       "etr_y_ma    0.825650  2.473770e-125                1  0.526871           NaN   \n",
       "txt         0.633067   5.246456e-13                1  0.368732  1.466269e-05   \n",
       "diff        0.632640   2.257712e-02                1 -0.291716           NaN   \n",
       "ni          0.613297   1.747230e-09                1  0.263458 -3.442000e-07   \n",
       "\n",
       "            boruta_rank  \n",
       "etr_y_past            1  \n",
       "etr_y_ma              1  \n",
       "txt                   1  \n",
       "diff                  1  \n",
       "ni                    7  "
      ]
     },
     "execution_count": 132,
     "metadata": {},
     "output_type": "execute_result"
    }
   ],
   "source": [
    "fr.head()"
   ]
  },
  {
   "cell_type": "code",
   "execution_count": 133,
   "metadata": {
    "ExecuteTime": {
     "end_time": "2020-06-03T00:41:41.878880Z",
     "start_time": "2020-06-03T00:41:41.874878Z"
    }
   },
   "outputs": [],
   "source": [
    "br_features = fr[fr.boruta_rank.isin([1, 2, 3])].index.tolist()"
   ]
  },
  {
   "cell_type": "code",
   "execution_count": 134,
   "metadata": {
    "ExecuteTime": {
     "end_time": "2020-06-03T00:41:42.128655Z",
     "start_time": "2020-06-03T00:41:42.124658Z"
    }
   },
   "outputs": [],
   "source": [
    "mi_features = fr.iloc[0:20].index.tolist()"
   ]
  },
  {
   "cell_type": "code",
   "execution_count": 135,
   "metadata": {
    "ExecuteTime": {
     "end_time": "2020-06-03T00:41:42.344436Z",
     "start_time": "2020-06-03T00:41:42.340441Z"
    }
   },
   "outputs": [],
   "source": [
    "mi_features_25 = fr.iloc[0:25].index.tolist()"
   ]
  },
  {
   "cell_type": "code",
   "execution_count": 136,
   "metadata": {
    "ExecuteTime": {
     "end_time": "2020-06-03T00:41:42.524698Z",
     "start_time": "2020-06-03T00:41:42.520706Z"
    }
   },
   "outputs": [],
   "source": [
    "mi_features_35 = fr.iloc[0:35].index.tolist()"
   ]
  },
  {
   "cell_type": "code",
   "execution_count": 137,
   "metadata": {
    "ExecuteTime": {
     "end_time": "2020-06-03T00:41:42.711694Z",
     "start_time": "2020-06-03T00:41:42.708694Z"
    }
   },
   "outputs": [],
   "source": [
    "mi_features_50 = fr.iloc[0:50].index.tolist()"
   ]
  },
  {
   "cell_type": "code",
   "execution_count": 138,
   "metadata": {
    "ExecuteTime": {
     "end_time": "2020-06-03T00:41:42.902705Z",
     "start_time": "2020-06-03T00:41:42.896717Z"
    }
   },
   "outputs": [],
   "source": [
    "fr[\"corr_abs\"] = np.abs(fr[\"corr\"])\n",
    "fr.sort_values(\"corr_abs\", ascending=False, inplace=True)\n",
    "corr_features = fr.iloc[0:20].index.tolist()"
   ]
  },
  {
   "cell_type": "markdown",
   "metadata": {},
   "source": [
    "We will use our intuition and create two additional benchmark sets of variables:"
   ]
  },
  {
   "cell_type": "code",
   "execution_count": 139,
   "metadata": {
    "ExecuteTime": {
     "end_time": "2020-06-03T00:41:45.494175Z",
     "start_time": "2020-06-03T00:41:45.474465Z"
    }
   },
   "outputs": [],
   "source": [
    "benchmark = [\n",
    "    \"rok\",\n",
    "    \"ta\",\n",
    "    \"txt\",\n",
    "    \"pi\",\n",
    "    \"str\",\n",
    "    \"xrd\",\n",
    "    \"ni\",\n",
    "    \"ppent\",\n",
    "    \"intant\",\n",
    "    \"dlc\",\n",
    "    \"dltt\",\n",
    "    \"capex\",\n",
    "    \"revenue\",\n",
    "    \"cce\",\n",
    "    \"adv\",\n",
    "    \"diff\",\n",
    "    \"roa\",\n",
    "    \"lev\",\n",
    "    \"intan\",\n",
    "    \"rd\",\n",
    "    \"ppe\",\n",
    "    \"sale\",\n",
    "    \"cash_holdings\",\n",
    "    \"adv_expenditure\",\n",
    "    \"capex2\",\n",
    "    \"cfc\",\n",
    "    \"dta\",\n",
    "    \"capex2_scaled\",\n",
    "    \"y_v2x_polyarchy\",\n",
    "    \"y_e_p_polity\",\n",
    "    \"y_BR_Democracy\",\n",
    "    \"WB_GDPgrowth\",\n",
    "    \"WB_GDPpc\",\n",
    "    \"WB_Inflation\",\n",
    "    \"rr_per_country\",\n",
    "    \"rr_per_sector\",\n",
    "    \"sektor_consumer discretionary\",\n",
    "    \"sektor_consumer staples\",\n",
    "    \"sektor_energy\",\n",
    "    \"sektor_health care\",\n",
    "    \"sektor_industrials\",\n",
    "    \"sektor_materials\",\n",
    "    \"sektor_real estate\",\n",
    "    \"sektor_technology\",\n",
    "    \"sektor_utilities\",\n",
    "    \"gielda_2\",\n",
    "    \"gielda_3\",\n",
    "    \"gielda_4\",\n",
    "    \"gielda_5\",\n",
    "    \"etr_y_past\",\n",
    "    \"etr_y_ma\",\n",
    "    \"diff_ma\",\n",
    "    \"roa_ma\",\n",
    "    \"lev_ma\",\n",
    "    \"intan_ma\",\n",
    "    \"ppe_ma\",\n",
    "    \"sale_ma\",\n",
    "    \"cash_holdings_ma\",\n",
    "    \"roa_past\",\n",
    "    \"lev_past\",\n",
    "    \"intan_past\",\n",
    "    \"ppe_past\",\n",
    "    \"sale_past\",\n",
    "    \"cash_holdings_past\",\n",
    "]"
   ]
  },
  {
   "cell_type": "code",
   "execution_count": 140,
   "metadata": {
    "ExecuteTime": {
     "end_time": "2020-06-03T00:42:10.601394Z",
     "start_time": "2020-06-03T00:42:10.597410Z"
    }
   },
   "outputs": [],
   "source": [
    "benchmark2 = [\n",
    "    \"ta\",\n",
    "    \"txt\",\n",
    "    \"pi\",\n",
    "    \"str\",\n",
    "    \"xrd\",\n",
    "    \"ni\",\n",
    "    \"ppent\",\n",
    "    \"intant\",\n",
    "    \"dlc\",\n",
    "    \"dltt\",\n",
    "    \"capex\",\n",
    "    \"revenue\",\n",
    "    \"cce\",\n",
    "    \"adv\",\n",
    "    \"diff\",\n",
    "    \"roa\",\n",
    "    \"lev\",\n",
    "    \"intan\",\n",
    "    \"rd\",\n",
    "    \"ppe\",\n",
    "    \"sale\",\n",
    "    \"cash_holdings\",\n",
    "    \"adv_expenditure\",\n",
    "    \"capex2\",\n",
    "    \"cfc\",\n",
    "    \"dta\",\n",
    "    \"y_v2x_polyarchy\",\n",
    "    \"WB_GDPgrowth\",\n",
    "    \"WB_GDPpc\",\n",
    "    \"WB_Inflation\",\n",
    "    \"rr_per_country\",\n",
    "    \"rr_per_sector\",\n",
    "    \"etr_y_past\",\n",
    "    \"etr_y_ma\",\n",
    "    \"diff_ma\",\n",
    "    \"roa_ma\",\n",
    "    \"lev_ma\",\n",
    "    \"intan_ma\",\n",
    "    \"ppe_ma\",\n",
    "    \"sale_ma\",\n",
    "    \"cash_holdings_ma\",\n",
    "    \"roa_past\",\n",
    "    \"lev_past\",\n",
    "    \"intan_past\",\n",
    "    \"ppe_past\",\n",
    "    \"sale_past\",\n",
    "    \"cash_holdings_past\",\n",
    "]"
   ]
  },
  {
   "cell_type": "markdown",
   "metadata": {},
   "source": [
    "#### Forward elimination"
   ]
  },
  {
   "cell_type": "code",
   "execution_count": 141,
   "metadata": {
    "ExecuteTime": {
     "end_time": "2020-06-03T00:42:12.381729Z",
     "start_time": "2020-06-03T00:42:12.373739Z"
    }
   },
   "outputs": [],
   "source": [
    "forward_elimination = [\n",
    "    \"rok\",\n",
    "    \"ta\",\n",
    "    \"txt\",\n",
    "    \"pi\",\n",
    "    \"str\",\n",
    "    \"xrd\",\n",
    "    \"ni\",\n",
    "    \"ppent\",\n",
    "    \"intant\",\n",
    "    \"dlc\",\n",
    "    \"dltt\",\n",
    "    \"capex\",\n",
    "    \"revenue\",\n",
    "    \"cce\",\n",
    "    \"adv\",\n",
    "    \"diff\",\n",
    "    \"roa\",\n",
    "    \"lev\",\n",
    "    \"intan\",\n",
    "    \"rd\",\n",
    "    \"ppe\",\n",
    "    \"sale\",\n",
    "    \"cash_holdings\",\n",
    "    \"adv_expenditure\",\n",
    "    \"capex2\",\n",
    "    \"cfc\",\n",
    "    \"dta\",\n",
    "    \"capex2_scaled\",\n",
    "    \"y_v2x_polyarchy\",\n",
    "    \"y_e_p_polity\",\n",
    "    \"y_BR_Democracy\",\n",
    "    \"WB_GDPgrowth\",\n",
    "    \"WB_GDPpc\",\n",
    "    \"WB_Inflation\",\n",
    "    \"rr_per_country\",\n",
    "    \"rr_per_sector\",\n",
    "    \"sektor_consumer discretionary\",\n",
    "    \"sektor_consumer staples\",\n",
    "    \"sektor_energy\",\n",
    "    \"sektor_health care\",\n",
    "    \"sektor_industrials\",\n",
    "    \"sektor_materials\",\n",
    "    \"sektor_real estate\",\n",
    "    \"sektor_technology\",\n",
    "    \"sektor_utilities\",\n",
    "    \"gielda_2\",\n",
    "    \"gielda_3\",\n",
    "    \"gielda_4\",\n",
    "    \"gielda_5\",\n",
    "    \"ta_log\",\n",
    "    \"txt_cat_(-63.011, -34.811]\",\n",
    "    \"txt_cat_(-34.811, 0.488]\",\n",
    "    \"txt_cat_(0.488, 24.415]\",\n",
    "    \"txt_cat_(24.415, 25.05]\",\n",
    "    \"txt_cat_(25.05, 308.55]\",\n",
    "    \"txt_cat_(308.55, 327.531]\",\n",
    "    \"txt_cat_(327.531, inf]\",\n",
    "    \"pi_cat_(-8975.0, -1.523]\",\n",
    "    \"pi_cat_(-1.523, 157.119]\",\n",
    "    \"pi_cat_(157.119, 465.9]\",\n",
    "    \"pi_cat_(465.9, 7875.5]\",\n",
    "    \"pi_cat_(7875.5, 8108.5]\",\n",
    "    \"pi_cat_(8108.5, inf]\",\n",
    "    \"str_cat_(0.0875, 0.192]\",\n",
    "    \"str_cat_(0.192, 0.28]\",\n",
    "    \"str_cat_(0.28, inf]\",\n",
    "    \"xrd_exists\",\n",
    "    \"ni_profit\",\n",
    "    \"ni_profit_20000\",\n",
    "    \"ppent_sqrt\",\n",
    "    \"intant_sqrt\",\n",
    "    \"dlc_cat_(42.262, 176.129]\",\n",
    "    \"dlc_cat_(176.129, 200.9]\",\n",
    "    \"dlc_cat_(200.9, inf]\",\n",
    "    \"dltt_cat_(39.38, 327.85]\",\n",
    "    \"dltt_cat_(327.85, 876.617]\",\n",
    "    \"dltt_cat_(876.617, inf]\",\n",
    "    \"capex_cat_(7.447, 79.55]\",\n",
    "    \"capex_cat_(79.55, 5451.0]\",\n",
    "    \"capex_cat_(5451.0, inf]\",\n",
    "    \"revenue_cat_(0.174, 1248.817]\",\n",
    "    \"revenue_cat_(1248.817, 4233.587]\",\n",
    "    \"revenue_cat_(4233.587, inf]\",\n",
    "    \"cce_cat_(5.619, 63.321]\",\n",
    "    \"cce_cat_(63.321, inf]\",\n",
    "    \"adv_cat_(0.3, 874.5]\",\n",
    "    \"adv_cat_(874.5, inf]\",\n",
    "    \"diff_positive\",\n",
    "    \"roa_clip\",\n",
    "    \"lev_sqrt\",\n",
    "    \"intan_pow2\",\n",
    "    \"rd_sqrt\",\n",
    "    \"ppe_clip\",\n",
    "    \"cash_holdings_sqrt\",\n",
    "    \"adv_expenditure_positive\",\n",
    "    \"diff_dta\",\n",
    "    \"cfc_dta\",\n",
    "    \"etr_y_past\",\n",
    "    \"etr_y_ma\",\n",
    "    \"diff_ma\",\n",
    "    \"roa_ma\",\n",
    "    \"lev_ma\",\n",
    "    \"intan_ma\",\n",
    "    \"ppe_ma\",\n",
    "    \"sale_ma\",\n",
    "    \"cash_holdings_ma\",\n",
    "    \"roa_past\",\n",
    "    \"lev_past\",\n",
    "    \"intan_past\",\n",
    "    \"ppe_past\",\n",
    "    \"sale_past\",\n",
    "    \"cash_holdings_past\",\n",
    "]\n",
    "forward_elimination.remove(\"ta_log\")\n",
    "forward_elimination.remove(\"ppent_sqrt\")\n",
    "forward_elimination.remove(\"intant_sqrt\")\n",
    "forward_elimination.remove(\"roa\")\n",
    "forward_elimination.remove(\"lev\")\n",
    "forward_elimination.remove(\"intan\")\n",
    "forward_elimination.remove(\"rd_sqrt\")\n",
    "forward_elimination.remove(\"ppe\")\n",
    "forward_elimination.remove(\"cash_holdings_sqrt\")"
   ]
  },
  {
   "cell_type": "code",
   "execution_count": 142,
   "metadata": {
    "ExecuteTime": {
     "end_time": "2020-06-03T00:42:14.846486Z",
     "start_time": "2020-06-03T00:42:14.843487Z"
    }
   },
   "outputs": [],
   "source": [
    "candidates_withoud_discr = [i for i in forward_elimination if \"]\" not in i]"
   ]
  },
  {
   "cell_type": "code",
   "execution_count": 143,
   "metadata": {},
   "outputs": [
    {
     "data": {
      "text/plain": [
       "{'metric': 'minkowski', 'n_neighbors': 100, 'p': 1, 'weights': 'uniform'}"
      ]
     },
     "execution_count": 143,
     "metadata": {},
     "output_type": "execute_result"
    }
   ],
   "source": [
    "grid_CV.best_params_"
   ]
  },
  {
   "cell_type": "code",
   "execution_count": 144,
   "metadata": {
    "ExecuteTime": {
     "end_time": "2020-06-03T00:42:18.795031Z",
     "start_time": "2020-06-03T00:42:18.792046Z"
    }
   },
   "outputs": [
    {
     "data": {
      "text/plain": [
       "Index(['txt', 'xrd', 'ni', 'WB_GDPpc', 'ni_profit_20000', 'diff_dta',\n",
       "       'etr_y_past', 'etr_y_ma'],\n",
       "      dtype='object')"
      ]
     },
     "execution_count": 144,
     "metadata": {},
     "output_type": "execute_result"
    }
   ],
   "source": [
    "model = KNeighborsRegressor(**grid_CV.best_params_)\n",
    "\n",
    "sf = SFS(\n",
    "    model,\n",
    "    k_features=(5, 15),\n",
    "    forward=True,\n",
    "    floating=False,\n",
    "    verbose=0,\n",
    "    scoring=mse,\n",
    "    cv=5,\n",
    "    n_jobs=-1,\n",
    ")\n",
    "\n",
    "sffit = sf.fit(\n",
    "    df.loc[:, candidates_withoud_discr].values, df.loc[:, \"etr\"].values.ravel()\n",
    ")\n",
    "\n",
    "sf_features = df.loc[:, candidates_withoud_discr].columns[list(sffit.k_feature_idx_)]\n",
    "\n",
    "sf_features"
   ]
  },
  {
   "cell_type": "code",
   "execution_count": 145,
   "metadata": {
    "ExecuteTime": {
     "end_time": "2020-06-03T00:51:30.590963Z",
     "start_time": "2020-06-03T00:49:47.965041Z"
    }
   },
   "outputs": [
    {
     "data": {
      "text/plain": [
       "Index(['txt', 'xrd', 'WB_GDPpc', 'txt_cat_(-63.011, -34.811]',\n",
       "       'txt_cat_(24.415, 25.05]', 'txt_cat_(308.55, 327.531]',\n",
       "       'pi_cat_(8108.5, inf]', 'dlc_cat_(176.129, 200.9]',\n",
       "       'capex_cat_(5451.0, inf]', 'diff_dta', 'etr_y_past', 'etr_y_ma',\n",
       "       'diff_ma'],\n",
       "      dtype='object')"
      ]
     },
     "execution_count": 145,
     "metadata": {},
     "output_type": "execute_result"
    }
   ],
   "source": [
    "model = KNeighborsRegressor(**grid_CV.best_params_)\n",
    "\n",
    "sf = SFS(\n",
    "    model,\n",
    "    k_features=(5, 15),\n",
    "    forward=True,\n",
    "    floating=False,\n",
    "    verbose=0,\n",
    "    scoring=mse,\n",
    "    cv=5,\n",
    "    n_jobs=-1,\n",
    ")\n",
    "\n",
    "sffit = sf.fit(df.loc[:, forward_elimination].values, df.loc[:, \"etr\"].values.ravel())\n",
    "\n",
    "sf_features2 = df.loc[:, forward_elimination].columns[list(sffit.k_feature_idx_)]\n",
    "\n",
    "sf_features2"
   ]
  },
  {
   "cell_type": "code",
   "execution_count": 146,
   "metadata": {
    "ExecuteTime": {
     "end_time": "2020-06-03T00:51:30.597952Z",
     "start_time": "2020-06-03T00:51:30.592963Z"
    }
   },
   "outputs": [],
   "source": [
    "sf_one_more = [\n",
    "    \"rok\",\n",
    "    \"diff\",\n",
    "    \"roa\",\n",
    "    \"lev\",\n",
    "    \"intan\",\n",
    "    \"rd\",\n",
    "    \"ppe\",\n",
    "    \"sale\",\n",
    "    \"cash_holdings\",\n",
    "    \"adv_expenditure\",\n",
    "    \"capex2\",\n",
    "    \"cfc\",\n",
    "    \"dta\",\n",
    "]"
   ]
  },
  {
   "cell_type": "code",
   "execution_count": 147,
   "metadata": {
    "ExecuteTime": {
     "end_time": "2020-06-03T00:51:34.008433Z",
     "start_time": "2020-06-03T00:51:30.600950Z"
    }
   },
   "outputs": [
    {
     "data": {
      "text/plain": [
       "Index(['diff', 'adv_expenditure', 'capex2', 'cfc', 'dta'], dtype='object')"
      ]
     },
     "execution_count": 147,
     "metadata": {},
     "output_type": "execute_result"
    }
   ],
   "source": [
    "sf = SFS(\n",
    "    model,\n",
    "    k_features=(5, 10),\n",
    "    forward=True,\n",
    "    floating=False,\n",
    "    verbose=0,\n",
    "    scoring=mse,\n",
    "    cv=5,\n",
    "    n_jobs=-1,\n",
    ")\n",
    "\n",
    "sffit = sf.fit(df.loc[:, sf_one_more].values, df.loc[:, \"etr\"].values.ravel())\n",
    "\n",
    "sf_features3 = df.loc[:, sf_one_more].columns[list(sffit.k_feature_idx_)]\n",
    "\n",
    "sf_features3"
   ]
  },
  {
   "cell_type": "markdown",
   "metadata": {},
   "source": [
    "#### Relief"
   ]
  },
  {
   "cell_type": "code",
   "execution_count": 148,
   "metadata": {
    "ExecuteTime": {
     "end_time": "2020-06-03T00:51:34.019426Z",
     "start_time": "2020-06-03T00:51:34.010432Z"
    }
   },
   "outputs": [],
   "source": [
    "relief = [\n",
    "    \"rok\",\n",
    "    \"ta\",\n",
    "    \"txt\",\n",
    "    \"pi\",\n",
    "    \"str\",\n",
    "    \"xrd\",\n",
    "    \"ni\",\n",
    "    \"ppent\",\n",
    "    \"intant\",\n",
    "    \"dlc\",\n",
    "    \"dltt\",\n",
    "    \"capex\",\n",
    "    \"revenue\",\n",
    "    \"cce\",\n",
    "    \"adv\",\n",
    "    \"diff\",\n",
    "    \"rd\",\n",
    "    \"sale\",\n",
    "    \"cash_holdings\",\n",
    "    \"adv_expenditure\",\n",
    "    \"capex2\",\n",
    "    \"cfc\",\n",
    "    \"dta\",\n",
    "    \"capex2_scaled\",\n",
    "    \"y_v2x_polyarchy\",\n",
    "    \"y_e_p_polity\",\n",
    "    \"y_BR_Democracy\",\n",
    "    \"WB_GDPgrowth\",\n",
    "    \"WB_GDPpc\",\n",
    "    \"WB_Inflation\",\n",
    "    \"rr_per_country\",\n",
    "    \"rr_per_sector\",\n",
    "    \"sektor_consumer discretionary\",\n",
    "    \"sektor_consumer staples\",\n",
    "    \"sektor_energy\",\n",
    "    \"sektor_health care\",\n",
    "    \"sektor_industrials\",\n",
    "    \"sektor_materials\",\n",
    "    \"sektor_real estate\",\n",
    "    \"sektor_technology\",\n",
    "    \"sektor_utilities\",\n",
    "    \"gielda_2\",\n",
    "    \"gielda_3\",\n",
    "    \"gielda_4\",\n",
    "    \"gielda_5\",\n",
    "    \"txt_cat_(-63.011, -34.811]\",\n",
    "    \"txt_cat_(-34.811, 0.488]\",\n",
    "    \"txt_cat_(0.488, 24.415]\",\n",
    "    \"txt_cat_(24.415, 25.05]\",\n",
    "    \"txt_cat_(25.05, 308.55]\",\n",
    "    \"txt_cat_(308.55, 327.531]\",\n",
    "    \"txt_cat_(327.531, inf]\",\n",
    "    \"pi_cat_(-8975.0, -1.523]\",\n",
    "    \"pi_cat_(-1.523, 157.119]\",\n",
    "    \"pi_cat_(157.119, 465.9]\",\n",
    "    \"pi_cat_(465.9, 7875.5]\",\n",
    "    \"pi_cat_(7875.5, 8108.5]\",\n",
    "    \"pi_cat_(8108.5, inf]\",\n",
    "    \"str_cat_(0.0875, 0.192]\",\n",
    "    \"str_cat_(0.192, 0.28]\",\n",
    "    \"str_cat_(0.28, inf]\",\n",
    "    \"xrd_exists\",\n",
    "    \"ni_profit\",\n",
    "    \"ni_profit_20000\",\n",
    "    \"dlc_cat_(42.262, 176.129]\",\n",
    "    \"dlc_cat_(176.129, 200.9]\",\n",
    "    \"dlc_cat_(200.9, inf]\",\n",
    "    \"dltt_cat_(39.38, 327.85]\",\n",
    "    \"dltt_cat_(327.85, 876.617]\",\n",
    "    \"dltt_cat_(876.617, inf]\",\n",
    "    \"capex_cat_(7.447, 79.55]\",\n",
    "    \"capex_cat_(79.55, 5451.0]\",\n",
    "    \"capex_cat_(5451.0, inf]\",\n",
    "    \"revenue_cat_(0.174, 1248.817]\",\n",
    "    \"revenue_cat_(1248.817, 4233.587]\",\n",
    "    \"revenue_cat_(4233.587, inf]\",\n",
    "    \"cce_cat_(5.619, 63.321]\",\n",
    "    \"cce_cat_(63.321, inf]\",\n",
    "    \"adv_cat_(0.3, 874.5]\",\n",
    "    \"adv_cat_(874.5, inf]\",\n",
    "    \"diff_positive\",\n",
    "    \"roa_clip\",\n",
    "    \"lev_sqrt\",\n",
    "    \"intan_pow2\",\n",
    "    \"ppe_clip\",\n",
    "    \"adv_expenditure_positive\",\n",
    "    \"diff_dta\",\n",
    "    \"cfc_dta\",\n",
    "    \"etr_y_past\",\n",
    "    \"etr_y_ma\",\n",
    "    \"diff_ma\",\n",
    "    \"roa_ma\",\n",
    "    \"lev_ma\",\n",
    "    \"intan_ma\",\n",
    "    \"ppe_ma\",\n",
    "    \"sale_ma\",\n",
    "    \"cash_holdings_ma\",\n",
    "    \"roa_past\",\n",
    "    \"lev_past\",\n",
    "    \"intan_past\",\n",
    "    \"ppe_past\",\n",
    "    \"sale_past\",\n",
    "    \"cash_holdings_past\",\n",
    "]"
   ]
  },
  {
   "cell_type": "code",
   "execution_count": 149,
   "metadata": {
    "ExecuteTime": {
     "end_time": "2020-06-03T00:51:34.028423Z",
     "start_time": "2020-06-03T00:51:34.022424Z"
    }
   },
   "outputs": [],
   "source": [
    "fs = ReliefF(n_neighbors=30, n_features_to_keep=5)"
   ]
  },
  {
   "cell_type": "code",
   "execution_count": 150,
   "metadata": {
    "ExecuteTime": {
     "end_time": "2020-06-03T00:51:37.164367Z",
     "start_time": "2020-06-03T00:51:34.031913Z"
    }
   },
   "outputs": [],
   "source": [
    "fs.fit(df.loc[:, relief].values, df.loc[:, \"etr\"].values.ravel())"
   ]
  },
  {
   "cell_type": "code",
   "execution_count": 151,
   "metadata": {
    "ExecuteTime": {
     "end_time": "2020-06-03T00:51:37.174422Z",
     "start_time": "2020-06-03T00:51:37.164367Z"
    }
   },
   "outputs": [],
   "source": [
    "relief1 = df.loc[:, relief].iloc[:, fs.top_features[0:10]].columns.tolist()"
   ]
  },
  {
   "cell_type": "code",
   "execution_count": 152,
   "metadata": {
    "ExecuteTime": {
     "end_time": "2020-06-03T00:51:37.187401Z",
     "start_time": "2020-06-03T00:51:37.178405Z"
    }
   },
   "outputs": [],
   "source": [
    "relief2 = df.loc[:, relief].iloc[:, fs.top_features[0:15]].columns.tolist()"
   ]
  },
  {
   "cell_type": "code",
   "execution_count": 153,
   "metadata": {
    "ExecuteTime": {
     "end_time": "2020-06-03T00:51:37.202121Z",
     "start_time": "2020-06-03T00:51:37.187650Z"
    }
   },
   "outputs": [],
   "source": [
    "relief3 = df.loc[:, relief].iloc[:, fs.top_features[0:20]].columns.tolist()"
   ]
  },
  {
   "cell_type": "markdown",
   "metadata": {},
   "source": [
    "### Hyperparametes Tunning for each group of variables"
   ]
  },
  {
   "cell_type": "code",
   "execution_count": 154,
   "metadata": {
    "ExecuteTime": {
     "end_time": "2020-06-03T00:51:37.210131Z",
     "start_time": "2020-06-03T00:51:37.206117Z"
    }
   },
   "outputs": [],
   "source": [
    "param = {\n",
    "    \"n_neighbors\": [5, 7, 10, 12, 15, 25, 40, 50],\n",
    "    \"weights\": [\"uniform\", \"distance\"],\n",
    "    \"metric\": [\"minkowski\", \"manhattan\", \"chebyshev\"],\n",
    "    \"p\": [1, 2],\n",
    "}\n",
    "mse = make_scorer(mean_squared_error, greater_is_better=True)"
   ]
  },
  {
   "cell_type": "code",
   "execution_count": 155,
   "metadata": {
    "ExecuteTime": {
     "end_time": "2020-06-03T00:51:37.218126Z",
     "start_time": "2020-06-03T00:51:37.212115Z"
    }
   },
   "outputs": [],
   "source": [
    "def cv_proc(var):\n",
    "    model = KNeighborsRegressor()\n",
    "    grid_CV = GridSearchCV(\n",
    "        model, param, cv=5, scoring=mse, return_train_score=True, n_jobs=-1\n",
    "    )\n",
    "    grid_CV.fit(df.loc[:, var].values, df.loc[:, \"etr\"].values.ravel())\n",
    "    print(grid_CV.best_params_)\n",
    "    print(grid_CV.best_score_)"
   ]
  },
  {
   "cell_type": "code",
   "execution_count": 156,
   "metadata": {
    "ExecuteTime": {
     "end_time": "2020-06-03T00:54:10.722090Z",
     "start_time": "2020-06-03T00:51:37.221108Z"
    }
   },
   "outputs": [
    {
     "name": "stdout",
     "output_type": "stream",
     "text": [
      "{'metric': 'chebyshev', 'n_neighbors': 5, 'p': 1, 'weights': 'uniform'}\n",
      "0.025545937441672474\n"
     ]
    }
   ],
   "source": [
    "cv_proc(benchmark)"
   ]
  },
  {
   "cell_type": "code",
   "execution_count": 157,
   "metadata": {
    "ExecuteTime": {
     "end_time": "2020-06-03T00:55:52.165113Z",
     "start_time": "2020-06-03T00:54:10.723089Z"
    }
   },
   "outputs": [
    {
     "name": "stdout",
     "output_type": "stream",
     "text": [
      "{'metric': 'minkowski', 'n_neighbors': 5, 'p': 1, 'weights': 'uniform'}\n",
      "0.023609733866691088\n"
     ]
    }
   ],
   "source": [
    "cv_proc(benchmark2)"
   ]
  },
  {
   "cell_type": "code",
   "execution_count": 158,
   "metadata": {
    "ExecuteTime": {
     "end_time": "2020-06-03T00:56:28.583031Z",
     "start_time": "2020-06-03T00:55:52.167103Z"
    }
   },
   "outputs": [
    {
     "name": "stdout",
     "output_type": "stream",
     "text": [
      "{'metric': 'chebyshev', 'n_neighbors': 5, 'p': 1, 'weights': 'distance'}\n",
      "0.02370053011707496\n"
     ]
    }
   ],
   "source": [
    "cv_proc(mi_features_25)"
   ]
  },
  {
   "cell_type": "code",
   "execution_count": 159,
   "metadata": {
    "ExecuteTime": {
     "end_time": "2020-06-03T00:57:33.457229Z",
     "start_time": "2020-06-03T00:56:28.584029Z"
    }
   },
   "outputs": [
    {
     "name": "stdout",
     "output_type": "stream",
     "text": [
      "{'metric': 'minkowski', 'n_neighbors': 5, 'p': 1, 'weights': 'distance'}\n",
      "0.0240364305155829\n"
     ]
    }
   ],
   "source": [
    "cv_proc(mi_features_35)"
   ]
  },
  {
   "cell_type": "code",
   "execution_count": 160,
   "metadata": {
    "ExecuteTime": {
     "end_time": "2020-06-03T00:59:14.209832Z",
     "start_time": "2020-06-03T00:57:33.459230Z"
    }
   },
   "outputs": [
    {
     "name": "stdout",
     "output_type": "stream",
     "text": [
      "{'metric': 'chebyshev', 'n_neighbors': 5, 'p': 1, 'weights': 'distance'}\n",
      "0.02384039090887278\n"
     ]
    }
   ],
   "source": [
    "cv_proc(mi_features_50)"
   ]
  },
  {
   "cell_type": "code",
   "execution_count": 161,
   "metadata": {
    "ExecuteTime": {
     "end_time": "2020-06-03T00:59:26.999388Z",
     "start_time": "2020-06-03T00:59:14.211844Z"
    }
   },
   "outputs": [
    {
     "name": "stdout",
     "output_type": "stream",
     "text": [
      "{'metric': 'minkowski', 'n_neighbors': 5, 'p': 2, 'weights': 'distance'}\n",
      "0.022355358767371106\n"
     ]
    }
   ],
   "source": [
    "cv_proc(br_features)"
   ]
  },
  {
   "cell_type": "code",
   "execution_count": 162,
   "metadata": {
    "ExecuteTime": {
     "end_time": "2020-06-03T00:59:56.853183Z",
     "start_time": "2020-06-03T00:59:27.001390Z"
    }
   },
   "outputs": [
    {
     "name": "stdout",
     "output_type": "stream",
     "text": [
      "{'metric': 'chebyshev', 'n_neighbors': 5, 'p': 1, 'weights': 'distance'}\n",
      "0.02346780295141025\n"
     ]
    }
   ],
   "source": [
    "cv_proc(mi_features)"
   ]
  },
  {
   "cell_type": "code",
   "execution_count": 163,
   "metadata": {
    "ExecuteTime": {
     "end_time": "2020-06-03T01:00:26.052800Z",
     "start_time": "2020-06-03T00:59:56.855181Z"
    }
   },
   "outputs": [
    {
     "name": "stdout",
     "output_type": "stream",
     "text": [
      "{'metric': 'chebyshev', 'n_neighbors': 5, 'p': 1, 'weights': 'distance'}\n",
      "0.0239902552027932\n"
     ]
    }
   ],
   "source": [
    "cv_proc(corr_features)"
   ]
  },
  {
   "cell_type": "code",
   "execution_count": 164,
   "metadata": {
    "ExecuteTime": {
     "end_time": "2020-06-03T01:00:44.038181Z",
     "start_time": "2020-06-03T01:00:26.054802Z"
    }
   },
   "outputs": [
    {
     "name": "stdout",
     "output_type": "stream",
     "text": [
      "{'metric': 'chebyshev', 'n_neighbors': 5, 'p': 1, 'weights': 'distance'}\n",
      "0.02199529688408505\n"
     ]
    }
   ],
   "source": [
    "cv_proc(sf_features)"
   ]
  },
  {
   "cell_type": "code",
   "execution_count": 165,
   "metadata": {
    "ExecuteTime": {
     "end_time": "2020-06-03T01:01:15.317929Z",
     "start_time": "2020-06-03T01:00:44.040181Z"
    }
   },
   "outputs": [
    {
     "name": "stdout",
     "output_type": "stream",
     "text": [
      "{'metric': 'chebyshev', 'n_neighbors': 5, 'p': 1, 'weights': 'distance'}\n",
      "0.02215778567896813\n"
     ]
    }
   ],
   "source": [
    "cv_proc(sf_features2)"
   ]
  },
  {
   "cell_type": "code",
   "execution_count": 166,
   "metadata": {
    "ExecuteTime": {
     "end_time": "2020-06-03T01:01:24.266811Z",
     "start_time": "2020-06-03T01:01:15.318943Z"
    }
   },
   "outputs": [
    {
     "name": "stdout",
     "output_type": "stream",
     "text": [
      "{'metric': 'chebyshev', 'n_neighbors': 5, 'p': 1, 'weights': 'distance'}\n",
      "0.026571826392578657\n"
     ]
    }
   ],
   "source": [
    "cv_proc(sf_features3)"
   ]
  },
  {
   "cell_type": "code",
   "execution_count": 167,
   "metadata": {
    "ExecuteTime": {
     "end_time": "2020-06-03T01:01:38.794452Z",
     "start_time": "2020-06-03T01:01:24.267871Z"
    }
   },
   "outputs": [
    {
     "name": "stdout",
     "output_type": "stream",
     "text": [
      "{'metric': 'chebyshev', 'n_neighbors': 5, 'p': 1, 'weights': 'distance'}\n",
      "0.02814496766754556\n"
     ]
    }
   ],
   "source": [
    "cv_proc(relief1)"
   ]
  },
  {
   "cell_type": "code",
   "execution_count": 168,
   "metadata": {
    "ExecuteTime": {
     "end_time": "2020-06-03T01:02:05.115848Z",
     "start_time": "2020-06-03T01:01:38.796356Z"
    }
   },
   "outputs": [
    {
     "name": "stdout",
     "output_type": "stream",
     "text": [
      "{'metric': 'chebyshev', 'n_neighbors': 5, 'p': 1, 'weights': 'distance'}\n",
      "0.027816012510930698\n"
     ]
    }
   ],
   "source": [
    "cv_proc(relief2)"
   ]
  },
  {
   "cell_type": "code",
   "execution_count": 169,
   "metadata": {
    "ExecuteTime": {
     "end_time": "2020-06-03T01:02:43.770081Z",
     "start_time": "2020-06-03T01:02:05.117849Z"
    }
   },
   "outputs": [
    {
     "name": "stdout",
     "output_type": "stream",
     "text": [
      "{'metric': 'chebyshev', 'n_neighbors': 5, 'p': 1, 'weights': 'distance'}\n",
      "0.02848616264277109\n"
     ]
    }
   ],
   "source": [
    "cv_proc(relief3)"
   ]
  },
  {
   "cell_type": "markdown",
   "metadata": {},
   "source": [
    "### Final models comparison - winner obtaining"
   ]
  },
  {
   "cell_type": "markdown",
   "metadata": {},
   "source": [
    "We would like to fight against data leakage in our CV, so we will treat it like a panel problem with a rolling window. We now based on our experience that this kind of approach is crucial to fight against overfitting.\n",
    "\n",
    "Sliding window:\n",
    " * T: 2005 - 2008; V: 2009\n",
    " * T: 2005 - 2009; V: 2010\n",
    " * T: 2005 - 2010; V: 2011\n",
    " * ..."
   ]
  },
  {
   "cell_type": "code",
   "execution_count": 170,
   "metadata": {
    "ExecuteTime": {
     "end_time": "2020-06-03T01:02:43.785020Z",
     "start_time": "2020-06-03T01:02:43.772094Z"
    }
   },
   "outputs": [],
   "source": [
    "df = df.sort_values(by=\"rok\").reset_index(drop=True)"
   ]
  },
  {
   "cell_type": "code",
   "execution_count": 171,
   "metadata": {
    "ExecuteTime": {
     "end_time": "2020-06-03T01:02:43.799002Z",
     "start_time": "2020-06-03T01:02:43.786019Z"
    }
   },
   "outputs": [],
   "source": [
    "def proper_CV(x, y, model, display_res=False):\n",
    "    train_score = list()\n",
    "    valid_score = list()\n",
    "    train_indexes = [0, 1452]\n",
    "    valid_indexes = [1452, 1815]\n",
    "    for i in range(0, 6):\n",
    "        train_x = x[x.index.isin(range(train_indexes[0], train_indexes[1]))]\n",
    "        train_y = y[y.index.isin(range(train_indexes[0], train_indexes[1]))]\n",
    "        valid_x = x[x.index.isin(range(valid_indexes[0], valid_indexes[1]))]\n",
    "        valid_y = y[y.index.isin(range(valid_indexes[0], valid_indexes[1]))]\n",
    "\n",
    "        model.fit(train_x.values, train_y.values.ravel())\n",
    "\n",
    "        pred_y_train = model.predict(train_x.values)\n",
    "        rmse = np.sqrt(mean_squared_error(train_y, pred_y_train))\n",
    "        train_score.append(rmse)\n",
    "\n",
    "        pred_y_val = model.predict(valid_x.values)\n",
    "        rmse = np.sqrt(mean_squared_error(valid_y, pred_y_val))\n",
    "        valid_score.append(rmse)\n",
    "\n",
    "        train_indexes = [0, valid_indexes[1]]\n",
    "        valid_indexes = [train_indexes[1], valid_indexes[1] + 363]\n",
    "\n",
    "    if display_res == True:\n",
    "        view = pd.DataFrame([train_score, valid_score]).T.rename(\n",
    "            columns={0: \"cv_train\", 1: \"cv_val\"}\n",
    "        )\n",
    "        display(view)\n",
    "        return train_score, valid_score, view\n",
    "    else:\n",
    "        return train_score, valid_score"
   ]
  },
  {
   "cell_type": "code",
   "execution_count": 172,
   "metadata": {},
   "outputs": [],
   "source": [
    "hp = [\n",
    "    {\"metric\": \"chebyshev\", \"n_neighbors\": 5, \"p\": 1, \"weights\": \"uniform\"},\n",
    "    {\"metric\": \"minkowski\", \"n_neighbors\": 5, \"p\": 1, \"weights\": \"uniform\"},\n",
    "    {\"metric\": \"chebyshev\", \"n_neighbors\": 5, \"p\": 1, \"weights\": \"distance\"},\n",
    "    {\"metric\": \"minkowski\", \"n_neighbors\": 5, \"p\": 1, \"weights\": \"distance\"},\n",
    "    {\"metric\": \"chebyshev\", \"n_neighbors\": 5, \"p\": 1, \"weights\": \"distance\"},\n",
    "    {\"metric\": \"minkowski\", \"n_neighbors\": 5, \"p\": 2, \"weights\": \"distance\"},\n",
    "    {\"metric\": \"chebyshev\", \"n_neighbors\": 5, \"p\": 1, \"weights\": \"distance\"},\n",
    "    {\"metric\": \"chebyshev\", \"n_neighbors\": 5, \"p\": 1, \"weights\": \"distance\"},\n",
    "    {\"metric\": \"chebyshev\", \"n_neighbors\": 5, \"p\": 1, \"weights\": \"distance\"},\n",
    "    {\"metric\": \"chebyshev\", \"n_neighbors\": 5, \"p\": 1, \"weights\": \"distance\"},\n",
    "    {\"metric\": \"chebyshev\", \"n_neighbors\": 5, \"p\": 1, \"weights\": \"distance\"},\n",
    "    {\"metric\": \"chebyshev\", \"n_neighbors\": 5, \"p\": 1, \"weights\": \"distance\"},\n",
    "    {\"metric\": \"chebyshev\", \"n_neighbors\": 5, \"p\": 1, \"weights\": \"distance\"},\n",
    "    {\"metric\": \"chebyshev\", \"n_neighbors\": 5, \"p\": 1, \"weights\": \"distance\"},\n",
    "]"
   ]
  },
  {
   "cell_type": "code",
   "execution_count": 174,
   "metadata": {
    "ExecuteTime": {
     "end_time": "2020-06-03T01:05:51.565094Z",
     "start_time": "2020-06-03T01:05:49.038624Z"
    }
   },
   "outputs": [
    {
     "data": {
      "text/html": [
       "<div>\n",
       "<style scoped>\n",
       "    .dataframe tbody tr th:only-of-type {\n",
       "        vertical-align: middle;\n",
       "    }\n",
       "\n",
       "    .dataframe tbody tr th {\n",
       "        vertical-align: top;\n",
       "    }\n",
       "\n",
       "    .dataframe thead th {\n",
       "        text-align: right;\n",
       "    }\n",
       "</style>\n",
       "<table border=\"1\" class=\"dataframe\">\n",
       "  <thead>\n",
       "    <tr style=\"text-align: right;\">\n",
       "      <th></th>\n",
       "      <th>cv_train</th>\n",
       "      <th>cv_val</th>\n",
       "    </tr>\n",
       "  </thead>\n",
       "  <tbody>\n",
       "    <tr>\n",
       "      <th>0</th>\n",
       "      <td>0.125798</td>\n",
       "      <td>0.152150</td>\n",
       "    </tr>\n",
       "    <tr>\n",
       "      <th>1</th>\n",
       "      <td>0.123955</td>\n",
       "      <td>0.145769</td>\n",
       "    </tr>\n",
       "    <tr>\n",
       "      <th>2</th>\n",
       "      <td>0.124362</td>\n",
       "      <td>0.156652</td>\n",
       "    </tr>\n",
       "    <tr>\n",
       "      <th>3</th>\n",
       "      <td>0.125836</td>\n",
       "      <td>0.151432</td>\n",
       "    </tr>\n",
       "    <tr>\n",
       "      <th>4</th>\n",
       "      <td>0.124683</td>\n",
       "      <td>0.135134</td>\n",
       "    </tr>\n",
       "    <tr>\n",
       "      <th>5</th>\n",
       "      <td>0.122922</td>\n",
       "      <td>0.144350</td>\n",
       "    </tr>\n",
       "  </tbody>\n",
       "</table>\n",
       "</div>"
      ],
      "text/plain": [
       "   cv_train    cv_val\n",
       "0  0.125798  0.152150\n",
       "1  0.123955  0.145769\n",
       "2  0.124362  0.156652\n",
       "3  0.125836  0.151432\n",
       "4  0.124683  0.135134\n",
       "5  0.122922  0.144350"
      ]
     },
     "metadata": {},
     "output_type": "display_data"
    }
   ],
   "source": [
    "model = KNeighborsRegressor(**hp[0])\n",
    "var = benchmark\n",
    "cv_output0 = proper_CV(df.loc[:, var], df.loc[:, \"etr\"], model, display_res=True)"
   ]
  },
  {
   "cell_type": "code",
   "execution_count": 175,
   "metadata": {
    "ExecuteTime": {
     "end_time": "2020-06-03T01:05:53.559243Z",
     "start_time": "2020-06-03T01:05:51.567079Z"
    }
   },
   "outputs": [
    {
     "data": {
      "text/html": [
       "<div>\n",
       "<style scoped>\n",
       "    .dataframe tbody tr th:only-of-type {\n",
       "        vertical-align: middle;\n",
       "    }\n",
       "\n",
       "    .dataframe tbody tr th {\n",
       "        vertical-align: top;\n",
       "    }\n",
       "\n",
       "    .dataframe thead th {\n",
       "        text-align: right;\n",
       "    }\n",
       "</style>\n",
       "<table border=\"1\" class=\"dataframe\">\n",
       "  <thead>\n",
       "    <tr style=\"text-align: right;\">\n",
       "      <th></th>\n",
       "      <th>cv_train</th>\n",
       "      <th>cv_val</th>\n",
       "    </tr>\n",
       "  </thead>\n",
       "  <tbody>\n",
       "    <tr>\n",
       "      <th>0</th>\n",
       "      <td>0.118046</td>\n",
       "      <td>0.139376</td>\n",
       "    </tr>\n",
       "    <tr>\n",
       "      <th>1</th>\n",
       "      <td>0.118018</td>\n",
       "      <td>0.142649</td>\n",
       "    </tr>\n",
       "    <tr>\n",
       "      <th>2</th>\n",
       "      <td>0.116764</td>\n",
       "      <td>0.156278</td>\n",
       "    </tr>\n",
       "    <tr>\n",
       "      <th>3</th>\n",
       "      <td>0.118558</td>\n",
       "      <td>0.154163</td>\n",
       "    </tr>\n",
       "    <tr>\n",
       "      <th>4</th>\n",
       "      <td>0.118302</td>\n",
       "      <td>0.135649</td>\n",
       "    </tr>\n",
       "    <tr>\n",
       "      <th>5</th>\n",
       "      <td>0.116839</td>\n",
       "      <td>0.138028</td>\n",
       "    </tr>\n",
       "  </tbody>\n",
       "</table>\n",
       "</div>"
      ],
      "text/plain": [
       "   cv_train    cv_val\n",
       "0  0.118046  0.139376\n",
       "1  0.118018  0.142649\n",
       "2  0.116764  0.156278\n",
       "3  0.118558  0.154163\n",
       "4  0.118302  0.135649\n",
       "5  0.116839  0.138028"
      ]
     },
     "metadata": {},
     "output_type": "display_data"
    }
   ],
   "source": [
    "model = KNeighborsRegressor(**hp[1])\n",
    "\n",
    "var = benchmark2\n",
    "cv_output1 = proper_CV(df.loc[:, var], df.loc[:, \"etr\"], model, display_res=True)"
   ]
  },
  {
   "cell_type": "code",
   "execution_count": 190,
   "metadata": {
    "ExecuteTime": {
     "end_time": "2020-06-03T01:05:53.843263Z",
     "start_time": "2020-06-03T01:05:53.561341Z"
    }
   },
   "outputs": [
    {
     "data": {
      "text/html": [
       "<div>\n",
       "<style scoped>\n",
       "    .dataframe tbody tr th:only-of-type {\n",
       "        vertical-align: middle;\n",
       "    }\n",
       "\n",
       "    .dataframe tbody tr th {\n",
       "        vertical-align: top;\n",
       "    }\n",
       "\n",
       "    .dataframe thead th {\n",
       "        text-align: right;\n",
       "    }\n",
       "</style>\n",
       "<table border=\"1\" class=\"dataframe\">\n",
       "  <thead>\n",
       "    <tr style=\"text-align: right;\">\n",
       "      <th></th>\n",
       "      <th>cv_train</th>\n",
       "      <th>cv_val</th>\n",
       "    </tr>\n",
       "  </thead>\n",
       "  <tbody>\n",
       "    <tr>\n",
       "      <th>0</th>\n",
       "      <td>0.0</td>\n",
       "      <td>0.153015</td>\n",
       "    </tr>\n",
       "    <tr>\n",
       "      <th>1</th>\n",
       "      <td>0.0</td>\n",
       "      <td>0.135555</td>\n",
       "    </tr>\n",
       "    <tr>\n",
       "      <th>2</th>\n",
       "      <td>0.0</td>\n",
       "      <td>0.168149</td>\n",
       "    </tr>\n",
       "    <tr>\n",
       "      <th>3</th>\n",
       "      <td>0.0</td>\n",
       "      <td>0.155667</td>\n",
       "    </tr>\n",
       "    <tr>\n",
       "      <th>4</th>\n",
       "      <td>0.0</td>\n",
       "      <td>0.140242</td>\n",
       "    </tr>\n",
       "    <tr>\n",
       "      <th>5</th>\n",
       "      <td>0.0</td>\n",
       "      <td>0.150254</td>\n",
       "    </tr>\n",
       "  </tbody>\n",
       "</table>\n",
       "</div>"
      ],
      "text/plain": [
       "   cv_train    cv_val\n",
       "0       0.0  0.153015\n",
       "1       0.0  0.135555\n",
       "2       0.0  0.168149\n",
       "3       0.0  0.155667\n",
       "4       0.0  0.140242\n",
       "5       0.0  0.150254"
      ]
     },
     "metadata": {},
     "output_type": "display_data"
    }
   ],
   "source": [
    "model = KNeighborsRegressor(**hp[2])\n",
    "var = br_features\n",
    "cv_output2 = proper_CV(df.loc[:, var], df.loc[:, \"etr\"], model, display_res=True)"
   ]
  },
  {
   "cell_type": "code",
   "execution_count": 177,
   "metadata": {
    "ExecuteTime": {
     "end_time": "2020-06-03T01:05:54.392836Z",
     "start_time": "2020-06-03T01:05:53.845244Z"
    }
   },
   "outputs": [
    {
     "data": {
      "text/html": [
       "<div>\n",
       "<style scoped>\n",
       "    .dataframe tbody tr th:only-of-type {\n",
       "        vertical-align: middle;\n",
       "    }\n",
       "\n",
       "    .dataframe tbody tr th {\n",
       "        vertical-align: top;\n",
       "    }\n",
       "\n",
       "    .dataframe thead th {\n",
       "        text-align: right;\n",
       "    }\n",
       "</style>\n",
       "<table border=\"1\" class=\"dataframe\">\n",
       "  <thead>\n",
       "    <tr style=\"text-align: right;\">\n",
       "      <th></th>\n",
       "      <th>cv_train</th>\n",
       "      <th>cv_val</th>\n",
       "    </tr>\n",
       "  </thead>\n",
       "  <tbody>\n",
       "    <tr>\n",
       "      <th>0</th>\n",
       "      <td>0.028174</td>\n",
       "      <td>0.149097</td>\n",
       "    </tr>\n",
       "    <tr>\n",
       "      <th>1</th>\n",
       "      <td>0.030226</td>\n",
       "      <td>0.145741</td>\n",
       "    </tr>\n",
       "    <tr>\n",
       "      <th>2</th>\n",
       "      <td>0.034400</td>\n",
       "      <td>0.161851</td>\n",
       "    </tr>\n",
       "    <tr>\n",
       "      <th>3</th>\n",
       "      <td>0.033165</td>\n",
       "      <td>0.157378</td>\n",
       "    </tr>\n",
       "    <tr>\n",
       "      <th>4</th>\n",
       "      <td>0.031101</td>\n",
       "      <td>0.129559</td>\n",
       "    </tr>\n",
       "    <tr>\n",
       "      <th>5</th>\n",
       "      <td>0.030100</td>\n",
       "      <td>0.139105</td>\n",
       "    </tr>\n",
       "  </tbody>\n",
       "</table>\n",
       "</div>"
      ],
      "text/plain": [
       "   cv_train    cv_val\n",
       "0  0.028174  0.149097\n",
       "1  0.030226  0.145741\n",
       "2  0.034400  0.161851\n",
       "3  0.033165  0.157378\n",
       "4  0.031101  0.129559\n",
       "5  0.030100  0.139105"
      ]
     },
     "metadata": {},
     "output_type": "display_data"
    }
   ],
   "source": [
    "model = KNeighborsRegressor(**hp[3])\n",
    "var = mi_features\n",
    "cv_output3 = proper_CV(df.loc[:, var], df.loc[:, \"etr\"], model, display_res=True)"
   ]
  },
  {
   "cell_type": "code",
   "execution_count": 178,
   "metadata": {
    "ExecuteTime": {
     "end_time": "2020-06-03T01:05:55.154518Z",
     "start_time": "2020-06-03T01:05:54.393834Z"
    }
   },
   "outputs": [
    {
     "data": {
      "text/html": [
       "<div>\n",
       "<style scoped>\n",
       "    .dataframe tbody tr th:only-of-type {\n",
       "        vertical-align: middle;\n",
       "    }\n",
       "\n",
       "    .dataframe tbody tr th {\n",
       "        vertical-align: top;\n",
       "    }\n",
       "\n",
       "    .dataframe thead th {\n",
       "        text-align: right;\n",
       "    }\n",
       "</style>\n",
       "<table border=\"1\" class=\"dataframe\">\n",
       "  <thead>\n",
       "    <tr style=\"text-align: right;\">\n",
       "      <th></th>\n",
       "      <th>cv_train</th>\n",
       "      <th>cv_val</th>\n",
       "    </tr>\n",
       "  </thead>\n",
       "  <tbody>\n",
       "    <tr>\n",
       "      <th>0</th>\n",
       "      <td>0.0</td>\n",
       "      <td>0.158349</td>\n",
       "    </tr>\n",
       "    <tr>\n",
       "      <th>1</th>\n",
       "      <td>0.0</td>\n",
       "      <td>0.137706</td>\n",
       "    </tr>\n",
       "    <tr>\n",
       "      <th>2</th>\n",
       "      <td>0.0</td>\n",
       "      <td>0.157571</td>\n",
       "    </tr>\n",
       "    <tr>\n",
       "      <th>3</th>\n",
       "      <td>0.0</td>\n",
       "      <td>0.152803</td>\n",
       "    </tr>\n",
       "    <tr>\n",
       "      <th>4</th>\n",
       "      <td>0.0</td>\n",
       "      <td>0.137995</td>\n",
       "    </tr>\n",
       "    <tr>\n",
       "      <th>5</th>\n",
       "      <td>0.0</td>\n",
       "      <td>0.146224</td>\n",
       "    </tr>\n",
       "  </tbody>\n",
       "</table>\n",
       "</div>"
      ],
      "text/plain": [
       "   cv_train    cv_val\n",
       "0       0.0  0.158349\n",
       "1       0.0  0.137706\n",
       "2       0.0  0.157571\n",
       "3       0.0  0.152803\n",
       "4       0.0  0.137995\n",
       "5       0.0  0.146224"
      ]
     },
     "metadata": {},
     "output_type": "display_data"
    }
   ],
   "source": [
    "model = KNeighborsRegressor(**hp[4])\n",
    "var = corr_features\n",
    "cv_output4 = proper_CV(df.loc[:, var], df.loc[:, \"etr\"], model, display_res=True)"
   ]
  },
  {
   "cell_type": "code",
   "execution_count": 179,
   "metadata": {
    "ExecuteTime": {
     "end_time": "2020-06-03T01:05:55.582289Z",
     "start_time": "2020-06-03T01:05:55.155517Z"
    }
   },
   "outputs": [
    {
     "data": {
      "text/html": [
       "<div>\n",
       "<style scoped>\n",
       "    .dataframe tbody tr th:only-of-type {\n",
       "        vertical-align: middle;\n",
       "    }\n",
       "\n",
       "    .dataframe tbody tr th {\n",
       "        vertical-align: top;\n",
       "    }\n",
       "\n",
       "    .dataframe thead th {\n",
       "        text-align: right;\n",
       "    }\n",
       "</style>\n",
       "<table border=\"1\" class=\"dataframe\">\n",
       "  <thead>\n",
       "    <tr style=\"text-align: right;\">\n",
       "      <th></th>\n",
       "      <th>cv_train</th>\n",
       "      <th>cv_val</th>\n",
       "    </tr>\n",
       "  </thead>\n",
       "  <tbody>\n",
       "    <tr>\n",
       "      <th>0</th>\n",
       "      <td>0.0</td>\n",
       "      <td>0.154890</td>\n",
       "    </tr>\n",
       "    <tr>\n",
       "      <th>1</th>\n",
       "      <td>0.0</td>\n",
       "      <td>0.136028</td>\n",
       "    </tr>\n",
       "    <tr>\n",
       "      <th>2</th>\n",
       "      <td>0.0</td>\n",
       "      <td>0.172723</td>\n",
       "    </tr>\n",
       "    <tr>\n",
       "      <th>3</th>\n",
       "      <td>0.0</td>\n",
       "      <td>0.156113</td>\n",
       "    </tr>\n",
       "    <tr>\n",
       "      <th>4</th>\n",
       "      <td>0.0</td>\n",
       "      <td>0.136444</td>\n",
       "    </tr>\n",
       "    <tr>\n",
       "      <th>5</th>\n",
       "      <td>0.0</td>\n",
       "      <td>0.147728</td>\n",
       "    </tr>\n",
       "  </tbody>\n",
       "</table>\n",
       "</div>"
      ],
      "text/plain": [
       "   cv_train    cv_val\n",
       "0       0.0  0.154890\n",
       "1       0.0  0.136028\n",
       "2       0.0  0.172723\n",
       "3       0.0  0.156113\n",
       "4       0.0  0.136444\n",
       "5       0.0  0.147728"
      ]
     },
     "metadata": {},
     "output_type": "display_data"
    }
   ],
   "source": [
    "model = KNeighborsRegressor(**hp[5])\n",
    "var = sf_features\n",
    "cv_output5 = proper_CV(df.loc[:, var], df.loc[:, \"etr\"], model, display_res=True)"
   ]
  },
  {
   "cell_type": "code",
   "execution_count": 180,
   "metadata": {
    "ExecuteTime": {
     "end_time": "2020-06-03T01:05:56.643405Z",
     "start_time": "2020-06-03T01:05:55.583274Z"
    }
   },
   "outputs": [
    {
     "data": {
      "text/html": [
       "<div>\n",
       "<style scoped>\n",
       "    .dataframe tbody tr th:only-of-type {\n",
       "        vertical-align: middle;\n",
       "    }\n",
       "\n",
       "    .dataframe tbody tr th {\n",
       "        vertical-align: top;\n",
       "    }\n",
       "\n",
       "    .dataframe thead th {\n",
       "        text-align: right;\n",
       "    }\n",
       "</style>\n",
       "<table border=\"1\" class=\"dataframe\">\n",
       "  <thead>\n",
       "    <tr style=\"text-align: right;\">\n",
       "      <th></th>\n",
       "      <th>cv_train</th>\n",
       "      <th>cv_val</th>\n",
       "    </tr>\n",
       "  </thead>\n",
       "  <tbody>\n",
       "    <tr>\n",
       "      <th>0</th>\n",
       "      <td>0.0</td>\n",
       "      <td>0.154905</td>\n",
       "    </tr>\n",
       "    <tr>\n",
       "      <th>1</th>\n",
       "      <td>0.0</td>\n",
       "      <td>0.131321</td>\n",
       "    </tr>\n",
       "    <tr>\n",
       "      <th>2</th>\n",
       "      <td>0.0</td>\n",
       "      <td>0.170680</td>\n",
       "    </tr>\n",
       "    <tr>\n",
       "      <th>3</th>\n",
       "      <td>0.0</td>\n",
       "      <td>0.157912</td>\n",
       "    </tr>\n",
       "    <tr>\n",
       "      <th>4</th>\n",
       "      <td>0.0</td>\n",
       "      <td>0.133249</td>\n",
       "    </tr>\n",
       "    <tr>\n",
       "      <th>5</th>\n",
       "      <td>0.0</td>\n",
       "      <td>0.150110</td>\n",
       "    </tr>\n",
       "  </tbody>\n",
       "</table>\n",
       "</div>"
      ],
      "text/plain": [
       "   cv_train    cv_val\n",
       "0       0.0  0.154905\n",
       "1       0.0  0.131321\n",
       "2       0.0  0.170680\n",
       "3       0.0  0.157912\n",
       "4       0.0  0.133249\n",
       "5       0.0  0.150110"
      ]
     },
     "metadata": {},
     "output_type": "display_data"
    }
   ],
   "source": [
    "model = KNeighborsRegressor(**hp[6])\n",
    "var = sf_features2\n",
    "cv_output6 = proper_CV(df.loc[:, var], df.loc[:, \"etr\"], model, display_res=True)"
   ]
  },
  {
   "cell_type": "code",
   "execution_count": 181,
   "metadata": {
    "ExecuteTime": {
     "end_time": "2020-06-03T01:05:56.853232Z",
     "start_time": "2020-06-03T01:05:56.648406Z"
    }
   },
   "outputs": [
    {
     "data": {
      "text/html": [
       "<div>\n",
       "<style scoped>\n",
       "    .dataframe tbody tr th:only-of-type {\n",
       "        vertical-align: middle;\n",
       "    }\n",
       "\n",
       "    .dataframe tbody tr th {\n",
       "        vertical-align: top;\n",
       "    }\n",
       "\n",
       "    .dataframe thead th {\n",
       "        text-align: right;\n",
       "    }\n",
       "</style>\n",
       "<table border=\"1\" class=\"dataframe\">\n",
       "  <thead>\n",
       "    <tr style=\"text-align: right;\">\n",
       "      <th></th>\n",
       "      <th>cv_train</th>\n",
       "      <th>cv_val</th>\n",
       "    </tr>\n",
       "  </thead>\n",
       "  <tbody>\n",
       "    <tr>\n",
       "      <th>0</th>\n",
       "      <td>0.028794</td>\n",
       "      <td>0.150236</td>\n",
       "    </tr>\n",
       "    <tr>\n",
       "      <th>1</th>\n",
       "      <td>0.031273</td>\n",
       "      <td>0.144547</td>\n",
       "    </tr>\n",
       "    <tr>\n",
       "      <th>2</th>\n",
       "      <td>0.035171</td>\n",
       "      <td>0.165853</td>\n",
       "    </tr>\n",
       "    <tr>\n",
       "      <th>3</th>\n",
       "      <td>0.033852</td>\n",
       "      <td>0.154481</td>\n",
       "    </tr>\n",
       "    <tr>\n",
       "      <th>4</th>\n",
       "      <td>0.031230</td>\n",
       "      <td>0.152121</td>\n",
       "    </tr>\n",
       "    <tr>\n",
       "      <th>5</th>\n",
       "      <td>0.030156</td>\n",
       "      <td>0.153486</td>\n",
       "    </tr>\n",
       "  </tbody>\n",
       "</table>\n",
       "</div>"
      ],
      "text/plain": [
       "   cv_train    cv_val\n",
       "0  0.028794  0.150236\n",
       "1  0.031273  0.144547\n",
       "2  0.035171  0.165853\n",
       "3  0.033852  0.154481\n",
       "4  0.031230  0.152121\n",
       "5  0.030156  0.153486"
      ]
     },
     "metadata": {},
     "output_type": "display_data"
    }
   ],
   "source": [
    "model = KNeighborsRegressor(**hp[7])\n",
    "var = sf_features3\n",
    "cv_output7 = proper_CV(df.loc[:, var], df.loc[:, \"etr\"], model, display_res=True)"
   ]
  },
  {
   "cell_type": "code",
   "execution_count": 182,
   "metadata": {
    "ExecuteTime": {
     "end_time": "2020-06-03T01:05:57.119833Z",
     "start_time": "2020-06-03T01:05:56.855214Z"
    }
   },
   "outputs": [
    {
     "data": {
      "text/html": [
       "<div>\n",
       "<style scoped>\n",
       "    .dataframe tbody tr th:only-of-type {\n",
       "        vertical-align: middle;\n",
       "    }\n",
       "\n",
       "    .dataframe tbody tr th {\n",
       "        vertical-align: top;\n",
       "    }\n",
       "\n",
       "    .dataframe thead th {\n",
       "        text-align: right;\n",
       "    }\n",
       "</style>\n",
       "<table border=\"1\" class=\"dataframe\">\n",
       "  <thead>\n",
       "    <tr style=\"text-align: right;\">\n",
       "      <th></th>\n",
       "      <th>cv_train</th>\n",
       "      <th>cv_val</th>\n",
       "    </tr>\n",
       "  </thead>\n",
       "  <tbody>\n",
       "    <tr>\n",
       "      <th>0</th>\n",
       "      <td>0.028174</td>\n",
       "      <td>0.149543</td>\n",
       "    </tr>\n",
       "    <tr>\n",
       "      <th>1</th>\n",
       "      <td>0.030226</td>\n",
       "      <td>0.155197</td>\n",
       "    </tr>\n",
       "    <tr>\n",
       "      <th>2</th>\n",
       "      <td>0.033437</td>\n",
       "      <td>0.163921</td>\n",
       "    </tr>\n",
       "    <tr>\n",
       "      <th>3</th>\n",
       "      <td>0.033027</td>\n",
       "      <td>0.158555</td>\n",
       "    </tr>\n",
       "    <tr>\n",
       "      <th>4</th>\n",
       "      <td>0.030760</td>\n",
       "      <td>0.142748</td>\n",
       "    </tr>\n",
       "    <tr>\n",
       "      <th>5</th>\n",
       "      <td>0.030016</td>\n",
       "      <td>0.157629</td>\n",
       "    </tr>\n",
       "  </tbody>\n",
       "</table>\n",
       "</div>"
      ],
      "text/plain": [
       "   cv_train    cv_val\n",
       "0  0.028174  0.149543\n",
       "1  0.030226  0.155197\n",
       "2  0.033437  0.163921\n",
       "3  0.033027  0.158555\n",
       "4  0.030760  0.142748\n",
       "5  0.030016  0.157629"
      ]
     },
     "metadata": {},
     "output_type": "display_data"
    }
   ],
   "source": [
    "model = KNeighborsRegressor(**hp[8])\n",
    "var = relief1\n",
    "cv_output8 = proper_CV(df.loc[:, var], df.loc[:, \"etr\"], model, display_res=True)"
   ]
  },
  {
   "cell_type": "code",
   "execution_count": 183,
   "metadata": {
    "ExecuteTime": {
     "end_time": "2020-06-03T01:05:57.620535Z",
     "start_time": "2020-06-03T01:05:57.120820Z"
    }
   },
   "outputs": [
    {
     "data": {
      "text/html": [
       "<div>\n",
       "<style scoped>\n",
       "    .dataframe tbody tr th:only-of-type {\n",
       "        vertical-align: middle;\n",
       "    }\n",
       "\n",
       "    .dataframe tbody tr th {\n",
       "        vertical-align: top;\n",
       "    }\n",
       "\n",
       "    .dataframe thead th {\n",
       "        text-align: right;\n",
       "    }\n",
       "</style>\n",
       "<table border=\"1\" class=\"dataframe\">\n",
       "  <thead>\n",
       "    <tr style=\"text-align: right;\">\n",
       "      <th></th>\n",
       "      <th>cv_train</th>\n",
       "      <th>cv_val</th>\n",
       "    </tr>\n",
       "  </thead>\n",
       "  <tbody>\n",
       "    <tr>\n",
       "      <th>0</th>\n",
       "      <td>0.028174</td>\n",
       "      <td>0.158109</td>\n",
       "    </tr>\n",
       "    <tr>\n",
       "      <th>1</th>\n",
       "      <td>0.030226</td>\n",
       "      <td>0.148959</td>\n",
       "    </tr>\n",
       "    <tr>\n",
       "      <th>2</th>\n",
       "      <td>0.034045</td>\n",
       "      <td>0.159197</td>\n",
       "    </tr>\n",
       "    <tr>\n",
       "      <th>3</th>\n",
       "      <td>0.032434</td>\n",
       "      <td>0.156852</td>\n",
       "    </tr>\n",
       "    <tr>\n",
       "      <th>4</th>\n",
       "      <td>0.030994</td>\n",
       "      <td>0.142990</td>\n",
       "    </tr>\n",
       "    <tr>\n",
       "      <th>5</th>\n",
       "      <td>0.029527</td>\n",
       "      <td>0.148380</td>\n",
       "    </tr>\n",
       "  </tbody>\n",
       "</table>\n",
       "</div>"
      ],
      "text/plain": [
       "   cv_train    cv_val\n",
       "0  0.028174  0.158109\n",
       "1  0.030226  0.148959\n",
       "2  0.034045  0.159197\n",
       "3  0.032434  0.156852\n",
       "4  0.030994  0.142990\n",
       "5  0.029527  0.148380"
      ]
     },
     "metadata": {},
     "output_type": "display_data"
    }
   ],
   "source": [
    "model = KNeighborsRegressor(**hp[9])\n",
    "var = relief2\n",
    "cv_output9 = proper_CV(df.loc[:, var], df.loc[:, \"etr\"], model, display_res=True)"
   ]
  },
  {
   "cell_type": "code",
   "execution_count": 184,
   "metadata": {
    "ExecuteTime": {
     "end_time": "2020-06-03T01:05:58.401409Z",
     "start_time": "2020-06-03T01:05:57.621534Z"
    }
   },
   "outputs": [
    {
     "data": {
      "text/html": [
       "<div>\n",
       "<style scoped>\n",
       "    .dataframe tbody tr th:only-of-type {\n",
       "        vertical-align: middle;\n",
       "    }\n",
       "\n",
       "    .dataframe tbody tr th {\n",
       "        vertical-align: top;\n",
       "    }\n",
       "\n",
       "    .dataframe thead th {\n",
       "        text-align: right;\n",
       "    }\n",
       "</style>\n",
       "<table border=\"1\" class=\"dataframe\">\n",
       "  <thead>\n",
       "    <tr style=\"text-align: right;\">\n",
       "      <th></th>\n",
       "      <th>cv_train</th>\n",
       "      <th>cv_val</th>\n",
       "    </tr>\n",
       "  </thead>\n",
       "  <tbody>\n",
       "    <tr>\n",
       "      <th>0</th>\n",
       "      <td>0.028174</td>\n",
       "      <td>0.161813</td>\n",
       "    </tr>\n",
       "    <tr>\n",
       "      <th>1</th>\n",
       "      <td>0.030226</td>\n",
       "      <td>0.162003</td>\n",
       "    </tr>\n",
       "    <tr>\n",
       "      <th>2</th>\n",
       "      <td>0.034400</td>\n",
       "      <td>0.158788</td>\n",
       "    </tr>\n",
       "    <tr>\n",
       "      <th>3</th>\n",
       "      <td>0.033165</td>\n",
       "      <td>0.162929</td>\n",
       "    </tr>\n",
       "    <tr>\n",
       "      <th>4</th>\n",
       "      <td>0.031101</td>\n",
       "      <td>0.145962</td>\n",
       "    </tr>\n",
       "    <tr>\n",
       "      <th>5</th>\n",
       "      <td>0.030100</td>\n",
       "      <td>0.153895</td>\n",
       "    </tr>\n",
       "  </tbody>\n",
       "</table>\n",
       "</div>"
      ],
      "text/plain": [
       "   cv_train    cv_val\n",
       "0  0.028174  0.161813\n",
       "1  0.030226  0.162003\n",
       "2  0.034400  0.158788\n",
       "3  0.033165  0.162929\n",
       "4  0.031101  0.145962\n",
       "5  0.030100  0.153895"
      ]
     },
     "metadata": {},
     "output_type": "display_data"
    }
   ],
   "source": [
    "model = KNeighborsRegressor(**hp[10])\n",
    "var = relief3\n",
    "cv_output10 = proper_CV(df.loc[:, var], df.loc[:, \"etr\"], model, display_res=True)"
   ]
  },
  {
   "cell_type": "code",
   "execution_count": 185,
   "metadata": {
    "ExecuteTime": {
     "end_time": "2020-06-03T01:05:59.085829Z",
     "start_time": "2020-06-03T01:05:58.403409Z"
    }
   },
   "outputs": [
    {
     "data": {
      "text/html": [
       "<div>\n",
       "<style scoped>\n",
       "    .dataframe tbody tr th:only-of-type {\n",
       "        vertical-align: middle;\n",
       "    }\n",
       "\n",
       "    .dataframe tbody tr th {\n",
       "        vertical-align: top;\n",
       "    }\n",
       "\n",
       "    .dataframe thead th {\n",
       "        text-align: right;\n",
       "    }\n",
       "</style>\n",
       "<table border=\"1\" class=\"dataframe\">\n",
       "  <thead>\n",
       "    <tr style=\"text-align: right;\">\n",
       "      <th></th>\n",
       "      <th>cv_train</th>\n",
       "      <th>cv_val</th>\n",
       "    </tr>\n",
       "  </thead>\n",
       "  <tbody>\n",
       "    <tr>\n",
       "      <th>0</th>\n",
       "      <td>0.028174</td>\n",
       "      <td>0.163037</td>\n",
       "    </tr>\n",
       "    <tr>\n",
       "      <th>1</th>\n",
       "      <td>0.030226</td>\n",
       "      <td>0.141467</td>\n",
       "    </tr>\n",
       "    <tr>\n",
       "      <th>2</th>\n",
       "      <td>0.034400</td>\n",
       "      <td>0.164054</td>\n",
       "    </tr>\n",
       "    <tr>\n",
       "      <th>3</th>\n",
       "      <td>0.033165</td>\n",
       "      <td>0.154349</td>\n",
       "    </tr>\n",
       "    <tr>\n",
       "      <th>4</th>\n",
       "      <td>0.031101</td>\n",
       "      <td>0.130668</td>\n",
       "    </tr>\n",
       "    <tr>\n",
       "      <th>5</th>\n",
       "      <td>0.030100</td>\n",
       "      <td>0.142010</td>\n",
       "    </tr>\n",
       "  </tbody>\n",
       "</table>\n",
       "</div>"
      ],
      "text/plain": [
       "   cv_train    cv_val\n",
       "0  0.028174  0.163037\n",
       "1  0.030226  0.141467\n",
       "2  0.034400  0.164054\n",
       "3  0.033165  0.154349\n",
       "4  0.031101  0.130668\n",
       "5  0.030100  0.142010"
      ]
     },
     "metadata": {},
     "output_type": "display_data"
    }
   ],
   "source": [
    "model = KNeighborsRegressor(**hp[11])\n",
    "var = mi_features_25\n",
    "cv_output11 = proper_CV(df.loc[:, var], df.loc[:, \"etr\"], model, display_res=True)"
   ]
  },
  {
   "cell_type": "code",
   "execution_count": 186,
   "metadata": {
    "ExecuteTime": {
     "end_time": "2020-06-03T01:06:00.268919Z",
     "start_time": "2020-06-03T01:05:59.086827Z"
    }
   },
   "outputs": [
    {
     "data": {
      "text/html": [
       "<div>\n",
       "<style scoped>\n",
       "    .dataframe tbody tr th:only-of-type {\n",
       "        vertical-align: middle;\n",
       "    }\n",
       "\n",
       "    .dataframe tbody tr th {\n",
       "        vertical-align: top;\n",
       "    }\n",
       "\n",
       "    .dataframe thead th {\n",
       "        text-align: right;\n",
       "    }\n",
       "</style>\n",
       "<table border=\"1\" class=\"dataframe\">\n",
       "  <thead>\n",
       "    <tr style=\"text-align: right;\">\n",
       "      <th></th>\n",
       "      <th>cv_train</th>\n",
       "      <th>cv_val</th>\n",
       "    </tr>\n",
       "  </thead>\n",
       "  <tbody>\n",
       "    <tr>\n",
       "      <th>0</th>\n",
       "      <td>0.028174</td>\n",
       "      <td>0.158361</td>\n",
       "    </tr>\n",
       "    <tr>\n",
       "      <th>1</th>\n",
       "      <td>0.030226</td>\n",
       "      <td>0.145782</td>\n",
       "    </tr>\n",
       "    <tr>\n",
       "      <th>2</th>\n",
       "      <td>0.034400</td>\n",
       "      <td>0.156311</td>\n",
       "    </tr>\n",
       "    <tr>\n",
       "      <th>3</th>\n",
       "      <td>0.033165</td>\n",
       "      <td>0.151534</td>\n",
       "    </tr>\n",
       "    <tr>\n",
       "      <th>4</th>\n",
       "      <td>0.031101</td>\n",
       "      <td>0.138274</td>\n",
       "    </tr>\n",
       "    <tr>\n",
       "      <th>5</th>\n",
       "      <td>0.030100</td>\n",
       "      <td>0.143354</td>\n",
       "    </tr>\n",
       "  </tbody>\n",
       "</table>\n",
       "</div>"
      ],
      "text/plain": [
       "   cv_train    cv_val\n",
       "0  0.028174  0.158361\n",
       "1  0.030226  0.145782\n",
       "2  0.034400  0.156311\n",
       "3  0.033165  0.151534\n",
       "4  0.031101  0.138274\n",
       "5  0.030100  0.143354"
      ]
     },
     "metadata": {},
     "output_type": "display_data"
    }
   ],
   "source": [
    "model = KNeighborsRegressor(**hp[12])\n",
    "var = mi_features_35\n",
    "cv_output12 = proper_CV(df.loc[:, var], df.loc[:, \"etr\"], model, display_res=True)"
   ]
  },
  {
   "cell_type": "code",
   "execution_count": 187,
   "metadata": {
    "ExecuteTime": {
     "end_time": "2020-06-03T01:06:02.047240Z",
     "start_time": "2020-06-03T01:06:00.269918Z"
    }
   },
   "outputs": [
    {
     "data": {
      "text/html": [
       "<div>\n",
       "<style scoped>\n",
       "    .dataframe tbody tr th:only-of-type {\n",
       "        vertical-align: middle;\n",
       "    }\n",
       "\n",
       "    .dataframe tbody tr th {\n",
       "        vertical-align: top;\n",
       "    }\n",
       "\n",
       "    .dataframe thead th {\n",
       "        text-align: right;\n",
       "    }\n",
       "</style>\n",
       "<table border=\"1\" class=\"dataframe\">\n",
       "  <thead>\n",
       "    <tr style=\"text-align: right;\">\n",
       "      <th></th>\n",
       "      <th>cv_train</th>\n",
       "      <th>cv_val</th>\n",
       "    </tr>\n",
       "  </thead>\n",
       "  <tbody>\n",
       "    <tr>\n",
       "      <th>0</th>\n",
       "      <td>0.0</td>\n",
       "      <td>0.144637</td>\n",
       "    </tr>\n",
       "    <tr>\n",
       "      <th>1</th>\n",
       "      <td>0.0</td>\n",
       "      <td>0.151558</td>\n",
       "    </tr>\n",
       "    <tr>\n",
       "      <th>2</th>\n",
       "      <td>0.0</td>\n",
       "      <td>0.161024</td>\n",
       "    </tr>\n",
       "    <tr>\n",
       "      <th>3</th>\n",
       "      <td>0.0</td>\n",
       "      <td>0.157175</td>\n",
       "    </tr>\n",
       "    <tr>\n",
       "      <th>4</th>\n",
       "      <td>0.0</td>\n",
       "      <td>0.136192</td>\n",
       "    </tr>\n",
       "    <tr>\n",
       "      <th>5</th>\n",
       "      <td>0.0</td>\n",
       "      <td>0.144896</td>\n",
       "    </tr>\n",
       "  </tbody>\n",
       "</table>\n",
       "</div>"
      ],
      "text/plain": [
       "   cv_train    cv_val\n",
       "0       0.0  0.144637\n",
       "1       0.0  0.151558\n",
       "2       0.0  0.161024\n",
       "3       0.0  0.157175\n",
       "4       0.0  0.136192\n",
       "5       0.0  0.144896"
      ]
     },
     "metadata": {},
     "output_type": "display_data"
    }
   ],
   "source": [
    "model = KNeighborsRegressor(**hp[13])\n",
    "var = mi_features_50\n",
    "cv_output13 = proper_CV(df.loc[:, var], df.loc[:, \"etr\"], model, display_res=True)"
   ]
  },
  {
   "cell_type": "code",
   "execution_count": 191,
   "metadata": {
    "ExecuteTime": {
     "end_time": "2020-06-03T01:06:02.064252Z",
     "start_time": "2020-06-03T01:06:02.048240Z"
    }
   },
   "outputs": [
    {
     "data": {
      "text/html": [
       "<div>\n",
       "<style scoped>\n",
       "    .dataframe tbody tr th:only-of-type {\n",
       "        vertical-align: middle;\n",
       "    }\n",
       "\n",
       "    .dataframe tbody tr th {\n",
       "        vertical-align: top;\n",
       "    }\n",
       "\n",
       "    .dataframe thead th {\n",
       "        text-align: right;\n",
       "    }\n",
       "</style>\n",
       "<table border=\"1\" class=\"dataframe\">\n",
       "  <thead>\n",
       "    <tr style=\"text-align: right;\">\n",
       "      <th></th>\n",
       "      <th>train_mean</th>\n",
       "      <th>test_mean</th>\n",
       "    </tr>\n",
       "  </thead>\n",
       "  <tbody>\n",
       "    <tr>\n",
       "      <th>0</th>\n",
       "      <td>0.124593</td>\n",
       "      <td>0.147581</td>\n",
       "    </tr>\n",
       "    <tr>\n",
       "      <th>1</th>\n",
       "      <td>0.117755</td>\n",
       "      <td>0.144357</td>\n",
       "    </tr>\n",
       "    <tr>\n",
       "      <th>2</th>\n",
       "      <td>0.000000</td>\n",
       "      <td>0.150480</td>\n",
       "    </tr>\n",
       "    <tr>\n",
       "      <th>3</th>\n",
       "      <td>0.031194</td>\n",
       "      <td>0.147122</td>\n",
       "    </tr>\n",
       "    <tr>\n",
       "      <th>4</th>\n",
       "      <td>0.000000</td>\n",
       "      <td>0.148441</td>\n",
       "    </tr>\n",
       "    <tr>\n",
       "      <th>5</th>\n",
       "      <td>0.000000</td>\n",
       "      <td>0.150654</td>\n",
       "    </tr>\n",
       "    <tr>\n",
       "      <th>6</th>\n",
       "      <td>0.000000</td>\n",
       "      <td>0.149696</td>\n",
       "    </tr>\n",
       "    <tr>\n",
       "      <th>7</th>\n",
       "      <td>0.031746</td>\n",
       "      <td>0.153454</td>\n",
       "    </tr>\n",
       "    <tr>\n",
       "      <th>8</th>\n",
       "      <td>0.030940</td>\n",
       "      <td>0.154599</td>\n",
       "    </tr>\n",
       "    <tr>\n",
       "      <th>9</th>\n",
       "      <td>0.030900</td>\n",
       "      <td>0.152414</td>\n",
       "    </tr>\n",
       "    <tr>\n",
       "      <th>10</th>\n",
       "      <td>0.031194</td>\n",
       "      <td>0.157565</td>\n",
       "    </tr>\n",
       "    <tr>\n",
       "      <th>11</th>\n",
       "      <td>0.031194</td>\n",
       "      <td>0.149264</td>\n",
       "    </tr>\n",
       "    <tr>\n",
       "      <th>12</th>\n",
       "      <td>0.031194</td>\n",
       "      <td>0.148936</td>\n",
       "    </tr>\n",
       "    <tr>\n",
       "      <th>13</th>\n",
       "      <td>0.000000</td>\n",
       "      <td>0.149247</td>\n",
       "    </tr>\n",
       "  </tbody>\n",
       "</table>\n",
       "</div>"
      ],
      "text/plain": [
       "    train_mean  test_mean\n",
       "0     0.124593   0.147581\n",
       "1     0.117755   0.144357\n",
       "2     0.000000   0.150480\n",
       "3     0.031194   0.147122\n",
       "4     0.000000   0.148441\n",
       "5     0.000000   0.150654\n",
       "6     0.000000   0.149696\n",
       "7     0.031746   0.153454\n",
       "8     0.030940   0.154599\n",
       "9     0.030900   0.152414\n",
       "10    0.031194   0.157565\n",
       "11    0.031194   0.149264\n",
       "12    0.031194   0.148936\n",
       "13    0.000000   0.149247"
      ]
     },
     "execution_count": 191,
     "metadata": {},
     "output_type": "execute_result"
    }
   ],
   "source": [
    "pd.DataFrame(\n",
    "    [\n",
    "        cv_output0[2].mean().tolist(),\n",
    "        cv_output1[2].mean().tolist(),\n",
    "        cv_output2[2].mean().tolist(),\n",
    "        cv_output3[2].mean().tolist(),\n",
    "        cv_output4[2].mean().tolist(),\n",
    "        cv_output5[2].mean().tolist(),\n",
    "        cv_output6[2].mean().tolist(),\n",
    "        cv_output7[2].mean().tolist(),\n",
    "        cv_output8[2].mean().tolist(),\n",
    "        cv_output9[2].mean().tolist(),\n",
    "        cv_output10[2].mean().tolist(),\n",
    "        cv_output11[2].mean().tolist(),\n",
    "        cv_output12[2].mean().tolist(),\n",
    "        cv_output13[2].mean().tolist(),\n",
    "    ],\n",
    "    columns=[\"train_mean\", \"test_mean\"],\n",
    ")"
   ]
  },
  {
   "cell_type": "code",
   "execution_count": 192,
   "metadata": {
    "ExecuteTime": {
     "end_time": "2020-06-03T01:06:02.081220Z",
     "start_time": "2020-06-03T01:06:02.065230Z"
    }
   },
   "outputs": [
    {
     "data": {
      "text/html": [
       "<div>\n",
       "<style scoped>\n",
       "    .dataframe tbody tr th:only-of-type {\n",
       "        vertical-align: middle;\n",
       "    }\n",
       "\n",
       "    .dataframe tbody tr th {\n",
       "        vertical-align: top;\n",
       "    }\n",
       "\n",
       "    .dataframe thead th {\n",
       "        text-align: right;\n",
       "    }\n",
       "</style>\n",
       "<table border=\"1\" class=\"dataframe\">\n",
       "  <thead>\n",
       "    <tr style=\"text-align: right;\">\n",
       "      <th></th>\n",
       "      <th>train_std</th>\n",
       "      <th>test_std</th>\n",
       "    </tr>\n",
       "  </thead>\n",
       "  <tbody>\n",
       "    <tr>\n",
       "      <th>0</th>\n",
       "      <td>0.001119</td>\n",
       "      <td>0.007571</td>\n",
       "    </tr>\n",
       "    <tr>\n",
       "      <th>1</th>\n",
       "      <td>0.000764</td>\n",
       "      <td>0.008739</td>\n",
       "    </tr>\n",
       "    <tr>\n",
       "      <th>2</th>\n",
       "      <td>0.000000</td>\n",
       "      <td>0.011603</td>\n",
       "    </tr>\n",
       "    <tr>\n",
       "      <th>3</th>\n",
       "      <td>0.002255</td>\n",
       "      <td>0.011838</td>\n",
       "    </tr>\n",
       "    <tr>\n",
       "      <th>4</th>\n",
       "      <td>0.000000</td>\n",
       "      <td>0.009272</td>\n",
       "    </tr>\n",
       "    <tr>\n",
       "      <th>5</th>\n",
       "      <td>0.000000</td>\n",
       "      <td>0.013850</td>\n",
       "    </tr>\n",
       "    <tr>\n",
       "      <th>6</th>\n",
       "      <td>0.000000</td>\n",
       "      <td>0.015121</td>\n",
       "    </tr>\n",
       "    <tr>\n",
       "      <th>7</th>\n",
       "      <td>0.002362</td>\n",
       "      <td>0.007018</td>\n",
       "    </tr>\n",
       "    <tr>\n",
       "      <th>8</th>\n",
       "      <td>0.001982</td>\n",
       "      <td>0.007458</td>\n",
       "    </tr>\n",
       "    <tr>\n",
       "      <th>9</th>\n",
       "      <td>0.002099</td>\n",
       "      <td>0.006560</td>\n",
       "    </tr>\n",
       "    <tr>\n",
       "      <th>10</th>\n",
       "      <td>0.002255</td>\n",
       "      <td>0.006574</td>\n",
       "    </tr>\n",
       "    <tr>\n",
       "      <th>11</th>\n",
       "      <td>0.002255</td>\n",
       "      <td>0.013368</td>\n",
       "    </tr>\n",
       "    <tr>\n",
       "      <th>12</th>\n",
       "      <td>0.002255</td>\n",
       "      <td>0.007807</td>\n",
       "    </tr>\n",
       "    <tr>\n",
       "      <th>13</th>\n",
       "      <td>0.000000</td>\n",
       "      <td>0.009138</td>\n",
       "    </tr>\n",
       "  </tbody>\n",
       "</table>\n",
       "</div>"
      ],
      "text/plain": [
       "    train_std  test_std\n",
       "0    0.001119  0.007571\n",
       "1    0.000764  0.008739\n",
       "2    0.000000  0.011603\n",
       "3    0.002255  0.011838\n",
       "4    0.000000  0.009272\n",
       "5    0.000000  0.013850\n",
       "6    0.000000  0.015121\n",
       "7    0.002362  0.007018\n",
       "8    0.001982  0.007458\n",
       "9    0.002099  0.006560\n",
       "10   0.002255  0.006574\n",
       "11   0.002255  0.013368\n",
       "12   0.002255  0.007807\n",
       "13   0.000000  0.009138"
      ]
     },
     "execution_count": 192,
     "metadata": {},
     "output_type": "execute_result"
    }
   ],
   "source": [
    "pd.DataFrame(\n",
    "    [\n",
    "        cv_output0[2].std().tolist(),\n",
    "        cv_output1[2].std().tolist(),\n",
    "        cv_output2[2].std().tolist(),\n",
    "        cv_output3[2].std().tolist(),\n",
    "        cv_output4[2].std().tolist(),\n",
    "        cv_output5[2].std().tolist(),\n",
    "        cv_output6[2].std().tolist(),\n",
    "        cv_output7[2].std().tolist(),\n",
    "        cv_output8[2].std().tolist(),\n",
    "        cv_output9[2].std().tolist(),\n",
    "        cv_output10[2].std().tolist(),\n",
    "        cv_output11[2].std().tolist(),\n",
    "        cv_output12[2].std().tolist(),\n",
    "        cv_output13[2].std().tolist(),\n",
    "    ],\n",
    "    columns=[\"train_std\", \"test_std\"],\n",
    ")"
   ]
  },
  {
   "cell_type": "markdown",
   "metadata": {},
   "source": [
    "Second model seems to be the best one! We see that our intuition was quite good - binary variables should be removed!"
   ]
  },
  {
   "cell_type": "code",
   "execution_count": 193,
   "metadata": {
    "ExecuteTime": {
     "end_time": "2020-06-03T01:06:51.014580Z",
     "start_time": "2020-06-03T01:06:50.999156Z"
    }
   },
   "outputs": [
    {
     "name": "stdout",
     "output_type": "stream",
     "text": [
      "['ta', 'txt', 'pi', 'str', 'xrd', 'ni', 'ppent', 'intant', 'dlc', 'dltt', 'capex', 'revenue', 'cce', 'adv', 'diff', 'roa', 'lev', 'intan', 'rd', 'ppe', 'sale', 'cash_holdings', 'adv_expenditure', 'capex2', 'cfc', 'dta', 'y_v2x_polyarchy', 'WB_GDPgrowth', 'WB_GDPpc', 'WB_Inflation', 'rr_per_country', 'rr_per_sector', 'etr_y_past', 'etr_y_ma', 'diff_ma', 'roa_ma', 'lev_ma', 'intan_ma', 'ppe_ma', 'sale_ma', 'cash_holdings_ma', 'roa_past', 'lev_past', 'intan_past', 'ppe_past', 'sale_past', 'cash_holdings_past']\n"
     ]
    }
   ],
   "source": [
    "print(benchmark2)"
   ]
  },
  {
   "cell_type": "markdown",
   "metadata": {},
   "source": [
    "### Fit final model and save it"
   ]
  },
  {
   "cell_type": "code",
   "execution_count": 194,
   "metadata": {
    "ExecuteTime": {
     "end_time": "2020-06-03T01:07:10.236691Z",
     "start_time": "2020-06-03T01:07:10.179740Z"
    }
   },
   "outputs": [
    {
     "data": {
      "text/html": [
       "<style>#sk-container-id-8 {color: black;background-color: white;}#sk-container-id-8 pre{padding: 0;}#sk-container-id-8 div.sk-toggleable {background-color: white;}#sk-container-id-8 label.sk-toggleable__label {cursor: pointer;display: block;width: 100%;margin-bottom: 0;padding: 0.3em;box-sizing: border-box;text-align: center;}#sk-container-id-8 label.sk-toggleable__label-arrow:before {content: \"▸\";float: left;margin-right: 0.25em;color: #696969;}#sk-container-id-8 label.sk-toggleable__label-arrow:hover:before {color: black;}#sk-container-id-8 div.sk-estimator:hover label.sk-toggleable__label-arrow:before {color: black;}#sk-container-id-8 div.sk-toggleable__content {max-height: 0;max-width: 0;overflow: hidden;text-align: left;background-color: #f0f8ff;}#sk-container-id-8 div.sk-toggleable__content pre {margin: 0.2em;color: black;border-radius: 0.25em;background-color: #f0f8ff;}#sk-container-id-8 input.sk-toggleable__control:checked~div.sk-toggleable__content {max-height: 200px;max-width: 100%;overflow: auto;}#sk-container-id-8 input.sk-toggleable__control:checked~label.sk-toggleable__label-arrow:before {content: \"▾\";}#sk-container-id-8 div.sk-estimator input.sk-toggleable__control:checked~label.sk-toggleable__label {background-color: #d4ebff;}#sk-container-id-8 div.sk-label input.sk-toggleable__control:checked~label.sk-toggleable__label {background-color: #d4ebff;}#sk-container-id-8 input.sk-hidden--visually {border: 0;clip: rect(1px 1px 1px 1px);clip: rect(1px, 1px, 1px, 1px);height: 1px;margin: -1px;overflow: hidden;padding: 0;position: absolute;width: 1px;}#sk-container-id-8 div.sk-estimator {font-family: monospace;background-color: #f0f8ff;border: 1px dotted black;border-radius: 0.25em;box-sizing: border-box;margin-bottom: 0.5em;}#sk-container-id-8 div.sk-estimator:hover {background-color: #d4ebff;}#sk-container-id-8 div.sk-parallel-item::after {content: \"\";width: 100%;border-bottom: 1px solid gray;flex-grow: 1;}#sk-container-id-8 div.sk-label:hover label.sk-toggleable__label {background-color: #d4ebff;}#sk-container-id-8 div.sk-serial::before {content: \"\";position: absolute;border-left: 1px solid gray;box-sizing: border-box;top: 0;bottom: 0;left: 50%;z-index: 0;}#sk-container-id-8 div.sk-serial {display: flex;flex-direction: column;align-items: center;background-color: white;padding-right: 0.2em;padding-left: 0.2em;position: relative;}#sk-container-id-8 div.sk-item {position: relative;z-index: 1;}#sk-container-id-8 div.sk-parallel {display: flex;align-items: stretch;justify-content: center;background-color: white;position: relative;}#sk-container-id-8 div.sk-item::before, #sk-container-id-8 div.sk-parallel-item::before {content: \"\";position: absolute;border-left: 1px solid gray;box-sizing: border-box;top: 0;bottom: 0;left: 50%;z-index: -1;}#sk-container-id-8 div.sk-parallel-item {display: flex;flex-direction: column;z-index: 1;position: relative;background-color: white;}#sk-container-id-8 div.sk-parallel-item:first-child::after {align-self: flex-end;width: 50%;}#sk-container-id-8 div.sk-parallel-item:last-child::after {align-self: flex-start;width: 50%;}#sk-container-id-8 div.sk-parallel-item:only-child::after {width: 0;}#sk-container-id-8 div.sk-dashed-wrapped {border: 1px dashed gray;margin: 0 0.4em 0.5em 0.4em;box-sizing: border-box;padding-bottom: 0.4em;background-color: white;}#sk-container-id-8 div.sk-label label {font-family: monospace;font-weight: bold;display: inline-block;line-height: 1.2em;}#sk-container-id-8 div.sk-label-container {text-align: center;}#sk-container-id-8 div.sk-container {/* jupyter's `normalize.less` sets `[hidden] { display: none; }` but bootstrap.min.css set `[hidden] { display: none !important; }` so we also need the `!important` here to be able to override the default hidden behavior on the sphinx rendered scikit-learn.org. See: https://github.com/scikit-learn/scikit-learn/issues/21755 */display: inline-block !important;position: relative;}#sk-container-id-8 div.sk-text-repr-fallback {display: none;}</style><div id=\"sk-container-id-8\" class=\"sk-top-container\"><div class=\"sk-text-repr-fallback\"><pre>KNeighborsRegressor(p=1)</pre><b>In a Jupyter environment, please rerun this cell to show the HTML representation or trust the notebook. <br />On GitHub, the HTML representation is unable to render, please try loading this page with nbviewer.org.</b></div><div class=\"sk-container\" hidden><div class=\"sk-item\"><div class=\"sk-estimator sk-toggleable\"><input class=\"sk-toggleable__control sk-hidden--visually\" id=\"sk-estimator-id-14\" type=\"checkbox\" checked><label for=\"sk-estimator-id-14\" class=\"sk-toggleable__label sk-toggleable__label-arrow\">KNeighborsRegressor</label><div class=\"sk-toggleable__content\"><pre>KNeighborsRegressor(p=1)</pre></div></div></div></div></div>"
      ],
      "text/plain": [
       "KNeighborsRegressor(p=1)"
      ]
     },
     "execution_count": 194,
     "metadata": {},
     "output_type": "execute_result"
    }
   ],
   "source": [
    "model = KNeighborsRegressor(**hp[1])\n",
    "model.fit(df.loc[:, benchmark2].values, df.loc[:, \"etr\"].values.ravel())"
   ]
  },
  {
   "cell_type": "code",
   "execution_count": 195,
   "metadata": {
    "ExecuteTime": {
     "end_time": "2020-06-03T01:07:11.662512Z",
     "start_time": "2020-06-03T01:07:11.660527Z"
    }
   },
   "outputs": [],
   "source": [
    "filename = \"../models/knn.sav\""
   ]
  },
  {
   "cell_type": "code",
   "execution_count": 196,
   "metadata": {
    "ExecuteTime": {
     "end_time": "2020-06-03T01:07:12.135716Z",
     "start_time": "2020-06-03T01:07:12.127721Z"
    }
   },
   "outputs": [],
   "source": [
    "pickle.dump(model, open(filename, \"wb\"))"
   ]
  },
  {
   "cell_type": "code",
   "execution_count": null,
   "metadata": {},
   "outputs": [],
   "source": []
  }
 ],
 "metadata": {
  "kernelspec": {
   "display_name": "Python 3 (ipykernel)",
   "language": "python",
   "name": "python3"
  },
  "language_info": {
   "codemirror_mode": {
    "name": "ipython",
    "version": 3
   },
   "file_extension": ".py",
   "mimetype": "text/x-python",
   "name": "python",
   "nbconvert_exporter": "python",
   "pygments_lexer": "ipython3",
   "version": "3.11.5"
  },
  "vscode": {
   "interpreter": {
    "hash": "bff0f7c864331389fa2ce0c5d534e26d0bfdbc8f9c927a5938dc8a191fde6d96"
   }
  }
 },
 "nbformat": 4,
 "nbformat_minor": 4
}
